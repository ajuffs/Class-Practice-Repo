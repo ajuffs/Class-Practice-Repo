{
 "cells": [
  {
   "cell_type": "markdown",
   "metadata": {},
   "source": [
    "## Tutorial"
   ]
  },
  {
   "cell_type": "code",
   "execution_count": 1,
   "metadata": {
    "collapsed": true
   },
   "outputs": [],
   "source": [
    "#Imports\n",
    "import tweepy\n",
    "import pandas as pd\n",
    "import matplotlib.pyplot as plt"
   ]
  },
  {
   "cell_type": "code",
   "execution_count": 2,
   "metadata": {},
   "outputs": [],
   "source": [
    "#Set style\n",
    "plt.style.use('default')"
   ]
  },
  {
   "cell_type": "code",
   "execution_count": 3,
   "metadata": {
    "collapsed": true
   },
   "outputs": [],
   "source": [
    "#Twitter access\n",
    "consumerKey = 'XXXXXXXXXXXXXXXXXXXXXXX'\n",
    "consumerSecret = 'XXXXXXXXXXXXXXXXXXXXX'\n",
    "\n",
    "\n",
    "auth = tweepy.OAuthHandler(consumer_key=consumerKey, consumer_secret=consumerSecret)\n",
    "\n",
    "api = tweepy.API(auth)"
   ]
  },
  {
   "cell_type": "code",
   "execution_count": 4,
   "metadata": {},
   "outputs": [
    {
     "data": {
      "text/plain": [
       "15"
      ]
     },
     "execution_count": 4,
     "metadata": {},
     "output_type": "execute_result"
    }
   ],
   "source": [
    "result = api.search(q='%23wonderbread') #%23 is used to specify '#'\n",
    "\n",
    "len(result)"
   ]
  },
  {
   "cell_type": "code",
   "execution_count": 5,
   "metadata": {},
   "outputs": [
    {
     "data": {
      "text/plain": [
       "Status(_api=<tweepy.api.API object at 0x00000197ECD0C198>, _json={'created_at': 'Mon Oct 02 17:31:50 +0000 2017', 'id': 914905780557570050, 'id_str': '914905780557570050', 'text': '@AlexiLalas Participation trophies handed out after... shallow pool apparently  #wonderbread', 'truncated': False, 'entities': {'hashtags': [{'text': 'wonderbread', 'indices': [80, 92]}], 'symbols': [], 'user_mentions': [{'screen_name': 'AlexiLalas', 'name': 'Alexi Lalas', 'id': 143947826, 'id_str': '143947826', 'indices': [0, 11]}], 'urls': []}, 'metadata': {'iso_language_code': 'en', 'result_type': 'recent'}, 'source': '<a href=\"https://mobile.twitter.com\" rel=\"nofollow\">Twitter Lite</a>', 'in_reply_to_status_id': 914593986081308674, 'in_reply_to_status_id_str': '914593986081308674', 'in_reply_to_user_id': 143947826, 'in_reply_to_user_id_str': '143947826', 'in_reply_to_screen_name': 'AlexiLalas', 'user': {'id': 1688096582, 'id_str': '1688096582', 'name': 'chris cheong', 'screen_name': 'flossandwhatnot', 'location': 'long beach', 'description': 'dentistry is my hobby. knowledge never decreases by being shared', 'url': None, 'entities': {'description': {'urls': []}}, 'protected': False, 'followers_count': 11, 'friends_count': 135, 'listed_count': 0, 'created_at': 'Wed Aug 21 11:35:59 +0000 2013', 'favourites_count': 563, 'utc_offset': None, 'time_zone': None, 'geo_enabled': False, 'verified': False, 'statuses_count': 136, 'lang': 'en', 'contributors_enabled': False, 'is_translator': False, 'is_translation_enabled': False, 'profile_background_color': 'C0DEED', 'profile_background_image_url': 'http://abs.twimg.com/images/themes/theme1/bg.png', 'profile_background_image_url_https': 'https://abs.twimg.com/images/themes/theme1/bg.png', 'profile_background_tile': False, 'profile_image_url': 'http://pbs.twimg.com/profile_images/822387123919540225/IF8wazXg_normal.jpg', 'profile_image_url_https': 'https://pbs.twimg.com/profile_images/822387123919540225/IF8wazXg_normal.jpg', 'profile_link_color': '1DA1F2', 'profile_sidebar_border_color': 'C0DEED', 'profile_sidebar_fill_color': 'DDEEF6', 'profile_text_color': '333333', 'profile_use_background_image': True, 'has_extended_profile': False, 'default_profile': True, 'default_profile_image': False, 'following': None, 'follow_request_sent': None, 'notifications': None, 'translator_type': 'none'}, 'geo': None, 'coordinates': None, 'place': None, 'contributors': None, 'is_quote_status': False, 'retweet_count': 0, 'favorite_count': 0, 'favorited': False, 'retweeted': False, 'lang': 'en'}, created_at=datetime.datetime(2017, 10, 2, 17, 31, 50), id=914905780557570050, id_str='914905780557570050', text='@AlexiLalas Participation trophies handed out after... shallow pool apparently  #wonderbread', truncated=False, entities={'hashtags': [{'text': 'wonderbread', 'indices': [80, 92]}], 'symbols': [], 'user_mentions': [{'screen_name': 'AlexiLalas', 'name': 'Alexi Lalas', 'id': 143947826, 'id_str': '143947826', 'indices': [0, 11]}], 'urls': []}, metadata={'iso_language_code': 'en', 'result_type': 'recent'}, source='Twitter Lite', source_url='https://mobile.twitter.com', in_reply_to_status_id=914593986081308674, in_reply_to_status_id_str='914593986081308674', in_reply_to_user_id=143947826, in_reply_to_user_id_str='143947826', in_reply_to_screen_name='AlexiLalas', author=User(_api=<tweepy.api.API object at 0x00000197ECD0C198>, _json={'id': 1688096582, 'id_str': '1688096582', 'name': 'chris cheong', 'screen_name': 'flossandwhatnot', 'location': 'long beach', 'description': 'dentistry is my hobby. knowledge never decreases by being shared', 'url': None, 'entities': {'description': {'urls': []}}, 'protected': False, 'followers_count': 11, 'friends_count': 135, 'listed_count': 0, 'created_at': 'Wed Aug 21 11:35:59 +0000 2013', 'favourites_count': 563, 'utc_offset': None, 'time_zone': None, 'geo_enabled': False, 'verified': False, 'statuses_count': 136, 'lang': 'en', 'contributors_enabled': False, 'is_translator': False, 'is_translation_enabled': False, 'profile_background_color': 'C0DEED', 'profile_background_image_url': 'http://abs.twimg.com/images/themes/theme1/bg.png', 'profile_background_image_url_https': 'https://abs.twimg.com/images/themes/theme1/bg.png', 'profile_background_tile': False, 'profile_image_url': 'http://pbs.twimg.com/profile_images/822387123919540225/IF8wazXg_normal.jpg', 'profile_image_url_https': 'https://pbs.twimg.com/profile_images/822387123919540225/IF8wazXg_normal.jpg', 'profile_link_color': '1DA1F2', 'profile_sidebar_border_color': 'C0DEED', 'profile_sidebar_fill_color': 'DDEEF6', 'profile_text_color': '333333', 'profile_use_background_image': True, 'has_extended_profile': False, 'default_profile': True, 'default_profile_image': False, 'following': None, 'follow_request_sent': None, 'notifications': None, 'translator_type': 'none'}, id=1688096582, id_str='1688096582', name='chris cheong', screen_name='flossandwhatnot', location='long beach', description='dentistry is my hobby. knowledge never decreases by being shared', url=None, entities={'description': {'urls': []}}, protected=False, followers_count=11, friends_count=135, listed_count=0, created_at=datetime.datetime(2013, 8, 21, 11, 35, 59), favourites_count=563, utc_offset=None, time_zone=None, geo_enabled=False, verified=False, statuses_count=136, lang='en', contributors_enabled=False, is_translator=False, is_translation_enabled=False, profile_background_color='C0DEED', profile_background_image_url='http://abs.twimg.com/images/themes/theme1/bg.png', profile_background_image_url_https='https://abs.twimg.com/images/themes/theme1/bg.png', profile_background_tile=False, profile_image_url='http://pbs.twimg.com/profile_images/822387123919540225/IF8wazXg_normal.jpg', profile_image_url_https='https://pbs.twimg.com/profile_images/822387123919540225/IF8wazXg_normal.jpg', profile_link_color='1DA1F2', profile_sidebar_border_color='C0DEED', profile_sidebar_fill_color='DDEEF6', profile_text_color='333333', profile_use_background_image=True, has_extended_profile=False, default_profile=True, default_profile_image=False, following=False, follow_request_sent=None, notifications=None, translator_type='none'), user=User(_api=<tweepy.api.API object at 0x00000197ECD0C198>, _json={'id': 1688096582, 'id_str': '1688096582', 'name': 'chris cheong', 'screen_name': 'flossandwhatnot', 'location': 'long beach', 'description': 'dentistry is my hobby. knowledge never decreases by being shared', 'url': None, 'entities': {'description': {'urls': []}}, 'protected': False, 'followers_count': 11, 'friends_count': 135, 'listed_count': 0, 'created_at': 'Wed Aug 21 11:35:59 +0000 2013', 'favourites_count': 563, 'utc_offset': None, 'time_zone': None, 'geo_enabled': False, 'verified': False, 'statuses_count': 136, 'lang': 'en', 'contributors_enabled': False, 'is_translator': False, 'is_translation_enabled': False, 'profile_background_color': 'C0DEED', 'profile_background_image_url': 'http://abs.twimg.com/images/themes/theme1/bg.png', 'profile_background_image_url_https': 'https://abs.twimg.com/images/themes/theme1/bg.png', 'profile_background_tile': False, 'profile_image_url': 'http://pbs.twimg.com/profile_images/822387123919540225/IF8wazXg_normal.jpg', 'profile_image_url_https': 'https://pbs.twimg.com/profile_images/822387123919540225/IF8wazXg_normal.jpg', 'profile_link_color': '1DA1F2', 'profile_sidebar_border_color': 'C0DEED', 'profile_sidebar_fill_color': 'DDEEF6', 'profile_text_color': '333333', 'profile_use_background_image': True, 'has_extended_profile': False, 'default_profile': True, 'default_profile_image': False, 'following': None, 'follow_request_sent': None, 'notifications': None, 'translator_type': 'none'}, id=1688096582, id_str='1688096582', name='chris cheong', screen_name='flossandwhatnot', location='long beach', description='dentistry is my hobby. knowledge never decreases by being shared', url=None, entities={'description': {'urls': []}}, protected=False, followers_count=11, friends_count=135, listed_count=0, created_at=datetime.datetime(2013, 8, 21, 11, 35, 59), favourites_count=563, utc_offset=None, time_zone=None, geo_enabled=False, verified=False, statuses_count=136, lang='en', contributors_enabled=False, is_translator=False, is_translation_enabled=False, profile_background_color='C0DEED', profile_background_image_url='http://abs.twimg.com/images/themes/theme1/bg.png', profile_background_image_url_https='https://abs.twimg.com/images/themes/theme1/bg.png', profile_background_tile=False, profile_image_url='http://pbs.twimg.com/profile_images/822387123919540225/IF8wazXg_normal.jpg', profile_image_url_https='https://pbs.twimg.com/profile_images/822387123919540225/IF8wazXg_normal.jpg', profile_link_color='1DA1F2', profile_sidebar_border_color='C0DEED', profile_sidebar_fill_color='DDEEF6', profile_text_color='333333', profile_use_background_image=True, has_extended_profile=False, default_profile=True, default_profile_image=False, following=False, follow_request_sent=None, notifications=None, translator_type='none'), geo=None, coordinates=None, place=None, contributors=None, is_quote_status=False, retweet_count=0, favorite_count=0, favorited=False, retweeted=False, lang='en')"
      ]
     },
     "execution_count": 5,
     "metadata": {},
     "output_type": "execute_result"
    }
   ],
   "source": [
    "result[0]"
   ]
  },
  {
   "cell_type": "markdown",
   "metadata": {},
   "source": [
    "Yuck! Let's clean that up."
   ]
  },
  {
   "cell_type": "code",
   "execution_count": 6,
   "metadata": {},
   "outputs": [
    {
     "name": "stdout",
     "output_type": "stream",
     "text": [
      "author : User(_api=<tweepy.api.API object at 0x00000197ECD0C198>, _json={'id': 1688096582, 'id_str': '1688096582', 'name': 'chris cheong', 'screen_name': 'flossandwhatnot', 'location': 'long beach', 'description': 'dentistry is my hobby. knowledge never decreases by being shared', 'url': None, 'entities': {'description': {'urls': []}}, 'protected': False, 'followers_count': 11, 'friends_count': 135, 'listed_count': 0, 'created_at': 'Wed Aug 21 11:35:59 +0000 2013', 'favourites_count': 563, 'utc_offset': None, 'time_zone': None, 'geo_enabled': False, 'verified': False, 'statuses_count': 136, 'lang': 'en', 'contributors_enabled': False, 'is_translator': False, 'is_translation_enabled': False, 'profile_background_color': 'C0DEED', 'profile_background_image_url': 'http://abs.twimg.com/images/themes/theme1/bg.png', 'profile_background_image_url_https': 'https://abs.twimg.com/images/themes/theme1/bg.png', 'profile_background_tile': False, 'profile_image_url': 'http://pbs.twimg.com/profile_images/822387123919540225/IF8wazXg_normal.jpg', 'profile_image_url_https': 'https://pbs.twimg.com/profile_images/822387123919540225/IF8wazXg_normal.jpg', 'profile_link_color': '1DA1F2', 'profile_sidebar_border_color': 'C0DEED', 'profile_sidebar_fill_color': 'DDEEF6', 'profile_text_color': '333333', 'profile_use_background_image': True, 'has_extended_profile': False, 'default_profile': True, 'default_profile_image': False, 'following': None, 'follow_request_sent': None, 'notifications': None, 'translator_type': 'none'}, id=1688096582, id_str='1688096582', name='chris cheong', screen_name='flossandwhatnot', location='long beach', description='dentistry is my hobby. knowledge never decreases by being shared', url=None, entities={'description': {'urls': []}}, protected=False, followers_count=11, friends_count=135, listed_count=0, created_at=datetime.datetime(2013, 8, 21, 11, 35, 59), favourites_count=563, utc_offset=None, time_zone=None, geo_enabled=False, verified=False, statuses_count=136, lang='en', contributors_enabled=False, is_translator=False, is_translation_enabled=False, profile_background_color='C0DEED', profile_background_image_url='http://abs.twimg.com/images/themes/theme1/bg.png', profile_background_image_url_https='https://abs.twimg.com/images/themes/theme1/bg.png', profile_background_tile=False, profile_image_url='http://pbs.twimg.com/profile_images/822387123919540225/IF8wazXg_normal.jpg', profile_image_url_https='https://pbs.twimg.com/profile_images/822387123919540225/IF8wazXg_normal.jpg', profile_link_color='1DA1F2', profile_sidebar_border_color='C0DEED', profile_sidebar_fill_color='DDEEF6', profile_text_color='333333', profile_use_background_image=True, has_extended_profile=False, default_profile=True, default_profile_image=False, following=False, follow_request_sent=None, notifications=None, translator_type='none')\n",
      "\n",
      "contributors : None\n",
      "\n",
      "coordinates : None\n",
      "\n",
      "created_at : 2017-10-02 17:31:50\n",
      "\n",
      "destroy : <bound method Status.destroy of Status(_api=<tweepy.api.API object at 0x00000197ECD0C198>, _json={'created_at': 'Mon Oct 02 17:31:50 +0000 2017', 'id': 914905780557570050, 'id_str': '914905780557570050', 'text': '@AlexiLalas Participation trophies handed out after... shallow pool apparently  #wonderbread', 'truncated': False, 'entities': {'hashtags': [{'text': 'wonderbread', 'indices': [80, 92]}], 'symbols': [], 'user_mentions': [{'screen_name': 'AlexiLalas', 'name': 'Alexi Lalas', 'id': 143947826, 'id_str': '143947826', 'indices': [0, 11]}], 'urls': []}, 'metadata': {'iso_language_code': 'en', 'result_type': 'recent'}, 'source': '<a href=\"https://mobile.twitter.com\" rel=\"nofollow\">Twitter Lite</a>', 'in_reply_to_status_id': 914593986081308674, 'in_reply_to_status_id_str': '914593986081308674', 'in_reply_to_user_id': 143947826, 'in_reply_to_user_id_str': '143947826', 'in_reply_to_screen_name': 'AlexiLalas', 'user': {'id': 1688096582, 'id_str': '1688096582', 'name': 'chris cheong', 'screen_name': 'flossandwhatnot', 'location': 'long beach', 'description': 'dentistry is my hobby. knowledge never decreases by being shared', 'url': None, 'entities': {'description': {'urls': []}}, 'protected': False, 'followers_count': 11, 'friends_count': 135, 'listed_count': 0, 'created_at': 'Wed Aug 21 11:35:59 +0000 2013', 'favourites_count': 563, 'utc_offset': None, 'time_zone': None, 'geo_enabled': False, 'verified': False, 'statuses_count': 136, 'lang': 'en', 'contributors_enabled': False, 'is_translator': False, 'is_translation_enabled': False, 'profile_background_color': 'C0DEED', 'profile_background_image_url': 'http://abs.twimg.com/images/themes/theme1/bg.png', 'profile_background_image_url_https': 'https://abs.twimg.com/images/themes/theme1/bg.png', 'profile_background_tile': False, 'profile_image_url': 'http://pbs.twimg.com/profile_images/822387123919540225/IF8wazXg_normal.jpg', 'profile_image_url_https': 'https://pbs.twimg.com/profile_images/822387123919540225/IF8wazXg_normal.jpg', 'profile_link_color': '1DA1F2', 'profile_sidebar_border_color': 'C0DEED', 'profile_sidebar_fill_color': 'DDEEF6', 'profile_text_color': '333333', 'profile_use_background_image': True, 'has_extended_profile': False, 'default_profile': True, 'default_profile_image': False, 'following': None, 'follow_request_sent': None, 'notifications': None, 'translator_type': 'none'}, 'geo': None, 'coordinates': None, 'place': None, 'contributors': None, 'is_quote_status': False, 'retweet_count': 0, 'favorite_count': 0, 'favorited': False, 'retweeted': False, 'lang': 'en'}, created_at=datetime.datetime(2017, 10, 2, 17, 31, 50), id=914905780557570050, id_str='914905780557570050', text='@AlexiLalas Participation trophies handed out after... shallow pool apparently  #wonderbread', truncated=False, entities={'hashtags': [{'text': 'wonderbread', 'indices': [80, 92]}], 'symbols': [], 'user_mentions': [{'screen_name': 'AlexiLalas', 'name': 'Alexi Lalas', 'id': 143947826, 'id_str': '143947826', 'indices': [0, 11]}], 'urls': []}, metadata={'iso_language_code': 'en', 'result_type': 'recent'}, source='Twitter Lite', source_url='https://mobile.twitter.com', in_reply_to_status_id=914593986081308674, in_reply_to_status_id_str='914593986081308674', in_reply_to_user_id=143947826, in_reply_to_user_id_str='143947826', in_reply_to_screen_name='AlexiLalas', author=User(_api=<tweepy.api.API object at 0x00000197ECD0C198>, _json={'id': 1688096582, 'id_str': '1688096582', 'name': 'chris cheong', 'screen_name': 'flossandwhatnot', 'location': 'long beach', 'description': 'dentistry is my hobby. knowledge never decreases by being shared', 'url': None, 'entities': {'description': {'urls': []}}, 'protected': False, 'followers_count': 11, 'friends_count': 135, 'listed_count': 0, 'created_at': 'Wed Aug 21 11:35:59 +0000 2013', 'favourites_count': 563, 'utc_offset': None, 'time_zone': None, 'geo_enabled': False, 'verified': False, 'statuses_count': 136, 'lang': 'en', 'contributors_enabled': False, 'is_translator': False, 'is_translation_enabled': False, 'profile_background_color': 'C0DEED', 'profile_background_image_url': 'http://abs.twimg.com/images/themes/theme1/bg.png', 'profile_background_image_url_https': 'https://abs.twimg.com/images/themes/theme1/bg.png', 'profile_background_tile': False, 'profile_image_url': 'http://pbs.twimg.com/profile_images/822387123919540225/IF8wazXg_normal.jpg', 'profile_image_url_https': 'https://pbs.twimg.com/profile_images/822387123919540225/IF8wazXg_normal.jpg', 'profile_link_color': '1DA1F2', 'profile_sidebar_border_color': 'C0DEED', 'profile_sidebar_fill_color': 'DDEEF6', 'profile_text_color': '333333', 'profile_use_background_image': True, 'has_extended_profile': False, 'default_profile': True, 'default_profile_image': False, 'following': None, 'follow_request_sent': None, 'notifications': None, 'translator_type': 'none'}, id=1688096582, id_str='1688096582', name='chris cheong', screen_name='flossandwhatnot', location='long beach', description='dentistry is my hobby. knowledge never decreases by being shared', url=None, entities={'description': {'urls': []}}, protected=False, followers_count=11, friends_count=135, listed_count=0, created_at=datetime.datetime(2013, 8, 21, 11, 35, 59), favourites_count=563, utc_offset=None, time_zone=None, geo_enabled=False, verified=False, statuses_count=136, lang='en', contributors_enabled=False, is_translator=False, is_translation_enabled=False, profile_background_color='C0DEED', profile_background_image_url='http://abs.twimg.com/images/themes/theme1/bg.png', profile_background_image_url_https='https://abs.twimg.com/images/themes/theme1/bg.png', profile_background_tile=False, profile_image_url='http://pbs.twimg.com/profile_images/822387123919540225/IF8wazXg_normal.jpg', profile_image_url_https='https://pbs.twimg.com/profile_images/822387123919540225/IF8wazXg_normal.jpg', profile_link_color='1DA1F2', profile_sidebar_border_color='C0DEED', profile_sidebar_fill_color='DDEEF6', profile_text_color='333333', profile_use_background_image=True, has_extended_profile=False, default_profile=True, default_profile_image=False, following=False, follow_request_sent=None, notifications=None, translator_type='none'), user=User(_api=<tweepy.api.API object at 0x00000197ECD0C198>, _json={'id': 1688096582, 'id_str': '1688096582', 'name': 'chris cheong', 'screen_name': 'flossandwhatnot', 'location': 'long beach', 'description': 'dentistry is my hobby. knowledge never decreases by being shared', 'url': None, 'entities': {'description': {'urls': []}}, 'protected': False, 'followers_count': 11, 'friends_count': 135, 'listed_count': 0, 'created_at': 'Wed Aug 21 11:35:59 +0000 2013', 'favourites_count': 563, 'utc_offset': None, 'time_zone': None, 'geo_enabled': False, 'verified': False, 'statuses_count': 136, 'lang': 'en', 'contributors_enabled': False, 'is_translator': False, 'is_translation_enabled': False, 'profile_background_color': 'C0DEED', 'profile_background_image_url': 'http://abs.twimg.com/images/themes/theme1/bg.png', 'profile_background_image_url_https': 'https://abs.twimg.com/images/themes/theme1/bg.png', 'profile_background_tile': False, 'profile_image_url': 'http://pbs.twimg.com/profile_images/822387123919540225/IF8wazXg_normal.jpg', 'profile_image_url_https': 'https://pbs.twimg.com/profile_images/822387123919540225/IF8wazXg_normal.jpg', 'profile_link_color': '1DA1F2', 'profile_sidebar_border_color': 'C0DEED', 'profile_sidebar_fill_color': 'DDEEF6', 'profile_text_color': '333333', 'profile_use_background_image': True, 'has_extended_profile': False, 'default_profile': True, 'default_profile_image': False, 'following': None, 'follow_request_sent': None, 'notifications': None, 'translator_type': 'none'}, id=1688096582, id_str='1688096582', name='chris cheong', screen_name='flossandwhatnot', location='long beach', description='dentistry is my hobby. knowledge never decreases by being shared', url=None, entities={'description': {'urls': []}}, protected=False, followers_count=11, friends_count=135, listed_count=0, created_at=datetime.datetime(2013, 8, 21, 11, 35, 59), favourites_count=563, utc_offset=None, time_zone=None, geo_enabled=False, verified=False, statuses_count=136, lang='en', contributors_enabled=False, is_translator=False, is_translation_enabled=False, profile_background_color='C0DEED', profile_background_image_url='http://abs.twimg.com/images/themes/theme1/bg.png', profile_background_image_url_https='https://abs.twimg.com/images/themes/theme1/bg.png', profile_background_tile=False, profile_image_url='http://pbs.twimg.com/profile_images/822387123919540225/IF8wazXg_normal.jpg', profile_image_url_https='https://pbs.twimg.com/profile_images/822387123919540225/IF8wazXg_normal.jpg', profile_link_color='1DA1F2', profile_sidebar_border_color='C0DEED', profile_sidebar_fill_color='DDEEF6', profile_text_color='333333', profile_use_background_image=True, has_extended_profile=False, default_profile=True, default_profile_image=False, following=False, follow_request_sent=None, notifications=None, translator_type='none'), geo=None, coordinates=None, place=None, contributors=None, is_quote_status=False, retweet_count=0, favorite_count=0, favorited=False, retweeted=False, lang='en')>\n",
      "\n",
      "entities : {'hashtags': [{'text': 'wonderbread', 'indices': [80, 92]}], 'symbols': [], 'user_mentions': [{'screen_name': 'AlexiLalas', 'name': 'Alexi Lalas', 'id': 143947826, 'id_str': '143947826', 'indices': [0, 11]}], 'urls': []}\n",
      "\n",
      "favorite : <bound method Status.favorite of Status(_api=<tweepy.api.API object at 0x00000197ECD0C198>, _json={'created_at': 'Mon Oct 02 17:31:50 +0000 2017', 'id': 914905780557570050, 'id_str': '914905780557570050', 'text': '@AlexiLalas Participation trophies handed out after... shallow pool apparently  #wonderbread', 'truncated': False, 'entities': {'hashtags': [{'text': 'wonderbread', 'indices': [80, 92]}], 'symbols': [], 'user_mentions': [{'screen_name': 'AlexiLalas', 'name': 'Alexi Lalas', 'id': 143947826, 'id_str': '143947826', 'indices': [0, 11]}], 'urls': []}, 'metadata': {'iso_language_code': 'en', 'result_type': 'recent'}, 'source': '<a href=\"https://mobile.twitter.com\" rel=\"nofollow\">Twitter Lite</a>', 'in_reply_to_status_id': 914593986081308674, 'in_reply_to_status_id_str': '914593986081308674', 'in_reply_to_user_id': 143947826, 'in_reply_to_user_id_str': '143947826', 'in_reply_to_screen_name': 'AlexiLalas', 'user': {'id': 1688096582, 'id_str': '1688096582', 'name': 'chris cheong', 'screen_name': 'flossandwhatnot', 'location': 'long beach', 'description': 'dentistry is my hobby. knowledge never decreases by being shared', 'url': None, 'entities': {'description': {'urls': []}}, 'protected': False, 'followers_count': 11, 'friends_count': 135, 'listed_count': 0, 'created_at': 'Wed Aug 21 11:35:59 +0000 2013', 'favourites_count': 563, 'utc_offset': None, 'time_zone': None, 'geo_enabled': False, 'verified': False, 'statuses_count': 136, 'lang': 'en', 'contributors_enabled': False, 'is_translator': False, 'is_translation_enabled': False, 'profile_background_color': 'C0DEED', 'profile_background_image_url': 'http://abs.twimg.com/images/themes/theme1/bg.png', 'profile_background_image_url_https': 'https://abs.twimg.com/images/themes/theme1/bg.png', 'profile_background_tile': False, 'profile_image_url': 'http://pbs.twimg.com/profile_images/822387123919540225/IF8wazXg_normal.jpg', 'profile_image_url_https': 'https://pbs.twimg.com/profile_images/822387123919540225/IF8wazXg_normal.jpg', 'profile_link_color': '1DA1F2', 'profile_sidebar_border_color': 'C0DEED', 'profile_sidebar_fill_color': 'DDEEF6', 'profile_text_color': '333333', 'profile_use_background_image': True, 'has_extended_profile': False, 'default_profile': True, 'default_profile_image': False, 'following': None, 'follow_request_sent': None, 'notifications': None, 'translator_type': 'none'}, 'geo': None, 'coordinates': None, 'place': None, 'contributors': None, 'is_quote_status': False, 'retweet_count': 0, 'favorite_count': 0, 'favorited': False, 'retweeted': False, 'lang': 'en'}, created_at=datetime.datetime(2017, 10, 2, 17, 31, 50), id=914905780557570050, id_str='914905780557570050', text='@AlexiLalas Participation trophies handed out after... shallow pool apparently  #wonderbread', truncated=False, entities={'hashtags': [{'text': 'wonderbread', 'indices': [80, 92]}], 'symbols': [], 'user_mentions': [{'screen_name': 'AlexiLalas', 'name': 'Alexi Lalas', 'id': 143947826, 'id_str': '143947826', 'indices': [0, 11]}], 'urls': []}, metadata={'iso_language_code': 'en', 'result_type': 'recent'}, source='Twitter Lite', source_url='https://mobile.twitter.com', in_reply_to_status_id=914593986081308674, in_reply_to_status_id_str='914593986081308674', in_reply_to_user_id=143947826, in_reply_to_user_id_str='143947826', in_reply_to_screen_name='AlexiLalas', author=User(_api=<tweepy.api.API object at 0x00000197ECD0C198>, _json={'id': 1688096582, 'id_str': '1688096582', 'name': 'chris cheong', 'screen_name': 'flossandwhatnot', 'location': 'long beach', 'description': 'dentistry is my hobby. knowledge never decreases by being shared', 'url': None, 'entities': {'description': {'urls': []}}, 'protected': False, 'followers_count': 11, 'friends_count': 135, 'listed_count': 0, 'created_at': 'Wed Aug 21 11:35:59 +0000 2013', 'favourites_count': 563, 'utc_offset': None, 'time_zone': None, 'geo_enabled': False, 'verified': False, 'statuses_count': 136, 'lang': 'en', 'contributors_enabled': False, 'is_translator': False, 'is_translation_enabled': False, 'profile_background_color': 'C0DEED', 'profile_background_image_url': 'http://abs.twimg.com/images/themes/theme1/bg.png', 'profile_background_image_url_https': 'https://abs.twimg.com/images/themes/theme1/bg.png', 'profile_background_tile': False, 'profile_image_url': 'http://pbs.twimg.com/profile_images/822387123919540225/IF8wazXg_normal.jpg', 'profile_image_url_https': 'https://pbs.twimg.com/profile_images/822387123919540225/IF8wazXg_normal.jpg', 'profile_link_color': '1DA1F2', 'profile_sidebar_border_color': 'C0DEED', 'profile_sidebar_fill_color': 'DDEEF6', 'profile_text_color': '333333', 'profile_use_background_image': True, 'has_extended_profile': False, 'default_profile': True, 'default_profile_image': False, 'following': None, 'follow_request_sent': None, 'notifications': None, 'translator_type': 'none'}, id=1688096582, id_str='1688096582', name='chris cheong', screen_name='flossandwhatnot', location='long beach', description='dentistry is my hobby. knowledge never decreases by being shared', url=None, entities={'description': {'urls': []}}, protected=False, followers_count=11, friends_count=135, listed_count=0, created_at=datetime.datetime(2013, 8, 21, 11, 35, 59), favourites_count=563, utc_offset=None, time_zone=None, geo_enabled=False, verified=False, statuses_count=136, lang='en', contributors_enabled=False, is_translator=False, is_translation_enabled=False, profile_background_color='C0DEED', profile_background_image_url='http://abs.twimg.com/images/themes/theme1/bg.png', profile_background_image_url_https='https://abs.twimg.com/images/themes/theme1/bg.png', profile_background_tile=False, profile_image_url='http://pbs.twimg.com/profile_images/822387123919540225/IF8wazXg_normal.jpg', profile_image_url_https='https://pbs.twimg.com/profile_images/822387123919540225/IF8wazXg_normal.jpg', profile_link_color='1DA1F2', profile_sidebar_border_color='C0DEED', profile_sidebar_fill_color='DDEEF6', profile_text_color='333333', profile_use_background_image=True, has_extended_profile=False, default_profile=True, default_profile_image=False, following=False, follow_request_sent=None, notifications=None, translator_type='none'), user=User(_api=<tweepy.api.API object at 0x00000197ECD0C198>, _json={'id': 1688096582, 'id_str': '1688096582', 'name': 'chris cheong', 'screen_name': 'flossandwhatnot', 'location': 'long beach', 'description': 'dentistry is my hobby. knowledge never decreases by being shared', 'url': None, 'entities': {'description': {'urls': []}}, 'protected': False, 'followers_count': 11, 'friends_count': 135, 'listed_count': 0, 'created_at': 'Wed Aug 21 11:35:59 +0000 2013', 'favourites_count': 563, 'utc_offset': None, 'time_zone': None, 'geo_enabled': False, 'verified': False, 'statuses_count': 136, 'lang': 'en', 'contributors_enabled': False, 'is_translator': False, 'is_translation_enabled': False, 'profile_background_color': 'C0DEED', 'profile_background_image_url': 'http://abs.twimg.com/images/themes/theme1/bg.png', 'profile_background_image_url_https': 'https://abs.twimg.com/images/themes/theme1/bg.png', 'profile_background_tile': False, 'profile_image_url': 'http://pbs.twimg.com/profile_images/822387123919540225/IF8wazXg_normal.jpg', 'profile_image_url_https': 'https://pbs.twimg.com/profile_images/822387123919540225/IF8wazXg_normal.jpg', 'profile_link_color': '1DA1F2', 'profile_sidebar_border_color': 'C0DEED', 'profile_sidebar_fill_color': 'DDEEF6', 'profile_text_color': '333333', 'profile_use_background_image': True, 'has_extended_profile': False, 'default_profile': True, 'default_profile_image': False, 'following': None, 'follow_request_sent': None, 'notifications': None, 'translator_type': 'none'}, id=1688096582, id_str='1688096582', name='chris cheong', screen_name='flossandwhatnot', location='long beach', description='dentistry is my hobby. knowledge never decreases by being shared', url=None, entities={'description': {'urls': []}}, protected=False, followers_count=11, friends_count=135, listed_count=0, created_at=datetime.datetime(2013, 8, 21, 11, 35, 59), favourites_count=563, utc_offset=None, time_zone=None, geo_enabled=False, verified=False, statuses_count=136, lang='en', contributors_enabled=False, is_translator=False, is_translation_enabled=False, profile_background_color='C0DEED', profile_background_image_url='http://abs.twimg.com/images/themes/theme1/bg.png', profile_background_image_url_https='https://abs.twimg.com/images/themes/theme1/bg.png', profile_background_tile=False, profile_image_url='http://pbs.twimg.com/profile_images/822387123919540225/IF8wazXg_normal.jpg', profile_image_url_https='https://pbs.twimg.com/profile_images/822387123919540225/IF8wazXg_normal.jpg', profile_link_color='1DA1F2', profile_sidebar_border_color='C0DEED', profile_sidebar_fill_color='DDEEF6', profile_text_color='333333', profile_use_background_image=True, has_extended_profile=False, default_profile=True, default_profile_image=False, following=False, follow_request_sent=None, notifications=None, translator_type='none'), geo=None, coordinates=None, place=None, contributors=None, is_quote_status=False, retweet_count=0, favorite_count=0, favorited=False, retweeted=False, lang='en')>\n",
      "\n",
      "favorite_count : 0\n",
      "\n",
      "favorited : False\n",
      "\n",
      "geo : None\n",
      "\n",
      "id : 914905780557570050\n",
      "\n",
      "id_str : 914905780557570050\n",
      "\n",
      "in_reply_to_screen_name : AlexiLalas\n",
      "\n",
      "in_reply_to_status_id : 914593986081308674\n",
      "\n",
      "in_reply_to_status_id_str : 914593986081308674\n",
      "\n",
      "in_reply_to_user_id : 143947826\n",
      "\n",
      "in_reply_to_user_id_str : 143947826\n",
      "\n",
      "is_quote_status : False\n",
      "\n",
      "lang : en\n",
      "\n",
      "metadata : {'iso_language_code': 'en', 'result_type': 'recent'}\n",
      "\n",
      "parse : <bound method Status.parse of <class 'tweepy.models.Status'>>\n",
      "\n",
      "parse_list : <bound method Model.parse_list of <class 'tweepy.models.Status'>>\n",
      "\n",
      "place : None\n",
      "\n",
      "retweet : <bound method Status.retweet of Status(_api=<tweepy.api.API object at 0x00000197ECD0C198>, _json={'created_at': 'Mon Oct 02 17:31:50 +0000 2017', 'id': 914905780557570050, 'id_str': '914905780557570050', 'text': '@AlexiLalas Participation trophies handed out after... shallow pool apparently  #wonderbread', 'truncated': False, 'entities': {'hashtags': [{'text': 'wonderbread', 'indices': [80, 92]}], 'symbols': [], 'user_mentions': [{'screen_name': 'AlexiLalas', 'name': 'Alexi Lalas', 'id': 143947826, 'id_str': '143947826', 'indices': [0, 11]}], 'urls': []}, 'metadata': {'iso_language_code': 'en', 'result_type': 'recent'}, 'source': '<a href=\"https://mobile.twitter.com\" rel=\"nofollow\">Twitter Lite</a>', 'in_reply_to_status_id': 914593986081308674, 'in_reply_to_status_id_str': '914593986081308674', 'in_reply_to_user_id': 143947826, 'in_reply_to_user_id_str': '143947826', 'in_reply_to_screen_name': 'AlexiLalas', 'user': {'id': 1688096582, 'id_str': '1688096582', 'name': 'chris cheong', 'screen_name': 'flossandwhatnot', 'location': 'long beach', 'description': 'dentistry is my hobby. knowledge never decreases by being shared', 'url': None, 'entities': {'description': {'urls': []}}, 'protected': False, 'followers_count': 11, 'friends_count': 135, 'listed_count': 0, 'created_at': 'Wed Aug 21 11:35:59 +0000 2013', 'favourites_count': 563, 'utc_offset': None, 'time_zone': None, 'geo_enabled': False, 'verified': False, 'statuses_count': 136, 'lang': 'en', 'contributors_enabled': False, 'is_translator': False, 'is_translation_enabled': False, 'profile_background_color': 'C0DEED', 'profile_background_image_url': 'http://abs.twimg.com/images/themes/theme1/bg.png', 'profile_background_image_url_https': 'https://abs.twimg.com/images/themes/theme1/bg.png', 'profile_background_tile': False, 'profile_image_url': 'http://pbs.twimg.com/profile_images/822387123919540225/IF8wazXg_normal.jpg', 'profile_image_url_https': 'https://pbs.twimg.com/profile_images/822387123919540225/IF8wazXg_normal.jpg', 'profile_link_color': '1DA1F2', 'profile_sidebar_border_color': 'C0DEED', 'profile_sidebar_fill_color': 'DDEEF6', 'profile_text_color': '333333', 'profile_use_background_image': True, 'has_extended_profile': False, 'default_profile': True, 'default_profile_image': False, 'following': None, 'follow_request_sent': None, 'notifications': None, 'translator_type': 'none'}, 'geo': None, 'coordinates': None, 'place': None, 'contributors': None, 'is_quote_status': False, 'retweet_count': 0, 'favorite_count': 0, 'favorited': False, 'retweeted': False, 'lang': 'en'}, created_at=datetime.datetime(2017, 10, 2, 17, 31, 50), id=914905780557570050, id_str='914905780557570050', text='@AlexiLalas Participation trophies handed out after... shallow pool apparently  #wonderbread', truncated=False, entities={'hashtags': [{'text': 'wonderbread', 'indices': [80, 92]}], 'symbols': [], 'user_mentions': [{'screen_name': 'AlexiLalas', 'name': 'Alexi Lalas', 'id': 143947826, 'id_str': '143947826', 'indices': [0, 11]}], 'urls': []}, metadata={'iso_language_code': 'en', 'result_type': 'recent'}, source='Twitter Lite', source_url='https://mobile.twitter.com', in_reply_to_status_id=914593986081308674, in_reply_to_status_id_str='914593986081308674', in_reply_to_user_id=143947826, in_reply_to_user_id_str='143947826', in_reply_to_screen_name='AlexiLalas', author=User(_api=<tweepy.api.API object at 0x00000197ECD0C198>, _json={'id': 1688096582, 'id_str': '1688096582', 'name': 'chris cheong', 'screen_name': 'flossandwhatnot', 'location': 'long beach', 'description': 'dentistry is my hobby. knowledge never decreases by being shared', 'url': None, 'entities': {'description': {'urls': []}}, 'protected': False, 'followers_count': 11, 'friends_count': 135, 'listed_count': 0, 'created_at': 'Wed Aug 21 11:35:59 +0000 2013', 'favourites_count': 563, 'utc_offset': None, 'time_zone': None, 'geo_enabled': False, 'verified': False, 'statuses_count': 136, 'lang': 'en', 'contributors_enabled': False, 'is_translator': False, 'is_translation_enabled': False, 'profile_background_color': 'C0DEED', 'profile_background_image_url': 'http://abs.twimg.com/images/themes/theme1/bg.png', 'profile_background_image_url_https': 'https://abs.twimg.com/images/themes/theme1/bg.png', 'profile_background_tile': False, 'profile_image_url': 'http://pbs.twimg.com/profile_images/822387123919540225/IF8wazXg_normal.jpg', 'profile_image_url_https': 'https://pbs.twimg.com/profile_images/822387123919540225/IF8wazXg_normal.jpg', 'profile_link_color': '1DA1F2', 'profile_sidebar_border_color': 'C0DEED', 'profile_sidebar_fill_color': 'DDEEF6', 'profile_text_color': '333333', 'profile_use_background_image': True, 'has_extended_profile': False, 'default_profile': True, 'default_profile_image': False, 'following': None, 'follow_request_sent': None, 'notifications': None, 'translator_type': 'none'}, id=1688096582, id_str='1688096582', name='chris cheong', screen_name='flossandwhatnot', location='long beach', description='dentistry is my hobby. knowledge never decreases by being shared', url=None, entities={'description': {'urls': []}}, protected=False, followers_count=11, friends_count=135, listed_count=0, created_at=datetime.datetime(2013, 8, 21, 11, 35, 59), favourites_count=563, utc_offset=None, time_zone=None, geo_enabled=False, verified=False, statuses_count=136, lang='en', contributors_enabled=False, is_translator=False, is_translation_enabled=False, profile_background_color='C0DEED', profile_background_image_url='http://abs.twimg.com/images/themes/theme1/bg.png', profile_background_image_url_https='https://abs.twimg.com/images/themes/theme1/bg.png', profile_background_tile=False, profile_image_url='http://pbs.twimg.com/profile_images/822387123919540225/IF8wazXg_normal.jpg', profile_image_url_https='https://pbs.twimg.com/profile_images/822387123919540225/IF8wazXg_normal.jpg', profile_link_color='1DA1F2', profile_sidebar_border_color='C0DEED', profile_sidebar_fill_color='DDEEF6', profile_text_color='333333', profile_use_background_image=True, has_extended_profile=False, default_profile=True, default_profile_image=False, following=False, follow_request_sent=None, notifications=None, translator_type='none'), user=User(_api=<tweepy.api.API object at 0x00000197ECD0C198>, _json={'id': 1688096582, 'id_str': '1688096582', 'name': 'chris cheong', 'screen_name': 'flossandwhatnot', 'location': 'long beach', 'description': 'dentistry is my hobby. knowledge never decreases by being shared', 'url': None, 'entities': {'description': {'urls': []}}, 'protected': False, 'followers_count': 11, 'friends_count': 135, 'listed_count': 0, 'created_at': 'Wed Aug 21 11:35:59 +0000 2013', 'favourites_count': 563, 'utc_offset': None, 'time_zone': None, 'geo_enabled': False, 'verified': False, 'statuses_count': 136, 'lang': 'en', 'contributors_enabled': False, 'is_translator': False, 'is_translation_enabled': False, 'profile_background_color': 'C0DEED', 'profile_background_image_url': 'http://abs.twimg.com/images/themes/theme1/bg.png', 'profile_background_image_url_https': 'https://abs.twimg.com/images/themes/theme1/bg.png', 'profile_background_tile': False, 'profile_image_url': 'http://pbs.twimg.com/profile_images/822387123919540225/IF8wazXg_normal.jpg', 'profile_image_url_https': 'https://pbs.twimg.com/profile_images/822387123919540225/IF8wazXg_normal.jpg', 'profile_link_color': '1DA1F2', 'profile_sidebar_border_color': 'C0DEED', 'profile_sidebar_fill_color': 'DDEEF6', 'profile_text_color': '333333', 'profile_use_background_image': True, 'has_extended_profile': False, 'default_profile': True, 'default_profile_image': False, 'following': None, 'follow_request_sent': None, 'notifications': None, 'translator_type': 'none'}, id=1688096582, id_str='1688096582', name='chris cheong', screen_name='flossandwhatnot', location='long beach', description='dentistry is my hobby. knowledge never decreases by being shared', url=None, entities={'description': {'urls': []}}, protected=False, followers_count=11, friends_count=135, listed_count=0, created_at=datetime.datetime(2013, 8, 21, 11, 35, 59), favourites_count=563, utc_offset=None, time_zone=None, geo_enabled=False, verified=False, statuses_count=136, lang='en', contributors_enabled=False, is_translator=False, is_translation_enabled=False, profile_background_color='C0DEED', profile_background_image_url='http://abs.twimg.com/images/themes/theme1/bg.png', profile_background_image_url_https='https://abs.twimg.com/images/themes/theme1/bg.png', profile_background_tile=False, profile_image_url='http://pbs.twimg.com/profile_images/822387123919540225/IF8wazXg_normal.jpg', profile_image_url_https='https://pbs.twimg.com/profile_images/822387123919540225/IF8wazXg_normal.jpg', profile_link_color='1DA1F2', profile_sidebar_border_color='C0DEED', profile_sidebar_fill_color='DDEEF6', profile_text_color='333333', profile_use_background_image=True, has_extended_profile=False, default_profile=True, default_profile_image=False, following=False, follow_request_sent=None, notifications=None, translator_type='none'), geo=None, coordinates=None, place=None, contributors=None, is_quote_status=False, retweet_count=0, favorite_count=0, favorited=False, retweeted=False, lang='en')>\n",
      "\n",
      "retweet_count : 0\n",
      "\n",
      "retweeted : False\n",
      "\n",
      "retweets : <bound method Status.retweets of Status(_api=<tweepy.api.API object at 0x00000197ECD0C198>, _json={'created_at': 'Mon Oct 02 17:31:50 +0000 2017', 'id': 914905780557570050, 'id_str': '914905780557570050', 'text': '@AlexiLalas Participation trophies handed out after... shallow pool apparently  #wonderbread', 'truncated': False, 'entities': {'hashtags': [{'text': 'wonderbread', 'indices': [80, 92]}], 'symbols': [], 'user_mentions': [{'screen_name': 'AlexiLalas', 'name': 'Alexi Lalas', 'id': 143947826, 'id_str': '143947826', 'indices': [0, 11]}], 'urls': []}, 'metadata': {'iso_language_code': 'en', 'result_type': 'recent'}, 'source': '<a href=\"https://mobile.twitter.com\" rel=\"nofollow\">Twitter Lite</a>', 'in_reply_to_status_id': 914593986081308674, 'in_reply_to_status_id_str': '914593986081308674', 'in_reply_to_user_id': 143947826, 'in_reply_to_user_id_str': '143947826', 'in_reply_to_screen_name': 'AlexiLalas', 'user': {'id': 1688096582, 'id_str': '1688096582', 'name': 'chris cheong', 'screen_name': 'flossandwhatnot', 'location': 'long beach', 'description': 'dentistry is my hobby. knowledge never decreases by being shared', 'url': None, 'entities': {'description': {'urls': []}}, 'protected': False, 'followers_count': 11, 'friends_count': 135, 'listed_count': 0, 'created_at': 'Wed Aug 21 11:35:59 +0000 2013', 'favourites_count': 563, 'utc_offset': None, 'time_zone': None, 'geo_enabled': False, 'verified': False, 'statuses_count': 136, 'lang': 'en', 'contributors_enabled': False, 'is_translator': False, 'is_translation_enabled': False, 'profile_background_color': 'C0DEED', 'profile_background_image_url': 'http://abs.twimg.com/images/themes/theme1/bg.png', 'profile_background_image_url_https': 'https://abs.twimg.com/images/themes/theme1/bg.png', 'profile_background_tile': False, 'profile_image_url': 'http://pbs.twimg.com/profile_images/822387123919540225/IF8wazXg_normal.jpg', 'profile_image_url_https': 'https://pbs.twimg.com/profile_images/822387123919540225/IF8wazXg_normal.jpg', 'profile_link_color': '1DA1F2', 'profile_sidebar_border_color': 'C0DEED', 'profile_sidebar_fill_color': 'DDEEF6', 'profile_text_color': '333333', 'profile_use_background_image': True, 'has_extended_profile': False, 'default_profile': True, 'default_profile_image': False, 'following': None, 'follow_request_sent': None, 'notifications': None, 'translator_type': 'none'}, 'geo': None, 'coordinates': None, 'place': None, 'contributors': None, 'is_quote_status': False, 'retweet_count': 0, 'favorite_count': 0, 'favorited': False, 'retweeted': False, 'lang': 'en'}, created_at=datetime.datetime(2017, 10, 2, 17, 31, 50), id=914905780557570050, id_str='914905780557570050', text='@AlexiLalas Participation trophies handed out after... shallow pool apparently  #wonderbread', truncated=False, entities={'hashtags': [{'text': 'wonderbread', 'indices': [80, 92]}], 'symbols': [], 'user_mentions': [{'screen_name': 'AlexiLalas', 'name': 'Alexi Lalas', 'id': 143947826, 'id_str': '143947826', 'indices': [0, 11]}], 'urls': []}, metadata={'iso_language_code': 'en', 'result_type': 'recent'}, source='Twitter Lite', source_url='https://mobile.twitter.com', in_reply_to_status_id=914593986081308674, in_reply_to_status_id_str='914593986081308674', in_reply_to_user_id=143947826, in_reply_to_user_id_str='143947826', in_reply_to_screen_name='AlexiLalas', author=User(_api=<tweepy.api.API object at 0x00000197ECD0C198>, _json={'id': 1688096582, 'id_str': '1688096582', 'name': 'chris cheong', 'screen_name': 'flossandwhatnot', 'location': 'long beach', 'description': 'dentistry is my hobby. knowledge never decreases by being shared', 'url': None, 'entities': {'description': {'urls': []}}, 'protected': False, 'followers_count': 11, 'friends_count': 135, 'listed_count': 0, 'created_at': 'Wed Aug 21 11:35:59 +0000 2013', 'favourites_count': 563, 'utc_offset': None, 'time_zone': None, 'geo_enabled': False, 'verified': False, 'statuses_count': 136, 'lang': 'en', 'contributors_enabled': False, 'is_translator': False, 'is_translation_enabled': False, 'profile_background_color': 'C0DEED', 'profile_background_image_url': 'http://abs.twimg.com/images/themes/theme1/bg.png', 'profile_background_image_url_https': 'https://abs.twimg.com/images/themes/theme1/bg.png', 'profile_background_tile': False, 'profile_image_url': 'http://pbs.twimg.com/profile_images/822387123919540225/IF8wazXg_normal.jpg', 'profile_image_url_https': 'https://pbs.twimg.com/profile_images/822387123919540225/IF8wazXg_normal.jpg', 'profile_link_color': '1DA1F2', 'profile_sidebar_border_color': 'C0DEED', 'profile_sidebar_fill_color': 'DDEEF6', 'profile_text_color': '333333', 'profile_use_background_image': True, 'has_extended_profile': False, 'default_profile': True, 'default_profile_image': False, 'following': None, 'follow_request_sent': None, 'notifications': None, 'translator_type': 'none'}, id=1688096582, id_str='1688096582', name='chris cheong', screen_name='flossandwhatnot', location='long beach', description='dentistry is my hobby. knowledge never decreases by being shared', url=None, entities={'description': {'urls': []}}, protected=False, followers_count=11, friends_count=135, listed_count=0, created_at=datetime.datetime(2013, 8, 21, 11, 35, 59), favourites_count=563, utc_offset=None, time_zone=None, geo_enabled=False, verified=False, statuses_count=136, lang='en', contributors_enabled=False, is_translator=False, is_translation_enabled=False, profile_background_color='C0DEED', profile_background_image_url='http://abs.twimg.com/images/themes/theme1/bg.png', profile_background_image_url_https='https://abs.twimg.com/images/themes/theme1/bg.png', profile_background_tile=False, profile_image_url='http://pbs.twimg.com/profile_images/822387123919540225/IF8wazXg_normal.jpg', profile_image_url_https='https://pbs.twimg.com/profile_images/822387123919540225/IF8wazXg_normal.jpg', profile_link_color='1DA1F2', profile_sidebar_border_color='C0DEED', profile_sidebar_fill_color='DDEEF6', profile_text_color='333333', profile_use_background_image=True, has_extended_profile=False, default_profile=True, default_profile_image=False, following=False, follow_request_sent=None, notifications=None, translator_type='none'), user=User(_api=<tweepy.api.API object at 0x00000197ECD0C198>, _json={'id': 1688096582, 'id_str': '1688096582', 'name': 'chris cheong', 'screen_name': 'flossandwhatnot', 'location': 'long beach', 'description': 'dentistry is my hobby. knowledge never decreases by being shared', 'url': None, 'entities': {'description': {'urls': []}}, 'protected': False, 'followers_count': 11, 'friends_count': 135, 'listed_count': 0, 'created_at': 'Wed Aug 21 11:35:59 +0000 2013', 'favourites_count': 563, 'utc_offset': None, 'time_zone': None, 'geo_enabled': False, 'verified': False, 'statuses_count': 136, 'lang': 'en', 'contributors_enabled': False, 'is_translator': False, 'is_translation_enabled': False, 'profile_background_color': 'C0DEED', 'profile_background_image_url': 'http://abs.twimg.com/images/themes/theme1/bg.png', 'profile_background_image_url_https': 'https://abs.twimg.com/images/themes/theme1/bg.png', 'profile_background_tile': False, 'profile_image_url': 'http://pbs.twimg.com/profile_images/822387123919540225/IF8wazXg_normal.jpg', 'profile_image_url_https': 'https://pbs.twimg.com/profile_images/822387123919540225/IF8wazXg_normal.jpg', 'profile_link_color': '1DA1F2', 'profile_sidebar_border_color': 'C0DEED', 'profile_sidebar_fill_color': 'DDEEF6', 'profile_text_color': '333333', 'profile_use_background_image': True, 'has_extended_profile': False, 'default_profile': True, 'default_profile_image': False, 'following': None, 'follow_request_sent': None, 'notifications': None, 'translator_type': 'none'}, id=1688096582, id_str='1688096582', name='chris cheong', screen_name='flossandwhatnot', location='long beach', description='dentistry is my hobby. knowledge never decreases by being shared', url=None, entities={'description': {'urls': []}}, protected=False, followers_count=11, friends_count=135, listed_count=0, created_at=datetime.datetime(2013, 8, 21, 11, 35, 59), favourites_count=563, utc_offset=None, time_zone=None, geo_enabled=False, verified=False, statuses_count=136, lang='en', contributors_enabled=False, is_translator=False, is_translation_enabled=False, profile_background_color='C0DEED', profile_background_image_url='http://abs.twimg.com/images/themes/theme1/bg.png', profile_background_image_url_https='https://abs.twimg.com/images/themes/theme1/bg.png', profile_background_tile=False, profile_image_url='http://pbs.twimg.com/profile_images/822387123919540225/IF8wazXg_normal.jpg', profile_image_url_https='https://pbs.twimg.com/profile_images/822387123919540225/IF8wazXg_normal.jpg', profile_link_color='1DA1F2', profile_sidebar_border_color='C0DEED', profile_sidebar_fill_color='DDEEF6', profile_text_color='333333', profile_use_background_image=True, has_extended_profile=False, default_profile=True, default_profile_image=False, following=False, follow_request_sent=None, notifications=None, translator_type='none'), geo=None, coordinates=None, place=None, contributors=None, is_quote_status=False, retweet_count=0, favorite_count=0, favorited=False, retweeted=False, lang='en')>\n",
      "\n",
      "source : Twitter Lite\n",
      "\n",
      "source_url : https://mobile.twitter.com\n",
      "\n",
      "text : @AlexiLalas Participation trophies handed out after... shallow pool apparently  #wonderbread\n",
      "\n",
      "truncated : False\n",
      "\n",
      "user : User(_api=<tweepy.api.API object at 0x00000197ECD0C198>, _json={'id': 1688096582, 'id_str': '1688096582', 'name': 'chris cheong', 'screen_name': 'flossandwhatnot', 'location': 'long beach', 'description': 'dentistry is my hobby. knowledge never decreases by being shared', 'url': None, 'entities': {'description': {'urls': []}}, 'protected': False, 'followers_count': 11, 'friends_count': 135, 'listed_count': 0, 'created_at': 'Wed Aug 21 11:35:59 +0000 2013', 'favourites_count': 563, 'utc_offset': None, 'time_zone': None, 'geo_enabled': False, 'verified': False, 'statuses_count': 136, 'lang': 'en', 'contributors_enabled': False, 'is_translator': False, 'is_translation_enabled': False, 'profile_background_color': 'C0DEED', 'profile_background_image_url': 'http://abs.twimg.com/images/themes/theme1/bg.png', 'profile_background_image_url_https': 'https://abs.twimg.com/images/themes/theme1/bg.png', 'profile_background_tile': False, 'profile_image_url': 'http://pbs.twimg.com/profile_images/822387123919540225/IF8wazXg_normal.jpg', 'profile_image_url_https': 'https://pbs.twimg.com/profile_images/822387123919540225/IF8wazXg_normal.jpg', 'profile_link_color': '1DA1F2', 'profile_sidebar_border_color': 'C0DEED', 'profile_sidebar_fill_color': 'DDEEF6', 'profile_text_color': '333333', 'profile_use_background_image': True, 'has_extended_profile': False, 'default_profile': True, 'default_profile_image': False, 'following': None, 'follow_request_sent': None, 'notifications': None, 'translator_type': 'none'}, id=1688096582, id_str='1688096582', name='chris cheong', screen_name='flossandwhatnot', location='long beach', description='dentistry is my hobby. knowledge never decreases by being shared', url=None, entities={'description': {'urls': []}}, protected=False, followers_count=11, friends_count=135, listed_count=0, created_at=datetime.datetime(2013, 8, 21, 11, 35, 59), favourites_count=563, utc_offset=None, time_zone=None, geo_enabled=False, verified=False, statuses_count=136, lang='en', contributors_enabled=False, is_translator=False, is_translation_enabled=False, profile_background_color='C0DEED', profile_background_image_url='http://abs.twimg.com/images/themes/theme1/bg.png', profile_background_image_url_https='https://abs.twimg.com/images/themes/theme1/bg.png', profile_background_tile=False, profile_image_url='http://pbs.twimg.com/profile_images/822387123919540225/IF8wazXg_normal.jpg', profile_image_url_https='https://pbs.twimg.com/profile_images/822387123919540225/IF8wazXg_normal.jpg', profile_link_color='1DA1F2', profile_sidebar_border_color='C0DEED', profile_sidebar_fill_color='DDEEF6', profile_text_color='333333', profile_use_background_image=True, has_extended_profile=False, default_profile=True, default_profile_image=False, following=False, follow_request_sent=None, notifications=None, translator_type='none')\n",
      "\n"
     ]
    }
   ],
   "source": [
    "tweet = result[0] \n",
    "\n",
    "for item in dir(tweet):\n",
    "#The key names beginning with an '_' are hidden ones and usually not required, so we'll skip them\n",
    "    if not item.startswith(\"_\"):\n",
    "        print(\"%s : %s\\n\" % (item, eval('tweet.'+item)))"
   ]
  },
  {
   "cell_type": "code",
   "execution_count": 7,
   "metadata": {},
   "outputs": [
    {
     "name": "stdout",
     "output_type": "stream",
     "text": [
      "100\n"
     ]
    }
   ],
   "source": [
    "results = []\n",
    "\n",
    "for tweet in tweepy.Cursor(api.search, q='%23tompetty').items(100):\n",
    "    results.append(tweet)\n",
    "\n",
    "print(len(results))"
   ]
  },
  {
   "cell_type": "code",
   "execution_count": 8,
   "metadata": {
    "collapsed": true
   },
   "outputs": [],
   "source": [
    "# Create a function to convert a given list of tweets into a Pandas DataFrame.\n",
    "\n",
    "def toDataFrame(tweets):\n",
    "\n",
    "    DataSet = pd.DataFrame()\n",
    "\n",
    "    DataSet['tweetID'] = [tweet.id for tweet in tweets]\n",
    "    DataSet['tweetText'] = [tweet.text for tweet in tweets]\n",
    "    DataSet['tweetRetweetCt'] = [tweet.retweet_count for tweet in tweets]\n",
    "    DataSet['tweetFavoriteCt'] = [tweet.favorite_count for tweet in tweets]\n",
    "    DataSet['tweetSource'] = [tweet.source for tweet in tweets]\n",
    "    DataSet['tweetCreated'] = [tweet.created_at for tweet in tweets]\n",
    "    DataSet['userID'] = [tweet.user.id for tweet in tweets]\n",
    "    DataSet['userScreen'] = [tweet.user.screen_name for tweet in tweets]\n",
    "    DataSet['userName'] = [tweet.user.name for tweet in tweets]\n",
    "    DataSet['userCreateDt'] = [tweet.user.created_at for tweet in tweets]\n",
    "    DataSet['userDesc'] = [tweet.user.description for tweet in tweets]\n",
    "    DataSet['userFollowerCt'] = [tweet.user.followers_count for tweet in tweets]\n",
    "    DataSet['userFriendsCt'] = [tweet.user.friends_count for tweet in tweets]\n",
    "    DataSet['userLocation'] = [tweet.user.location for tweet in tweets]\n",
    "    DataSet['userTimezone'] = [tweet.user.time_zone for tweet in tweets]\n",
    "\n",
    "    return DataSet\n",
    "\n",
    "#Pass the tweets list to the above function to create a DataFrame\n",
    "DataSet = toDataFrame(results)"
   ]
  },
  {
   "cell_type": "code",
   "execution_count": 9,
   "metadata": {},
   "outputs": [
    {
     "data": {
      "text/html": [
       "<div>\n",
       "<style>\n",
       "    .dataframe thead tr:only-child th {\n",
       "        text-align: right;\n",
       "    }\n",
       "\n",
       "    .dataframe thead th {\n",
       "        text-align: left;\n",
       "    }\n",
       "\n",
       "    .dataframe tbody tr th {\n",
       "        vertical-align: top;\n",
       "    }\n",
       "</style>\n",
       "<table border=\"1\" class=\"dataframe\">\n",
       "  <thead>\n",
       "    <tr style=\"text-align: right;\">\n",
       "      <th></th>\n",
       "      <th>tweetID</th>\n",
       "      <th>tweetText</th>\n",
       "      <th>tweetRetweetCt</th>\n",
       "      <th>tweetFavoriteCt</th>\n",
       "      <th>tweetSource</th>\n",
       "      <th>tweetCreated</th>\n",
       "      <th>userID</th>\n",
       "      <th>userScreen</th>\n",
       "      <th>userName</th>\n",
       "      <th>userCreateDt</th>\n",
       "      <th>userDesc</th>\n",
       "      <th>userFollowerCt</th>\n",
       "      <th>userFriendsCt</th>\n",
       "      <th>userLocation</th>\n",
       "      <th>userTimezone</th>\n",
       "    </tr>\n",
       "  </thead>\n",
       "  <tbody>\n",
       "    <tr>\n",
       "      <th>0</th>\n",
       "      <td>915604937689767936</td>\n",
       "      <td>RT @consequence: Watch @Wilco cover #TomPetty'...</td>\n",
       "      <td>5</td>\n",
       "      <td>0</td>\n",
       "      <td>Twitter for iPhone</td>\n",
       "      <td>2017-10-04 15:50:02</td>\n",
       "      <td>733130136</td>\n",
       "      <td>kmit63</td>\n",
       "      <td>timothy kennedy</td>\n",
       "      <td>2012-08-02 16:29:27</td>\n",
       "      <td>stumbling through history</td>\n",
       "      <td>47</td>\n",
       "      <td>708</td>\n",
       "      <td></td>\n",
       "      <td>None</td>\n",
       "    </tr>\n",
       "    <tr>\n",
       "      <th>1</th>\n",
       "      <td>915604845989523456</td>\n",
       "      <td>Heartfelt condolences to the Family, friends a...</td>\n",
       "      <td>0</td>\n",
       "      <td>0</td>\n",
       "      <td>Twitter Lite</td>\n",
       "      <td>2017-10-04 15:49:41</td>\n",
       "      <td>355354055</td>\n",
       "      <td>Cowboy_Adam</td>\n",
       "      <td>Adam Sells</td>\n",
       "      <td>2011-08-15 06:40:55</td>\n",
       "      <td>Music/Recording Artist Consultant - Pro Athlet...</td>\n",
       "      <td>1069</td>\n",
       "      <td>2463</td>\n",
       "      <td>Earth</td>\n",
       "      <td>Pacific Time (US &amp; Canada)</td>\n",
       "    </tr>\n",
       "    <tr>\n",
       "      <th>2</th>\n",
       "      <td>915604822665170944</td>\n",
       "      <td>RT @CatMeow2323: 😎 #TomPetty 💙 #RIPTomPetty th...</td>\n",
       "      <td>5</td>\n",
       "      <td>0</td>\n",
       "      <td>Twitter for Android</td>\n",
       "      <td>2017-10-04 15:49:35</td>\n",
       "      <td>845069240</td>\n",
       "      <td>karenjane16ka</td>\n",
       "      <td>karen cooper</td>\n",
       "      <td>2012-09-25 07:39:03</td>\n",
       "      <td>I love music lyrics poetry books art. I care a...</td>\n",
       "      <td>511</td>\n",
       "      <td>855</td>\n",
       "      <td>United Kingdom</td>\n",
       "      <td>None</td>\n",
       "    </tr>\n",
       "    <tr>\n",
       "      <th>3</th>\n",
       "      <td>915604659942936576</td>\n",
       "      <td>The true and lasting importance of rock-and-ro...</td>\n",
       "      <td>0</td>\n",
       "      <td>0</td>\n",
       "      <td>Twitter Web Client</td>\n",
       "      <td>2017-10-04 15:48:56</td>\n",
       "      <td>17640192</td>\n",
       "      <td>JSchoonejongen</td>\n",
       "      <td>JohnSchoonejongen</td>\n",
       "      <td>2008-11-26 02:52:09</td>\n",
       "      <td>Writer, poet, perpetually annoyed. Husband of ...</td>\n",
       "      <td>466</td>\n",
       "      <td>1225</td>\n",
       "      <td></td>\n",
       "      <td>Eastern Time (US &amp; Canada)</td>\n",
       "    </tr>\n",
       "    <tr>\n",
       "      <th>4</th>\n",
       "      <td>915604520947740672</td>\n",
       "      <td>RT @consequence: Watch @Wilco cover #TomPetty'...</td>\n",
       "      <td>5</td>\n",
       "      <td>0</td>\n",
       "      <td>Twitter Web Client</td>\n",
       "      <td>2017-10-04 15:48:23</td>\n",
       "      <td>619376498</td>\n",
       "      <td>SethZero1</td>\n",
       "      <td>Seth Meister</td>\n",
       "      <td>2012-06-26 20:01:27</td>\n",
       "      <td>Iconoclast &amp; libertarian. Extreme concert goer...</td>\n",
       "      <td>332</td>\n",
       "      <td>508</td>\n",
       "      <td>Kelowna, British Columbia</td>\n",
       "      <td>Pacific Time (US &amp; Canada)</td>\n",
       "    </tr>\n",
       "  </tbody>\n",
       "</table>\n",
       "</div>"
      ],
      "text/plain": [
       "              tweetID                                          tweetText  \\\n",
       "0  915604937689767936  RT @consequence: Watch @Wilco cover #TomPetty'...   \n",
       "1  915604845989523456  Heartfelt condolences to the Family, friends a...   \n",
       "2  915604822665170944  RT @CatMeow2323: 😎 #TomPetty 💙 #RIPTomPetty th...   \n",
       "3  915604659942936576  The true and lasting importance of rock-and-ro...   \n",
       "4  915604520947740672  RT @consequence: Watch @Wilco cover #TomPetty'...   \n",
       "\n",
       "   tweetRetweetCt  tweetFavoriteCt          tweetSource        tweetCreated  \\\n",
       "0               5                0   Twitter for iPhone 2017-10-04 15:50:02   \n",
       "1               0                0         Twitter Lite 2017-10-04 15:49:41   \n",
       "2               5                0  Twitter for Android 2017-10-04 15:49:35   \n",
       "3               0                0   Twitter Web Client 2017-10-04 15:48:56   \n",
       "4               5                0   Twitter Web Client 2017-10-04 15:48:23   \n",
       "\n",
       "      userID      userScreen           userName        userCreateDt  \\\n",
       "0  733130136          kmit63    timothy kennedy 2012-08-02 16:29:27   \n",
       "1  355354055     Cowboy_Adam         Adam Sells 2011-08-15 06:40:55   \n",
       "2  845069240   karenjane16ka       karen cooper 2012-09-25 07:39:03   \n",
       "3   17640192  JSchoonejongen  JohnSchoonejongen 2008-11-26 02:52:09   \n",
       "4  619376498       SethZero1       Seth Meister 2012-06-26 20:01:27   \n",
       "\n",
       "                                            userDesc  userFollowerCt  \\\n",
       "0                          stumbling through history              47   \n",
       "1  Music/Recording Artist Consultant - Pro Athlet...            1069   \n",
       "2  I love music lyrics poetry books art. I care a...             511   \n",
       "3  Writer, poet, perpetually annoyed. Husband of ...             466   \n",
       "4  Iconoclast & libertarian. Extreme concert goer...             332   \n",
       "\n",
       "   userFriendsCt               userLocation                userTimezone  \n",
       "0            708                                                   None  \n",
       "1           2463                      Earth  Pacific Time (US & Canada)  \n",
       "2            855             United Kingdom                        None  \n",
       "3           1225                             Eastern Time (US & Canada)  \n",
       "4            508  Kelowna, British Columbia  Pacific Time (US & Canada)  "
      ]
     },
     "execution_count": 9,
     "metadata": {},
     "output_type": "execute_result"
    }
   ],
   "source": [
    "DataSet.head()"
   ]
  },
  {
   "cell_type": "code",
   "execution_count": 10,
   "metadata": {},
   "outputs": [
    {
     "data": {
      "text/plain": [
       "56"
      ]
     },
     "execution_count": 10,
     "metadata": {},
     "output_type": "execute_result"
    }
   ],
   "source": [
    "DataSet = DataSet[DataSet.userTimezone.notnull()]\n",
    "\n",
    "len(DataSet)"
   ]
  },
  {
   "cell_type": "code",
   "execution_count": 11,
   "metadata": {},
   "outputs": [
    {
     "name": "stdout",
     "output_type": "stream",
     "text": [
      "Eastern Time (US & Canada)     12\n",
      "Pacific Time (US & Canada)      9\n",
      "Hawaii                          4\n",
      "Central Time (US & Canada)      3\n",
      "Mountain Time (US & Canada)     3\n",
      "Tokyo                           3\n",
      "Osaka                           3\n",
      "Atlantic Time (Canada)          3\n",
      "Athens                          2\n",
      "London                          2\n",
      "Name: userTimezone, dtype: int64\n"
     ]
    }
   ],
   "source": [
    "timezones = DataSet['userTimezone'].value_counts()[:10]\n",
    "print(timezones)"
   ]
  },
  {
   "cell_type": "code",
   "execution_count": 12,
   "metadata": {},
   "outputs": [
    {
     "data": {
      "text/plain": [
       "<matplotlib.text.Text at 0x197edfde780>"
      ]
     },
     "execution_count": 12,
     "metadata": {},
     "output_type": "execute_result"
    }
   ],
   "source": [
    "plt.rcParams['figure.figsize'] = (15, 5)\n",
    "\n",
    "timezones.plot(kind='bar')\n",
    "\n",
    "plt.xlabel('Timezones')\n",
    "plt.ylabel('Tweet Count')\n",
    "plt.title('Top 10 Timezones tweeting about #TomPetty')"
   ]
  },
  {
   "cell_type": "markdown",
   "metadata": {},
   "source": [
    "## Exploring"
   ]
  },
  {
   "cell_type": "code",
   "execution_count": 13,
   "metadata": {
    "collapsed": true
   },
   "outputs": [],
   "source": [
    "results = []\n",
    "\n",
    "for tweet in tweepy.Cursor(api.search, q='%40northernlionlp').items(100):\n",
    "    results.append(tweet)"
   ]
  },
  {
   "cell_type": "code",
   "execution_count": 14,
   "metadata": {
    "collapsed": true
   },
   "outputs": [],
   "source": [
    "DataSet = toDataFrame(results)"
   ]
  },
  {
   "cell_type": "code",
   "execution_count": 15,
   "metadata": {},
   "outputs": [
    {
     "data": {
      "text/html": [
       "<div>\n",
       "<style>\n",
       "    .dataframe thead tr:only-child th {\n",
       "        text-align: right;\n",
       "    }\n",
       "\n",
       "    .dataframe thead th {\n",
       "        text-align: left;\n",
       "    }\n",
       "\n",
       "    .dataframe tbody tr th {\n",
       "        vertical-align: top;\n",
       "    }\n",
       "</style>\n",
       "<table border=\"1\" class=\"dataframe\">\n",
       "  <thead>\n",
       "    <tr style=\"text-align: right;\">\n",
       "      <th></th>\n",
       "      <th>tweetID</th>\n",
       "      <th>tweetText</th>\n",
       "      <th>tweetRetweetCt</th>\n",
       "      <th>tweetFavoriteCt</th>\n",
       "      <th>tweetSource</th>\n",
       "      <th>tweetCreated</th>\n",
       "      <th>userID</th>\n",
       "      <th>userScreen</th>\n",
       "      <th>userName</th>\n",
       "      <th>userCreateDt</th>\n",
       "      <th>userDesc</th>\n",
       "      <th>userFollowerCt</th>\n",
       "      <th>userFriendsCt</th>\n",
       "      <th>userLocation</th>\n",
       "      <th>userTimezone</th>\n",
       "    </tr>\n",
       "  </thead>\n",
       "  <tbody>\n",
       "    <tr>\n",
       "      <th>0</th>\n",
       "      <td>915599861361397761</td>\n",
       "      <td>@TehNerdRealm @indeimaus @NorthernlionLP That'...</td>\n",
       "      <td>0</td>\n",
       "      <td>0</td>\n",
       "      <td>Twitter Web Client</td>\n",
       "      <td>2017-10-04 15:29:52</td>\n",
       "      <td>3386085837</td>\n",
       "      <td>n1c0162</td>\n",
       "      <td>Nicolás Casamayor</td>\n",
       "      <td>2015-07-21 17:49:10</td>\n",
       "      <td>Nada interesante</td>\n",
       "      <td>42</td>\n",
       "      <td>81</td>\n",
       "      <td>Anor Londo</td>\n",
       "      <td>None</td>\n",
       "    </tr>\n",
       "    <tr>\n",
       "      <th>1</th>\n",
       "      <td>915599729739927552</td>\n",
       "      <td>When you get home, and now you have Life is St...</td>\n",
       "      <td>0</td>\n",
       "      <td>0</td>\n",
       "      <td>Twitter for Android</td>\n",
       "      <td>2017-10-04 15:29:21</td>\n",
       "      <td>781127296493158400</td>\n",
       "      <td>StoffOfKings</td>\n",
       "      <td>Csölle Kristóf</td>\n",
       "      <td>2016-09-28 13:43:54</td>\n",
       "      <td>try tounge but hole</td>\n",
       "      <td>3</td>\n",
       "      <td>25</td>\n",
       "      <td></td>\n",
       "      <td>None</td>\n",
       "    </tr>\n",
       "    <tr>\n",
       "      <th>2</th>\n",
       "      <td>915599518804140032</td>\n",
       "      <td>@HatInTime @TinyPixxels @NorthernlionLP booooo...</td>\n",
       "      <td>0</td>\n",
       "      <td>0</td>\n",
       "      <td>Twitter for iPhone</td>\n",
       "      <td>2017-10-04 15:28:30</td>\n",
       "      <td>401865003</td>\n",
       "      <td>Skrippy33</td>\n",
       "      <td>Spookier/Louder</td>\n",
       "      <td>2011-10-31 06:23:59</td>\n",
       "      <td>My life has a constant credit dot.</td>\n",
       "      <td>157</td>\n",
       "      <td>246</td>\n",
       "      <td></td>\n",
       "      <td>None</td>\n",
       "    </tr>\n",
       "    <tr>\n",
       "      <th>3</th>\n",
       "      <td>915597957524750338</td>\n",
       "      <td>@steven421 @NorthernlionLP Secretly?</td>\n",
       "      <td>0</td>\n",
       "      <td>0</td>\n",
       "      <td>Twitter for iPhone</td>\n",
       "      <td>2017-10-04 15:22:18</td>\n",
       "      <td>24107151</td>\n",
       "      <td>ikoul</td>\n",
       "      <td>Ilia Koulinitch</td>\n",
       "      <td>2009-03-13 02:22:37</td>\n",
       "      <td>You're probably not gonna find anything of val...</td>\n",
       "      <td>27</td>\n",
       "      <td>67</td>\n",
       "      <td>Virginia, USA</td>\n",
       "      <td>Eastern Time (US &amp; Canada)</td>\n",
       "    </tr>\n",
       "    <tr>\n",
       "      <th>4</th>\n",
       "      <td>915594600881979392</td>\n",
       "      <td>RT @MavHuntX: @Tedium3211 @indeimaus @Northern...</td>\n",
       "      <td>6</td>\n",
       "      <td>0</td>\n",
       "      <td>Twitter for iPhone</td>\n",
       "      <td>2017-10-04 15:08:58</td>\n",
       "      <td>1477395072</td>\n",
       "      <td>Janteodul</td>\n",
       "      <td>Janteodul🦑</td>\n",
       "      <td>2013-06-02 14:18:59</td>\n",
       "      <td>Coup de pied circulaire, lame dans la jugulaire.</td>\n",
       "      <td>76</td>\n",
       "      <td>375</td>\n",
       "      <td>Ooo</td>\n",
       "      <td>Athens</td>\n",
       "    </tr>\n",
       "  </tbody>\n",
       "</table>\n",
       "</div>"
      ],
      "text/plain": [
       "              tweetID                                          tweetText  \\\n",
       "0  915599861361397761  @TehNerdRealm @indeimaus @NorthernlionLP That'...   \n",
       "1  915599729739927552  When you get home, and now you have Life is St...   \n",
       "2  915599518804140032  @HatInTime @TinyPixxels @NorthernlionLP booooo...   \n",
       "3  915597957524750338               @steven421 @NorthernlionLP Secretly?   \n",
       "4  915594600881979392  RT @MavHuntX: @Tedium3211 @indeimaus @Northern...   \n",
       "\n",
       "   tweetRetweetCt  tweetFavoriteCt          tweetSource        tweetCreated  \\\n",
       "0               0                0   Twitter Web Client 2017-10-04 15:29:52   \n",
       "1               0                0  Twitter for Android 2017-10-04 15:29:21   \n",
       "2               0                0   Twitter for iPhone 2017-10-04 15:28:30   \n",
       "3               0                0   Twitter for iPhone 2017-10-04 15:22:18   \n",
       "4               6                0   Twitter for iPhone 2017-10-04 15:08:58   \n",
       "\n",
       "               userID    userScreen           userName        userCreateDt  \\\n",
       "0          3386085837       n1c0162  Nicolás Casamayor 2015-07-21 17:49:10   \n",
       "1  781127296493158400  StoffOfKings     Csölle Kristóf 2016-09-28 13:43:54   \n",
       "2           401865003     Skrippy33    Spookier/Louder 2011-10-31 06:23:59   \n",
       "3            24107151         ikoul    Ilia Koulinitch 2009-03-13 02:22:37   \n",
       "4          1477395072     Janteodul         Janteodul🦑 2013-06-02 14:18:59   \n",
       "\n",
       "                                            userDesc  userFollowerCt  \\\n",
       "0                                   Nada interesante              42   \n",
       "1                                try tounge but hole               3   \n",
       "2                 My life has a constant credit dot.             157   \n",
       "3  You're probably not gonna find anything of val...              27   \n",
       "4   Coup de pied circulaire, lame dans la jugulaire.              76   \n",
       "\n",
       "   userFriendsCt   userLocation                userTimezone  \n",
       "0             81     Anor Londo                        None  \n",
       "1             25                                       None  \n",
       "2            246                                       None  \n",
       "3             67  Virginia, USA  Eastern Time (US & Canada)  \n",
       "4            375            Ooo                      Athens  "
      ]
     },
     "execution_count": 15,
     "metadata": {},
     "output_type": "execute_result"
    }
   ],
   "source": [
    "DataSet.head()"
   ]
  },
  {
   "cell_type": "code",
   "execution_count": 16,
   "metadata": {},
   "outputs": [],
   "source": [
    "for tweet in DataSet['tweetText']:\n",
    "    if \"egg\"in tweet:\n",
    "        print(tweet)"
   ]
  },
  {
   "cell_type": "code",
   "execution_count": 17,
   "metadata": {
    "collapsed": true
   },
   "outputs": [],
   "source": [
    "results = []\n",
    "\n",
    "for tweet in tweepy.Cursor(api.search, q='%23trump').items(100):\n",
    "    results.append(tweet)"
   ]
  },
  {
   "cell_type": "code",
   "execution_count": 18,
   "metadata": {},
   "outputs": [
    {
     "data": {
      "text/html": [
       "<div>\n",
       "<style>\n",
       "    .dataframe thead tr:only-child th {\n",
       "        text-align: right;\n",
       "    }\n",
       "\n",
       "    .dataframe thead th {\n",
       "        text-align: left;\n",
       "    }\n",
       "\n",
       "    .dataframe tbody tr th {\n",
       "        vertical-align: top;\n",
       "    }\n",
       "</style>\n",
       "<table border=\"1\" class=\"dataframe\">\n",
       "  <thead>\n",
       "    <tr style=\"text-align: right;\">\n",
       "      <th></th>\n",
       "      <th>tweetID</th>\n",
       "      <th>tweetText</th>\n",
       "      <th>tweetRetweetCt</th>\n",
       "      <th>tweetFavoriteCt</th>\n",
       "      <th>tweetSource</th>\n",
       "      <th>tweetCreated</th>\n",
       "      <th>userID</th>\n",
       "      <th>userScreen</th>\n",
       "      <th>userName</th>\n",
       "      <th>userCreateDt</th>\n",
       "      <th>userDesc</th>\n",
       "      <th>userFollowerCt</th>\n",
       "      <th>userFriendsCt</th>\n",
       "      <th>userLocation</th>\n",
       "      <th>userTimezone</th>\n",
       "    </tr>\n",
       "  </thead>\n",
       "  <tbody>\n",
       "    <tr>\n",
       "      <th>0</th>\n",
       "      <td>915604978818879488</td>\n",
       "      <td>RT @Whippenz: ❥🏳️‍🌈❥#NoH8❥🏳️‍🌈❥\\n\\n#US Voted A...</td>\n",
       "      <td>4</td>\n",
       "      <td>0</td>\n",
       "      <td>Twitter for iPad</td>\n",
       "      <td>2017-10-04 15:50:12</td>\n",
       "      <td>361902109</td>\n",
       "      <td>Whippenz</td>\n",
       "      <td>Marsha</td>\n",
       "      <td>2011-08-25 14:35:51</td>\n",
       "      <td>Artist Seeking The Perfect Medium ☮#Pacifist #...</td>\n",
       "      <td>28959</td>\n",
       "      <td>21344</td>\n",
       "      <td>San Francisco/East Bay Hills</td>\n",
       "      <td>Pacific Time (US &amp; Canada)</td>\n",
       "    </tr>\n",
       "    <tr>\n",
       "      <th>1</th>\n",
       "      <td>915604976138838016</td>\n",
       "      <td>RT @AndyOstroy: 'Yeah, I said he's a moron, bu...</td>\n",
       "      <td>3</td>\n",
       "      <td>0</td>\n",
       "      <td>Twitter for iPhone</td>\n",
       "      <td>2017-10-04 15:50:12</td>\n",
       "      <td>19883454</td>\n",
       "      <td>bulldogak</td>\n",
       "      <td>Jennifer Hickman</td>\n",
       "      <td>2009-02-01 23:35:33</td>\n",
       "      <td>Born-and-raised Republican now middle-of-the-r...</td>\n",
       "      <td>26</td>\n",
       "      <td>268</td>\n",
       "      <td>Anchorage, AK</td>\n",
       "      <td>None</td>\n",
       "    </tr>\n",
       "    <tr>\n",
       "      <th>2</th>\n",
       "      <td>915604973316182016</td>\n",
       "      <td>What an honor listening to a fascinating lectu...</td>\n",
       "      <td>0</td>\n",
       "      <td>0</td>\n",
       "      <td>Twitter for Android</td>\n",
       "      <td>2017-10-04 15:50:11</td>\n",
       "      <td>46966780</td>\n",
       "      <td>mislav_modronja</td>\n",
       "      <td>Mislav Modronja</td>\n",
       "      <td>2009-06-13 21:25:58</td>\n",
       "      <td>Writer, listener, profound Twitterer. Current ...</td>\n",
       "      <td>325</td>\n",
       "      <td>1169</td>\n",
       "      <td>Sunderland / Zagreb / Sisak.</td>\n",
       "      <td>Zagreb</td>\n",
       "    </tr>\n",
       "    <tr>\n",
       "      <th>3</th>\n",
       "      <td>915604972007456768</td>\n",
       "      <td>The world in brief | October 4th, 2017 | #Espr...</td>\n",
       "      <td>0</td>\n",
       "      <td>0</td>\n",
       "      <td>Hootsuite</td>\n",
       "      <td>2017-10-04 15:50:11</td>\n",
       "      <td>806982674824839169</td>\n",
       "      <td>CGWM_NMarshall</td>\n",
       "      <td>Nik Marshall</td>\n",
       "      <td>2016-12-08 22:03:57</td>\n",
       "      <td>Business Development Associate at Canaccord Ge...</td>\n",
       "      <td>56</td>\n",
       "      <td>185</td>\n",
       "      <td>Vancouver, British Columbia</td>\n",
       "      <td>Pacific Time (US &amp; Canada)</td>\n",
       "    </tr>\n",
       "    <tr>\n",
       "      <th>4</th>\n",
       "      <td>915604971470688256</td>\n",
       "      <td>RT @ThPoirot: #Trump qui lance des produits de...</td>\n",
       "      <td>79</td>\n",
       "      <td>0</td>\n",
       "      <td>Twitter Web Client</td>\n",
       "      <td>2017-10-04 15:50:10</td>\n",
       "      <td>604704562</td>\n",
       "      <td>bonsoirmichel</td>\n",
       "      <td>1@bonsoirmichel</td>\n",
       "      <td>2012-06-10 17:49:17</td>\n",
       "      <td>solitaire &amp; solidaire</td>\n",
       "      <td>15253</td>\n",
       "      <td>14258</td>\n",
       "      <td></td>\n",
       "      <td>Pacific Time (US &amp; Canada)</td>\n",
       "    </tr>\n",
       "  </tbody>\n",
       "</table>\n",
       "</div>"
      ],
      "text/plain": [
       "              tweetID                                          tweetText  \\\n",
       "0  915604978818879488  RT @Whippenz: ❥🏳️‍🌈❥#NoH8❥🏳️‍🌈❥\\n\\n#US Voted A...   \n",
       "1  915604976138838016  RT @AndyOstroy: 'Yeah, I said he's a moron, bu...   \n",
       "2  915604973316182016  What an honor listening to a fascinating lectu...   \n",
       "3  915604972007456768  The world in brief | October 4th, 2017 | #Espr...   \n",
       "4  915604971470688256  RT @ThPoirot: #Trump qui lance des produits de...   \n",
       "\n",
       "   tweetRetweetCt  tweetFavoriteCt          tweetSource        tweetCreated  \\\n",
       "0               4                0     Twitter for iPad 2017-10-04 15:50:12   \n",
       "1               3                0   Twitter for iPhone 2017-10-04 15:50:12   \n",
       "2               0                0  Twitter for Android 2017-10-04 15:50:11   \n",
       "3               0                0            Hootsuite 2017-10-04 15:50:11   \n",
       "4              79                0   Twitter Web Client 2017-10-04 15:50:10   \n",
       "\n",
       "               userID       userScreen          userName        userCreateDt  \\\n",
       "0           361902109         Whippenz            Marsha 2011-08-25 14:35:51   \n",
       "1            19883454        bulldogak  Jennifer Hickman 2009-02-01 23:35:33   \n",
       "2            46966780  mislav_modronja   Mislav Modronja 2009-06-13 21:25:58   \n",
       "3  806982674824839169   CGWM_NMarshall      Nik Marshall 2016-12-08 22:03:57   \n",
       "4           604704562    bonsoirmichel   1@bonsoirmichel 2012-06-10 17:49:17   \n",
       "\n",
       "                                            userDesc  userFollowerCt  \\\n",
       "0  Artist Seeking The Perfect Medium ☮#Pacifist #...           28959   \n",
       "1  Born-and-raised Republican now middle-of-the-r...              26   \n",
       "2  Writer, listener, profound Twitterer. Current ...             325   \n",
       "3  Business Development Associate at Canaccord Ge...              56   \n",
       "4                              solitaire & solidaire           15253   \n",
       "\n",
       "   userFriendsCt                  userLocation                userTimezone  \n",
       "0          21344  San Francisco/East Bay Hills  Pacific Time (US & Canada)  \n",
       "1            268                 Anchorage, AK                        None  \n",
       "2           1169  Sunderland / Zagreb / Sisak.                      Zagreb  \n",
       "3            185   Vancouver, British Columbia  Pacific Time (US & Canada)  \n",
       "4          14258                                Pacific Time (US & Canada)  "
      ]
     },
     "execution_count": 18,
     "metadata": {},
     "output_type": "execute_result"
    }
   ],
   "source": [
    "DataSet = toDataFrame(results)\n",
    "DataSet.head()"
   ]
  },
  {
   "cell_type": "code",
   "execution_count": 19,
   "metadata": {},
   "outputs": [
    {
     "data": {
      "text/plain": [
       "Pacific Time (US & Canada)      22\n",
       "Eastern Time (US & Canada)      16\n",
       "Central Time (US & Canada)       4\n",
       "Quito                            3\n",
       "Bern                             2\n",
       "Irkutsk                          1\n",
       "Atlantic Time (Canada)           1\n",
       "Central America                  1\n",
       "International Date Line West     1\n",
       "Tijuana                          1\n",
       "Name: userTimezone, dtype: int64"
      ]
     },
     "execution_count": 19,
     "metadata": {},
     "output_type": "execute_result"
    }
   ],
   "source": [
    "timezones = DataSet['userTimezone'].value_counts()[:10]\n",
    "timezones"
   ]
  },
  {
   "cell_type": "code",
   "execution_count": 20,
   "metadata": {},
   "outputs": [
    {
     "data": {
      "text/plain": [
       "<matplotlib.text.Text at 0x197edfde780>"
      ]
     },
     "execution_count": 20,
     "metadata": {},
     "output_type": "execute_result"
    }
   ],
   "source": [
    "plt.rcParams['figure.figsize'] = (15, 5)\n",
    "\n",
    "timezones.plot(kind='bar')\n",
    "\n",
    "plt.xlabel('Timezones')\n",
    "plt.ylabel('Tweet Count')\n",
    "plt.title('Top 10 Timezones tweeting about #Trump')"
   ]
  },
  {
   "cell_type": "code",
   "execution_count": 21,
   "metadata": {},
   "outputs": [
    {
     "data": {
      "text/plain": [
       "0     Artist Seeking The Perfect Medium ☮#Pacifist #...\n",
       "1     Born-and-raised Republican now middle-of-the-r...\n",
       "2     Writer, listener, profound Twitterer. Current ...\n",
       "3     Business Development Associate at Canaccord Ge...\n",
       "4                                 solitaire & solidaire\n",
       "5     Math teacher, Persian translator, Orientalist,...\n",
       "6                 Progressive, pragmatist, and hopeful.\n",
       "7                                                      \n",
       "8     Married father of 9, retired Detroit Police Of...\n",
       "9     (ret) Homicide Det,National Guard. Independent...\n",
       "10    Senior Investment Advisor at Canaccord Genuity...\n",
       "11    Not a tRump fan. #Resist\\nLove to laugh,sing &...\n",
       "12    Mother of two and proud wife of an Army Vetera...\n",
       "13                                                     \n",
       "14    Let's Soar! Writer.Blogger(Top 100 Twitter Pro...\n",
       "15    Diario nacional independiente fundado el 24 de...\n",
       "16                                No listy, No blockie.\n",
       "17    ✝ #BornAgain #Sinner #Saint, a visitor in this...\n",
       "18                                                     \n",
       "19    Stop #PayToPlay @MiamiDadeCounty! \\n#DumpTrump...\n",
       "20                                                   🇲🇾\n",
       "21    Official twitter account of https://t.co/tbhN7...\n",
       "22    Political analyst, policy adviser at EP,  blog...\n",
       "23    Brahmachari | Raw Vegan-Fruitarian | AstroTheo...\n",
       "24    I am not your friend. This is going to hurt. I...\n",
       "25    Born and raised in Wyoming.Well traveled world...\n",
       "26    Boutique-style Full-Service tax, accounting an...\n",
       "27    Mother, liberal, political junkie...Will not l...\n",
       "28    Hillbilly, Janeite, member of the MVPs of The ...\n",
       "29    I love my Land Catalonia, My Country Spain, Ad...\n",
       "                            ...                        \n",
       "70    #OC #CALIFORNIA #Conservative. #Army #Veteran ...\n",
       "71    I am a proud Liberal Democrat who is a big sup...\n",
       "72    The Greatest Accomplishment is Not in Never Fa...\n",
       "73    Trump is my President!! Love our military!! Am...\n",
       "74    Activist. Racists F$@& off. LGBTQ 🏳️‍🌈 ALLY 👊🏻...\n",
       "75    I love God, my husband, my dog, my country, & ...\n",
       "76    Roar,Roar,Roar thunders the Boomersaur..follow...\n",
       "77                                              Retired\n",
       "78    Grew up in Texas (not crazy in those days). Li...\n",
       "79    #Americafirst ΜΟΛΩΝΛΑΒΕ #Texan #ProLife #LE & ...\n",
       "80    Promoting the life in healthy lifestyle with p...\n",
       "81                                                     \n",
       "82    Political/Pop Culture Analyst. Blogger.\\nHuffi...\n",
       "83    Member of #TheResistance #PresidentMoron is an...\n",
       "84    Mexicano. Librepensador siempre en grado de ap...\n",
       "85    Azell Pompous on Facebook \\n#MBA Green Busines...\n",
       "86    Journaliste à @20Minutes, passée par @ipjdauphine\n",
       "87    My English impact lessons are held at my home ...\n",
       "88                                                     \n",
       "89    المغرب اليوم موقعٌ إخباريٌ باللغة العربية يتول...\n",
       "90                                                     \n",
       "91    \"What can be asserted without evidence can be ...\n",
       "92    Cranky woman of a certain age who has reached ...\n",
       "93    Je souffre d'une allergie à la Bêtise Humaine!...\n",
       "94    #NoH8 #GREENPEACE #LGBTRIGHTS #LOVEISLOVE  #NO...\n",
       "95    Christian, Conservative, Proud American Patrio...\n",
       "96    4thGen Florida native, political creature, env...\n",
       "97    Retired Nurse TRUMP is my PRESIDENT LIST will ...\n",
       "98                    DGAF, or give too many.  Depends.\n",
       "99    @ChathamHouse - Independent Client Adviser. Ad...\n",
       "Name: userDesc, Length: 100, dtype: object"
      ]
     },
     "execution_count": 21,
     "metadata": {},
     "output_type": "execute_result"
    }
   ],
   "source": [
    "DataSet['userDesc']"
   ]
  },
  {
   "cell_type": "code",
   "execution_count": 22,
   "metadata": {},
   "outputs": [
    {
     "data": {
      "text/plain": [
       "Twitter Web Client         31\n",
       "Twitter for iPhone         27\n",
       "Twitter for Android        22\n",
       "Twitter for iPad            7\n",
       "Hootsuite                   2\n",
       "TweetDeck                   2\n",
       "Twitter Lite                2\n",
       "USAsportFortu               1\n",
       "TweetCaster for Android     1\n",
       "Facebook                    1\n",
       "JGio Bot                    1\n",
       "#PJNET                      1\n",
       "Instagram                   1\n",
       "MakeAmericaGoatAgain        1\n",
       "Name: tweetSource, dtype: int64"
      ]
     },
     "execution_count": 22,
     "metadata": {},
     "output_type": "execute_result"
    }
   ],
   "source": [
    "DataSet['tweetSource'].value_counts()"
   ]
  },
  {
   "cell_type": "code",
   "execution_count": 23,
   "metadata": {},
   "outputs": [
    {
     "data": {
      "text/plain": [
       "0     RT @Whippenz: ❥🏳️‍🌈❥#NoH8❥🏳️‍🌈❥\\n\\n#US Voted A...\n",
       "1     RT @AndyOstroy: 'Yeah, I said he's a moron, bu...\n",
       "2     What an honor listening to a fascinating lectu...\n",
       "3     The world in brief | October 4th, 2017 | #Espr...\n",
       "4     RT @ThPoirot: #Trump qui lance des produits de...\n",
       "5     The #Trump spawn narrowly evaded a felony indi...\n",
       "6     RT @RichardAngwin: There is no correlation\\n\\n...\n",
       "7     RT @ToDropADime2: #RexTillerson just made a fo...\n",
       "8     RT @DonnaWR8: Former #Clinton Insider Dick Mor...\n",
       "9     He laid the smackdown on them...a well deserve...\n",
       "10    The world in brief | October 4th, 2017 | #Espr...\n",
       "11    #Trump is probably saying 'Here Puerto Rico. W...\n",
       "12    RT @Bobndc: Just a friendly reminder, if you v...\n",
       "13    RT @NRO: Worries about #Trump’s #Generals Are ...\n",
       "14    RT @ActionTime: #TrumpRUSSIA White House:#Trum...\n",
       "15    #Trump minimiza el impacto del #HuracánMaría \\...\n",
       "16    #LasVegasShooting #FakeNews #Yankees #Trump #P...\n",
       "17    Truth is, @SenJohnMcCain a liar &amp; part of ...\n",
       "18    RT @catch22x3: @tribelaw just when you think i...\n",
       "19    RT @Englishimpact: @realDonaldTrump @NBCNews @...\n",
       "20    https://t.co/CLHeoMfVpl Oh #Trump!!! I can't e...\n",
       "21    GOAT goat goat landing in Las Goats shortly to...\n",
       "22    #Tillerson wants to negotiate with #Northkorea...\n",
       "23    #Trump #PuertoRico #PRStrong https://t.co/nCly...\n",
       "24    RT @JeffreyGuterman: Anyone who thinks #Tiller...\n",
       "25    RT @DonnaWR8: Former #Clinton Insider Dick Mor...\n",
       "26    #Trump gets to replace his #auditor as #IRS he...\n",
       "27    RT @johnpmcneil02: Tillerson refused to deny c...\n",
       "28    If you wanna see #trump being chased by a merm...\n",
       "29    RT @CBSMiami: Secy. #RexTillerson denies repor...\n",
       "                            ...                        \n",
       "70    @ShannonSharpe Trying to tell SS to listen to ...\n",
       "71    RT @FMoniteau: Trump wastes money that could h...\n",
       "72    RT @DrMartyFox: Are we going to learn that #St...\n",
       "73    @charlizethwron @jes_chastain @jessicachstin @...\n",
       "74    RT @TalbertSwan: @TaIbertSwan @realDonaldTrump...\n",
       "75    RT @kwilli1046: Spike Lee is more concerned ab...\n",
       "76    @politico So, our 5 year-old President #Trump ...\n",
       "77    @L8ShowColbert -WhyURSo #StupidNotTo Understan...\n",
       "78    RT @franzen86: I imagine this is being looked ...\n",
       "79    RT @kwilli1046: Spike Lee is more concerned ab...\n",
       "80    RT @franzen86: I imagine this is being looked ...\n",
       "81    Hat tip, American press! Can't imagine anyone ...\n",
       "82    'Yeah, I said he's a moron, but I'm committed ...\n",
       "83    RT @ActionTime: #TrumpRUSSIA White House:#Trum...\n",
       "84    RT @Orantes_Monero: El cartón de hoy. \\n#Inkto...\n",
       "85    RT @The_Dixon_Cider: @steelers Hall of Famer R...\n",
       "86    RT @jacquescardoze: On résume : Sous l’adminis...\n",
       "87    @realDonaldTrump @NBCNews @VP What to call you...\n",
       "88    RT @GrrrGraphics: #SanJuanWhiner New #BenGarri...\n",
       "89    #Trump weighs 'decertifying' Iran nuclear deal...\n",
       "90    RT @DavidWetherell: Re: Rex calling #Trump a m...\n",
       "91    I miss posting stuff like this in Twitter. F #...\n",
       "92    RT @RichardAngwin: There is no correlation\\n\\n...\n",
       "93    #Trump in #PuertoRico\\nLIVE UPDATES https://t....\n",
       "94    @DavidBegnaud @Bencjacobs PS. Fed minimum wage...\n",
       "95    Citizens elected #Trump because of the @GOP se...\n",
       "96    @TPM #Tillerson knows #Trump can't fire him, P...\n",
       "97    RT @NavyTimes: Nine months into the #Trump adm...\n",
       "98    RT @AtTheRazorsEdge: UU rejects UN resolution ...\n",
       "99    Ok, I'm done for today. #PuertoRico #Trump htt...\n",
       "Name: tweetText, Length: 100, dtype: object"
      ]
     },
     "execution_count": 23,
     "metadata": {},
     "output_type": "execute_result"
    }
   ],
   "source": [
    "DataSet['tweetText']"
   ]
  },
  {
   "cell_type": "markdown",
   "metadata": {},
   "source": [
    "How many are original vs retweets?"
   ]
  },
  {
   "cell_type": "code",
   "execution_count": 24,
   "metadata": {},
   "outputs": [
    {
     "name": "stdout",
     "output_type": "stream",
     "text": [
      "RT: 57 \n",
      "Orig: 43\n"
     ]
    }
   ],
   "source": [
    "rt=0\n",
    "orig=0\n",
    "\n",
    "for tweet in DataSet['tweetText']:\n",
    "    if 'RT' in tweet:\n",
    "        rt+=1\n",
    "    else:\n",
    "        orig+=1\n",
    "print(\"RT:\",rt,'\\nOrig:',orig)"
   ]
  },
  {
   "cell_type": "markdown",
   "metadata": {},
   "source": [
    "2/3 are retweets!"
   ]
  }
 ],
 "metadata": {
  "kernelspec": {
   "display_name": "Python 3",
   "language": "python",
   "name": "python3"
  },
  "language_info": {
   "codemirror_mode": {
    "name": "ipython",
    "version": 3
   },
   "file_extension": ".py",
   "mimetype": "text/x-python",
   "name": "python",
   "nbconvert_exporter": "python",
   "pygments_lexer": "ipython3",
   "version": "3.6.2"
  }
 },
 "nbformat": 4,
 "nbformat_minor": 2
}
