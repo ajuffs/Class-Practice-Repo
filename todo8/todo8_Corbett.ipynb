{
 "cells": [
  {
   "cell_type": "markdown",
   "metadata": {},
   "source": [
    "Robert Corbett\n",
    "rwc27@pitt.edu\n",
    "todo 8"
   ]
  },
  {
   "cell_type": "code",
   "execution_count": 1,
   "metadata": {
    "collapsed": true
   },
   "outputs": [],
   "source": [
    "import tweepy\n",
    "import numpy as np\n",
    "import matplotlib.pyplot as plt\n",
    "import pandas as pd"
   ]
  },
  {
   "cell_type": "code",
   "execution_count": 2,
   "metadata": {
    "collapsed": true
   },
   "outputs": [],
   "source": [
    "consumerKey = 'XXXXXXXXXXXXXXXXXXXXXXXXX'\n",
    "consumerSecret = 'XXXXXXXXXXXXXXXXXXXXXXXXXXXXXXXXXXXXXXXXXXXXXXXXX'\n",
    "auth = tweepy.OAuthHandler(consumer_key=consumerKey, consumer_secret=consumerSecret)\n",
    "api = tweepy.API(auth)"
   ]
  },
  {
   "cell_type": "code",
   "execution_count": 3,
   "metadata": {
    "collapsed": true,
    "scrolled": true
   },
   "outputs": [],
   "source": [
    "results = []\n",
    "for tweet in tweepy.Cursor(api.search, q='%23Penguins').items(100):\n",
    "    results.append(tweet)"
   ]
  },
  {
   "cell_type": "code",
   "execution_count": 4,
   "metadata": {},
   "outputs": [
    {
     "name": "stdout",
     "output_type": "stream",
     "text": [
      "100\n"
     ]
    }
   ],
   "source": [
    "print(len(results))"
   ]
  },
  {
   "cell_type": "code",
   "execution_count": 5,
   "metadata": {
    "collapsed": true
   },
   "outputs": [],
   "source": [
    "\n",
    "def toDataFrame(tweets):\n",
    "\n",
    "    DataSet = pd.DataFrame()\n",
    "\n",
    "    DataSet['tweetID'] = [tweet.id for tweet in tweets]\n",
    "    DataSet['tweetText'] = [tweet.text for tweet in tweets]\n",
    "    DataSet['tweetRetweetCt'] = [tweet.retweet_count for tweet \n",
    "    in tweets]\n",
    "    DataSet['tweetFavoriteCt'] = [tweet.favorite_count for tweet \n",
    "    in tweets]\n",
    "    DataSet['tweetSource'] = [tweet.source for tweet in tweets]\n",
    "    DataSet['tweetCreated'] = [tweet.created_at for tweet in tweets]\n",
    "\n",
    "\n",
    "    DataSet['userID'] = [tweet.user.id for tweet in tweets]\n",
    "    DataSet['userScreen'] = [tweet.user.screen_name for tweet \n",
    "    in tweets]\n",
    "    DataSet['userName'] = [tweet.user.name for tweet in tweets]\n",
    "    DataSet['userCreateDt'] = [tweet.user.created_at for tweet \n",
    "    in tweets]\n",
    "    DataSet['userDesc'] = [tweet.user.description for tweet in tweets]\n",
    "    DataSet['userFollowerCt'] = [tweet.user.followers_count for tweet \n",
    "    in tweets]\n",
    "    DataSet['userFriendsCt'] = [tweet.user.friends_count for tweet \n",
    "    in tweets]\n",
    "    DataSet['userLocation'] = [tweet.user.location for tweet in tweets]\n",
    "    DataSet['userTimezone'] = [tweet.user.time_zone for tweet \n",
    "    in tweets]\n",
    "\n",
    "    return DataSet\n",
    "\n",
    "#Pass the tweets list to the above function to create a DataFrame\n",
    "DataSet = toDataFrame(results)"
   ]
  },
  {
   "cell_type": "code",
   "execution_count": 6,
   "metadata": {},
   "outputs": [
    {
     "data": {
      "text/html": [
       "<div>\n",
       "<style>\n",
       "    .dataframe thead tr:only-child th {\n",
       "        text-align: right;\n",
       "    }\n",
       "\n",
       "    .dataframe thead th {\n",
       "        text-align: left;\n",
       "    }\n",
       "\n",
       "    .dataframe tbody tr th {\n",
       "        vertical-align: top;\n",
       "    }\n",
       "</style>\n",
       "<table border=\"1\" class=\"dataframe\">\n",
       "  <thead>\n",
       "    <tr style=\"text-align: right;\">\n",
       "      <th></th>\n",
       "      <th>tweetID</th>\n",
       "      <th>tweetText</th>\n",
       "      <th>tweetRetweetCt</th>\n",
       "      <th>tweetFavoriteCt</th>\n",
       "      <th>tweetSource</th>\n",
       "      <th>tweetCreated</th>\n",
       "      <th>userID</th>\n",
       "      <th>userScreen</th>\n",
       "      <th>userName</th>\n",
       "      <th>userCreateDt</th>\n",
       "      <th>userDesc</th>\n",
       "      <th>userFollowerCt</th>\n",
       "      <th>userFriendsCt</th>\n",
       "      <th>userLocation</th>\n",
       "      <th>userTimezone</th>\n",
       "    </tr>\n",
       "  </thead>\n",
       "  <tbody>\n",
       "    <tr>\n",
       "      <th>0</th>\n",
       "      <td>915973308025368576</td>\n",
       "      <td>RT @suntimes_sports: OPENING NIGHT! #Blackhawk...</td>\n",
       "      <td>5</td>\n",
       "      <td>0</td>\n",
       "      <td>Twitter for iPhone</td>\n",
       "      <td>2017-10-05 16:13:49</td>\n",
       "      <td>34629750</td>\n",
       "      <td>PlayDagger4Me</td>\n",
       "      <td>Tanya</td>\n",
       "      <td>2009-04-23 14:45:34</td>\n",
       "      <td>I celebrate #ToewsDay every week- Jonathan Toe...</td>\n",
       "      <td>2953</td>\n",
       "      <td>1932</td>\n",
       "      <td>AR but in my heart, CHICAGO</td>\n",
       "      <td>Central Time (US &amp; Canada)</td>\n",
       "    </tr>\n",
       "    <tr>\n",
       "      <th>1</th>\n",
       "      <td>915972666695213057</td>\n",
       "      <td>Phil Kessel says #Penguins \"will be right ther...</td>\n",
       "      <td>0</td>\n",
       "      <td>0</td>\n",
       "      <td>Twitter Web Client</td>\n",
       "      <td>2017-10-05 16:11:16</td>\n",
       "      <td>39133099</td>\n",
       "      <td>CodyJBenjamin</td>\n",
       "      <td>Cody Benjamin</td>\n",
       "      <td>2009-05-10 23:19:08</td>\n",
       "      <td>@CBSSports writer. @BleedingGreen columnist. A...</td>\n",
       "      <td>1412</td>\n",
       "      <td>280</td>\n",
       "      <td></td>\n",
       "      <td>Eastern Time (US &amp; Canada)</td>\n",
       "    </tr>\n",
       "    <tr>\n",
       "      <th>2</th>\n",
       "      <td>915970659318198272</td>\n",
       "      <td>RT @BlkHwkNationCHI: It's #Blackhawks Game Day...</td>\n",
       "      <td>7</td>\n",
       "      <td>0</td>\n",
       "      <td>Twitter for iPhone</td>\n",
       "      <td>2017-10-05 16:03:17</td>\n",
       "      <td>22179710</td>\n",
       "      <td>dsolin</td>\n",
       "      <td>Don Solin</td>\n",
       "      <td>2009-02-27 19:39:08</td>\n",
       "      <td>Follower of J.C. Chicago home boy! Check out m...</td>\n",
       "      <td>1429</td>\n",
       "      <td>1633</td>\n",
       "      <td>Dayton, OH</td>\n",
       "      <td>Eastern Time (US &amp; Canada)</td>\n",
       "    </tr>\n",
       "    <tr>\n",
       "      <th>3</th>\n",
       "      <td>915969727633268736</td>\n",
       "      <td>RT @suntimes_sports: OPENING NIGHT! #Blackhawk...</td>\n",
       "      <td>5</td>\n",
       "      <td>0</td>\n",
       "      <td>Twitter for iPhone</td>\n",
       "      <td>2017-10-05 15:59:35</td>\n",
       "      <td>14357283</td>\n",
       "      <td>ChrisDeLuca</td>\n",
       "      <td>Chris De Luca</td>\n",
       "      <td>2008-04-11 01:46:41</td>\n",
       "      <td>Deputy Managing Editor, News and Sports, Chica...</td>\n",
       "      <td>8657</td>\n",
       "      <td>774</td>\n",
       "      <td>Chicago</td>\n",
       "      <td>Central Time (US &amp; Canada)</td>\n",
       "    </tr>\n",
       "    <tr>\n",
       "      <th>4</th>\n",
       "      <td>915968716403351552</td>\n",
       "      <td>@miakhalifa #Penguins going for three in a row...</td>\n",
       "      <td>0</td>\n",
       "      <td>0</td>\n",
       "      <td>Twitter for iPhone</td>\n",
       "      <td>2017-10-05 15:55:34</td>\n",
       "      <td>2945093643</td>\n",
       "      <td>ironcitybrave</td>\n",
       "      <td>Crockett</td>\n",
       "      <td>2014-12-28 01:54:36</td>\n",
       "      <td>Into Physical fitness ,Sports, &amp; Politics!</td>\n",
       "      <td>694</td>\n",
       "      <td>643</td>\n",
       "      <td>Ft Myers, Florida</td>\n",
       "      <td>None</td>\n",
       "    </tr>\n",
       "  </tbody>\n",
       "</table>\n",
       "</div>"
      ],
      "text/plain": [
       "              tweetID                                          tweetText  \\\n",
       "0  915973308025368576  RT @suntimes_sports: OPENING NIGHT! #Blackhawk...   \n",
       "1  915972666695213057  Phil Kessel says #Penguins \"will be right ther...   \n",
       "2  915970659318198272  RT @BlkHwkNationCHI: It's #Blackhawks Game Day...   \n",
       "3  915969727633268736  RT @suntimes_sports: OPENING NIGHT! #Blackhawk...   \n",
       "4  915968716403351552  @miakhalifa #Penguins going for three in a row...   \n",
       "\n",
       "   tweetRetweetCt  tweetFavoriteCt         tweetSource        tweetCreated  \\\n",
       "0               5                0  Twitter for iPhone 2017-10-05 16:13:49   \n",
       "1               0                0  Twitter Web Client 2017-10-05 16:11:16   \n",
       "2               7                0  Twitter for iPhone 2017-10-05 16:03:17   \n",
       "3               5                0  Twitter for iPhone 2017-10-05 15:59:35   \n",
       "4               0                0  Twitter for iPhone 2017-10-05 15:55:34   \n",
       "\n",
       "       userID     userScreen       userName        userCreateDt  \\\n",
       "0    34629750  PlayDagger4Me          Tanya 2009-04-23 14:45:34   \n",
       "1    39133099  CodyJBenjamin  Cody Benjamin 2009-05-10 23:19:08   \n",
       "2    22179710         dsolin      Don Solin 2009-02-27 19:39:08   \n",
       "3    14357283    ChrisDeLuca  Chris De Luca 2008-04-11 01:46:41   \n",
       "4  2945093643  ironcitybrave       Crockett 2014-12-28 01:54:36   \n",
       "\n",
       "                                            userDesc  userFollowerCt  \\\n",
       "0  I celebrate #ToewsDay every week- Jonathan Toe...            2953   \n",
       "1  @CBSSports writer. @BleedingGreen columnist. A...            1412   \n",
       "2  Follower of J.C. Chicago home boy! Check out m...            1429   \n",
       "3  Deputy Managing Editor, News and Sports, Chica...            8657   \n",
       "4         Into Physical fitness ,Sports, & Politics!             694   \n",
       "\n",
       "   userFriendsCt                 userLocation                userTimezone  \n",
       "0           1932  AR but in my heart, CHICAGO  Central Time (US & Canada)  \n",
       "1            280                               Eastern Time (US & Canada)  \n",
       "2           1633                   Dayton, OH  Eastern Time (US & Canada)  \n",
       "3            774                      Chicago  Central Time (US & Canada)  \n",
       "4            643            Ft Myers, Florida                        None  "
      ]
     },
     "execution_count": 6,
     "metadata": {},
     "output_type": "execute_result"
    }
   ],
   "source": [
    "DataSet.head(5)"
   ]
  },
  {
   "cell_type": "code",
   "execution_count": 7,
   "metadata": {},
   "outputs": [
    {
     "data": {
      "text/plain": [
       "'RT @suntimes_sports: OPENING NIGHT! #Blackhawks and #Penguins battling on the ice, in the history books #NHLopeningnight \\n\\nhttps://t.co/1Qb…'"
      ]
     },
     "execution_count": 7,
     "metadata": {},
     "output_type": "execute_result"
    }
   ],
   "source": [
    "DataSet.tweetText[0]"
   ]
  },
  {
   "cell_type": "code",
   "execution_count": 8,
   "metadata": {},
   "outputs": [
    {
     "data": {
      "text/plain": [
       "77"
      ]
     },
     "execution_count": 8,
     "metadata": {},
     "output_type": "execute_result"
    }
   ],
   "source": [
    "DataSet = DataSet[DataSet.userTimezone.notnull()]\n",
    "len(DataSet)"
   ]
  },
  {
   "cell_type": "code",
   "execution_count": 9,
   "metadata": {},
   "outputs": [
    {
     "name": "stdout",
     "output_type": "stream",
     "text": [
      "Central Time (US & Canada)     32\n",
      "Eastern Time (US & Canada)     22\n",
      "Pacific Time (US & Canada)      7\n",
      "Tokyo                           2\n",
      "Buenos Aires                    2\n",
      "Madrid                          1\n",
      "Quito                           1\n",
      "Fiji                            1\n",
      "Mountain Time (US & Canada)     1\n",
      "Bern                            1\n",
      "Name: userTimezone, dtype: int64\n"
     ]
    }
   ],
   "source": [
    "tzs = DataSet['userTimezone'].value_counts()[:10]\n",
    "print(tzs)"
   ]
  },
  {
   "cell_type": "code",
   "execution_count": 10,
   "metadata": {},
   "outputs": [
    {
     "data": {
      "image/png": "[encoded data removed]",
      "text/plain": [
       "<matplotlib.figure.Figure at 0xecb9f17b8>"
      ]
     },
     "metadata": {},
     "output_type": "display_data"
    }
   ],
   "source": [
    "plt.rcParams['figure.figsize'] = (15, 5)\n",
    "\n",
    "tzs.plot(kind='bar')\n",
    "\n",
    "\n",
    "plt.xlabel('Timezones')\n",
    "plt.ylabel('Tweet Count')\n",
    "plt.title('Top 10 Timezones tweeting about #Penguins')\n",
    "plt.show()"
   ]
  },
  {
   "cell_type": "code",
   "execution_count": 11,
   "metadata": {},
   "outputs": [
    {
     "name": "stdout",
     "output_type": "stream",
     "text": [
      "629728\n"
     ]
    }
   ],
   "source": [
    "max_followers = DataSet['userFollowerCt'].max()\n",
    "print(max_followers)"
   ]
  },
  {
   "cell_type": "code",
   "execution_count": 12,
   "metadata": {},
   "outputs": [
    {
     "name": "stdout",
     "output_type": "stream",
     "text": [
      "13    Happy 52nd Birthday to @NHL greats Mario Lemie...\n",
      "Name: tweetText, dtype: object\n"
     ]
    }
   ],
   "source": [
    "temp_list = DataSet.loc[DataSet['userFollowerCt'] == max_followers]\n",
    "print(temp_list['tweetText'])"
   ]
  },
  {
   "cell_type": "code",
   "execution_count": null,
   "metadata": {
    "collapsed": true
   },
   "outputs": [],
   "source": []
  }
 ],
 "metadata": {
  "kernelspec": {
   "display_name": "Python 3",
   "language": "python",
   "name": "python3"
  },
  "language_info": {
   "codemirror_mode": {
    "name": "ipython",
    "version": 3
   },
   "file_extension": ".py",
   "mimetype": "text/x-python",
   "name": "python",
   "nbconvert_exporter": "python",
   "pygments_lexer": "ipython3",
   "version": "3.6.1"
  }
 },
 "nbformat": 4,
 "nbformat_minor": 2
}
