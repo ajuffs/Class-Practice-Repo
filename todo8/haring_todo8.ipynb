{
 "cells": [
  {
   "cell_type": "markdown",
   "metadata": {},
   "source": [
    "Paige Haring\n",
    "\n",
    "peh40@pitt.edu\n",
    "\n",
    "Todo8\n",
    "\n",
    "10/3/17"
   ]
  },
  {
   "cell_type": "code",
   "execution_count": 1,
   "metadata": {
    "collapsed": true
   },
   "outputs": [],
   "source": [
    "import tweepy\n",
    "import pandas as pd\n",
    "import matplotlib.pyplot as plt"
   ]
  },
  {
   "cell_type": "code",
   "execution_count": 2,
   "metadata": {
    "collapsed": true
   },
   "outputs": [],
   "source": [
    "consumerKey = 'XXXXXXXXXXXXXXXXXXXXXXX'\n",
    "consumerSecret = 'XXXXXXXXXXXXXXXXXXXXXXX'\n",
    "\n",
    "auth = tweepy.OAuthHandler(consumer_key=consumerKey, \n",
    "    consumer_secret=consumerSecret)\n",
    "\n",
    "#connect to the API\n",
    "api = tweepy.API(auth)"
   ]
  },
  {
   "cell_type": "code",
   "execution_count": 3,
   "metadata": {
    "collapsed": true
   },
   "outputs": [],
   "source": [
    "#Search some tweets! Let's look at hashtag #H2P (Hail to Pitt)\n",
    "result = api.search(q='%23H2P')"
   ]
  },
  {
   "cell_type": "code",
   "execution_count": 4,
   "metadata": {},
   "outputs": [
    {
     "data": {
      "text/plain": [
       "15"
      ]
     },
     "execution_count": 4,
     "metadata": {},
     "output_type": "execute_result"
    }
   ],
   "source": [
    "len(result)"
   ]
  },
  {
   "cell_type": "code",
   "execution_count": 5,
   "metadata": {},
   "outputs": [
    {
     "data": {
      "text/plain": [
       "Status(_api=<tweepy.api.API object at 0x117e4c4e0>, _json={'created_at': 'Wed Oct 04 01:06:54 +0000 2017', 'id': 915382688483303424, 'id_str': '915382688483303424', 'text': 'RT @Pitt_MSOC: THE CLOCK EXPIRES AND THE PANTHERS WIN! Pitt upsets No. 14 Columbia 1-0 on the road! #H2P https://t.co/EdjpNbCBJH', 'truncated': False, 'entities': {'hashtags': [{'text': 'H2P', 'indices': [100, 104]}], 'symbols': [], 'user_mentions': [{'screen_name': 'Pitt_MSOC', 'name': \"Pitt Men's Soccer\", 'id': 366916564, 'id_str': '366916564', 'indices': [3, 13]}], 'urls': [], 'media': [{'id': 915381984955736064, 'id_str': '915381984955736064', 'indices': [105, 128], 'media_url': 'http://pbs.twimg.com/media/DLQXEL8UIAAJTgH.jpg', 'media_url_https': 'https://pbs.twimg.com/media/DLQXEL8UIAAJTgH.jpg', 'url': 'https://t.co/EdjpNbCBJH', 'display_url': 'pic.twitter.com/EdjpNbCBJH', 'expanded_url': 'https://twitter.com/Pitt_MSOC/status/915382555481911298/photo/1', 'type': 'photo', 'sizes': {'large': {'w': 1280, 'h': 720, 'resize': 'fit'}, 'small': {'w': 680, 'h': 383, 'resize': 'fit'}, 'thumb': {'w': 150, 'h': 150, 'resize': 'crop'}, 'medium': {'w': 1200, 'h': 675, 'resize': 'fit'}}, 'source_status_id': 915382555481911298, 'source_status_id_str': '915382555481911298', 'source_user_id': 366916564, 'source_user_id_str': '366916564'}]}, 'extended_entities': {'media': [{'id': 915381984955736064, 'id_str': '915381984955736064', 'indices': [105, 128], 'media_url': 'http://pbs.twimg.com/media/DLQXEL8UIAAJTgH.jpg', 'media_url_https': 'https://pbs.twimg.com/media/DLQXEL8UIAAJTgH.jpg', 'url': 'https://t.co/EdjpNbCBJH', 'display_url': 'pic.twitter.com/EdjpNbCBJH', 'expanded_url': 'https://twitter.com/Pitt_MSOC/status/915382555481911298/photo/1', 'type': 'photo', 'sizes': {'large': {'w': 1280, 'h': 720, 'resize': 'fit'}, 'small': {'w': 680, 'h': 383, 'resize': 'fit'}, 'thumb': {'w': 150, 'h': 150, 'resize': 'crop'}, 'medium': {'w': 1200, 'h': 675, 'resize': 'fit'}}, 'source_status_id': 915382555481911298, 'source_status_id_str': '915382555481911298', 'source_user_id': 366916564, 'source_user_id_str': '366916564'}]}, 'metadata': {'iso_language_code': 'en', 'result_type': 'recent'}, 'source': '<a href=\"http://twitter.com/download/android\" rel=\"nofollow\">Twitter for Android</a>', 'in_reply_to_status_id': None, 'in_reply_to_status_id_str': None, 'in_reply_to_user_id': None, 'in_reply_to_user_id_str': None, 'in_reply_to_screen_name': None, 'user': {'id': 1155434408, 'id_str': '1155434408', 'name': 'Clint Altman', 'screen_name': 'clint_altman', 'location': 'Baltimore, MD', 'description': 'Some lanky dude who watches sports.  Fitness professional. Penn State and Slippery Rock Grad.  Pitt fan then, now, forever', 'url': None, 'entities': {'description': {'urls': []}}, 'protected': False, 'followers_count': 166, 'friends_count': 1205, 'listed_count': 2, 'created_at': 'Wed Feb 06 23:42:41 +0000 2013', 'favourites_count': 3005, 'utc_offset': None, 'time_zone': None, 'geo_enabled': True, 'verified': False, 'statuses_count': 2038, 'lang': 'en', 'contributors_enabled': False, 'is_translator': False, 'is_translation_enabled': False, 'profile_background_color': 'C0DEED', 'profile_background_image_url': 'http://pbs.twimg.com/profile_background_images/806568500/ae33fa351615c0fbd5957edd0e95b48f.jpeg', 'profile_background_image_url_https': 'https://pbs.twimg.com/profile_background_images/806568500/ae33fa351615c0fbd5957edd0e95b48f.jpeg', 'profile_background_tile': True, 'profile_image_url': 'http://pbs.twimg.com/profile_images/588841405952450560/v0y8p808_normal.jpg', 'profile_image_url_https': 'https://pbs.twimg.com/profile_images/588841405952450560/v0y8p808_normal.jpg', 'profile_banner_url': 'https://pbs.twimg.com/profile_banners/1155434408/1430276375', 'profile_link_color': '0084B4', 'profile_sidebar_border_color': 'FFFFFF', 'profile_sidebar_fill_color': 'DDEEF6', 'profile_text_color': '333333', 'profile_use_background_image': True, 'has_extended_profile': False, 'default_profile': False, 'default_profile_image': False, 'following': None, 'follow_request_sent': None, 'notifications': None, 'translator_type': 'none'}, 'geo': None, 'coordinates': None, 'place': None, 'contributors': None, 'retweeted_status': {'created_at': 'Wed Oct 04 01:06:22 +0000 2017', 'id': 915382555481911298, 'id_str': '915382555481911298', 'text': 'THE CLOCK EXPIRES AND THE PANTHERS WIN! Pitt upsets No. 14 Columbia 1-0 on the road! #H2P https://t.co/EdjpNbCBJH', 'truncated': False, 'entities': {'hashtags': [{'text': 'H2P', 'indices': [85, 89]}], 'symbols': [], 'user_mentions': [], 'urls': [], 'media': [{'id': 915381984955736064, 'id_str': '915381984955736064', 'indices': [90, 113], 'media_url': 'http://pbs.twimg.com/media/DLQXEL8UIAAJTgH.jpg', 'media_url_https': 'https://pbs.twimg.com/media/DLQXEL8UIAAJTgH.jpg', 'url': 'https://t.co/EdjpNbCBJH', 'display_url': 'pic.twitter.com/EdjpNbCBJH', 'expanded_url': 'https://twitter.com/Pitt_MSOC/status/915382555481911298/photo/1', 'type': 'photo', 'sizes': {'large': {'w': 1280, 'h': 720, 'resize': 'fit'}, 'small': {'w': 680, 'h': 383, 'resize': 'fit'}, 'thumb': {'w': 150, 'h': 150, 'resize': 'crop'}, 'medium': {'w': 1200, 'h': 675, 'resize': 'fit'}}}]}, 'extended_entities': {'media': [{'id': 915381984955736064, 'id_str': '915381984955736064', 'indices': [90, 113], 'media_url': 'http://pbs.twimg.com/media/DLQXEL8UIAAJTgH.jpg', 'media_url_https': 'https://pbs.twimg.com/media/DLQXEL8UIAAJTgH.jpg', 'url': 'https://t.co/EdjpNbCBJH', 'display_url': 'pic.twitter.com/EdjpNbCBJH', 'expanded_url': 'https://twitter.com/Pitt_MSOC/status/915382555481911298/photo/1', 'type': 'photo', 'sizes': {'large': {'w': 1280, 'h': 720, 'resize': 'fit'}, 'small': {'w': 680, 'h': 383, 'resize': 'fit'}, 'thumb': {'w': 150, 'h': 150, 'resize': 'crop'}, 'medium': {'w': 1200, 'h': 675, 'resize': 'fit'}}}]}, 'metadata': {'iso_language_code': 'en', 'result_type': 'recent'}, 'source': '<a href=\"http://twitter.com\" rel=\"nofollow\">Twitter Web Client</a>', 'in_reply_to_status_id': None, 'in_reply_to_status_id_str': None, 'in_reply_to_user_id': None, 'in_reply_to_user_id_str': None, 'in_reply_to_screen_name': None, 'user': {'id': 366916564, 'id_str': '366916564', 'name': \"Pitt Men's Soccer\", 'screen_name': 'Pitt_MSOC', 'location': 'Pittsburgh, PA', 'description': \"The official Twitter account of Pitt Men's Soccer #H2P\", 'url': 'https://t.co/uR07ZCyUjP', 'entities': {'url': {'urls': [{'url': 'https://t.co/uR07ZCyUjP', 'expanded_url': 'http://www.pittsburghpanthers.com/sports/m-soccer/pitt-m-soccer-body.html', 'display_url': 'pittsburghpanthers.com/sports/m-socce…', 'indices': [0, 23]}]}, 'description': {'urls': []}}, 'protected': False, 'followers_count': 2644, 'friends_count': 584, 'listed_count': 41, 'created_at': 'Sat Sep 03 01:58:11 +0000 2011', 'favourites_count': 630, 'utc_offset': -14400, 'time_zone': 'Eastern Time (US & Canada)', 'geo_enabled': True, 'verified': False, 'statuses_count': 3279, 'lang': 'en', 'contributors_enabled': False, 'is_translator': False, 'is_translation_enabled': False, 'profile_background_color': '131516', 'profile_background_image_url': 'http://pbs.twimg.com/profile_background_images/612964353852227585/PHe17eRl.jpg', 'profile_background_image_url_https': 'https://pbs.twimg.com/profile_background_images/612964353852227585/PHe17eRl.jpg', 'profile_background_tile': True, 'profile_image_url': 'http://pbs.twimg.com/profile_images/907993700818718720/njSN8XMN_normal.jpg', 'profile_image_url_https': 'https://pbs.twimg.com/profile_images/907993700818718720/njSN8XMN_normal.jpg', 'profile_banner_url': 'https://pbs.twimg.com/profile_banners/366916564/1506954627', 'profile_link_color': '00274B', 'profile_sidebar_border_color': '000000', 'profile_sidebar_fill_color': 'EFEFEF', 'profile_text_color': '333333', 'profile_use_background_image': True, 'has_extended_profile': False, 'default_profile': False, 'default_profile_image': False, 'following': None, 'follow_request_sent': None, 'notifications': None, 'translator_type': 'none'}, 'geo': None, 'coordinates': None, 'place': None, 'contributors': None, 'is_quote_status': False, 'retweet_count': 11, 'favorite_count': 6, 'favorited': False, 'retweeted': False, 'possibly_sensitive': False, 'lang': 'en'}, 'is_quote_status': False, 'retweet_count': 11, 'favorite_count': 0, 'favorited': False, 'retweeted': False, 'possibly_sensitive': False, 'lang': 'en'}, created_at=datetime.datetime(2017, 10, 4, 1, 6, 54), id=915382688483303424, id_str='915382688483303424', text='RT @Pitt_MSOC: THE CLOCK EXPIRES AND THE PANTHERS WIN! Pitt upsets No. 14 Columbia 1-0 on the road! #H2P https://t.co/EdjpNbCBJH', truncated=False, entities={'hashtags': [{'text': 'H2P', 'indices': [100, 104]}], 'symbols': [], 'user_mentions': [{'screen_name': 'Pitt_MSOC', 'name': \"Pitt Men's Soccer\", 'id': 366916564, 'id_str': '366916564', 'indices': [3, 13]}], 'urls': [], 'media': [{'id': 915381984955736064, 'id_str': '915381984955736064', 'indices': [105, 128], 'media_url': 'http://pbs.twimg.com/media/DLQXEL8UIAAJTgH.jpg', 'media_url_https': 'https://pbs.twimg.com/media/DLQXEL8UIAAJTgH.jpg', 'url': 'https://t.co/EdjpNbCBJH', 'display_url': 'pic.twitter.com/EdjpNbCBJH', 'expanded_url': 'https://twitter.com/Pitt_MSOC/status/915382555481911298/photo/1', 'type': 'photo', 'sizes': {'large': {'w': 1280, 'h': 720, 'resize': 'fit'}, 'small': {'w': 680, 'h': 383, 'resize': 'fit'}, 'thumb': {'w': 150, 'h': 150, 'resize': 'crop'}, 'medium': {'w': 1200, 'h': 675, 'resize': 'fit'}}, 'source_status_id': 915382555481911298, 'source_status_id_str': '915382555481911298', 'source_user_id': 366916564, 'source_user_id_str': '366916564'}]}, extended_entities={'media': [{'id': 915381984955736064, 'id_str': '915381984955736064', 'indices': [105, 128], 'media_url': 'http://pbs.twimg.com/media/DLQXEL8UIAAJTgH.jpg', 'media_url_https': 'https://pbs.twimg.com/media/DLQXEL8UIAAJTgH.jpg', 'url': 'https://t.co/EdjpNbCBJH', 'display_url': 'pic.twitter.com/EdjpNbCBJH', 'expanded_url': 'https://twitter.com/Pitt_MSOC/status/915382555481911298/photo/1', 'type': 'photo', 'sizes': {'large': {'w': 1280, 'h': 720, 'resize': 'fit'}, 'small': {'w': 680, 'h': 383, 'resize': 'fit'}, 'thumb': {'w': 150, 'h': 150, 'resize': 'crop'}, 'medium': {'w': 1200, 'h': 675, 'resize': 'fit'}}, 'source_status_id': 915382555481911298, 'source_status_id_str': '915382555481911298', 'source_user_id': 366916564, 'source_user_id_str': '366916564'}]}, metadata={'iso_language_code': 'en', 'result_type': 'recent'}, source='Twitter for Android', source_url='http://twitter.com/download/android', in_reply_to_status_id=None, in_reply_to_status_id_str=None, in_reply_to_user_id=None, in_reply_to_user_id_str=None, in_reply_to_screen_name=None, author=User(_api=<tweepy.api.API object at 0x117e4c4e0>, _json={'id': 1155434408, 'id_str': '1155434408', 'name': 'Clint Altman', 'screen_name': 'clint_altman', 'location': 'Baltimore, MD', 'description': 'Some lanky dude who watches sports.  Fitness professional. Penn State and Slippery Rock Grad.  Pitt fan then, now, forever', 'url': None, 'entities': {'description': {'urls': []}}, 'protected': False, 'followers_count': 166, 'friends_count': 1205, 'listed_count': 2, 'created_at': 'Wed Feb 06 23:42:41 +0000 2013', 'favourites_count': 3005, 'utc_offset': None, 'time_zone': None, 'geo_enabled': True, 'verified': False, 'statuses_count': 2038, 'lang': 'en', 'contributors_enabled': False, 'is_translator': False, 'is_translation_enabled': False, 'profile_background_color': 'C0DEED', 'profile_background_image_url': 'http://pbs.twimg.com/profile_background_images/806568500/ae33fa351615c0fbd5957edd0e95b48f.jpeg', 'profile_background_image_url_https': 'https://pbs.twimg.com/profile_background_images/806568500/ae33fa351615c0fbd5957edd0e95b48f.jpeg', 'profile_background_tile': True, 'profile_image_url': 'http://pbs.twimg.com/profile_images/588841405952450560/v0y8p808_normal.jpg', 'profile_image_url_https': 'https://pbs.twimg.com/profile_images/588841405952450560/v0y8p808_normal.jpg', 'profile_banner_url': 'https://pbs.twimg.com/profile_banners/1155434408/1430276375', 'profile_link_color': '0084B4', 'profile_sidebar_border_color': 'FFFFFF', 'profile_sidebar_fill_color': 'DDEEF6', 'profile_text_color': '333333', 'profile_use_background_image': True, 'has_extended_profile': False, 'default_profile': False, 'default_profile_image': False, 'following': None, 'follow_request_sent': None, 'notifications': None, 'translator_type': 'none'}, id=1155434408, id_str='1155434408', name='Clint Altman', screen_name='clint_altman', location='Baltimore, MD', description='Some lanky dude who watches sports.  Fitness professional. Penn State and Slippery Rock Grad.  Pitt fan then, now, forever', url=None, entities={'description': {'urls': []}}, protected=False, followers_count=166, friends_count=1205, listed_count=2, created_at=datetime.datetime(2013, 2, 6, 23, 42, 41), favourites_count=3005, utc_offset=None, time_zone=None, geo_enabled=True, verified=False, statuses_count=2038, lang='en', contributors_enabled=False, is_translator=False, is_translation_enabled=False, profile_background_color='C0DEED', profile_background_image_url='http://pbs.twimg.com/profile_background_images/806568500/ae33fa351615c0fbd5957edd0e95b48f.jpeg', profile_background_image_url_https='https://pbs.twimg.com/profile_background_images/806568500/ae33fa351615c0fbd5957edd0e95b48f.jpeg', profile_background_tile=True, profile_image_url='http://pbs.twimg.com/profile_images/588841405952450560/v0y8p808_normal.jpg', profile_image_url_https='https://pbs.twimg.com/profile_images/588841405952450560/v0y8p808_normal.jpg', profile_banner_url='https://pbs.twimg.com/profile_banners/1155434408/1430276375', profile_link_color='0084B4', profile_sidebar_border_color='FFFFFF', profile_sidebar_fill_color='DDEEF6', profile_text_color='333333', profile_use_background_image=True, has_extended_profile=False, default_profile=False, default_profile_image=False, following=False, follow_request_sent=None, notifications=None, translator_type='none'), user=User(_api=<tweepy.api.API object at 0x117e4c4e0>, _json={'id': 1155434408, 'id_str': '1155434408', 'name': 'Clint Altman', 'screen_name': 'clint_altman', 'location': 'Baltimore, MD', 'description': 'Some lanky dude who watches sports.  Fitness professional. Penn State and Slippery Rock Grad.  Pitt fan then, now, forever', 'url': None, 'entities': {'description': {'urls': []}}, 'protected': False, 'followers_count': 166, 'friends_count': 1205, 'listed_count': 2, 'created_at': 'Wed Feb 06 23:42:41 +0000 2013', 'favourites_count': 3005, 'utc_offset': None, 'time_zone': None, 'geo_enabled': True, 'verified': False, 'statuses_count': 2038, 'lang': 'en', 'contributors_enabled': False, 'is_translator': False, 'is_translation_enabled': False, 'profile_background_color': 'C0DEED', 'profile_background_image_url': 'http://pbs.twimg.com/profile_background_images/806568500/ae33fa351615c0fbd5957edd0e95b48f.jpeg', 'profile_background_image_url_https': 'https://pbs.twimg.com/profile_background_images/806568500/ae33fa351615c0fbd5957edd0e95b48f.jpeg', 'profile_background_tile': True, 'profile_image_url': 'http://pbs.twimg.com/profile_images/588841405952450560/v0y8p808_normal.jpg', 'profile_image_url_https': 'https://pbs.twimg.com/profile_images/588841405952450560/v0y8p808_normal.jpg', 'profile_banner_url': 'https://pbs.twimg.com/profile_banners/1155434408/1430276375', 'profile_link_color': '0084B4', 'profile_sidebar_border_color': 'FFFFFF', 'profile_sidebar_fill_color': 'DDEEF6', 'profile_text_color': '333333', 'profile_use_background_image': True, 'has_extended_profile': False, 'default_profile': False, 'default_profile_image': False, 'following': None, 'follow_request_sent': None, 'notifications': None, 'translator_type': 'none'}, id=1155434408, id_str='1155434408', name='Clint Altman', screen_name='clint_altman', location='Baltimore, MD', description='Some lanky dude who watches sports.  Fitness professional. Penn State and Slippery Rock Grad.  Pitt fan then, now, forever', url=None, entities={'description': {'urls': []}}, protected=False, followers_count=166, friends_count=1205, listed_count=2, created_at=datetime.datetime(2013, 2, 6, 23, 42, 41), favourites_count=3005, utc_offset=None, time_zone=None, geo_enabled=True, verified=False, statuses_count=2038, lang='en', contributors_enabled=False, is_translator=False, is_translation_enabled=False, profile_background_color='C0DEED', profile_background_image_url='http://pbs.twimg.com/profile_background_images/806568500/ae33fa351615c0fbd5957edd0e95b48f.jpeg', profile_background_image_url_https='https://pbs.twimg.com/profile_background_images/806568500/ae33fa351615c0fbd5957edd0e95b48f.jpeg', profile_background_tile=True, profile_image_url='http://pbs.twimg.com/profile_images/588841405952450560/v0y8p808_normal.jpg', profile_image_url_https='https://pbs.twimg.com/profile_images/588841405952450560/v0y8p808_normal.jpg', profile_banner_url='https://pbs.twimg.com/profile_banners/1155434408/1430276375', profile_link_color='0084B4', profile_sidebar_border_color='FFFFFF', profile_sidebar_fill_color='DDEEF6', profile_text_color='333333', profile_use_background_image=True, has_extended_profile=False, default_profile=False, default_profile_image=False, following=False, follow_request_sent=None, notifications=None, translator_type='none'), geo=None, coordinates=None, place=None, contributors=None, retweeted_status=Status(_api=<tweepy.api.API object at 0x117e4c4e0>, _json={'created_at': 'Wed Oct 04 01:06:22 +0000 2017', 'id': 915382555481911298, 'id_str': '915382555481911298', 'text': 'THE CLOCK EXPIRES AND THE PANTHERS WIN! Pitt upsets No. 14 Columbia 1-0 on the road! #H2P https://t.co/EdjpNbCBJH', 'truncated': False, 'entities': {'hashtags': [{'text': 'H2P', 'indices': [85, 89]}], 'symbols': [], 'user_mentions': [], 'urls': [], 'media': [{'id': 915381984955736064, 'id_str': '915381984955736064', 'indices': [90, 113], 'media_url': 'http://pbs.twimg.com/media/DLQXEL8UIAAJTgH.jpg', 'media_url_https': 'https://pbs.twimg.com/media/DLQXEL8UIAAJTgH.jpg', 'url': 'https://t.co/EdjpNbCBJH', 'display_url': 'pic.twitter.com/EdjpNbCBJH', 'expanded_url': 'https://twitter.com/Pitt_MSOC/status/915382555481911298/photo/1', 'type': 'photo', 'sizes': {'large': {'w': 1280, 'h': 720, 'resize': 'fit'}, 'small': {'w': 680, 'h': 383, 'resize': 'fit'}, 'thumb': {'w': 150, 'h': 150, 'resize': 'crop'}, 'medium': {'w': 1200, 'h': 675, 'resize': 'fit'}}}]}, 'extended_entities': {'media': [{'id': 915381984955736064, 'id_str': '915381984955736064', 'indices': [90, 113], 'media_url': 'http://pbs.twimg.com/media/DLQXEL8UIAAJTgH.jpg', 'media_url_https': 'https://pbs.twimg.com/media/DLQXEL8UIAAJTgH.jpg', 'url': 'https://t.co/EdjpNbCBJH', 'display_url': 'pic.twitter.com/EdjpNbCBJH', 'expanded_url': 'https://twitter.com/Pitt_MSOC/status/915382555481911298/photo/1', 'type': 'photo', 'sizes': {'large': {'w': 1280, 'h': 720, 'resize': 'fit'}, 'small': {'w': 680, 'h': 383, 'resize': 'fit'}, 'thumb': {'w': 150, 'h': 150, 'resize': 'crop'}, 'medium': {'w': 1200, 'h': 675, 'resize': 'fit'}}}]}, 'metadata': {'iso_language_code': 'en', 'result_type': 'recent'}, 'source': '<a href=\"http://twitter.com\" rel=\"nofollow\">Twitter Web Client</a>', 'in_reply_to_status_id': None, 'in_reply_to_status_id_str': None, 'in_reply_to_user_id': None, 'in_reply_to_user_id_str': None, 'in_reply_to_screen_name': None, 'user': {'id': 366916564, 'id_str': '366916564', 'name': \"Pitt Men's Soccer\", 'screen_name': 'Pitt_MSOC', 'location': 'Pittsburgh, PA', 'description': \"The official Twitter account of Pitt Men's Soccer #H2P\", 'url': 'https://t.co/uR07ZCyUjP', 'entities': {'url': {'urls': [{'url': 'https://t.co/uR07ZCyUjP', 'expanded_url': 'http://www.pittsburghpanthers.com/sports/m-soccer/pitt-m-soccer-body.html', 'display_url': 'pittsburghpanthers.com/sports/m-socce…', 'indices': [0, 23]}]}, 'description': {'urls': []}}, 'protected': False, 'followers_count': 2644, 'friends_count': 584, 'listed_count': 41, 'created_at': 'Sat Sep 03 01:58:11 +0000 2011', 'favourites_count': 630, 'utc_offset': -14400, 'time_zone': 'Eastern Time (US & Canada)', 'geo_enabled': True, 'verified': False, 'statuses_count': 3279, 'lang': 'en', 'contributors_enabled': False, 'is_translator': False, 'is_translation_enabled': False, 'profile_background_color': '131516', 'profile_background_image_url': 'http://pbs.twimg.com/profile_background_images/612964353852227585/PHe17eRl.jpg', 'profile_background_image_url_https': 'https://pbs.twimg.com/profile_background_images/612964353852227585/PHe17eRl.jpg', 'profile_background_tile': True, 'profile_image_url': 'http://pbs.twimg.com/profile_images/907993700818718720/njSN8XMN_normal.jpg', 'profile_image_url_https': 'https://pbs.twimg.com/profile_images/907993700818718720/njSN8XMN_normal.jpg', 'profile_banner_url': 'https://pbs.twimg.com/profile_banners/366916564/1506954627', 'profile_link_color': '00274B', 'profile_sidebar_border_color': '000000', 'profile_sidebar_fill_color': 'EFEFEF', 'profile_text_color': '333333', 'profile_use_background_image': True, 'has_extended_profile': False, 'default_profile': False, 'default_profile_image': False, 'following': None, 'follow_request_sent': None, 'notifications': None, 'translator_type': 'none'}, 'geo': None, 'coordinates': None, 'place': None, 'contributors': None, 'is_quote_status': False, 'retweet_count': 11, 'favorite_count': 6, 'favorited': False, 'retweeted': False, 'possibly_sensitive': False, 'lang': 'en'}, created_at=datetime.datetime(2017, 10, 4, 1, 6, 22), id=915382555481911298, id_str='915382555481911298', text='THE CLOCK EXPIRES AND THE PANTHERS WIN! Pitt upsets No. 14 Columbia 1-0 on the road! #H2P https://t.co/EdjpNbCBJH', truncated=False, entities={'hashtags': [{'text': 'H2P', 'indices': [85, 89]}], 'symbols': [], 'user_mentions': [], 'urls': [], 'media': [{'id': 915381984955736064, 'id_str': '915381984955736064', 'indices': [90, 113], 'media_url': 'http://pbs.twimg.com/media/DLQXEL8UIAAJTgH.jpg', 'media_url_https': 'https://pbs.twimg.com/media/DLQXEL8UIAAJTgH.jpg', 'url': 'https://t.co/EdjpNbCBJH', 'display_url': 'pic.twitter.com/EdjpNbCBJH', 'expanded_url': 'https://twitter.com/Pitt_MSOC/status/915382555481911298/photo/1', 'type': 'photo', 'sizes': {'large': {'w': 1280, 'h': 720, 'resize': 'fit'}, 'small': {'w': 680, 'h': 383, 'resize': 'fit'}, 'thumb': {'w': 150, 'h': 150, 'resize': 'crop'}, 'medium': {'w': 1200, 'h': 675, 'resize': 'fit'}}}]}, extended_entities={'media': [{'id': 915381984955736064, 'id_str': '915381984955736064', 'indices': [90, 113], 'media_url': 'http://pbs.twimg.com/media/DLQXEL8UIAAJTgH.jpg', 'media_url_https': 'https://pbs.twimg.com/media/DLQXEL8UIAAJTgH.jpg', 'url': 'https://t.co/EdjpNbCBJH', 'display_url': 'pic.twitter.com/EdjpNbCBJH', 'expanded_url': 'https://twitter.com/Pitt_MSOC/status/915382555481911298/photo/1', 'type': 'photo', 'sizes': {'large': {'w': 1280, 'h': 720, 'resize': 'fit'}, 'small': {'w': 680, 'h': 383, 'resize': 'fit'}, 'thumb': {'w': 150, 'h': 150, 'resize': 'crop'}, 'medium': {'w': 1200, 'h': 675, 'resize': 'fit'}}}]}, metadata={'iso_language_code': 'en', 'result_type': 'recent'}, source='Twitter Web Client', source_url='http://twitter.com', in_reply_to_status_id=None, in_reply_to_status_id_str=None, in_reply_to_user_id=None, in_reply_to_user_id_str=None, in_reply_to_screen_name=None, author=User(_api=<tweepy.api.API object at 0x117e4c4e0>, _json={'id': 366916564, 'id_str': '366916564', 'name': \"Pitt Men's Soccer\", 'screen_name': 'Pitt_MSOC', 'location': 'Pittsburgh, PA', 'description': \"The official Twitter account of Pitt Men's Soccer #H2P\", 'url': 'https://t.co/uR07ZCyUjP', 'entities': {'url': {'urls': [{'url': 'https://t.co/uR07ZCyUjP', 'expanded_url': 'http://www.pittsburghpanthers.com/sports/m-soccer/pitt-m-soccer-body.html', 'display_url': 'pittsburghpanthers.com/sports/m-socce…', 'indices': [0, 23]}]}, 'description': {'urls': []}}, 'protected': False, 'followers_count': 2644, 'friends_count': 584, 'listed_count': 41, 'created_at': 'Sat Sep 03 01:58:11 +0000 2011', 'favourites_count': 630, 'utc_offset': -14400, 'time_zone': 'Eastern Time (US & Canada)', 'geo_enabled': True, 'verified': False, 'statuses_count': 3279, 'lang': 'en', 'contributors_enabled': False, 'is_translator': False, 'is_translation_enabled': False, 'profile_background_color': '131516', 'profile_background_image_url': 'http://pbs.twimg.com/profile_background_images/612964353852227585/PHe17eRl.jpg', 'profile_background_image_url_https': 'https://pbs.twimg.com/profile_background_images/612964353852227585/PHe17eRl.jpg', 'profile_background_tile': True, 'profile_image_url': 'http://pbs.twimg.com/profile_images/907993700818718720/njSN8XMN_normal.jpg', 'profile_image_url_https': 'https://pbs.twimg.com/profile_images/907993700818718720/njSN8XMN_normal.jpg', 'profile_banner_url': 'https://pbs.twimg.com/profile_banners/366916564/1506954627', 'profile_link_color': '00274B', 'profile_sidebar_border_color': '000000', 'profile_sidebar_fill_color': 'EFEFEF', 'profile_text_color': '333333', 'profile_use_background_image': True, 'has_extended_profile': False, 'default_profile': False, 'default_profile_image': False, 'following': None, 'follow_request_sent': None, 'notifications': None, 'translator_type': 'none'}, id=366916564, id_str='366916564', name=\"Pitt Men's Soccer\", screen_name='Pitt_MSOC', location='Pittsburgh, PA', description=\"The official Twitter account of Pitt Men's Soccer #H2P\", url='https://t.co/uR07ZCyUjP', entities={'url': {'urls': [{'url': 'https://t.co/uR07ZCyUjP', 'expanded_url': 'http://www.pittsburghpanthers.com/sports/m-soccer/pitt-m-soccer-body.html', 'display_url': 'pittsburghpanthers.com/sports/m-socce…', 'indices': [0, 23]}]}, 'description': {'urls': []}}, protected=False, followers_count=2644, friends_count=584, listed_count=41, created_at=datetime.datetime(2011, 9, 3, 1, 58, 11), favourites_count=630, utc_offset=-14400, time_zone='Eastern Time (US & Canada)', geo_enabled=True, verified=False, statuses_count=3279, lang='en', contributors_enabled=False, is_translator=False, is_translation_enabled=False, profile_background_color='131516', profile_background_image_url='http://pbs.twimg.com/profile_background_images/612964353852227585/PHe17eRl.jpg', profile_background_image_url_https='https://pbs.twimg.com/profile_background_images/612964353852227585/PHe17eRl.jpg', profile_background_tile=True, profile_image_url='http://pbs.twimg.com/profile_images/907993700818718720/njSN8XMN_normal.jpg', profile_image_url_https='https://pbs.twimg.com/profile_images/907993700818718720/njSN8XMN_normal.jpg', profile_banner_url='https://pbs.twimg.com/profile_banners/366916564/1506954627', profile_link_color='00274B', profile_sidebar_border_color='000000', profile_sidebar_fill_color='EFEFEF', profile_text_color='333333', profile_use_background_image=True, has_extended_profile=False, default_profile=False, default_profile_image=False, following=False, follow_request_sent=None, notifications=None, translator_type='none'), user=User(_api=<tweepy.api.API object at 0x117e4c4e0>, _json={'id': 366916564, 'id_str': '366916564', 'name': \"Pitt Men's Soccer\", 'screen_name': 'Pitt_MSOC', 'location': 'Pittsburgh, PA', 'description': \"The official Twitter account of Pitt Men's Soccer #H2P\", 'url': 'https://t.co/uR07ZCyUjP', 'entities': {'url': {'urls': [{'url': 'https://t.co/uR07ZCyUjP', 'expanded_url': 'http://www.pittsburghpanthers.com/sports/m-soccer/pitt-m-soccer-body.html', 'display_url': 'pittsburghpanthers.com/sports/m-socce…', 'indices': [0, 23]}]}, 'description': {'urls': []}}, 'protected': False, 'followers_count': 2644, 'friends_count': 584, 'listed_count': 41, 'created_at': 'Sat Sep 03 01:58:11 +0000 2011', 'favourites_count': 630, 'utc_offset': -14400, 'time_zone': 'Eastern Time (US & Canada)', 'geo_enabled': True, 'verified': False, 'statuses_count': 3279, 'lang': 'en', 'contributors_enabled': False, 'is_translator': False, 'is_translation_enabled': False, 'profile_background_color': '131516', 'profile_background_image_url': 'http://pbs.twimg.com/profile_background_images/612964353852227585/PHe17eRl.jpg', 'profile_background_image_url_https': 'https://pbs.twimg.com/profile_background_images/612964353852227585/PHe17eRl.jpg', 'profile_background_tile': True, 'profile_image_url': 'http://pbs.twimg.com/profile_images/907993700818718720/njSN8XMN_normal.jpg', 'profile_image_url_https': 'https://pbs.twimg.com/profile_images/907993700818718720/njSN8XMN_normal.jpg', 'profile_banner_url': 'https://pbs.twimg.com/profile_banners/366916564/1506954627', 'profile_link_color': '00274B', 'profile_sidebar_border_color': '000000', 'profile_sidebar_fill_color': 'EFEFEF', 'profile_text_color': '333333', 'profile_use_background_image': True, 'has_extended_profile': False, 'default_profile': False, 'default_profile_image': False, 'following': None, 'follow_request_sent': None, 'notifications': None, 'translator_type': 'none'}, id=366916564, id_str='366916564', name=\"Pitt Men's Soccer\", screen_name='Pitt_MSOC', location='Pittsburgh, PA', description=\"The official Twitter account of Pitt Men's Soccer #H2P\", url='https://t.co/uR07ZCyUjP', entities={'url': {'urls': [{'url': 'https://t.co/uR07ZCyUjP', 'expanded_url': 'http://www.pittsburghpanthers.com/sports/m-soccer/pitt-m-soccer-body.html', 'display_url': 'pittsburghpanthers.com/sports/m-socce…', 'indices': [0, 23]}]}, 'description': {'urls': []}}, protected=False, followers_count=2644, friends_count=584, listed_count=41, created_at=datetime.datetime(2011, 9, 3, 1, 58, 11), favourites_count=630, utc_offset=-14400, time_zone='Eastern Time (US & Canada)', geo_enabled=True, verified=False, statuses_count=3279, lang='en', contributors_enabled=False, is_translator=False, is_translation_enabled=False, profile_background_color='131516', profile_background_image_url='http://pbs.twimg.com/profile_background_images/612964353852227585/PHe17eRl.jpg', profile_background_image_url_https='https://pbs.twimg.com/profile_background_images/612964353852227585/PHe17eRl.jpg', profile_background_tile=True, profile_image_url='http://pbs.twimg.com/profile_images/907993700818718720/njSN8XMN_normal.jpg', profile_image_url_https='https://pbs.twimg.com/profile_images/907993700818718720/njSN8XMN_normal.jpg', profile_banner_url='https://pbs.twimg.com/profile_banners/366916564/1506954627', profile_link_color='00274B', profile_sidebar_border_color='000000', profile_sidebar_fill_color='EFEFEF', profile_text_color='333333', profile_use_background_image=True, has_extended_profile=False, default_profile=False, default_profile_image=False, following=False, follow_request_sent=None, notifications=None, translator_type='none'), geo=None, coordinates=None, place=None, contributors=None, is_quote_status=False, retweet_count=11, favorite_count=6, favorited=False, retweeted=False, possibly_sensitive=False, lang='en'), is_quote_status=False, retweet_count=11, favorite_count=0, favorited=False, retweeted=False, possibly_sensitive=False, lang='en')"
      ]
     },
     "execution_count": 5,
     "metadata": {},
     "output_type": "execute_result"
    }
   ],
   "source": [
    "result[0] #json format"
   ]
  },
  {
   "cell_type": "code",
   "execution_count": 6,
   "metadata": {},
   "outputs": [
    {
     "name": "stdout",
     "output_type": "stream",
     "text": [
      "Pretty printing has been turned OFF\n"
     ]
    }
   ],
   "source": [
    "#Turn off pretty print!\n",
    "%pprint"
   ]
  },
  {
   "cell_type": "code",
   "execution_count": 7,
   "metadata": {},
   "outputs": [
    {
     "data": {
      "text/plain": [
       "['__class__', '__delattr__', '__dict__', '__dir__', '__doc__', '__eq__', '__format__', '__ge__', '__getattribute__', '__getstate__', '__gt__', '__hash__', '__init__', '__init_subclass__', '__le__', '__lt__', '__module__', '__ne__', '__new__', '__reduce__', '__reduce_ex__', '__repr__', '__setattr__', '__sizeof__', '__str__', '__subclasshook__', '__weakref__', '_api', '_json', 'author', 'contributors', 'coordinates', 'created_at', 'destroy', 'entities', 'extended_entities', 'favorite', 'favorite_count', 'favorited', 'geo', 'id', 'id_str', 'in_reply_to_screen_name', 'in_reply_to_status_id', 'in_reply_to_status_id_str', 'in_reply_to_user_id', 'in_reply_to_user_id_str', 'is_quote_status', 'lang', 'metadata', 'parse', 'parse_list', 'place', 'possibly_sensitive', 'retweet', 'retweet_count', 'retweeted', 'retweeted_status', 'retweets', 'source', 'source_url', 'text', 'truncated', 'user']"
      ]
     },
     "execution_count": 7,
     "metadata": {},
     "output_type": "execute_result"
    }
   ],
   "source": [
    "tweet1 = result[1] #get the data of the first tweet...\n",
    "\n",
    "dir(tweet1)"
   ]
  },
  {
   "cell_type": "code",
   "execution_count": 8,
   "metadata": {},
   "outputs": [
    {
     "data": {
      "text/plain": [
       "User(_api=<tweepy.api.API object at 0x117e4c4e0>, _json={'id': 818936111636549632, 'id_str': '818936111636549632', 'name': 'Ryan Zimba', 'screen_name': 'RyanZimba', 'location': 'Pittsburgh, PA', 'description': \"BP '16 - Pitt '20\", 'url': None, 'entities': {'description': {'urls': []}}, 'protected': False, 'followers_count': 34, 'friends_count': 31, 'listed_count': 0, 'created_at': 'Tue Jan 10 21:42:38 +0000 2017', 'favourites_count': 9, 'utc_offset': None, 'time_zone': None, 'geo_enabled': False, 'verified': False, 'statuses_count': 73, 'lang': 'en', 'contributors_enabled': False, 'is_translator': False, 'is_translation_enabled': False, 'profile_background_color': 'F5F8FA', 'profile_background_image_url': None, 'profile_background_image_url_https': None, 'profile_background_tile': False, 'profile_image_url': 'http://pbs.twimg.com/profile_images/820293926577905664/zlFxeNZv_normal.jpg', 'profile_image_url_https': 'https://pbs.twimg.com/profile_images/820293926577905664/zlFxeNZv_normal.jpg', 'profile_banner_url': 'https://pbs.twimg.com/profile_banners/818936111636549632/1484408337', 'profile_link_color': '1DA1F2', 'profile_sidebar_border_color': 'C0DEED', 'profile_sidebar_fill_color': 'DDEEF6', 'profile_text_color': '333333', 'profile_use_background_image': True, 'has_extended_profile': False, 'default_profile': True, 'default_profile_image': False, 'following': None, 'follow_request_sent': None, 'notifications': None, 'translator_type': 'none'}, id=818936111636549632, id_str='818936111636549632', name='Ryan Zimba', screen_name='RyanZimba', location='Pittsburgh, PA', description=\"BP '16 - Pitt '20\", url=None, entities={'description': {'urls': []}}, protected=False, followers_count=34, friends_count=31, listed_count=0, created_at=datetime.datetime(2017, 1, 10, 21, 42, 38), favourites_count=9, utc_offset=None, time_zone=None, geo_enabled=False, verified=False, statuses_count=73, lang='en', contributors_enabled=False, is_translator=False, is_translation_enabled=False, profile_background_color='F5F8FA', profile_background_image_url=None, profile_background_image_url_https=None, profile_background_tile=False, profile_image_url='http://pbs.twimg.com/profile_images/820293926577905664/zlFxeNZv_normal.jpg', profile_image_url_https='https://pbs.twimg.com/profile_images/820293926577905664/zlFxeNZv_normal.jpg', profile_banner_url='https://pbs.twimg.com/profile_banners/818936111636549632/1484408337', profile_link_color='1DA1F2', profile_sidebar_border_color='C0DEED', profile_sidebar_fill_color='DDEEF6', profile_text_color='333333', profile_use_background_image=True, has_extended_profile=False, default_profile=True, default_profile_image=False, following=False, follow_request_sent=None, notifications=None, translator_type='none')"
      ]
     },
     "execution_count": 8,
     "metadata": {},
     "output_type": "execute_result"
    }
   ],
   "source": [
    "tweet1.author"
   ]
  },
  {
   "cell_type": "markdown",
   "metadata": {},
   "source": [
    "**That's a LOT of information! I see a name, a location, a timestamp, screen name, her profile's description, how many follwers she has, how many tweets she's favorited, even the url of her profile's background!!! That's actually crazy.**"
   ]
  },
  {
   "cell_type": "code",
   "execution_count": 9,
   "metadata": {},
   "outputs": [
    {
     "name": "stdout",
     "output_type": "stream",
     "text": [
      "RT @Pitt_MSOC: THE CLOCK EXPIRES AND THE PANTHERS WIN! Pitt upsets No. 14 Columbia 1-0 on the road! #H2P https://t.co/EdjpNbCBJH\n"
     ]
    }
   ],
   "source": [
    "print(tweet1.text)"
   ]
  },
  {
   "cell_type": "code",
   "execution_count": 10,
   "metadata": {},
   "outputs": [
    {
     "data": {
      "text/plain": [
       "'en'"
      ]
     },
     "execution_count": 10,
     "metadata": {},
     "output_type": "execute_result"
    }
   ],
   "source": [
    "tweet1.lang"
   ]
  },
  {
   "cell_type": "code",
   "execution_count": 11,
   "metadata": {},
   "outputs": [
    {
     "data": {
      "text/plain": [
       "True"
      ]
     },
     "execution_count": 11,
     "metadata": {},
     "output_type": "execute_result"
    }
   ],
   "source": [
    "tweet1.user == tweet1.author #Maybe if this were a retweet, this would be false?"
   ]
  },
  {
   "cell_type": "code",
   "execution_count": 12,
   "metadata": {},
   "outputs": [
    {
     "data": {
      "text/plain": [
       "'RyanZimba'"
      ]
     },
     "execution_count": 12,
     "metadata": {},
     "output_type": "execute_result"
    }
   ],
   "source": [
    "tweet1.user.screen_name"
   ]
  },
  {
   "cell_type": "code",
   "execution_count": 13,
   "metadata": {},
   "outputs": [
    {
     "data": {
      "text/plain": [
       "\"BP '16 - Pitt '20\""
      ]
     },
     "execution_count": 13,
     "metadata": {},
     "output_type": "execute_result"
    }
   ],
   "source": [
    "tweet1.user.description"
   ]
  },
  {
   "cell_type": "code",
   "execution_count": 14,
   "metadata": {},
   "outputs": [
    {
     "data": {
      "text/plain": [
       "datetime.datetime(2017, 10, 4, 1, 6, 51)"
      ]
     },
     "execution_count": 14,
     "metadata": {},
     "output_type": "execute_result"
    }
   ],
   "source": [
    "tweet1.created_at"
   ]
  },
  {
   "cell_type": "code",
   "execution_count": 15,
   "metadata": {},
   "outputs": [
    {
     "data": {
      "text/plain": [
       "915382676370190336"
      ]
     },
     "execution_count": 15,
     "metadata": {},
     "output_type": "execute_result"
    }
   ],
   "source": [
    "tweet1.id"
   ]
  },
  {
   "cell_type": "code",
   "execution_count": 16,
   "metadata": {},
   "outputs": [
    {
     "data": {
      "text/plain": [
       "0"
      ]
     },
     "execution_count": 16,
     "metadata": {},
     "output_type": "execute_result"
    }
   ],
   "source": [
    "tweet1.favorite_count"
   ]
  },
  {
   "cell_type": "code",
   "execution_count": 17,
   "metadata": {},
   "outputs": [
    {
     "data": {
      "text/plain": [
       "100"
      ]
     },
     "execution_count": 17,
     "metadata": {},
     "output_type": "execute_result"
    }
   ],
   "source": [
    "#I'll download the first 100 tweets of the #H2P tag\n",
    "results = []\n",
    "\n",
    "for tweet in tweepy.Cursor(api.search, q='%23H2P').items(100):\n",
    "    results.append(tweet)\n",
    "    \n",
    "len(results)"
   ]
  },
  {
   "cell_type": "code",
   "execution_count": 18,
   "metadata": {
    "collapsed": true
   },
   "outputs": [],
   "source": [
    "#This creates a function that transforms the json info we have into a DataFrame.\n",
    "#It only includes some of the info for analysis like id, text, retweet count, favorite count,\n",
    "# tweet source, when the tweet was created, the user ID, screen name, and name, the user description\n",
    "# the user's follower count, friend count, location, and timezone\n",
    "\n",
    "def toDataFrame(tweets):\n",
    "\n",
    "    DataSet = pd.DataFrame()\n",
    "\n",
    "    DataSet['tweetID'] = [tweet.id for tweet in tweets]\n",
    "    DataSet['tweetText'] = [tweet.text for tweet in tweets]\n",
    "    DataSet['tweetRetweetCt'] = [tweet.retweet_count for tweet \n",
    "    in tweets]\n",
    "    DataSet['tweetFavoriteCt'] = [tweet.favorite_count for tweet \n",
    "    in tweets]\n",
    "    DataSet['tweetSource'] = [tweet.source for tweet in tweets]\n",
    "    DataSet['tweetCreated'] = [tweet.created_at for tweet in tweets]\n",
    "\n",
    "\n",
    "    DataSet['userID'] = [tweet.user.id for tweet in tweets]\n",
    "    DataSet['userScreen'] = [tweet.user.screen_name for tweet \n",
    "    in tweets]\n",
    "    DataSet['userName'] = [tweet.user.name for tweet in tweets]\n",
    "    DataSet['userCreateDt'] = [tweet.user.created_at for tweet \n",
    "    in tweets]\n",
    "    DataSet['userDesc'] = [tweet.user.description for tweet in tweets]\n",
    "    DataSet['userFollowerCt'] = [tweet.user.followers_count for tweet \n",
    "    in tweets]\n",
    "    DataSet['userFriendsCt'] = [tweet.user.friends_count for tweet \n",
    "    in tweets]\n",
    "    DataSet['userLocation'] = [tweet.user.location for tweet in tweets]\n",
    "    DataSet['userTimezone'] = [tweet.user.time_zone for tweet \n",
    "    in tweets]\n",
    "\n",
    "    return DataSet\n",
    "\n",
    "#Do this funciton on the list of 100 tweets\n",
    "df = toDataFrame(results)"
   ]
  },
  {
   "cell_type": "code",
   "execution_count": 19,
   "metadata": {},
   "outputs": [
    {
     "data": {
      "text/plain": [
       "100"
      ]
     },
     "execution_count": 19,
     "metadata": {},
     "output_type": "execute_result"
    }
   ],
   "source": [
    "df.head()\n",
    "len(df)"
   ]
  },
  {
   "cell_type": "code",
   "execution_count": 20,
   "metadata": {},
   "outputs": [
    {
     "data": {
      "text/html": [
       "<div>\n",
       "<style>\n",
       "    .dataframe thead tr:only-child th {\n",
       "        text-align: right;\n",
       "    }\n",
       "\n",
       "    .dataframe thead th {\n",
       "        text-align: left;\n",
       "    }\n",
       "\n",
       "    .dataframe tbody tr th {\n",
       "        vertical-align: top;\n",
       "    }\n",
       "</style>\n",
       "<table border=\"1\" class=\"dataframe\">\n",
       "  <thead>\n",
       "    <tr style=\"text-align: right;\">\n",
       "      <th></th>\n",
       "      <th>tweetID</th>\n",
       "      <th>tweetText</th>\n",
       "      <th>tweetRetweetCt</th>\n",
       "      <th>tweetFavoriteCt</th>\n",
       "      <th>tweetSource</th>\n",
       "      <th>tweetCreated</th>\n",
       "      <th>userID</th>\n",
       "      <th>userScreen</th>\n",
       "      <th>userName</th>\n",
       "      <th>userCreateDt</th>\n",
       "      <th>userDesc</th>\n",
       "      <th>userFollowerCt</th>\n",
       "      <th>userFriendsCt</th>\n",
       "      <th>userLocation</th>\n",
       "      <th>userTimezone</th>\n",
       "    </tr>\n",
       "  </thead>\n",
       "  <tbody>\n",
       "    <tr>\n",
       "      <th>95</th>\n",
       "      <td>915330903643222018</td>\n",
       "      <td>Catch tonight's game live on WatchESPN/WatchES...</td>\n",
       "      <td>1</td>\n",
       "      <td>4</td>\n",
       "      <td>TweetDeck</td>\n",
       "      <td>2017-10-03 21:41:08</td>\n",
       "      <td>366916564</td>\n",
       "      <td>Pitt_MSOC</td>\n",
       "      <td>Pitt Men's Soccer</td>\n",
       "      <td>2011-09-03 01:58:11</td>\n",
       "      <td>The official Twitter account of Pitt Men's Soc...</td>\n",
       "      <td>2644</td>\n",
       "      <td>584</td>\n",
       "      <td>Pittsburgh, PA</td>\n",
       "      <td>Eastern Time (US &amp; Canada)</td>\n",
       "    </tr>\n",
       "    <tr>\n",
       "      <th>96</th>\n",
       "      <td>915329351566192640</td>\n",
       "      <td>RT @CoachDuzzPittFB: Week 6 #ACC #H2P https://...</td>\n",
       "      <td>34</td>\n",
       "      <td>0</td>\n",
       "      <td>Twitter for iPhone</td>\n",
       "      <td>2017-10-03 21:34:58</td>\n",
       "      <td>633992427</td>\n",
       "      <td>noah_aftanas</td>\n",
       "      <td>Noah</td>\n",
       "      <td>2012-07-12 17:47:11</td>\n",
       "      <td>SVC 21'  SC: valleybaseball1</td>\n",
       "      <td>556</td>\n",
       "      <td>557</td>\n",
       "      <td></td>\n",
       "      <td>None</td>\n",
       "    </tr>\n",
       "    <tr>\n",
       "      <th>97</th>\n",
       "      <td>915329297023250433</td>\n",
       "      <td>@tgradous @cnsnews Siragusa is a Pittsburgh gu...</td>\n",
       "      <td>0</td>\n",
       "      <td>0</td>\n",
       "      <td>Twitter Web Client</td>\n",
       "      <td>2017-10-03 21:34:45</td>\n",
       "      <td>54244669</td>\n",
       "      <td>PceThruStrength</td>\n",
       "      <td>Je suis Juif  Allan</td>\n",
       "      <td>2009-07-06 15:59:20</td>\n",
       "      <td>American, Zionist, Physician, Engineer (5 US p...</td>\n",
       "      <td>1980</td>\n",
       "      <td>1489</td>\n",
       "      <td>God-Blessed America</td>\n",
       "      <td>Pacific Time (US &amp; Canada)</td>\n",
       "    </tr>\n",
       "    <tr>\n",
       "      <th>98</th>\n",
       "      <td>915328451971883008</td>\n",
       "      <td>RT @Pitt_MSOC: Gameday in the Big🍎!\\n\\n📍: NYC\\...</td>\n",
       "      <td>14</td>\n",
       "      <td>0</td>\n",
       "      <td>Twitter for iPhone</td>\n",
       "      <td>2017-10-03 21:31:23</td>\n",
       "      <td>323108085</td>\n",
       "      <td>ChuckiePeperak</td>\n",
       "      <td>Chuckie</td>\n",
       "      <td>2011-06-24 08:08:18</td>\n",
       "      <td>JB17</td>\n",
       "      <td>492</td>\n",
       "      <td>1806</td>\n",
       "      <td></td>\n",
       "      <td>Quito</td>\n",
       "    </tr>\n",
       "    <tr>\n",
       "      <th>99</th>\n",
       "      <td>915327883735953411</td>\n",
       "      <td>RT @CoachDuzzPittFB: Week 6 #ACC #H2P https://...</td>\n",
       "      <td>34</td>\n",
       "      <td>0</td>\n",
       "      <td>Twitter for iPhone</td>\n",
       "      <td>2017-10-03 21:29:08</td>\n",
       "      <td>61060954</td>\n",
       "      <td>robharley34</td>\n",
       "      <td>Coach Harley</td>\n",
       "      <td>2009-07-29 00:10:41</td>\n",
       "      <td>Linebackers Coach/Recruiting Coordinator at Pi...</td>\n",
       "      <td>8788</td>\n",
       "      <td>874</td>\n",
       "      <td>Pittsburgh, PA</td>\n",
       "      <td>Eastern Time (US &amp; Canada)</td>\n",
       "    </tr>\n",
       "  </tbody>\n",
       "</table>\n",
       "</div>"
      ],
      "text/plain": [
       "               tweetID                                          tweetText  \\\n",
       "95  915330903643222018  Catch tonight's game live on WatchESPN/WatchES...   \n",
       "96  915329351566192640  RT @CoachDuzzPittFB: Week 6 #ACC #H2P https://...   \n",
       "97  915329297023250433  @tgradous @cnsnews Siragusa is a Pittsburgh gu...   \n",
       "98  915328451971883008  RT @Pitt_MSOC: Gameday in the Big🍎!\\n\\n📍: NYC\\...   \n",
       "99  915327883735953411  RT @CoachDuzzPittFB: Week 6 #ACC #H2P https://...   \n",
       "\n",
       "    tweetRetweetCt  tweetFavoriteCt         tweetSource        tweetCreated  \\\n",
       "95               1                4           TweetDeck 2017-10-03 21:41:08   \n",
       "96              34                0  Twitter for iPhone 2017-10-03 21:34:58   \n",
       "97               0                0  Twitter Web Client 2017-10-03 21:34:45   \n",
       "98              14                0  Twitter for iPhone 2017-10-03 21:31:23   \n",
       "99              34                0  Twitter for iPhone 2017-10-03 21:29:08   \n",
       "\n",
       "       userID       userScreen             userName        userCreateDt  \\\n",
       "95  366916564        Pitt_MSOC    Pitt Men's Soccer 2011-09-03 01:58:11   \n",
       "96  633992427     noah_aftanas                 Noah 2012-07-12 17:47:11   \n",
       "97   54244669  PceThruStrength  Je suis Juif  Allan 2009-07-06 15:59:20   \n",
       "98  323108085   ChuckiePeperak              Chuckie 2011-06-24 08:08:18   \n",
       "99   61060954      robharley34         Coach Harley 2009-07-29 00:10:41   \n",
       "\n",
       "                                             userDesc  userFollowerCt  \\\n",
       "95  The official Twitter account of Pitt Men's Soc...            2644   \n",
       "96                       SVC 21'  SC: valleybaseball1             556   \n",
       "97  American, Zionist, Physician, Engineer (5 US p...            1980   \n",
       "98                                               JB17             492   \n",
       "99  Linebackers Coach/Recruiting Coordinator at Pi...            8788   \n",
       "\n",
       "    userFriendsCt         userLocation                userTimezone  \n",
       "95            584       Pittsburgh, PA  Eastern Time (US & Canada)  \n",
       "96            557                                             None  \n",
       "97           1489  God-Blessed America  Pacific Time (US & Canada)  \n",
       "98           1806                                            Quito  \n",
       "99            874       Pittsburgh, PA  Eastern Time (US & Canada)  "
      ]
     },
     "execution_count": 20,
     "metadata": {},
     "output_type": "execute_result"
    }
   ],
   "source": [
    "df.tail()\n",
    "#Wait that's so cool! Emojis show up in jupyter notebook!\n",
    "#I'm noticing a lot of these tweets are retweets"
   ]
  },
  {
   "cell_type": "code",
   "execution_count": 21,
   "metadata": {},
   "outputs": [
    {
     "data": {
      "text/plain": [
       "60"
      ]
     },
     "execution_count": 21,
     "metadata": {},
     "output_type": "execute_result"
    }
   ],
   "source": [
    "#Let's get rid of None values for the timezone just like in the tutorial\n",
    "df = df[df.userTimezone.notnull()]\n",
    "len(df)"
   ]
  },
  {
   "cell_type": "code",
   "execution_count": 22,
   "metadata": {},
   "outputs": [
    {
     "data": {
      "text/html": [
       "<div>\n",
       "<style>\n",
       "    .dataframe thead tr:only-child th {\n",
       "        text-align: right;\n",
       "    }\n",
       "\n",
       "    .dataframe thead th {\n",
       "        text-align: left;\n",
       "    }\n",
       "\n",
       "    .dataframe tbody tr th {\n",
       "        vertical-align: top;\n",
       "    }\n",
       "</style>\n",
       "<table border=\"1\" class=\"dataframe\">\n",
       "  <thead>\n",
       "    <tr style=\"text-align: right;\">\n",
       "      <th></th>\n",
       "      <th>tweetID</th>\n",
       "      <th>tweetText</th>\n",
       "      <th>tweetRetweetCt</th>\n",
       "      <th>tweetFavoriteCt</th>\n",
       "      <th>tweetSource</th>\n",
       "      <th>tweetCreated</th>\n",
       "      <th>userID</th>\n",
       "      <th>userScreen</th>\n",
       "      <th>userName</th>\n",
       "      <th>userCreateDt</th>\n",
       "      <th>userDesc</th>\n",
       "      <th>userFollowerCt</th>\n",
       "      <th>userFriendsCt</th>\n",
       "      <th>userLocation</th>\n",
       "      <th>userTimezone</th>\n",
       "    </tr>\n",
       "  </thead>\n",
       "  <tbody>\n",
       "    <tr>\n",
       "      <th>2</th>\n",
       "      <td>915382676089180160</td>\n",
       "      <td>RT @Pitt_MSOC: THE CLOCK EXPIRES AND THE PANTH...</td>\n",
       "      <td>12</td>\n",
       "      <td>0</td>\n",
       "      <td>Twitter Web Client</td>\n",
       "      <td>2017-10-04 01:06:51</td>\n",
       "      <td>70794772</td>\n",
       "      <td>SpeechClassHero</td>\n",
       "      <td>Stav</td>\n",
       "      <td>2009-09-01 21:43:42</td>\n",
       "      <td>My mom always used to say that average people ...</td>\n",
       "      <td>326</td>\n",
       "      <td>706</td>\n",
       "      <td>DeKalb, IL</td>\n",
       "      <td>Central Time (US &amp; Canada)</td>\n",
       "    </tr>\n",
       "    <tr>\n",
       "      <th>3</th>\n",
       "      <td>915382674008678400</td>\n",
       "      <td>RT @Pitt_MSOC: THE CLOCK EXPIRES AND THE PANTH...</td>\n",
       "      <td>12</td>\n",
       "      <td>0</td>\n",
       "      <td>Twitter for iPhone</td>\n",
       "      <td>2017-10-04 01:06:51</td>\n",
       "      <td>243482492</td>\n",
       "      <td>drewneddy</td>\n",
       "      <td>Drew Nedzinski</td>\n",
       "      <td>2011-01-27 04:08:17</td>\n",
       "      <td>Banker. Former D1 Golfer. Pitt Panthers #H2P #...</td>\n",
       "      <td>321</td>\n",
       "      <td>692</td>\n",
       "      <td>DuBois, PA</td>\n",
       "      <td>Eastern Time (US &amp; Canada)</td>\n",
       "    </tr>\n",
       "    <tr>\n",
       "      <th>6</th>\n",
       "      <td>915382616387448832</td>\n",
       "      <td>RT @Pitt_MSOC: THE CLOCK EXPIRES AND THE PANTH...</td>\n",
       "      <td>12</td>\n",
       "      <td>0</td>\n",
       "      <td>Twitter for iPhone</td>\n",
       "      <td>2017-10-04 01:06:37</td>\n",
       "      <td>187653797</td>\n",
       "      <td>mark_strine</td>\n",
       "      <td>Mark</td>\n",
       "      <td>2010-09-06 20:27:58</td>\n",
       "      <td>Pitt '18 Intern with S&amp;H Express</td>\n",
       "      <td>402</td>\n",
       "      <td>677</td>\n",
       "      <td></td>\n",
       "      <td>Eastern Time (US &amp; Canada)</td>\n",
       "    </tr>\n",
       "    <tr>\n",
       "      <th>7</th>\n",
       "      <td>915382606547562497</td>\n",
       "      <td>RT @Pitt_MSOC: THE CLOCK EXPIRES AND THE PANTH...</td>\n",
       "      <td>12</td>\n",
       "      <td>0</td>\n",
       "      <td>TweetDeck</td>\n",
       "      <td>2017-10-04 01:06:35</td>\n",
       "      <td>192907472</td>\n",
       "      <td>cpugliesi</td>\n",
       "      <td>Pugs</td>\n",
       "      <td>2010-09-20 13:48:50</td>\n",
       "      <td></td>\n",
       "      <td>374</td>\n",
       "      <td>794</td>\n",
       "      <td>PA</td>\n",
       "      <td>Atlantic Time (Canada)</td>\n",
       "    </tr>\n",
       "    <tr>\n",
       "      <th>9</th>\n",
       "      <td>915382555481911298</td>\n",
       "      <td>THE CLOCK EXPIRES AND THE PANTHERS WIN! Pitt u...</td>\n",
       "      <td>12</td>\n",
       "      <td>6</td>\n",
       "      <td>Twitter Web Client</td>\n",
       "      <td>2017-10-04 01:06:22</td>\n",
       "      <td>366916564</td>\n",
       "      <td>Pitt_MSOC</td>\n",
       "      <td>Pitt Men's Soccer</td>\n",
       "      <td>2011-09-03 01:58:11</td>\n",
       "      <td>The official Twitter account of Pitt Men's Soc...</td>\n",
       "      <td>2644</td>\n",
       "      <td>584</td>\n",
       "      <td>Pittsburgh, PA</td>\n",
       "      <td>Eastern Time (US &amp; Canada)</td>\n",
       "    </tr>\n",
       "  </tbody>\n",
       "</table>\n",
       "</div>"
      ],
      "text/plain": [
       "              tweetID                                          tweetText  \\\n",
       "2  915382676089180160  RT @Pitt_MSOC: THE CLOCK EXPIRES AND THE PANTH...   \n",
       "3  915382674008678400  RT @Pitt_MSOC: THE CLOCK EXPIRES AND THE PANTH...   \n",
       "6  915382616387448832  RT @Pitt_MSOC: THE CLOCK EXPIRES AND THE PANTH...   \n",
       "7  915382606547562497  RT @Pitt_MSOC: THE CLOCK EXPIRES AND THE PANTH...   \n",
       "9  915382555481911298  THE CLOCK EXPIRES AND THE PANTHERS WIN! Pitt u...   \n",
       "\n",
       "   tweetRetweetCt  tweetFavoriteCt         tweetSource        tweetCreated  \\\n",
       "2              12                0  Twitter Web Client 2017-10-04 01:06:51   \n",
       "3              12                0  Twitter for iPhone 2017-10-04 01:06:51   \n",
       "6              12                0  Twitter for iPhone 2017-10-04 01:06:37   \n",
       "7              12                0           TweetDeck 2017-10-04 01:06:35   \n",
       "9              12                6  Twitter Web Client 2017-10-04 01:06:22   \n",
       "\n",
       "      userID       userScreen           userName        userCreateDt  \\\n",
       "2   70794772  SpeechClassHero               Stav 2009-09-01 21:43:42   \n",
       "3  243482492        drewneddy     Drew Nedzinski 2011-01-27 04:08:17   \n",
       "6  187653797      mark_strine               Mark 2010-09-06 20:27:58   \n",
       "7  192907472        cpugliesi               Pugs 2010-09-20 13:48:50   \n",
       "9  366916564        Pitt_MSOC  Pitt Men's Soccer 2011-09-03 01:58:11   \n",
       "\n",
       "                                            userDesc  userFollowerCt  \\\n",
       "2  My mom always used to say that average people ...             326   \n",
       "3  Banker. Former D1 Golfer. Pitt Panthers #H2P #...             321   \n",
       "6                   Pitt '18 Intern with S&H Express             402   \n",
       "7                                                                374   \n",
       "9  The official Twitter account of Pitt Men's Soc...            2644   \n",
       "\n",
       "   userFriendsCt    userLocation                userTimezone  \n",
       "2            706      DeKalb, IL  Central Time (US & Canada)  \n",
       "3            692      DuBois, PA  Eastern Time (US & Canada)  \n",
       "6            677                  Eastern Time (US & Canada)  \n",
       "7            794              PA      Atlantic Time (Canada)  \n",
       "9            584  Pittsburgh, PA  Eastern Time (US & Canada)  "
      ]
     },
     "execution_count": 22,
     "metadata": {},
     "output_type": "execute_result"
    }
   ],
   "source": [
    "#That cut our number of tweets nearly in half!\n",
    "df.head()"
   ]
  },
  {
   "cell_type": "code",
   "execution_count": 23,
   "metadata": {},
   "outputs": [
    {
     "data": {
      "text/html": [
       "<div>\n",
       "<style>\n",
       "    .dataframe thead tr:only-child th {\n",
       "        text-align: right;\n",
       "    }\n",
       "\n",
       "    .dataframe thead th {\n",
       "        text-align: left;\n",
       "    }\n",
       "\n",
       "    .dataframe tbody tr th {\n",
       "        vertical-align: top;\n",
       "    }\n",
       "</style>\n",
       "<table border=\"1\" class=\"dataframe\">\n",
       "  <thead>\n",
       "    <tr style=\"text-align: right;\">\n",
       "      <th></th>\n",
       "      <th>tweetRetweetCt</th>\n",
       "      <th>tweetFavoriteCt</th>\n",
       "    </tr>\n",
       "    <tr>\n",
       "      <th>userLocation</th>\n",
       "      <th></th>\n",
       "      <th></th>\n",
       "    </tr>\n",
       "  </thead>\n",
       "  <tbody>\n",
       "    <tr>\n",
       "      <th></th>\n",
       "      <td>10.545455</td>\n",
       "      <td>0.272727</td>\n",
       "    </tr>\n",
       "    <tr>\n",
       "      <th>A-Wall, PA</th>\n",
       "      <td>5.000000</td>\n",
       "      <td>0.000000</td>\n",
       "    </tr>\n",
       "    <tr>\n",
       "      <th>Aliquippa, PA</th>\n",
       "      <td>5.000000</td>\n",
       "      <td>0.000000</td>\n",
       "    </tr>\n",
       "    <tr>\n",
       "      <th>Allentown PA</th>\n",
       "      <td>2.000000</td>\n",
       "      <td>0.000000</td>\n",
       "    </tr>\n",
       "    <tr>\n",
       "      <th>Bettendorf, IA</th>\n",
       "      <td>2.000000</td>\n",
       "      <td>0.000000</td>\n",
       "    </tr>\n",
       "    <tr>\n",
       "      <th>DeKalb, IL</th>\n",
       "      <td>12.000000</td>\n",
       "      <td>0.000000</td>\n",
       "    </tr>\n",
       "    <tr>\n",
       "      <th>DuBois, PA</th>\n",
       "      <td>12.000000</td>\n",
       "      <td>0.000000</td>\n",
       "    </tr>\n",
       "    <tr>\n",
       "      <th>God-Blessed America</th>\n",
       "      <td>0.000000</td>\n",
       "      <td>0.000000</td>\n",
       "    </tr>\n",
       "    <tr>\n",
       "      <th>Heinz Field</th>\n",
       "      <td>1.000000</td>\n",
       "      <td>10.000000</td>\n",
       "    </tr>\n",
       "    <tr>\n",
       "      <th>Johnstown, Pennsylvania</th>\n",
       "      <td>1.000000</td>\n",
       "      <td>0.000000</td>\n",
       "    </tr>\n",
       "    <tr>\n",
       "      <th>Manchester, PA</th>\n",
       "      <td>80.000000</td>\n",
       "      <td>0.000000</td>\n",
       "    </tr>\n",
       "    <tr>\n",
       "      <th>North Versailles, PA</th>\n",
       "      <td>2.000000</td>\n",
       "      <td>0.000000</td>\n",
       "    </tr>\n",
       "    <tr>\n",
       "      <th>Northern Virginia</th>\n",
       "      <td>8.000000</td>\n",
       "      <td>0.000000</td>\n",
       "    </tr>\n",
       "    <tr>\n",
       "      <th>Oakland</th>\n",
       "      <td>16.000000</td>\n",
       "      <td>0.000000</td>\n",
       "    </tr>\n",
       "    <tr>\n",
       "      <th>PA</th>\n",
       "      <td>12.000000</td>\n",
       "      <td>0.000000</td>\n",
       "    </tr>\n",
       "    <tr>\n",
       "      <th>PITTSBURGH,PENNSYLVANIA</th>\n",
       "      <td>0.000000</td>\n",
       "      <td>1.000000</td>\n",
       "    </tr>\n",
       "    <tr>\n",
       "      <th>PNW via Dallas via Philly</th>\n",
       "      <td>0.000000</td>\n",
       "      <td>8.000000</td>\n",
       "    </tr>\n",
       "    <tr>\n",
       "      <th>Pittsburgh</th>\n",
       "      <td>121.000000</td>\n",
       "      <td>0.000000</td>\n",
       "    </tr>\n",
       "    <tr>\n",
       "      <th>Pittsburgh, PA</th>\n",
       "      <td>10.321429</td>\n",
       "      <td>4.392857</td>\n",
       "    </tr>\n",
       "    <tr>\n",
       "      <th>Pittsburgh, PA USA</th>\n",
       "      <td>26.000000</td>\n",
       "      <td>0.000000</td>\n",
       "    </tr>\n",
       "    <tr>\n",
       "      <th>Pittsburgh, Pennsylvania</th>\n",
       "      <td>0.000000</td>\n",
       "      <td>4.000000</td>\n",
       "    </tr>\n",
       "    <tr>\n",
       "      <th>UPJ Volleyball Game</th>\n",
       "      <td>34.000000</td>\n",
       "      <td>0.000000</td>\n",
       "    </tr>\n",
       "    <tr>\n",
       "      <th>Washington, PA</th>\n",
       "      <td>5.000000</td>\n",
       "      <td>0.000000</td>\n",
       "    </tr>\n",
       "  </tbody>\n",
       "</table>\n",
       "</div>"
      ],
      "text/plain": [
       "                           tweetRetweetCt  tweetFavoriteCt\n",
       "userLocation                                              \n",
       "                                10.545455         0.272727\n",
       "A-Wall, PA                       5.000000         0.000000\n",
       "Aliquippa, PA                    5.000000         0.000000\n",
       "Allentown PA                     2.000000         0.000000\n",
       "Bettendorf, IA                   2.000000         0.000000\n",
       "DeKalb, IL                      12.000000         0.000000\n",
       "DuBois, PA                      12.000000         0.000000\n",
       "God-Blessed America              0.000000         0.000000\n",
       "Heinz Field                      1.000000        10.000000\n",
       "Johnstown, Pennsylvania          1.000000         0.000000\n",
       "Manchester, PA                  80.000000         0.000000\n",
       "North Versailles, PA             2.000000         0.000000\n",
       "Northern Virginia                8.000000         0.000000\n",
       "Oakland                         16.000000         0.000000\n",
       "PA                              12.000000         0.000000\n",
       "PITTSBURGH,PENNSYLVANIA          0.000000         1.000000\n",
       "PNW via Dallas via Philly        0.000000         8.000000\n",
       "Pittsburgh                     121.000000         0.000000\n",
       "Pittsburgh, PA                  10.321429         4.392857\n",
       "Pittsburgh, PA USA              26.000000         0.000000\n",
       "Pittsburgh, Pennsylvania         0.000000         4.000000\n",
       "UPJ Volleyball Game             34.000000         0.000000\n",
       "Washington, PA                   5.000000         0.000000"
      ]
     },
     "execution_count": 23,
     "metadata": {},
     "output_type": "execute_result"
    }
   ],
   "source": [
    "#Let's get the average number of retweets and favorties per location\n",
    "\n",
    "df_pop = df.groupby('userLocation')[['tweetRetweetCt', 'tweetFavoriteCt']].mean()\n",
    "df_pop\n",
    "\n",
    "#looks like even though we got rid of None values in userLocation, there are still empty Strings"
   ]
  },
  {
   "cell_type": "code",
   "execution_count": 24,
   "metadata": {},
   "outputs": [
    {
     "data": {
      "text/plain": [
       "25    RT @Pitt_FB: 🎥 Field Pass: Pitt vs. YSU 🎥\\nAlw...\n",
       "Name: tweetText, dtype: object"
      ]
     },
     "execution_count": 24,
     "metadata": {},
     "output_type": "execute_result"
    }
   ],
   "source": [
    "#Manchester has so many retweets! Let's see what that tweet is that makes it so good\n",
    "df.loc[df.userLocation == 'Manchester, PA', 'tweetText']\n",
    "#Looks like it's a video"
   ]
  },
  {
   "cell_type": "code",
   "execution_count": 25,
   "metadata": {},
   "outputs": [
    {
     "data": {
      "text/html": [
       "<div>\n",
       "<style>\n",
       "    .dataframe thead tr:only-child th {\n",
       "        text-align: right;\n",
       "    }\n",
       "\n",
       "    .dataframe thead th {\n",
       "        text-align: left;\n",
       "    }\n",
       "\n",
       "    .dataframe tbody tr th {\n",
       "        vertical-align: top;\n",
       "    }\n",
       "</style>\n",
       "<table border=\"1\" class=\"dataframe\">\n",
       "  <thead>\n",
       "    <tr style=\"text-align: right;\">\n",
       "      <th></th>\n",
       "      <th>tweetID</th>\n",
       "      <th>tweetText</th>\n",
       "      <th>tweetRetweetCt</th>\n",
       "      <th>tweetFavoriteCt</th>\n",
       "      <th>tweetSource</th>\n",
       "      <th>tweetCreated</th>\n",
       "      <th>userID</th>\n",
       "      <th>userScreen</th>\n",
       "      <th>userName</th>\n",
       "      <th>userCreateDt</th>\n",
       "      <th>userDesc</th>\n",
       "      <th>userFollowerCt</th>\n",
       "      <th>userFriendsCt</th>\n",
       "      <th>userLocation</th>\n",
       "      <th>userTimezone</th>\n",
       "    </tr>\n",
       "  </thead>\n",
       "  <tbody>\n",
       "  </tbody>\n",
       "</table>\n",
       "</div>"
      ],
      "text/plain": [
       "Empty DataFrame\n",
       "Columns: [tweetID, tweetText, tweetRetweetCt, tweetFavoriteCt, tweetSource, tweetCreated, userID, userScreen, userName, userCreateDt, userDesc, userFollowerCt, userFriendsCt, userLocation, userTimezone]\n",
       "Index: []"
      ]
     },
     "execution_count": 25,
     "metadata": {},
     "output_type": "execute_result"
    }
   ],
   "source": [
    "#Let's get the tweets from Youngstown, Ohio\n",
    "df.loc[df.userLocation == 'Youngstown, Ohio', :]"
   ]
  },
  {
   "cell_type": "code",
   "execution_count": 26,
   "metadata": {},
   "outputs": [
    {
     "data": {
      "text/html": [
       "<div>\n",
       "<style>\n",
       "    .dataframe thead tr:only-child th {\n",
       "        text-align: right;\n",
       "    }\n",
       "\n",
       "    .dataframe thead th {\n",
       "        text-align: left;\n",
       "    }\n",
       "\n",
       "    .dataframe tbody tr th {\n",
       "        vertical-align: top;\n",
       "    }\n",
       "</style>\n",
       "<table border=\"1\" class=\"dataframe\">\n",
       "  <thead>\n",
       "    <tr style=\"text-align: right;\">\n",
       "      <th></th>\n",
       "      <th>tweetRetweetCt</th>\n",
       "      <th>tweetFavoriteCt</th>\n",
       "    </tr>\n",
       "    <tr>\n",
       "      <th>userTimezone</th>\n",
       "      <th></th>\n",
       "      <th></th>\n",
       "    </tr>\n",
       "  </thead>\n",
       "  <tbody>\n",
       "    <tr>\n",
       "      <th>Atlantic Time (Canada)</th>\n",
       "      <td>19.666667</td>\n",
       "      <td>0.000000</td>\n",
       "    </tr>\n",
       "    <tr>\n",
       "      <th>Central Time (US &amp; Canada)</th>\n",
       "      <td>5.666667</td>\n",
       "      <td>2.666667</td>\n",
       "    </tr>\n",
       "    <tr>\n",
       "      <th>Eastern Time (US &amp; Canada)</th>\n",
       "      <td>9.939394</td>\n",
       "      <td>3.757576</td>\n",
       "    </tr>\n",
       "    <tr>\n",
       "      <th>Hawaii</th>\n",
       "      <td>121.000000</td>\n",
       "      <td>0.000000</td>\n",
       "    </tr>\n",
       "    <tr>\n",
       "      <th>Mountain Time (US &amp; Canada)</th>\n",
       "      <td>44.000000</td>\n",
       "      <td>0.000000</td>\n",
       "    </tr>\n",
       "    <tr>\n",
       "      <th>Pacific Time (US &amp; Canada)</th>\n",
       "      <td>1.777778</td>\n",
       "      <td>0.777778</td>\n",
       "    </tr>\n",
       "    <tr>\n",
       "      <th>Quito</th>\n",
       "      <td>15.000000</td>\n",
       "      <td>1.428571</td>\n",
       "    </tr>\n",
       "  </tbody>\n",
       "</table>\n",
       "</div>"
      ],
      "text/plain": [
       "                             tweetRetweetCt  tweetFavoriteCt\n",
       "userTimezone                                                \n",
       "Atlantic Time (Canada)            19.666667         0.000000\n",
       "Central Time (US & Canada)         5.666667         2.666667\n",
       "Eastern Time (US & Canada)         9.939394         3.757576\n",
       "Hawaii                           121.000000         0.000000\n",
       "Mountain Time (US & Canada)       44.000000         0.000000\n",
       "Pacific Time (US & Canada)         1.777778         0.777778\n",
       "Quito                             15.000000         1.428571"
      ]
     },
     "execution_count": 26,
     "metadata": {},
     "output_type": "execute_result"
    }
   ],
   "source": [
    "#How about average number of retweets and favorites per timezone?\n",
    "df_time = df.groupby('userTimezone')[['tweetRetweetCt', 'tweetFavoriteCt']].mean()\n",
    "df_time"
   ]
  },
  {
   "cell_type": "code",
   "execution_count": 27,
   "metadata": {},
   "outputs": [
    {
     "data": {
      "image/png": "[encoded data removed]",
      "text/plain": [
       "<matplotlib.figure.Figure object at 0x118a07e48>"
      ]
     },
     "metadata": {},
     "output_type": "display_data"
    }
   ],
   "source": [
    "df_time['tweetRetweetCt'].plot(kind = 'bar')\n",
    "plt.xlabel('Time Zone')\n",
    "plt.ylabel('Number of Retweets')\n",
    "plt.show()"
   ]
  },
  {
   "cell_type": "markdown",
   "metadata": {},
   "source": [
    "### Analysis\n",
    "Looks like the most retweets of #H2P come from areas with Mountain Time, followed by Hawaii. I'm surprised that Eastern Time has the third least number of retweets considering Pittsburgh is the Eastern Time zone... Let's see what the tweets from the Mountain Time zone look like."
   ]
  },
  {
   "cell_type": "code",
   "execution_count": 28,
   "metadata": {},
   "outputs": [
    {
     "data": {
      "text/html": [
       "<div>\n",
       "<style>\n",
       "    .dataframe thead tr:only-child th {\n",
       "        text-align: right;\n",
       "    }\n",
       "\n",
       "    .dataframe thead th {\n",
       "        text-align: left;\n",
       "    }\n",
       "\n",
       "    .dataframe tbody tr th {\n",
       "        vertical-align: top;\n",
       "    }\n",
       "</style>\n",
       "<table border=\"1\" class=\"dataframe\">\n",
       "  <thead>\n",
       "    <tr style=\"text-align: right;\">\n",
       "      <th></th>\n",
       "      <th>tweetID</th>\n",
       "      <th>tweetText</th>\n",
       "      <th>tweetRetweetCt</th>\n",
       "      <th>tweetFavoriteCt</th>\n",
       "      <th>tweetSource</th>\n",
       "      <th>tweetCreated</th>\n",
       "      <th>userID</th>\n",
       "      <th>userScreen</th>\n",
       "      <th>userName</th>\n",
       "      <th>userCreateDt</th>\n",
       "      <th>userDesc</th>\n",
       "      <th>userFollowerCt</th>\n",
       "      <th>userFriendsCt</th>\n",
       "      <th>userLocation</th>\n",
       "      <th>userTimezone</th>\n",
       "    </tr>\n",
       "  </thead>\n",
       "  <tbody>\n",
       "    <tr>\n",
       "      <th>57</th>\n",
       "      <td>915354165857128448</td>\n",
       "      <td>RT @Pitt_FB: 🎥 Field Pass 🎥\\nPitt 42, Rice 10\\...</td>\n",
       "      <td>44</td>\n",
       "      <td>0</td>\n",
       "      <td>Twitter for iPhone</td>\n",
       "      <td>2017-10-03 23:13:34</td>\n",
       "      <td>19409608</td>\n",
       "      <td>CoachPartridge</td>\n",
       "      <td>Charlie Partridge</td>\n",
       "      <td>2009-01-23 19:45:01</td>\n",
       "      <td>Official Twitter Account - Football Coach - Pi...</td>\n",
       "      <td>18456</td>\n",
       "      <td>1897</td>\n",
       "      <td>Pittsburgh, PA</td>\n",
       "      <td>Mountain Time (US &amp; Canada)</td>\n",
       "    </tr>\n",
       "  </tbody>\n",
       "</table>\n",
       "</div>"
      ],
      "text/plain": [
       "               tweetID                                          tweetText  \\\n",
       "57  915354165857128448  RT @Pitt_FB: 🎥 Field Pass 🎥\\nPitt 42, Rice 10\\...   \n",
       "\n",
       "    tweetRetweetCt  tweetFavoriteCt         tweetSource        tweetCreated  \\\n",
       "57              44                0  Twitter for iPhone 2017-10-03 23:13:34   \n",
       "\n",
       "      userID      userScreen           userName        userCreateDt  \\\n",
       "57  19409608  CoachPartridge  Charlie Partridge 2009-01-23 19:45:01   \n",
       "\n",
       "                                             userDesc  userFollowerCt  \\\n",
       "57  Official Twitter Account - Football Coach - Pi...           18456   \n",
       "\n",
       "    userFriendsCt    userLocation                 userTimezone  \n",
       "57           1897  Pittsburgh, PA  Mountain Time (US & Canada)  "
      ]
     },
     "execution_count": 28,
     "metadata": {},
     "output_type": "execute_result"
    }
   ],
   "source": [
    "df.loc[df.userTimezone == 'Mountain Time (US & Canada)', :]"
   ]
  },
  {
   "cell_type": "code",
   "execution_count": 29,
   "metadata": {},
   "outputs": [
    {
     "data": {
      "text/plain": [
       "57    RT @Pitt_FB: 🎥 Field Pass 🎥\\nPitt 42, Rice 10\\...\n",
       "Name: tweetText, dtype: object"
      ]
     },
     "execution_count": 29,
     "metadata": {},
     "output_type": "execute_result"
    }
   ],
   "source": [
    "df.loc[df.userTimezone == 'Mountain Time (US & Canada)', 'tweetText']\n",
    "#It's another video."
   ]
  },
  {
   "cell_type": "markdown",
   "metadata": {},
   "source": [
    "Maybe the reason Eastern Time Zone doesn't have the largest average amount of retweets for tweets with the hastag #H2P is because we got rid of all of the tweets whose time zone was set to None. Those could have actually been from here (or somewhere else) and the time zone just wasn't recorded with the tweet's data."
   ]
  }
 ],
 "metadata": {
  "kernelspec": {
   "display_name": "Python 3",
   "language": "python",
   "name": "python3"
  },
  "language_info": {
   "codemirror_mode": {
    "name": "ipython",
    "version": 3
   },
   "file_extension": ".py",
   "mimetype": "text/x-python",
   "name": "python",
   "nbconvert_exporter": "python",
   "pygments_lexer": "ipython3",
   "version": "3.6.1"
  }
 },
 "nbformat": 4,
 "nbformat_minor": 2
}
