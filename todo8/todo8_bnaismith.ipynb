{
 "cells": [
  {
   "cell_type": "markdown",
   "metadata": {},
   "source": [
    "## Ben Naismith ##\n",
    "**LING2340 ToDo 8**  \n",
    "**Due Oct 5, 2017**"
   ]
  },
  {
   "cell_type": "markdown",
   "metadata": {},
   "source": [
    "### Following Tutorial Instructions from http://blog.impiyush.com/2015/03/data-analysis-using-twitter-api-and.html ###"
   ]
  },
  {
   "cell_type": "markdown",
   "metadata": {},
   "source": [
    "**Initial setup**"
   ]
  },
  {
   "cell_type": "code",
   "execution_count": 1,
   "metadata": {
    "collapsed": true
   },
   "outputs": [],
   "source": [
    "import tweepy\n",
    "import pandas as pd\n",
    "import matplotlib.pyplot as plt"
   ]
  },
  {
   "cell_type": "code",
   "execution_count": 2,
   "metadata": {},
   "outputs": [
    {
     "name": "stdout",
     "output_type": "stream",
     "text": [
      "Pretty printing has been turned OFF\n"
     ]
    }
   ],
   "source": [
    "#Make the graphs prettier (code in tutorial is for an older version)\n",
    "plt.style.use('default')\n",
    "\n",
    "#Turn off pretty print while we're at it\n",
    "%pprint"
   ]
  },
  {
   "cell_type": "code",
   "execution_count": 3,
   "metadata": {
    "collapsed": true
   },
   "outputs": [],
   "source": [
    "consumerKey = 'XXXXXXXXXXXXXX'\n",
    "consumerSecret = 'XXXXXXXXXXXXXX'\n",
    "\n",
    "#Use tweepy.OAuthHandler to create an authentication using the given key and secret\n",
    "auth = tweepy.OAuthHandler(consumer_key=consumerKey, consumer_secret=consumerSecret)\n",
    "\n",
    "#Connect to the Twitter API using the authentication\n",
    "api = tweepy.API(auth)"
   ]
  },
  {
   "cell_type": "markdown",
   "metadata": {},
   "source": [
    "**Performing searches**"
   ]
  },
  {
   "cell_type": "code",
   "execution_count": 4,
   "metadata": {},
   "outputs": [
    {
     "data": {
      "text/plain": [
       "11"
      ]
     },
     "execution_count": 4,
     "metadata": {},
     "output_type": "execute_result"
    }
   ],
   "source": [
    "#Perform a basic search query with '#puravida' in the tweets (Costa Rica's national motto)\n",
    "result = api.search(q='%23puravida') #%23 is used to specify '#'\n",
    "\n",
    "# Print the number of items returned by the search query to verify our query ran. Its 15 by default.\n",
    "len(result)"
   ]
  },
  {
   "cell_type": "code",
   "execution_count": 5,
   "metadata": {},
   "outputs": [
    {
     "name": "stdout",
     "output_type": "stream",
     "text": [
      "author : User(_api=<tweepy.api.API object at 0x11b3f9d68>, _json={'id': 775698569961627648, 'id_str': '775698569961627648', 'name': 'Joe', 'screen_name': 'beachesbikes', 'location': '', 'description': '⚓️Beautiful Beaches and hot bikes⚓️', 'url': None, 'entities': {'description': {'urls': []}}, 'protected': False, 'followers_count': 6314, 'friends_count': 5677, 'listed_count': 265, 'created_at': 'Tue Sep 13 14:12:05 +0000 2016', 'favourites_count': 98794, 'utc_offset': None, 'time_zone': None, 'geo_enabled': False, 'verified': False, 'statuses_count': 82730, 'lang': 'en', 'contributors_enabled': False, 'is_translator': False, 'is_translation_enabled': False, 'profile_background_color': 'F5F8FA', 'profile_background_image_url': None, 'profile_background_image_url_https': None, 'profile_background_tile': False, 'profile_image_url': 'http://pbs.twimg.com/profile_images/869623921045381121/CoTZYRz__normal.jpg', 'profile_image_url_https': 'https://pbs.twimg.com/profile_images/869623921045381121/CoTZYRz__normal.jpg', 'profile_banner_url': 'https://pbs.twimg.com/profile_banners/775698569961627648/1503022016', 'profile_link_color': '1DA1F2', 'profile_sidebar_border_color': 'C0DEED', 'profile_sidebar_fill_color': 'DDEEF6', 'profile_text_color': '333333', 'profile_use_background_image': True, 'has_extended_profile': False, 'default_profile': True, 'default_profile_image': False, 'following': None, 'follow_request_sent': None, 'notifications': None, 'translator_type': 'none'}, id=775698569961627648, id_str='775698569961627648', name='Joe', screen_name='beachesbikes', location='', description='⚓️Beautiful Beaches and hot bikes⚓️', url=None, entities={'description': {'urls': []}}, protected=False, followers_count=6314, friends_count=5677, listed_count=265, created_at=datetime.datetime(2016, 9, 13, 14, 12, 5), favourites_count=98794, utc_offset=None, time_zone=None, geo_enabled=False, verified=False, statuses_count=82730, lang='en', contributors_enabled=False, is_translator=False, is_translation_enabled=False, profile_background_color='F5F8FA', profile_background_image_url=None, profile_background_image_url_https=None, profile_background_tile=False, profile_image_url='http://pbs.twimg.com/profile_images/869623921045381121/CoTZYRz__normal.jpg', profile_image_url_https='https://pbs.twimg.com/profile_images/869623921045381121/CoTZYRz__normal.jpg', profile_banner_url='https://pbs.twimg.com/profile_banners/775698569961627648/1503022016', profile_link_color='1DA1F2', profile_sidebar_border_color='C0DEED', profile_sidebar_fill_color='DDEEF6', profile_text_color='333333', profile_use_background_image=True, has_extended_profile=False, default_profile=True, default_profile_image=False, following=False, follow_request_sent=None, notifications=None, translator_type='none')\n",
      "\n",
      "contributors : None\n",
      "\n",
      "coordinates : None\n",
      "\n",
      "created_at : 2017-10-05 00:39:32\n",
      "\n",
      "destroy : <bound method Status.destroy of Status(_api=<tweepy.api.API object at 0x11b3f9d68>, _json={'created_at': 'Thu Oct 05 00:39:32 +0000 2017', 'id': 915738188152532992, 'id_str': '915738188152532992', 'text': 'RT @mamm1962: #sunsets are beautiful in #costarica \\n#puravida https://t.co/MfNp7E3Q4e', 'truncated': False, 'entities': {'hashtags': [{'text': 'sunsets', 'indices': [14, 22]}, {'text': 'costarica', 'indices': [40, 50]}, {'text': 'puravida', 'indices': [52, 61]}], 'symbols': [], 'user_mentions': [{'screen_name': 'mamm1962', 'name': 'M_A_M_M', 'id': 4038827354, 'id_str': '4038827354', 'indices': [3, 12]}], 'urls': [], 'media': [{'id': 908069179109945344, 'id_str': '908069179109945344', 'indices': [62, 85], 'media_url': 'http://pbs.twimg.com/media/DJocG3RUMAA6r8_.jpg', 'media_url_https': 'https://pbs.twimg.com/media/DJocG3RUMAA6r8_.jpg', 'url': 'https://t.co/MfNp7E3Q4e', 'display_url': 'pic.twitter.com/MfNp7E3Q4e', 'expanded_url': 'https://twitter.com/mamm1962/status/908069206414864384/photo/1', 'type': 'photo', 'sizes': {'large': {'w': 1024, 'h': 576, 'resize': 'fit'}, 'medium': {'w': 1024, 'h': 576, 'resize': 'fit'}, 'small': {'w': 680, 'h': 383, 'resize': 'fit'}, 'thumb': {'w': 150, 'h': 150, 'resize': 'crop'}}, 'source_status_id': 908069206414864384, 'source_status_id_str': '908069206414864384', 'source_user_id': 4038827354, 'source_user_id_str': '4038827354'}]}, 'extended_entities': {'media': [{'id': 908069179109945344, 'id_str': '908069179109945344', 'indices': [62, 85], 'media_url': 'http://pbs.twimg.com/media/DJocG3RUMAA6r8_.jpg', 'media_url_https': 'https://pbs.twimg.com/media/DJocG3RUMAA6r8_.jpg', 'url': 'https://t.co/MfNp7E3Q4e', 'display_url': 'pic.twitter.com/MfNp7E3Q4e', 'expanded_url': 'https://twitter.com/mamm1962/status/908069206414864384/photo/1', 'type': 'photo', 'sizes': {'large': {'w': 1024, 'h': 576, 'resize': 'fit'}, 'medium': {'w': 1024, 'h': 576, 'resize': 'fit'}, 'small': {'w': 680, 'h': 383, 'resize': 'fit'}, 'thumb': {'w': 150, 'h': 150, 'resize': 'crop'}}, 'source_status_id': 908069206414864384, 'source_status_id_str': '908069206414864384', 'source_user_id': 4038827354, 'source_user_id_str': '4038827354'}, {'id': 908069188605845504, 'id_str': '908069188605845504', 'indices': [62, 85], 'media_url': 'http://pbs.twimg.com/media/DJocHapUIAAA4eL.jpg', 'media_url_https': 'https://pbs.twimg.com/media/DJocHapUIAAA4eL.jpg', 'url': 'https://t.co/MfNp7E3Q4e', 'display_url': 'pic.twitter.com/MfNp7E3Q4e', 'expanded_url': 'https://twitter.com/mamm1962/status/908069206414864384/photo/1', 'type': 'photo', 'sizes': {'small': {'w': 680, 'h': 454, 'resize': 'fit'}, 'large': {'w': 1024, 'h': 683, 'resize': 'fit'}, 'thumb': {'w': 150, 'h': 150, 'resize': 'crop'}, 'medium': {'w': 1024, 'h': 683, 'resize': 'fit'}}, 'source_status_id': 908069206414864384, 'source_status_id_str': '908069206414864384', 'source_user_id': 4038827354, 'source_user_id_str': '4038827354'}, {'id': 908069198349295616, 'id_str': '908069198349295616', 'indices': [62, 85], 'media_url': 'http://pbs.twimg.com/media/DJocH-8VYAAG35W.jpg', 'media_url_https': 'https://pbs.twimg.com/media/DJocH-8VYAAG35W.jpg', 'url': 'https://t.co/MfNp7E3Q4e', 'display_url': 'pic.twitter.com/MfNp7E3Q4e', 'expanded_url': 'https://twitter.com/mamm1962/status/908069206414864384/photo/1', 'type': 'photo', 'sizes': {'large': {'w': 1024, 'h': 576, 'resize': 'fit'}, 'medium': {'w': 1024, 'h': 576, 'resize': 'fit'}, 'small': {'w': 680, 'h': 383, 'resize': 'fit'}, 'thumb': {'w': 150, 'h': 150, 'resize': 'crop'}}, 'source_status_id': 908069206414864384, 'source_status_id_str': '908069206414864384', 'source_user_id': 4038827354, 'source_user_id_str': '4038827354'}]}, 'metadata': {'iso_language_code': 'en', 'result_type': 'recent'}, 'source': '<a href=\"http://twitter.com/#!/download/ipad\" rel=\"nofollow\">Twitter for iPad</a>', 'in_reply_to_status_id': None, 'in_reply_to_status_id_str': None, 'in_reply_to_user_id': None, 'in_reply_to_user_id_str': None, 'in_reply_to_screen_name': None, 'user': {'id': 775698569961627648, 'id_str': '775698569961627648', 'name': 'Joe', 'screen_name': 'beachesbikes', 'location': '', 'description': '⚓️Beautiful Beaches and hot bikes⚓️', 'url': None, 'entities': {'description': {'urls': []}}, 'protected': False, 'followers_count': 6314, 'friends_count': 5677, 'listed_count': 265, 'created_at': 'Tue Sep 13 14:12:05 +0000 2016', 'favourites_count': 98794, 'utc_offset': None, 'time_zone': None, 'geo_enabled': False, 'verified': False, 'statuses_count': 82730, 'lang': 'en', 'contributors_enabled': False, 'is_translator': False, 'is_translation_enabled': False, 'profile_background_color': 'F5F8FA', 'profile_background_image_url': None, 'profile_background_image_url_https': None, 'profile_background_tile': False, 'profile_image_url': 'http://pbs.twimg.com/profile_images/869623921045381121/CoTZYRz__normal.jpg', 'profile_image_url_https': 'https://pbs.twimg.com/profile_images/869623921045381121/CoTZYRz__normal.jpg', 'profile_banner_url': 'https://pbs.twimg.com/profile_banners/775698569961627648/1503022016', 'profile_link_color': '1DA1F2', 'profile_sidebar_border_color': 'C0DEED', 'profile_sidebar_fill_color': 'DDEEF6', 'profile_text_color': '333333', 'profile_use_background_image': True, 'has_extended_profile': False, 'default_profile': True, 'default_profile_image': False, 'following': None, 'follow_request_sent': None, 'notifications': None, 'translator_type': 'none'}, 'geo': None, 'coordinates': None, 'place': None, 'contributors': None, 'retweeted_status': {'created_at': 'Wed Sep 13 20:45:44 +0000 2017', 'id': 908069206414864384, 'id_str': '908069206414864384', 'text': '#sunsets are beautiful in #costarica \\n#puravida https://t.co/MfNp7E3Q4e', 'truncated': False, 'entities': {'hashtags': [{'text': 'sunsets', 'indices': [0, 8]}, {'text': 'costarica', 'indices': [26, 36]}, {'text': 'puravida', 'indices': [38, 47]}], 'symbols': [], 'user_mentions': [], 'urls': [], 'media': [{'id': 908069179109945344, 'id_str': '908069179109945344', 'indices': [48, 71], 'media_url': 'http://pbs.twimg.com/media/DJocG3RUMAA6r8_.jpg', 'media_url_https': 'https://pbs.twimg.com/media/DJocG3RUMAA6r8_.jpg', 'url': 'https://t.co/MfNp7E3Q4e', 'display_url': 'pic.twitter.com/MfNp7E3Q4e', 'expanded_url': 'https://twitter.com/mamm1962/status/908069206414864384/photo/1', 'type': 'photo', 'sizes': {'large': {'w': 1024, 'h': 576, 'resize': 'fit'}, 'medium': {'w': 1024, 'h': 576, 'resize': 'fit'}, 'small': {'w': 680, 'h': 383, 'resize': 'fit'}, 'thumb': {'w': 150, 'h': 150, 'resize': 'crop'}}}]}, 'extended_entities': {'media': [{'id': 908069179109945344, 'id_str': '908069179109945344', 'indices': [48, 71], 'media_url': 'http://pbs.twimg.com/media/DJocG3RUMAA6r8_.jpg', 'media_url_https': 'https://pbs.twimg.com/media/DJocG3RUMAA6r8_.jpg', 'url': 'https://t.co/MfNp7E3Q4e', 'display_url': 'pic.twitter.com/MfNp7E3Q4e', 'expanded_url': 'https://twitter.com/mamm1962/status/908069206414864384/photo/1', 'type': 'photo', 'sizes': {'large': {'w': 1024, 'h': 576, 'resize': 'fit'}, 'medium': {'w': 1024, 'h': 576, 'resize': 'fit'}, 'small': {'w': 680, 'h': 383, 'resize': 'fit'}, 'thumb': {'w': 150, 'h': 150, 'resize': 'crop'}}}, {'id': 908069188605845504, 'id_str': '908069188605845504', 'indices': [48, 71], 'media_url': 'http://pbs.twimg.com/media/DJocHapUIAAA4eL.jpg', 'media_url_https': 'https://pbs.twimg.com/media/DJocHapUIAAA4eL.jpg', 'url': 'https://t.co/MfNp7E3Q4e', 'display_url': 'pic.twitter.com/MfNp7E3Q4e', 'expanded_url': 'https://twitter.com/mamm1962/status/908069206414864384/photo/1', 'type': 'photo', 'sizes': {'small': {'w': 680, 'h': 454, 'resize': 'fit'}, 'large': {'w': 1024, 'h': 683, 'resize': 'fit'}, 'thumb': {'w': 150, 'h': 150, 'resize': 'crop'}, 'medium': {'w': 1024, 'h': 683, 'resize': 'fit'}}}, {'id': 908069198349295616, 'id_str': '908069198349295616', 'indices': [48, 71], 'media_url': 'http://pbs.twimg.com/media/DJocH-8VYAAG35W.jpg', 'media_url_https': 'https://pbs.twimg.com/media/DJocH-8VYAAG35W.jpg', 'url': 'https://t.co/MfNp7E3Q4e', 'display_url': 'pic.twitter.com/MfNp7E3Q4e', 'expanded_url': 'https://twitter.com/mamm1962/status/908069206414864384/photo/1', 'type': 'photo', 'sizes': {'large': {'w': 1024, 'h': 576, 'resize': 'fit'}, 'medium': {'w': 1024, 'h': 576, 'resize': 'fit'}, 'small': {'w': 680, 'h': 383, 'resize': 'fit'}, 'thumb': {'w': 150, 'h': 150, 'resize': 'crop'}}}]}, 'metadata': {'iso_language_code': 'en', 'result_type': 'recent'}, 'source': '<a href=\"http://twitter.com/download/android\" rel=\"nofollow\">Twitter for Android</a>', 'in_reply_to_status_id': None, 'in_reply_to_status_id_str': None, 'in_reply_to_user_id': None, 'in_reply_to_user_id_str': None, 'in_reply_to_screen_name': None, 'user': {'id': 4038827354, 'id_str': '4038827354', 'name': 'M_A_M_M', 'screen_name': 'mamm1962', 'location': 'British Columbia, Canada', 'description': '🌺 Costa Rica 🌺 and 🌺 Hawaii 🌺\\nare my two favorite places to be 😊\\n\\nI ❤ the sun 🌞 the ocean 🌊 and sand between my toes 😊', 'url': 'https://t.co/ihOVs9L8pp', 'entities': {'url': {'urls': [{'url': 'https://t.co/ihOVs9L8pp', 'expanded_url': 'http://www.instagram.com/m.a.m.m.62/', 'display_url': 'instagram.com/m.a.m.m.62/', 'indices': [0, 23]}]}, 'description': {'urls': []}}, 'protected': False, 'followers_count': 1135, 'friends_count': 1018, 'listed_count': 24, 'created_at': 'Tue Oct 27 19:57:11 +0000 2015', 'favourites_count': 7208, 'utc_offset': -25200, 'time_zone': 'Pacific Time (US & Canada)', 'geo_enabled': True, 'verified': False, 'statuses_count': 1252, 'lang': 'en', 'contributors_enabled': False, 'is_translator': False, 'is_translation_enabled': False, 'profile_background_color': 'C0DEED', 'profile_background_image_url': 'http://abs.twimg.com/images/themes/theme1/bg.png', 'profile_background_image_url_https': 'https://abs.twimg.com/images/themes/theme1/bg.png', 'profile_background_tile': False, 'profile_image_url': 'http://pbs.twimg.com/profile_images/665644811743965184/7Q8tHEvA_normal.jpg', 'profile_image_url_https': 'https://pbs.twimg.com/profile_images/665644811743965184/7Q8tHEvA_normal.jpg', 'profile_banner_url': 'https://pbs.twimg.com/profile_banners/4038827354/1445976078', 'profile_link_color': '1DA1F2', 'profile_sidebar_border_color': 'C0DEED', 'profile_sidebar_fill_color': 'DDEEF6', 'profile_text_color': '333333', 'profile_use_background_image': True, 'has_extended_profile': True, 'default_profile': True, 'default_profile_image': False, 'following': None, 'follow_request_sent': None, 'notifications': None, 'translator_type': 'none'}, 'geo': None, 'coordinates': None, 'place': {'id': '435a15a8bf629083', 'url': 'https://api.twitter.com/1.1/geo/id/435a15a8bf629083.json', 'place_type': 'city', 'name': 'Coquitlam', 'full_name': 'Coquitlam, British Columbia', 'country_code': 'CA', 'country': 'Canada', 'contained_within': [], 'bounding_box': {'type': 'Polygon', 'coordinates': [[[-122.893434, 49.219352], [-122.618118, 49.219352], [-122.618118, 49.351565], [-122.893434, 49.351565]]]}, 'attributes': {}}, 'contributors': None, 'is_quote_status': False, 'retweet_count': 3, 'favorite_count': 11, 'favorited': False, 'retweeted': False, 'possibly_sensitive': False, 'lang': 'en'}, 'is_quote_status': False, 'retweet_count': 3, 'favorite_count': 0, 'favorited': False, 'retweeted': False, 'possibly_sensitive': False, 'lang': 'en'}, created_at=datetime.datetime(2017, 10, 5, 0, 39, 32), id=915738188152532992, id_str='915738188152532992', text='RT @mamm1962: #sunsets are beautiful in #costarica \\n#puravida https://t.co/MfNp7E3Q4e', truncated=False, entities={'hashtags': [{'text': 'sunsets', 'indices': [14, 22]}, {'text': 'costarica', 'indices': [40, 50]}, {'text': 'puravida', 'indices': [52, 61]}], 'symbols': [], 'user_mentions': [{'screen_name': 'mamm1962', 'name': 'M_A_M_M', 'id': 4038827354, 'id_str': '4038827354', 'indices': [3, 12]}], 'urls': [], 'media': [{'id': 908069179109945344, 'id_str': '908069179109945344', 'indices': [62, 85], 'media_url': 'http://pbs.twimg.com/media/DJocG3RUMAA6r8_.jpg', 'media_url_https': 'https://pbs.twimg.com/media/DJocG3RUMAA6r8_.jpg', 'url': 'https://t.co/MfNp7E3Q4e', 'display_url': 'pic.twitter.com/MfNp7E3Q4e', 'expanded_url': 'https://twitter.com/mamm1962/status/908069206414864384/photo/1', 'type': 'photo', 'sizes': {'large': {'w': 1024, 'h': 576, 'resize': 'fit'}, 'medium': {'w': 1024, 'h': 576, 'resize': 'fit'}, 'small': {'w': 680, 'h': 383, 'resize': 'fit'}, 'thumb': {'w': 150, 'h': 150, 'resize': 'crop'}}, 'source_status_id': 908069206414864384, 'source_status_id_str': '908069206414864384', 'source_user_id': 4038827354, 'source_user_id_str': '4038827354'}]}, extended_entities={'media': [{'id': 908069179109945344, 'id_str': '908069179109945344', 'indices': [62, 85], 'media_url': 'http://pbs.twimg.com/media/DJocG3RUMAA6r8_.jpg', 'media_url_https': 'https://pbs.twimg.com/media/DJocG3RUMAA6r8_.jpg', 'url': 'https://t.co/MfNp7E3Q4e', 'display_url': 'pic.twitter.com/MfNp7E3Q4e', 'expanded_url': 'https://twitter.com/mamm1962/status/908069206414864384/photo/1', 'type': 'photo', 'sizes': {'large': {'w': 1024, 'h': 576, 'resize': 'fit'}, 'medium': {'w': 1024, 'h': 576, 'resize': 'fit'}, 'small': {'w': 680, 'h': 383, 'resize': 'fit'}, 'thumb': {'w': 150, 'h': 150, 'resize': 'crop'}}, 'source_status_id': 908069206414864384, 'source_status_id_str': '908069206414864384', 'source_user_id': 4038827354, 'source_user_id_str': '4038827354'}, {'id': 908069188605845504, 'id_str': '908069188605845504', 'indices': [62, 85], 'media_url': 'http://pbs.twimg.com/media/DJocHapUIAAA4eL.jpg', 'media_url_https': 'https://pbs.twimg.com/media/DJocHapUIAAA4eL.jpg', 'url': 'https://t.co/MfNp7E3Q4e', 'display_url': 'pic.twitter.com/MfNp7E3Q4e', 'expanded_url': 'https://twitter.com/mamm1962/status/908069206414864384/photo/1', 'type': 'photo', 'sizes': {'small': {'w': 680, 'h': 454, 'resize': 'fit'}, 'large': {'w': 1024, 'h': 683, 'resize': 'fit'}, 'thumb': {'w': 150, 'h': 150, 'resize': 'crop'}, 'medium': {'w': 1024, 'h': 683, 'resize': 'fit'}}, 'source_status_id': 908069206414864384, 'source_status_id_str': '908069206414864384', 'source_user_id': 4038827354, 'source_user_id_str': '4038827354'}, {'id': 908069198349295616, 'id_str': '908069198349295616', 'indices': [62, 85], 'media_url': 'http://pbs.twimg.com/media/DJocH-8VYAAG35W.jpg', 'media_url_https': 'https://pbs.twimg.com/media/DJocH-8VYAAG35W.jpg', 'url': 'https://t.co/MfNp7E3Q4e', 'display_url': 'pic.twitter.com/MfNp7E3Q4e', 'expanded_url': 'https://twitter.com/mamm1962/status/908069206414864384/photo/1', 'type': 'photo', 'sizes': {'large': {'w': 1024, 'h': 576, 'resize': 'fit'}, 'medium': {'w': 1024, 'h': 576, 'resize': 'fit'}, 'small': {'w': 680, 'h': 383, 'resize': 'fit'}, 'thumb': {'w': 150, 'h': 150, 'resize': 'crop'}}, 'source_status_id': 908069206414864384, 'source_status_id_str': '908069206414864384', 'source_user_id': 4038827354, 'source_user_id_str': '4038827354'}]}, metadata={'iso_language_code': 'en', 'result_type': 'recent'}, source='Twitter for iPad', source_url='http://twitter.com/#!/download/ipad', in_reply_to_status_id=None, in_reply_to_status_id_str=None, in_reply_to_user_id=None, in_reply_to_user_id_str=None, in_reply_to_screen_name=None, author=User(_api=<tweepy.api.API object at 0x11b3f9d68>, _json={'id': 775698569961627648, 'id_str': '775698569961627648', 'name': 'Joe', 'screen_name': 'beachesbikes', 'location': '', 'description': '⚓️Beautiful Beaches and hot bikes⚓️', 'url': None, 'entities': {'description': {'urls': []}}, 'protected': False, 'followers_count': 6314, 'friends_count': 5677, 'listed_count': 265, 'created_at': 'Tue Sep 13 14:12:05 +0000 2016', 'favourites_count': 98794, 'utc_offset': None, 'time_zone': None, 'geo_enabled': False, 'verified': False, 'statuses_count': 82730, 'lang': 'en', 'contributors_enabled': False, 'is_translator': False, 'is_translation_enabled': False, 'profile_background_color': 'F5F8FA', 'profile_background_image_url': None, 'profile_background_image_url_https': None, 'profile_background_tile': False, 'profile_image_url': 'http://pbs.twimg.com/profile_images/869623921045381121/CoTZYRz__normal.jpg', 'profile_image_url_https': 'https://pbs.twimg.com/profile_images/869623921045381121/CoTZYRz__normal.jpg', 'profile_banner_url': 'https://pbs.twimg.com/profile_banners/775698569961627648/1503022016', 'profile_link_color': '1DA1F2', 'profile_sidebar_border_color': 'C0DEED', 'profile_sidebar_fill_color': 'DDEEF6', 'profile_text_color': '333333', 'profile_use_background_image': True, 'has_extended_profile': False, 'default_profile': True, 'default_profile_image': False, 'following': None, 'follow_request_sent': None, 'notifications': None, 'translator_type': 'none'}, id=775698569961627648, id_str='775698569961627648', name='Joe', screen_name='beachesbikes', location='', description='⚓️Beautiful Beaches and hot bikes⚓️', url=None, entities={'description': {'urls': []}}, protected=False, followers_count=6314, friends_count=5677, listed_count=265, created_at=datetime.datetime(2016, 9, 13, 14, 12, 5), favourites_count=98794, utc_offset=None, time_zone=None, geo_enabled=False, verified=False, statuses_count=82730, lang='en', contributors_enabled=False, is_translator=False, is_translation_enabled=False, profile_background_color='F5F8FA', profile_background_image_url=None, profile_background_image_url_https=None, profile_background_tile=False, profile_image_url='http://pbs.twimg.com/profile_images/869623921045381121/CoTZYRz__normal.jpg', profile_image_url_https='https://pbs.twimg.com/profile_images/869623921045381121/CoTZYRz__normal.jpg', profile_banner_url='https://pbs.twimg.com/profile_banners/775698569961627648/1503022016', profile_link_color='1DA1F2', profile_sidebar_border_color='C0DEED', profile_sidebar_fill_color='DDEEF6', profile_text_color='333333', profile_use_background_image=True, has_extended_profile=False, default_profile=True, default_profile_image=False, following=False, follow_request_sent=None, notifications=None, translator_type='none'), user=User(_api=<tweepy.api.API object at 0x11b3f9d68>, _json={'id': 775698569961627648, 'id_str': '775698569961627648', 'name': 'Joe', 'screen_name': 'beachesbikes', 'location': '', 'description': '⚓️Beautiful Beaches and hot bikes⚓️', 'url': None, 'entities': {'description': {'urls': []}}, 'protected': False, 'followers_count': 6314, 'friends_count': 5677, 'listed_count': 265, 'created_at': 'Tue Sep 13 14:12:05 +0000 2016', 'favourites_count': 98794, 'utc_offset': None, 'time_zone': None, 'geo_enabled': False, 'verified': False, 'statuses_count': 82730, 'lang': 'en', 'contributors_enabled': False, 'is_translator': False, 'is_translation_enabled': False, 'profile_background_color': 'F5F8FA', 'profile_background_image_url': None, 'profile_background_image_url_https': None, 'profile_background_tile': False, 'profile_image_url': 'http://pbs.twimg.com/profile_images/869623921045381121/CoTZYRz__normal.jpg', 'profile_image_url_https': 'https://pbs.twimg.com/profile_images/869623921045381121/CoTZYRz__normal.jpg', 'profile_banner_url': 'https://pbs.twimg.com/profile_banners/775698569961627648/1503022016', 'profile_link_color': '1DA1F2', 'profile_sidebar_border_color': 'C0DEED', 'profile_sidebar_fill_color': 'DDEEF6', 'profile_text_color': '333333', 'profile_use_background_image': True, 'has_extended_profile': False, 'default_profile': True, 'default_profile_image': False, 'following': None, 'follow_request_sent': None, 'notifications': None, 'translator_type': 'none'}, id=775698569961627648, id_str='775698569961627648', name='Joe', screen_name='beachesbikes', location='', description='⚓️Beautiful Beaches and hot bikes⚓️', url=None, entities={'description': {'urls': []}}, protected=False, followers_count=6314, friends_count=5677, listed_count=265, created_at=datetime.datetime(2016, 9, 13, 14, 12, 5), favourites_count=98794, utc_offset=None, time_zone=None, geo_enabled=False, verified=False, statuses_count=82730, lang='en', contributors_enabled=False, is_translator=False, is_translation_enabled=False, profile_background_color='F5F8FA', profile_background_image_url=None, profile_background_image_url_https=None, profile_background_tile=False, profile_image_url='http://pbs.twimg.com/profile_images/869623921045381121/CoTZYRz__normal.jpg', profile_image_url_https='https://pbs.twimg.com/profile_images/869623921045381121/CoTZYRz__normal.jpg', profile_banner_url='https://pbs.twimg.com/profile_banners/775698569961627648/1503022016', profile_link_color='1DA1F2', profile_sidebar_border_color='C0DEED', profile_sidebar_fill_color='DDEEF6', profile_text_color='333333', profile_use_background_image=True, has_extended_profile=False, default_profile=True, default_profile_image=False, following=False, follow_request_sent=None, notifications=None, translator_type='none'), geo=None, coordinates=None, place=None, contributors=None, retweeted_status=Status(_api=<tweepy.api.API object at 0x11b3f9d68>, _json={'created_at': 'Wed Sep 13 20:45:44 +0000 2017', 'id': 908069206414864384, 'id_str': '908069206414864384', 'text': '#sunsets are beautiful in #costarica \\n#puravida https://t.co/MfNp7E3Q4e', 'truncated': False, 'entities': {'hashtags': [{'text': 'sunsets', 'indices': [0, 8]}, {'text': 'costarica', 'indices': [26, 36]}, {'text': 'puravida', 'indices': [38, 47]}], 'symbols': [], 'user_mentions': [], 'urls': [], 'media': [{'id': 908069179109945344, 'id_str': '908069179109945344', 'indices': [48, 71], 'media_url': 'http://pbs.twimg.com/media/DJocG3RUMAA6r8_.jpg', 'media_url_https': 'https://pbs.twimg.com/media/DJocG3RUMAA6r8_.jpg', 'url': 'https://t.co/MfNp7E3Q4e', 'display_url': 'pic.twitter.com/MfNp7E3Q4e', 'expanded_url': 'https://twitter.com/mamm1962/status/908069206414864384/photo/1', 'type': 'photo', 'sizes': {'large': {'w': 1024, 'h': 576, 'resize': 'fit'}, 'medium': {'w': 1024, 'h': 576, 'resize': 'fit'}, 'small': {'w': 680, 'h': 383, 'resize': 'fit'}, 'thumb': {'w': 150, 'h': 150, 'resize': 'crop'}}}]}, 'extended_entities': {'media': [{'id': 908069179109945344, 'id_str': '908069179109945344', 'indices': [48, 71], 'media_url': 'http://pbs.twimg.com/media/DJocG3RUMAA6r8_.jpg', 'media_url_https': 'https://pbs.twimg.com/media/DJocG3RUMAA6r8_.jpg', 'url': 'https://t.co/MfNp7E3Q4e', 'display_url': 'pic.twitter.com/MfNp7E3Q4e', 'expanded_url': 'https://twitter.com/mamm1962/status/908069206414864384/photo/1', 'type': 'photo', 'sizes': {'large': {'w': 1024, 'h': 576, 'resize': 'fit'}, 'medium': {'w': 1024, 'h': 576, 'resize': 'fit'}, 'small': {'w': 680, 'h': 383, 'resize': 'fit'}, 'thumb': {'w': 150, 'h': 150, 'resize': 'crop'}}}, {'id': 908069188605845504, 'id_str': '908069188605845504', 'indices': [48, 71], 'media_url': 'http://pbs.twimg.com/media/DJocHapUIAAA4eL.jpg', 'media_url_https': 'https://pbs.twimg.com/media/DJocHapUIAAA4eL.jpg', 'url': 'https://t.co/MfNp7E3Q4e', 'display_url': 'pic.twitter.com/MfNp7E3Q4e', 'expanded_url': 'https://twitter.com/mamm1962/status/908069206414864384/photo/1', 'type': 'photo', 'sizes': {'small': {'w': 680, 'h': 454, 'resize': 'fit'}, 'large': {'w': 1024, 'h': 683, 'resize': 'fit'}, 'thumb': {'w': 150, 'h': 150, 'resize': 'crop'}, 'medium': {'w': 1024, 'h': 683, 'resize': 'fit'}}}, {'id': 908069198349295616, 'id_str': '908069198349295616', 'indices': [48, 71], 'media_url': 'http://pbs.twimg.com/media/DJocH-8VYAAG35W.jpg', 'media_url_https': 'https://pbs.twimg.com/media/DJocH-8VYAAG35W.jpg', 'url': 'https://t.co/MfNp7E3Q4e', 'display_url': 'pic.twitter.com/MfNp7E3Q4e', 'expanded_url': 'https://twitter.com/mamm1962/status/908069206414864384/photo/1', 'type': 'photo', 'sizes': {'large': {'w': 1024, 'h': 576, 'resize': 'fit'}, 'medium': {'w': 1024, 'h': 576, 'resize': 'fit'}, 'small': {'w': 680, 'h': 383, 'resize': 'fit'}, 'thumb': {'w': 150, 'h': 150, 'resize': 'crop'}}}]}, 'metadata': {'iso_language_code': 'en', 'result_type': 'recent'}, 'source': '<a href=\"http://twitter.com/download/android\" rel=\"nofollow\">Twitter for Android</a>', 'in_reply_to_status_id': None, 'in_reply_to_status_id_str': None, 'in_reply_to_user_id': None, 'in_reply_to_user_id_str': None, 'in_reply_to_screen_name': None, 'user': {'id': 4038827354, 'id_str': '4038827354', 'name': 'M_A_M_M', 'screen_name': 'mamm1962', 'location': 'British Columbia, Canada', 'description': '🌺 Costa Rica 🌺 and 🌺 Hawaii 🌺\\nare my two favorite places to be 😊\\n\\nI ❤ the sun 🌞 the ocean 🌊 and sand between my toes 😊', 'url': 'https://t.co/ihOVs9L8pp', 'entities': {'url': {'urls': [{'url': 'https://t.co/ihOVs9L8pp', 'expanded_url': 'http://www.instagram.com/m.a.m.m.62/', 'display_url': 'instagram.com/m.a.m.m.62/', 'indices': [0, 23]}]}, 'description': {'urls': []}}, 'protected': False, 'followers_count': 1135, 'friends_count': 1018, 'listed_count': 24, 'created_at': 'Tue Oct 27 19:57:11 +0000 2015', 'favourites_count': 7208, 'utc_offset': -25200, 'time_zone': 'Pacific Time (US & Canada)', 'geo_enabled': True, 'verified': False, 'statuses_count': 1252, 'lang': 'en', 'contributors_enabled': False, 'is_translator': False, 'is_translation_enabled': False, 'profile_background_color': 'C0DEED', 'profile_background_image_url': 'http://abs.twimg.com/images/themes/theme1/bg.png', 'profile_background_image_url_https': 'https://abs.twimg.com/images/themes/theme1/bg.png', 'profile_background_tile': False, 'profile_image_url': 'http://pbs.twimg.com/profile_images/665644811743965184/7Q8tHEvA_normal.jpg', 'profile_image_url_https': 'https://pbs.twimg.com/profile_images/665644811743965184/7Q8tHEvA_normal.jpg', 'profile_banner_url': 'https://pbs.twimg.com/profile_banners/4038827354/1445976078', 'profile_link_color': '1DA1F2', 'profile_sidebar_border_color': 'C0DEED', 'profile_sidebar_fill_color': 'DDEEF6', 'profile_text_color': '333333', 'profile_use_background_image': True, 'has_extended_profile': True, 'default_profile': True, 'default_profile_image': False, 'following': None, 'follow_request_sent': None, 'notifications': None, 'translator_type': 'none'}, 'geo': None, 'coordinates': None, 'place': {'id': '435a15a8bf629083', 'url': 'https://api.twitter.com/1.1/geo/id/435a15a8bf629083.json', 'place_type': 'city', 'name': 'Coquitlam', 'full_name': 'Coquitlam, British Columbia', 'country_code': 'CA', 'country': 'Canada', 'contained_within': [], 'bounding_box': {'type': 'Polygon', 'coordinates': [[[-122.893434, 49.219352], [-122.618118, 49.219352], [-122.618118, 49.351565], [-122.893434, 49.351565]]]}, 'attributes': {}}, 'contributors': None, 'is_quote_status': False, 'retweet_count': 3, 'favorite_count': 11, 'favorited': False, 'retweeted': False, 'possibly_sensitive': False, 'lang': 'en'}, created_at=datetime.datetime(2017, 9, 13, 20, 45, 44), id=908069206414864384, id_str='908069206414864384', text='#sunsets are beautiful in #costarica \\n#puravida https://t.co/MfNp7E3Q4e', truncated=False, entities={'hashtags': [{'text': 'sunsets', 'indices': [0, 8]}, {'text': 'costarica', 'indices': [26, 36]}, {'text': 'puravida', 'indices': [38, 47]}], 'symbols': [], 'user_mentions': [], 'urls': [], 'media': [{'id': 908069179109945344, 'id_str': '908069179109945344', 'indices': [48, 71], 'media_url': 'http://pbs.twimg.com/media/DJocG3RUMAA6r8_.jpg', 'media_url_https': 'https://pbs.twimg.com/media/DJocG3RUMAA6r8_.jpg', 'url': 'https://t.co/MfNp7E3Q4e', 'display_url': 'pic.twitter.com/MfNp7E3Q4e', 'expanded_url': 'https://twitter.com/mamm1962/status/908069206414864384/photo/1', 'type': 'photo', 'sizes': {'large': {'w': 1024, 'h': 576, 'resize': 'fit'}, 'medium': {'w': 1024, 'h': 576, 'resize': 'fit'}, 'small': {'w': 680, 'h': 383, 'resize': 'fit'}, 'thumb': {'w': 150, 'h': 150, 'resize': 'crop'}}}]}, extended_entities={'media': [{'id': 908069179109945344, 'id_str': '908069179109945344', 'indices': [48, 71], 'media_url': 'http://pbs.twimg.com/media/DJocG3RUMAA6r8_.jpg', 'media_url_https': 'https://pbs.twimg.com/media/DJocG3RUMAA6r8_.jpg', 'url': 'https://t.co/MfNp7E3Q4e', 'display_url': 'pic.twitter.com/MfNp7E3Q4e', 'expanded_url': 'https://twitter.com/mamm1962/status/908069206414864384/photo/1', 'type': 'photo', 'sizes': {'large': {'w': 1024, 'h': 576, 'resize': 'fit'}, 'medium': {'w': 1024, 'h': 576, 'resize': 'fit'}, 'small': {'w': 680, 'h': 383, 'resize': 'fit'}, 'thumb': {'w': 150, 'h': 150, 'resize': 'crop'}}}, {'id': 908069188605845504, 'id_str': '908069188605845504', 'indices': [48, 71], 'media_url': 'http://pbs.twimg.com/media/DJocHapUIAAA4eL.jpg', 'media_url_https': 'https://pbs.twimg.com/media/DJocHapUIAAA4eL.jpg', 'url': 'https://t.co/MfNp7E3Q4e', 'display_url': 'pic.twitter.com/MfNp7E3Q4e', 'expanded_url': 'https://twitter.com/mamm1962/status/908069206414864384/photo/1', 'type': 'photo', 'sizes': {'small': {'w': 680, 'h': 454, 'resize': 'fit'}, 'large': {'w': 1024, 'h': 683, 'resize': 'fit'}, 'thumb': {'w': 150, 'h': 150, 'resize': 'crop'}, 'medium': {'w': 1024, 'h': 683, 'resize': 'fit'}}}, {'id': 908069198349295616, 'id_str': '908069198349295616', 'indices': [48, 71], 'media_url': 'http://pbs.twimg.com/media/DJocH-8VYAAG35W.jpg', 'media_url_https': 'https://pbs.twimg.com/media/DJocH-8VYAAG35W.jpg', 'url': 'https://t.co/MfNp7E3Q4e', 'display_url': 'pic.twitter.com/MfNp7E3Q4e', 'expanded_url': 'https://twitter.com/mamm1962/status/908069206414864384/photo/1', 'type': 'photo', 'sizes': {'large': {'w': 1024, 'h': 576, 'resize': 'fit'}, 'medium': {'w': 1024, 'h': 576, 'resize': 'fit'}, 'small': {'w': 680, 'h': 383, 'resize': 'fit'}, 'thumb': {'w': 150, 'h': 150, 'resize': 'crop'}}}]}, metadata={'iso_language_code': 'en', 'result_type': 'recent'}, source='Twitter for Android', source_url='http://twitter.com/download/android', in_reply_to_status_id=None, in_reply_to_status_id_str=None, in_reply_to_user_id=None, in_reply_to_user_id_str=None, in_reply_to_screen_name=None, author=User(_api=<tweepy.api.API object at 0x11b3f9d68>, _json={'id': 4038827354, 'id_str': '4038827354', 'name': 'M_A_M_M', 'screen_name': 'mamm1962', 'location': 'British Columbia, Canada', 'description': '🌺 Costa Rica 🌺 and 🌺 Hawaii 🌺\\nare my two favorite places to be 😊\\n\\nI ❤ the sun 🌞 the ocean 🌊 and sand between my toes 😊', 'url': 'https://t.co/ihOVs9L8pp', 'entities': {'url': {'urls': [{'url': 'https://t.co/ihOVs9L8pp', 'expanded_url': 'http://www.instagram.com/m.a.m.m.62/', 'display_url': 'instagram.com/m.a.m.m.62/', 'indices': [0, 23]}]}, 'description': {'urls': []}}, 'protected': False, 'followers_count': 1135, 'friends_count': 1018, 'listed_count': 24, 'created_at': 'Tue Oct 27 19:57:11 +0000 2015', 'favourites_count': 7208, 'utc_offset': -25200, 'time_zone': 'Pacific Time (US & Canada)', 'geo_enabled': True, 'verified': False, 'statuses_count': 1252, 'lang': 'en', 'contributors_enabled': False, 'is_translator': False, 'is_translation_enabled': False, 'profile_background_color': 'C0DEED', 'profile_background_image_url': 'http://abs.twimg.com/images/themes/theme1/bg.png', 'profile_background_image_url_https': 'https://abs.twimg.com/images/themes/theme1/bg.png', 'profile_background_tile': False, 'profile_image_url': 'http://pbs.twimg.com/profile_images/665644811743965184/7Q8tHEvA_normal.jpg', 'profile_image_url_https': 'https://pbs.twimg.com/profile_images/665644811743965184/7Q8tHEvA_normal.jpg', 'profile_banner_url': 'https://pbs.twimg.com/profile_banners/4038827354/1445976078', 'profile_link_color': '1DA1F2', 'profile_sidebar_border_color': 'C0DEED', 'profile_sidebar_fill_color': 'DDEEF6', 'profile_text_color': '333333', 'profile_use_background_image': True, 'has_extended_profile': True, 'default_profile': True, 'default_profile_image': False, 'following': None, 'follow_request_sent': None, 'notifications': None, 'translator_type': 'none'}, id=4038827354, id_str='4038827354', name='M_A_M_M', screen_name='mamm1962', location='British Columbia, Canada', description='🌺 Costa Rica 🌺 and 🌺 Hawaii 🌺\\nare my two favorite places to be 😊\\n\\nI ❤ the sun 🌞 the ocean 🌊 and sand between my toes 😊', url='https://t.co/ihOVs9L8pp', entities={'url': {'urls': [{'url': 'https://t.co/ihOVs9L8pp', 'expanded_url': 'http://www.instagram.com/m.a.m.m.62/', 'display_url': 'instagram.com/m.a.m.m.62/', 'indices': [0, 23]}]}, 'description': {'urls': []}}, protected=False, followers_count=1135, friends_count=1018, listed_count=24, created_at=datetime.datetime(2015, 10, 27, 19, 57, 11), favourites_count=7208, utc_offset=-25200, time_zone='Pacific Time (US & Canada)', geo_enabled=True, verified=False, statuses_count=1252, lang='en', contributors_enabled=False, is_translator=False, is_translation_enabled=False, profile_background_color='C0DEED', profile_background_image_url='http://abs.twimg.com/images/themes/theme1/bg.png', profile_background_image_url_https='https://abs.twimg.com/images/themes/theme1/bg.png', profile_background_tile=False, profile_image_url='http://pbs.twimg.com/profile_images/665644811743965184/7Q8tHEvA_normal.jpg', profile_image_url_https='https://pbs.twimg.com/profile_images/665644811743965184/7Q8tHEvA_normal.jpg', profile_banner_url='https://pbs.twimg.com/profile_banners/4038827354/1445976078', profile_link_color='1DA1F2', profile_sidebar_border_color='C0DEED', profile_sidebar_fill_color='DDEEF6', profile_text_color='333333', profile_use_background_image=True, has_extended_profile=True, default_profile=True, default_profile_image=False, following=False, follow_request_sent=None, notifications=None, translator_type='none'), user=User(_api=<tweepy.api.API object at 0x11b3f9d68>, _json={'id': 4038827354, 'id_str': '4038827354', 'name': 'M_A_M_M', 'screen_name': 'mamm1962', 'location': 'British Columbia, Canada', 'description': '🌺 Costa Rica 🌺 and 🌺 Hawaii 🌺\\nare my two favorite places to be 😊\\n\\nI ❤ the sun 🌞 the ocean 🌊 and sand between my toes 😊', 'url': 'https://t.co/ihOVs9L8pp', 'entities': {'url': {'urls': [{'url': 'https://t.co/ihOVs9L8pp', 'expanded_url': 'http://www.instagram.com/m.a.m.m.62/', 'display_url': 'instagram.com/m.a.m.m.62/', 'indices': [0, 23]}]}, 'description': {'urls': []}}, 'protected': False, 'followers_count': 1135, 'friends_count': 1018, 'listed_count': 24, 'created_at': 'Tue Oct 27 19:57:11 +0000 2015', 'favourites_count': 7208, 'utc_offset': -25200, 'time_zone': 'Pacific Time (US & Canada)', 'geo_enabled': True, 'verified': False, 'statuses_count': 1252, 'lang': 'en', 'contributors_enabled': False, 'is_translator': False, 'is_translation_enabled': False, 'profile_background_color': 'C0DEED', 'profile_background_image_url': 'http://abs.twimg.com/images/themes/theme1/bg.png', 'profile_background_image_url_https': 'https://abs.twimg.com/images/themes/theme1/bg.png', 'profile_background_tile': False, 'profile_image_url': 'http://pbs.twimg.com/profile_images/665644811743965184/7Q8tHEvA_normal.jpg', 'profile_image_url_https': 'https://pbs.twimg.com/profile_images/665644811743965184/7Q8tHEvA_normal.jpg', 'profile_banner_url': 'https://pbs.twimg.com/profile_banners/4038827354/1445976078', 'profile_link_color': '1DA1F2', 'profile_sidebar_border_color': 'C0DEED', 'profile_sidebar_fill_color': 'DDEEF6', 'profile_text_color': '333333', 'profile_use_background_image': True, 'has_extended_profile': True, 'default_profile': True, 'default_profile_image': False, 'following': None, 'follow_request_sent': None, 'notifications': None, 'translator_type': 'none'}, id=4038827354, id_str='4038827354', name='M_A_M_M', screen_name='mamm1962', location='British Columbia, Canada', description='🌺 Costa Rica 🌺 and 🌺 Hawaii 🌺\\nare my two favorite places to be 😊\\n\\nI ❤ the sun 🌞 the ocean 🌊 and sand between my toes 😊', url='https://t.co/ihOVs9L8pp', entities={'url': {'urls': [{'url': 'https://t.co/ihOVs9L8pp', 'expanded_url': 'http://www.instagram.com/m.a.m.m.62/', 'display_url': 'instagram.com/m.a.m.m.62/', 'indices': [0, 23]}]}, 'description': {'urls': []}}, protected=False, followers_count=1135, friends_count=1018, listed_count=24, created_at=datetime.datetime(2015, 10, 27, 19, 57, 11), favourites_count=7208, utc_offset=-25200, time_zone='Pacific Time (US & Canada)', geo_enabled=True, verified=False, statuses_count=1252, lang='en', contributors_enabled=False, is_translator=False, is_translation_enabled=False, profile_background_color='C0DEED', profile_background_image_url='http://abs.twimg.com/images/themes/theme1/bg.png', profile_background_image_url_https='https://abs.twimg.com/images/themes/theme1/bg.png', profile_background_tile=False, profile_image_url='http://pbs.twimg.com/profile_images/665644811743965184/7Q8tHEvA_normal.jpg', profile_image_url_https='https://pbs.twimg.com/profile_images/665644811743965184/7Q8tHEvA_normal.jpg', profile_banner_url='https://pbs.twimg.com/profile_banners/4038827354/1445976078', profile_link_color='1DA1F2', profile_sidebar_border_color='C0DEED', profile_sidebar_fill_color='DDEEF6', profile_text_color='333333', profile_use_background_image=True, has_extended_profile=True, default_profile=True, default_profile_image=False, following=False, follow_request_sent=None, notifications=None, translator_type='none'), geo=None, coordinates=None, place=Place(_api=<tweepy.api.API object at 0x11b3f9d68>, id='435a15a8bf629083', url='https://api.twitter.com/1.1/geo/id/435a15a8bf629083.json', place_type='city', name='Coquitlam', full_name='Coquitlam, British Columbia', country_code='CA', country='Canada', contained_within=[], bounding_box=BoundingBox(_api=<tweepy.api.API object at 0x11b3f9d68>, type='Polygon', coordinates=[[[-122.893434, 49.219352], [-122.618118, 49.219352], [-122.618118, 49.351565], [-122.893434, 49.351565]]]), attributes={}), contributors=None, is_quote_status=False, retweet_count=3, favorite_count=11, favorited=False, retweeted=False, possibly_sensitive=False, lang='en'), is_quote_status=False, retweet_count=3, favorite_count=0, favorited=False, retweeted=False, possibly_sensitive=False, lang='en')>\n",
      "\n",
      "entities : {'hashtags': [{'text': 'sunsets', 'indices': [14, 22]}, {'text': 'costarica', 'indices': [40, 50]}, {'text': 'puravida', 'indices': [52, 61]}], 'symbols': [], 'user_mentions': [{'screen_name': 'mamm1962', 'name': 'M_A_M_M', 'id': 4038827354, 'id_str': '4038827354', 'indices': [3, 12]}], 'urls': [], 'media': [{'id': 908069179109945344, 'id_str': '908069179109945344', 'indices': [62, 85], 'media_url': 'http://pbs.twimg.com/media/DJocG3RUMAA6r8_.jpg', 'media_url_https': 'https://pbs.twimg.com/media/DJocG3RUMAA6r8_.jpg', 'url': 'https://t.co/MfNp7E3Q4e', 'display_url': 'pic.twitter.com/MfNp7E3Q4e', 'expanded_url': 'https://twitter.com/mamm1962/status/908069206414864384/photo/1', 'type': 'photo', 'sizes': {'large': {'w': 1024, 'h': 576, 'resize': 'fit'}, 'medium': {'w': 1024, 'h': 576, 'resize': 'fit'}, 'small': {'w': 680, 'h': 383, 'resize': 'fit'}, 'thumb': {'w': 150, 'h': 150, 'resize': 'crop'}}, 'source_status_id': 908069206414864384, 'source_status_id_str': '908069206414864384', 'source_user_id': 4038827354, 'source_user_id_str': '4038827354'}]}\n",
      "\n",
      "extended_entities : {'media': [{'id': 908069179109945344, 'id_str': '908069179109945344', 'indices': [62, 85], 'media_url': 'http://pbs.twimg.com/media/DJocG3RUMAA6r8_.jpg', 'media_url_https': 'https://pbs.twimg.com/media/DJocG3RUMAA6r8_.jpg', 'url': 'https://t.co/MfNp7E3Q4e', 'display_url': 'pic.twitter.com/MfNp7E3Q4e', 'expanded_url': 'https://twitter.com/mamm1962/status/908069206414864384/photo/1', 'type': 'photo', 'sizes': {'large': {'w': 1024, 'h': 576, 'resize': 'fit'}, 'medium': {'w': 1024, 'h': 576, 'resize': 'fit'}, 'small': {'w': 680, 'h': 383, 'resize': 'fit'}, 'thumb': {'w': 150, 'h': 150, 'resize': 'crop'}}, 'source_status_id': 908069206414864384, 'source_status_id_str': '908069206414864384', 'source_user_id': 4038827354, 'source_user_id_str': '4038827354'}, {'id': 908069188605845504, 'id_str': '908069188605845504', 'indices': [62, 85], 'media_url': 'http://pbs.twimg.com/media/DJocHapUIAAA4eL.jpg', 'media_url_https': 'https://pbs.twimg.com/media/DJocHapUIAAA4eL.jpg', 'url': 'https://t.co/MfNp7E3Q4e', 'display_url': 'pic.twitter.com/MfNp7E3Q4e', 'expanded_url': 'https://twitter.com/mamm1962/status/908069206414864384/photo/1', 'type': 'photo', 'sizes': {'small': {'w': 680, 'h': 454, 'resize': 'fit'}, 'large': {'w': 1024, 'h': 683, 'resize': 'fit'}, 'thumb': {'w': 150, 'h': 150, 'resize': 'crop'}, 'medium': {'w': 1024, 'h': 683, 'resize': 'fit'}}, 'source_status_id': 908069206414864384, 'source_status_id_str': '908069206414864384', 'source_user_id': 4038827354, 'source_user_id_str': '4038827354'}, {'id': 908069198349295616, 'id_str': '908069198349295616', 'indices': [62, 85], 'media_url': 'http://pbs.twimg.com/media/DJocH-8VYAAG35W.jpg', 'media_url_https': 'https://pbs.twimg.com/media/DJocH-8VYAAG35W.jpg', 'url': 'https://t.co/MfNp7E3Q4e', 'display_url': 'pic.twitter.com/MfNp7E3Q4e', 'expanded_url': 'https://twitter.com/mamm1962/status/908069206414864384/photo/1', 'type': 'photo', 'sizes': {'large': {'w': 1024, 'h': 576, 'resize': 'fit'}, 'medium': {'w': 1024, 'h': 576, 'resize': 'fit'}, 'small': {'w': 680, 'h': 383, 'resize': 'fit'}, 'thumb': {'w': 150, 'h': 150, 'resize': 'crop'}}, 'source_status_id': 908069206414864384, 'source_status_id_str': '908069206414864384', 'source_user_id': 4038827354, 'source_user_id_str': '4038827354'}]}\n",
      "\n",
      "favorite : <bound method Status.favorite of Status(_api=<tweepy.api.API object at 0x11b3f9d68>, _json={'created_at': 'Thu Oct 05 00:39:32 +0000 2017', 'id': 915738188152532992, 'id_str': '915738188152532992', 'text': 'RT @mamm1962: #sunsets are beautiful in #costarica \\n#puravida https://t.co/MfNp7E3Q4e', 'truncated': False, 'entities': {'hashtags': [{'text': 'sunsets', 'indices': [14, 22]}, {'text': 'costarica', 'indices': [40, 50]}, {'text': 'puravida', 'indices': [52, 61]}], 'symbols': [], 'user_mentions': [{'screen_name': 'mamm1962', 'name': 'M_A_M_M', 'id': 4038827354, 'id_str': '4038827354', 'indices': [3, 12]}], 'urls': [], 'media': [{'id': 908069179109945344, 'id_str': '908069179109945344', 'indices': [62, 85], 'media_url': 'http://pbs.twimg.com/media/DJocG3RUMAA6r8_.jpg', 'media_url_https': 'https://pbs.twimg.com/media/DJocG3RUMAA6r8_.jpg', 'url': 'https://t.co/MfNp7E3Q4e', 'display_url': 'pic.twitter.com/MfNp7E3Q4e', 'expanded_url': 'https://twitter.com/mamm1962/status/908069206414864384/photo/1', 'type': 'photo', 'sizes': {'large': {'w': 1024, 'h': 576, 'resize': 'fit'}, 'medium': {'w': 1024, 'h': 576, 'resize': 'fit'}, 'small': {'w': 680, 'h': 383, 'resize': 'fit'}, 'thumb': {'w': 150, 'h': 150, 'resize': 'crop'}}, 'source_status_id': 908069206414864384, 'source_status_id_str': '908069206414864384', 'source_user_id': 4038827354, 'source_user_id_str': '4038827354'}]}, 'extended_entities': {'media': [{'id': 908069179109945344, 'id_str': '908069179109945344', 'indices': [62, 85], 'media_url': 'http://pbs.twimg.com/media/DJocG3RUMAA6r8_.jpg', 'media_url_https': 'https://pbs.twimg.com/media/DJocG3RUMAA6r8_.jpg', 'url': 'https://t.co/MfNp7E3Q4e', 'display_url': 'pic.twitter.com/MfNp7E3Q4e', 'expanded_url': 'https://twitter.com/mamm1962/status/908069206414864384/photo/1', 'type': 'photo', 'sizes': {'large': {'w': 1024, 'h': 576, 'resize': 'fit'}, 'medium': {'w': 1024, 'h': 576, 'resize': 'fit'}, 'small': {'w': 680, 'h': 383, 'resize': 'fit'}, 'thumb': {'w': 150, 'h': 150, 'resize': 'crop'}}, 'source_status_id': 908069206414864384, 'source_status_id_str': '908069206414864384', 'source_user_id': 4038827354, 'source_user_id_str': '4038827354'}, {'id': 908069188605845504, 'id_str': '908069188605845504', 'indices': [62, 85], 'media_url': 'http://pbs.twimg.com/media/DJocHapUIAAA4eL.jpg', 'media_url_https': 'https://pbs.twimg.com/media/DJocHapUIAAA4eL.jpg', 'url': 'https://t.co/MfNp7E3Q4e', 'display_url': 'pic.twitter.com/MfNp7E3Q4e', 'expanded_url': 'https://twitter.com/mamm1962/status/908069206414864384/photo/1', 'type': 'photo', 'sizes': {'small': {'w': 680, 'h': 454, 'resize': 'fit'}, 'large': {'w': 1024, 'h': 683, 'resize': 'fit'}, 'thumb': {'w': 150, 'h': 150, 'resize': 'crop'}, 'medium': {'w': 1024, 'h': 683, 'resize': 'fit'}}, 'source_status_id': 908069206414864384, 'source_status_id_str': '908069206414864384', 'source_user_id': 4038827354, 'source_user_id_str': '4038827354'}, {'id': 908069198349295616, 'id_str': '908069198349295616', 'indices': [62, 85], 'media_url': 'http://pbs.twimg.com/media/DJocH-8VYAAG35W.jpg', 'media_url_https': 'https://pbs.twimg.com/media/DJocH-8VYAAG35W.jpg', 'url': 'https://t.co/MfNp7E3Q4e', 'display_url': 'pic.twitter.com/MfNp7E3Q4e', 'expanded_url': 'https://twitter.com/mamm1962/status/908069206414864384/photo/1', 'type': 'photo', 'sizes': {'large': {'w': 1024, 'h': 576, 'resize': 'fit'}, 'medium': {'w': 1024, 'h': 576, 'resize': 'fit'}, 'small': {'w': 680, 'h': 383, 'resize': 'fit'}, 'thumb': {'w': 150, 'h': 150, 'resize': 'crop'}}, 'source_status_id': 908069206414864384, 'source_status_id_str': '908069206414864384', 'source_user_id': 4038827354, 'source_user_id_str': '4038827354'}]}, 'metadata': {'iso_language_code': 'en', 'result_type': 'recent'}, 'source': '<a href=\"http://twitter.com/#!/download/ipad\" rel=\"nofollow\">Twitter for iPad</a>', 'in_reply_to_status_id': None, 'in_reply_to_status_id_str': None, 'in_reply_to_user_id': None, 'in_reply_to_user_id_str': None, 'in_reply_to_screen_name': None, 'user': {'id': 775698569961627648, 'id_str': '775698569961627648', 'name': 'Joe', 'screen_name': 'beachesbikes', 'location': '', 'description': '⚓️Beautiful Beaches and hot bikes⚓️', 'url': None, 'entities': {'description': {'urls': []}}, 'protected': False, 'followers_count': 6314, 'friends_count': 5677, 'listed_count': 265, 'created_at': 'Tue Sep 13 14:12:05 +0000 2016', 'favourites_count': 98794, 'utc_offset': None, 'time_zone': None, 'geo_enabled': False, 'verified': False, 'statuses_count': 82730, 'lang': 'en', 'contributors_enabled': False, 'is_translator': False, 'is_translation_enabled': False, 'profile_background_color': 'F5F8FA', 'profile_background_image_url': None, 'profile_background_image_url_https': None, 'profile_background_tile': False, 'profile_image_url': 'http://pbs.twimg.com/profile_images/869623921045381121/CoTZYRz__normal.jpg', 'profile_image_url_https': 'https://pbs.twimg.com/profile_images/869623921045381121/CoTZYRz__normal.jpg', 'profile_banner_url': 'https://pbs.twimg.com/profile_banners/775698569961627648/1503022016', 'profile_link_color': '1DA1F2', 'profile_sidebar_border_color': 'C0DEED', 'profile_sidebar_fill_color': 'DDEEF6', 'profile_text_color': '333333', 'profile_use_background_image': True, 'has_extended_profile': False, 'default_profile': True, 'default_profile_image': False, 'following': None, 'follow_request_sent': None, 'notifications': None, 'translator_type': 'none'}, 'geo': None, 'coordinates': None, 'place': None, 'contributors': None, 'retweeted_status': {'created_at': 'Wed Sep 13 20:45:44 +0000 2017', 'id': 908069206414864384, 'id_str': '908069206414864384', 'text': '#sunsets are beautiful in #costarica \\n#puravida https://t.co/MfNp7E3Q4e', 'truncated': False, 'entities': {'hashtags': [{'text': 'sunsets', 'indices': [0, 8]}, {'text': 'costarica', 'indices': [26, 36]}, {'text': 'puravida', 'indices': [38, 47]}], 'symbols': [], 'user_mentions': [], 'urls': [], 'media': [{'id': 908069179109945344, 'id_str': '908069179109945344', 'indices': [48, 71], 'media_url': 'http://pbs.twimg.com/media/DJocG3RUMAA6r8_.jpg', 'media_url_https': 'https://pbs.twimg.com/media/DJocG3RUMAA6r8_.jpg', 'url': 'https://t.co/MfNp7E3Q4e', 'display_url': 'pic.twitter.com/MfNp7E3Q4e', 'expanded_url': 'https://twitter.com/mamm1962/status/908069206414864384/photo/1', 'type': 'photo', 'sizes': {'large': {'w': 1024, 'h': 576, 'resize': 'fit'}, 'medium': {'w': 1024, 'h': 576, 'resize': 'fit'}, 'small': {'w': 680, 'h': 383, 'resize': 'fit'}, 'thumb': {'w': 150, 'h': 150, 'resize': 'crop'}}}]}, 'extended_entities': {'media': [{'id': 908069179109945344, 'id_str': '908069179109945344', 'indices': [48, 71], 'media_url': 'http://pbs.twimg.com/media/DJocG3RUMAA6r8_.jpg', 'media_url_https': 'https://pbs.twimg.com/media/DJocG3RUMAA6r8_.jpg', 'url': 'https://t.co/MfNp7E3Q4e', 'display_url': 'pic.twitter.com/MfNp7E3Q4e', 'expanded_url': 'https://twitter.com/mamm1962/status/908069206414864384/photo/1', 'type': 'photo', 'sizes': {'large': {'w': 1024, 'h': 576, 'resize': 'fit'}, 'medium': {'w': 1024, 'h': 576, 'resize': 'fit'}, 'small': {'w': 680, 'h': 383, 'resize': 'fit'}, 'thumb': {'w': 150, 'h': 150, 'resize': 'crop'}}}, {'id': 908069188605845504, 'id_str': '908069188605845504', 'indices': [48, 71], 'media_url': 'http://pbs.twimg.com/media/DJocHapUIAAA4eL.jpg', 'media_url_https': 'https://pbs.twimg.com/media/DJocHapUIAAA4eL.jpg', 'url': 'https://t.co/MfNp7E3Q4e', 'display_url': 'pic.twitter.com/MfNp7E3Q4e', 'expanded_url': 'https://twitter.com/mamm1962/status/908069206414864384/photo/1', 'type': 'photo', 'sizes': {'small': {'w': 680, 'h': 454, 'resize': 'fit'}, 'large': {'w': 1024, 'h': 683, 'resize': 'fit'}, 'thumb': {'w': 150, 'h': 150, 'resize': 'crop'}, 'medium': {'w': 1024, 'h': 683, 'resize': 'fit'}}}, {'id': 908069198349295616, 'id_str': '908069198349295616', 'indices': [48, 71], 'media_url': 'http://pbs.twimg.com/media/DJocH-8VYAAG35W.jpg', 'media_url_https': 'https://pbs.twimg.com/media/DJocH-8VYAAG35W.jpg', 'url': 'https://t.co/MfNp7E3Q4e', 'display_url': 'pic.twitter.com/MfNp7E3Q4e', 'expanded_url': 'https://twitter.com/mamm1962/status/908069206414864384/photo/1', 'type': 'photo', 'sizes': {'large': {'w': 1024, 'h': 576, 'resize': 'fit'}, 'medium': {'w': 1024, 'h': 576, 'resize': 'fit'}, 'small': {'w': 680, 'h': 383, 'resize': 'fit'}, 'thumb': {'w': 150, 'h': 150, 'resize': 'crop'}}}]}, 'metadata': {'iso_language_code': 'en', 'result_type': 'recent'}, 'source': '<a href=\"http://twitter.com/download/android\" rel=\"nofollow\">Twitter for Android</a>', 'in_reply_to_status_id': None, 'in_reply_to_status_id_str': None, 'in_reply_to_user_id': None, 'in_reply_to_user_id_str': None, 'in_reply_to_screen_name': None, 'user': {'id': 4038827354, 'id_str': '4038827354', 'name': 'M_A_M_M', 'screen_name': 'mamm1962', 'location': 'British Columbia, Canada', 'description': '🌺 Costa Rica 🌺 and 🌺 Hawaii 🌺\\nare my two favorite places to be 😊\\n\\nI ❤ the sun 🌞 the ocean 🌊 and sand between my toes 😊', 'url': 'https://t.co/ihOVs9L8pp', 'entities': {'url': {'urls': [{'url': 'https://t.co/ihOVs9L8pp', 'expanded_url': 'http://www.instagram.com/m.a.m.m.62/', 'display_url': 'instagram.com/m.a.m.m.62/', 'indices': [0, 23]}]}, 'description': {'urls': []}}, 'protected': False, 'followers_count': 1135, 'friends_count': 1018, 'listed_count': 24, 'created_at': 'Tue Oct 27 19:57:11 +0000 2015', 'favourites_count': 7208, 'utc_offset': -25200, 'time_zone': 'Pacific Time (US & Canada)', 'geo_enabled': True, 'verified': False, 'statuses_count': 1252, 'lang': 'en', 'contributors_enabled': False, 'is_translator': False, 'is_translation_enabled': False, 'profile_background_color': 'C0DEED', 'profile_background_image_url': 'http://abs.twimg.com/images/themes/theme1/bg.png', 'profile_background_image_url_https': 'https://abs.twimg.com/images/themes/theme1/bg.png', 'profile_background_tile': False, 'profile_image_url': 'http://pbs.twimg.com/profile_images/665644811743965184/7Q8tHEvA_normal.jpg', 'profile_image_url_https': 'https://pbs.twimg.com/profile_images/665644811743965184/7Q8tHEvA_normal.jpg', 'profile_banner_url': 'https://pbs.twimg.com/profile_banners/4038827354/1445976078', 'profile_link_color': '1DA1F2', 'profile_sidebar_border_color': 'C0DEED', 'profile_sidebar_fill_color': 'DDEEF6', 'profile_text_color': '333333', 'profile_use_background_image': True, 'has_extended_profile': True, 'default_profile': True, 'default_profile_image': False, 'following': None, 'follow_request_sent': None, 'notifications': None, 'translator_type': 'none'}, 'geo': None, 'coordinates': None, 'place': {'id': '435a15a8bf629083', 'url': 'https://api.twitter.com/1.1/geo/id/435a15a8bf629083.json', 'place_type': 'city', 'name': 'Coquitlam', 'full_name': 'Coquitlam, British Columbia', 'country_code': 'CA', 'country': 'Canada', 'contained_within': [], 'bounding_box': {'type': 'Polygon', 'coordinates': [[[-122.893434, 49.219352], [-122.618118, 49.219352], [-122.618118, 49.351565], [-122.893434, 49.351565]]]}, 'attributes': {}}, 'contributors': None, 'is_quote_status': False, 'retweet_count': 3, 'favorite_count': 11, 'favorited': False, 'retweeted': False, 'possibly_sensitive': False, 'lang': 'en'}, 'is_quote_status': False, 'retweet_count': 3, 'favorite_count': 0, 'favorited': False, 'retweeted': False, 'possibly_sensitive': False, 'lang': 'en'}, created_at=datetime.datetime(2017, 10, 5, 0, 39, 32), id=915738188152532992, id_str='915738188152532992', text='RT @mamm1962: #sunsets are beautiful in #costarica \\n#puravida https://t.co/MfNp7E3Q4e', truncated=False, entities={'hashtags': [{'text': 'sunsets', 'indices': [14, 22]}, {'text': 'costarica', 'indices': [40, 50]}, {'text': 'puravida', 'indices': [52, 61]}], 'symbols': [], 'user_mentions': [{'screen_name': 'mamm1962', 'name': 'M_A_M_M', 'id': 4038827354, 'id_str': '4038827354', 'indices': [3, 12]}], 'urls': [], 'media': [{'id': 908069179109945344, 'id_str': '908069179109945344', 'indices': [62, 85], 'media_url': 'http://pbs.twimg.com/media/DJocG3RUMAA6r8_.jpg', 'media_url_https': 'https://pbs.twimg.com/media/DJocG3RUMAA6r8_.jpg', 'url': 'https://t.co/MfNp7E3Q4e', 'display_url': 'pic.twitter.com/MfNp7E3Q4e', 'expanded_url': 'https://twitter.com/mamm1962/status/908069206414864384/photo/1', 'type': 'photo', 'sizes': {'large': {'w': 1024, 'h': 576, 'resize': 'fit'}, 'medium': {'w': 1024, 'h': 576, 'resize': 'fit'}, 'small': {'w': 680, 'h': 383, 'resize': 'fit'}, 'thumb': {'w': 150, 'h': 150, 'resize': 'crop'}}, 'source_status_id': 908069206414864384, 'source_status_id_str': '908069206414864384', 'source_user_id': 4038827354, 'source_user_id_str': '4038827354'}]}, extended_entities={'media': [{'id': 908069179109945344, 'id_str': '908069179109945344', 'indices': [62, 85], 'media_url': 'http://pbs.twimg.com/media/DJocG3RUMAA6r8_.jpg', 'media_url_https': 'https://pbs.twimg.com/media/DJocG3RUMAA6r8_.jpg', 'url': 'https://t.co/MfNp7E3Q4e', 'display_url': 'pic.twitter.com/MfNp7E3Q4e', 'expanded_url': 'https://twitter.com/mamm1962/status/908069206414864384/photo/1', 'type': 'photo', 'sizes': {'large': {'w': 1024, 'h': 576, 'resize': 'fit'}, 'medium': {'w': 1024, 'h': 576, 'resize': 'fit'}, 'small': {'w': 680, 'h': 383, 'resize': 'fit'}, 'thumb': {'w': 150, 'h': 150, 'resize': 'crop'}}, 'source_status_id': 908069206414864384, 'source_status_id_str': '908069206414864384', 'source_user_id': 4038827354, 'source_user_id_str': '4038827354'}, {'id': 908069188605845504, 'id_str': '908069188605845504', 'indices': [62, 85], 'media_url': 'http://pbs.twimg.com/media/DJocHapUIAAA4eL.jpg', 'media_url_https': 'https://pbs.twimg.com/media/DJocHapUIAAA4eL.jpg', 'url': 'https://t.co/MfNp7E3Q4e', 'display_url': 'pic.twitter.com/MfNp7E3Q4e', 'expanded_url': 'https://twitter.com/mamm1962/status/908069206414864384/photo/1', 'type': 'photo', 'sizes': {'small': {'w': 680, 'h': 454, 'resize': 'fit'}, 'large': {'w': 1024, 'h': 683, 'resize': 'fit'}, 'thumb': {'w': 150, 'h': 150, 'resize': 'crop'}, 'medium': {'w': 1024, 'h': 683, 'resize': 'fit'}}, 'source_status_id': 908069206414864384, 'source_status_id_str': '908069206414864384', 'source_user_id': 4038827354, 'source_user_id_str': '4038827354'}, {'id': 908069198349295616, 'id_str': '908069198349295616', 'indices': [62, 85], 'media_url': 'http://pbs.twimg.com/media/DJocH-8VYAAG35W.jpg', 'media_url_https': 'https://pbs.twimg.com/media/DJocH-8VYAAG35W.jpg', 'url': 'https://t.co/MfNp7E3Q4e', 'display_url': 'pic.twitter.com/MfNp7E3Q4e', 'expanded_url': 'https://twitter.com/mamm1962/status/908069206414864384/photo/1', 'type': 'photo', 'sizes': {'large': {'w': 1024, 'h': 576, 'resize': 'fit'}, 'medium': {'w': 1024, 'h': 576, 'resize': 'fit'}, 'small': {'w': 680, 'h': 383, 'resize': 'fit'}, 'thumb': {'w': 150, 'h': 150, 'resize': 'crop'}}, 'source_status_id': 908069206414864384, 'source_status_id_str': '908069206414864384', 'source_user_id': 4038827354, 'source_user_id_str': '4038827354'}]}, metadata={'iso_language_code': 'en', 'result_type': 'recent'}, source='Twitter for iPad', source_url='http://twitter.com/#!/download/ipad', in_reply_to_status_id=None, in_reply_to_status_id_str=None, in_reply_to_user_id=None, in_reply_to_user_id_str=None, in_reply_to_screen_name=None, author=User(_api=<tweepy.api.API object at 0x11b3f9d68>, _json={'id': 775698569961627648, 'id_str': '775698569961627648', 'name': 'Joe', 'screen_name': 'beachesbikes', 'location': '', 'description': '⚓️Beautiful Beaches and hot bikes⚓️', 'url': None, 'entities': {'description': {'urls': []}}, 'protected': False, 'followers_count': 6314, 'friends_count': 5677, 'listed_count': 265, 'created_at': 'Tue Sep 13 14:12:05 +0000 2016', 'favourites_count': 98794, 'utc_offset': None, 'time_zone': None, 'geo_enabled': False, 'verified': False, 'statuses_count': 82730, 'lang': 'en', 'contributors_enabled': False, 'is_translator': False, 'is_translation_enabled': False, 'profile_background_color': 'F5F8FA', 'profile_background_image_url': None, 'profile_background_image_url_https': None, 'profile_background_tile': False, 'profile_image_url': 'http://pbs.twimg.com/profile_images/869623921045381121/CoTZYRz__normal.jpg', 'profile_image_url_https': 'https://pbs.twimg.com/profile_images/869623921045381121/CoTZYRz__normal.jpg', 'profile_banner_url': 'https://pbs.twimg.com/profile_banners/775698569961627648/1503022016', 'profile_link_color': '1DA1F2', 'profile_sidebar_border_color': 'C0DEED', 'profile_sidebar_fill_color': 'DDEEF6', 'profile_text_color': '333333', 'profile_use_background_image': True, 'has_extended_profile': False, 'default_profile': True, 'default_profile_image': False, 'following': None, 'follow_request_sent': None, 'notifications': None, 'translator_type': 'none'}, id=775698569961627648, id_str='775698569961627648', name='Joe', screen_name='beachesbikes', location='', description='⚓️Beautiful Beaches and hot bikes⚓️', url=None, entities={'description': {'urls': []}}, protected=False, followers_count=6314, friends_count=5677, listed_count=265, created_at=datetime.datetime(2016, 9, 13, 14, 12, 5), favourites_count=98794, utc_offset=None, time_zone=None, geo_enabled=False, verified=False, statuses_count=82730, lang='en', contributors_enabled=False, is_translator=False, is_translation_enabled=False, profile_background_color='F5F8FA', profile_background_image_url=None, profile_background_image_url_https=None, profile_background_tile=False, profile_image_url='http://pbs.twimg.com/profile_images/869623921045381121/CoTZYRz__normal.jpg', profile_image_url_https='https://pbs.twimg.com/profile_images/869623921045381121/CoTZYRz__normal.jpg', profile_banner_url='https://pbs.twimg.com/profile_banners/775698569961627648/1503022016', profile_link_color='1DA1F2', profile_sidebar_border_color='C0DEED', profile_sidebar_fill_color='DDEEF6', profile_text_color='333333', profile_use_background_image=True, has_extended_profile=False, default_profile=True, default_profile_image=False, following=False, follow_request_sent=None, notifications=None, translator_type='none'), user=User(_api=<tweepy.api.API object at 0x11b3f9d68>, _json={'id': 775698569961627648, 'id_str': '775698569961627648', 'name': 'Joe', 'screen_name': 'beachesbikes', 'location': '', 'description': '⚓️Beautiful Beaches and hot bikes⚓️', 'url': None, 'entities': {'description': {'urls': []}}, 'protected': False, 'followers_count': 6314, 'friends_count': 5677, 'listed_count': 265, 'created_at': 'Tue Sep 13 14:12:05 +0000 2016', 'favourites_count': 98794, 'utc_offset': None, 'time_zone': None, 'geo_enabled': False, 'verified': False, 'statuses_count': 82730, 'lang': 'en', 'contributors_enabled': False, 'is_translator': False, 'is_translation_enabled': False, 'profile_background_color': 'F5F8FA', 'profile_background_image_url': None, 'profile_background_image_url_https': None, 'profile_background_tile': False, 'profile_image_url': 'http://pbs.twimg.com/profile_images/869623921045381121/CoTZYRz__normal.jpg', 'profile_image_url_https': 'https://pbs.twimg.com/profile_images/869623921045381121/CoTZYRz__normal.jpg', 'profile_banner_url': 'https://pbs.twimg.com/profile_banners/775698569961627648/1503022016', 'profile_link_color': '1DA1F2', 'profile_sidebar_border_color': 'C0DEED', 'profile_sidebar_fill_color': 'DDEEF6', 'profile_text_color': '333333', 'profile_use_background_image': True, 'has_extended_profile': False, 'default_profile': True, 'default_profile_image': False, 'following': None, 'follow_request_sent': None, 'notifications': None, 'translator_type': 'none'}, id=775698569961627648, id_str='775698569961627648', name='Joe', screen_name='beachesbikes', location='', description='⚓️Beautiful Beaches and hot bikes⚓️', url=None, entities={'description': {'urls': []}}, protected=False, followers_count=6314, friends_count=5677, listed_count=265, created_at=datetime.datetime(2016, 9, 13, 14, 12, 5), favourites_count=98794, utc_offset=None, time_zone=None, geo_enabled=False, verified=False, statuses_count=82730, lang='en', contributors_enabled=False, is_translator=False, is_translation_enabled=False, profile_background_color='F5F8FA', profile_background_image_url=None, profile_background_image_url_https=None, profile_background_tile=False, profile_image_url='http://pbs.twimg.com/profile_images/869623921045381121/CoTZYRz__normal.jpg', profile_image_url_https='https://pbs.twimg.com/profile_images/869623921045381121/CoTZYRz__normal.jpg', profile_banner_url='https://pbs.twimg.com/profile_banners/775698569961627648/1503022016', profile_link_color='1DA1F2', profile_sidebar_border_color='C0DEED', profile_sidebar_fill_color='DDEEF6', profile_text_color='333333', profile_use_background_image=True, has_extended_profile=False, default_profile=True, default_profile_image=False, following=False, follow_request_sent=None, notifications=None, translator_type='none'), geo=None, coordinates=None, place=None, contributors=None, retweeted_status=Status(_api=<tweepy.api.API object at 0x11b3f9d68>, _json={'created_at': 'Wed Sep 13 20:45:44 +0000 2017', 'id': 908069206414864384, 'id_str': '908069206414864384', 'text': '#sunsets are beautiful in #costarica \\n#puravida https://t.co/MfNp7E3Q4e', 'truncated': False, 'entities': {'hashtags': [{'text': 'sunsets', 'indices': [0, 8]}, {'text': 'costarica', 'indices': [26, 36]}, {'text': 'puravida', 'indices': [38, 47]}], 'symbols': [], 'user_mentions': [], 'urls': [], 'media': [{'id': 908069179109945344, 'id_str': '908069179109945344', 'indices': [48, 71], 'media_url': 'http://pbs.twimg.com/media/DJocG3RUMAA6r8_.jpg', 'media_url_https': 'https://pbs.twimg.com/media/DJocG3RUMAA6r8_.jpg', 'url': 'https://t.co/MfNp7E3Q4e', 'display_url': 'pic.twitter.com/MfNp7E3Q4e', 'expanded_url': 'https://twitter.com/mamm1962/status/908069206414864384/photo/1', 'type': 'photo', 'sizes': {'large': {'w': 1024, 'h': 576, 'resize': 'fit'}, 'medium': {'w': 1024, 'h': 576, 'resize': 'fit'}, 'small': {'w': 680, 'h': 383, 'resize': 'fit'}, 'thumb': {'w': 150, 'h': 150, 'resize': 'crop'}}}]}, 'extended_entities': {'media': [{'id': 908069179109945344, 'id_str': '908069179109945344', 'indices': [48, 71], 'media_url': 'http://pbs.twimg.com/media/DJocG3RUMAA6r8_.jpg', 'media_url_https': 'https://pbs.twimg.com/media/DJocG3RUMAA6r8_.jpg', 'url': 'https://t.co/MfNp7E3Q4e', 'display_url': 'pic.twitter.com/MfNp7E3Q4e', 'expanded_url': 'https://twitter.com/mamm1962/status/908069206414864384/photo/1', 'type': 'photo', 'sizes': {'large': {'w': 1024, 'h': 576, 'resize': 'fit'}, 'medium': {'w': 1024, 'h': 576, 'resize': 'fit'}, 'small': {'w': 680, 'h': 383, 'resize': 'fit'}, 'thumb': {'w': 150, 'h': 150, 'resize': 'crop'}}}, {'id': 908069188605845504, 'id_str': '908069188605845504', 'indices': [48, 71], 'media_url': 'http://pbs.twimg.com/media/DJocHapUIAAA4eL.jpg', 'media_url_https': 'https://pbs.twimg.com/media/DJocHapUIAAA4eL.jpg', 'url': 'https://t.co/MfNp7E3Q4e', 'display_url': 'pic.twitter.com/MfNp7E3Q4e', 'expanded_url': 'https://twitter.com/mamm1962/status/908069206414864384/photo/1', 'type': 'photo', 'sizes': {'small': {'w': 680, 'h': 454, 'resize': 'fit'}, 'large': {'w': 1024, 'h': 683, 'resize': 'fit'}, 'thumb': {'w': 150, 'h': 150, 'resize': 'crop'}, 'medium': {'w': 1024, 'h': 683, 'resize': 'fit'}}}, {'id': 908069198349295616, 'id_str': '908069198349295616', 'indices': [48, 71], 'media_url': 'http://pbs.twimg.com/media/DJocH-8VYAAG35W.jpg', 'media_url_https': 'https://pbs.twimg.com/media/DJocH-8VYAAG35W.jpg', 'url': 'https://t.co/MfNp7E3Q4e', 'display_url': 'pic.twitter.com/MfNp7E3Q4e', 'expanded_url': 'https://twitter.com/mamm1962/status/908069206414864384/photo/1', 'type': 'photo', 'sizes': {'large': {'w': 1024, 'h': 576, 'resize': 'fit'}, 'medium': {'w': 1024, 'h': 576, 'resize': 'fit'}, 'small': {'w': 680, 'h': 383, 'resize': 'fit'}, 'thumb': {'w': 150, 'h': 150, 'resize': 'crop'}}}]}, 'metadata': {'iso_language_code': 'en', 'result_type': 'recent'}, 'source': '<a href=\"http://twitter.com/download/android\" rel=\"nofollow\">Twitter for Android</a>', 'in_reply_to_status_id': None, 'in_reply_to_status_id_str': None, 'in_reply_to_user_id': None, 'in_reply_to_user_id_str': None, 'in_reply_to_screen_name': None, 'user': {'id': 4038827354, 'id_str': '4038827354', 'name': 'M_A_M_M', 'screen_name': 'mamm1962', 'location': 'British Columbia, Canada', 'description': '🌺 Costa Rica 🌺 and 🌺 Hawaii 🌺\\nare my two favorite places to be 😊\\n\\nI ❤ the sun 🌞 the ocean 🌊 and sand between my toes 😊', 'url': 'https://t.co/ihOVs9L8pp', 'entities': {'url': {'urls': [{'url': 'https://t.co/ihOVs9L8pp', 'expanded_url': 'http://www.instagram.com/m.a.m.m.62/', 'display_url': 'instagram.com/m.a.m.m.62/', 'indices': [0, 23]}]}, 'description': {'urls': []}}, 'protected': False, 'followers_count': 1135, 'friends_count': 1018, 'listed_count': 24, 'created_at': 'Tue Oct 27 19:57:11 +0000 2015', 'favourites_count': 7208, 'utc_offset': -25200, 'time_zone': 'Pacific Time (US & Canada)', 'geo_enabled': True, 'verified': False, 'statuses_count': 1252, 'lang': 'en', 'contributors_enabled': False, 'is_translator': False, 'is_translation_enabled': False, 'profile_background_color': 'C0DEED', 'profile_background_image_url': 'http://abs.twimg.com/images/themes/theme1/bg.png', 'profile_background_image_url_https': 'https://abs.twimg.com/images/themes/theme1/bg.png', 'profile_background_tile': False, 'profile_image_url': 'http://pbs.twimg.com/profile_images/665644811743965184/7Q8tHEvA_normal.jpg', 'profile_image_url_https': 'https://pbs.twimg.com/profile_images/665644811743965184/7Q8tHEvA_normal.jpg', 'profile_banner_url': 'https://pbs.twimg.com/profile_banners/4038827354/1445976078', 'profile_link_color': '1DA1F2', 'profile_sidebar_border_color': 'C0DEED', 'profile_sidebar_fill_color': 'DDEEF6', 'profile_text_color': '333333', 'profile_use_background_image': True, 'has_extended_profile': True, 'default_profile': True, 'default_profile_image': False, 'following': None, 'follow_request_sent': None, 'notifications': None, 'translator_type': 'none'}, 'geo': None, 'coordinates': None, 'place': {'id': '435a15a8bf629083', 'url': 'https://api.twitter.com/1.1/geo/id/435a15a8bf629083.json', 'place_type': 'city', 'name': 'Coquitlam', 'full_name': 'Coquitlam, British Columbia', 'country_code': 'CA', 'country': 'Canada', 'contained_within': [], 'bounding_box': {'type': 'Polygon', 'coordinates': [[[-122.893434, 49.219352], [-122.618118, 49.219352], [-122.618118, 49.351565], [-122.893434, 49.351565]]]}, 'attributes': {}}, 'contributors': None, 'is_quote_status': False, 'retweet_count': 3, 'favorite_count': 11, 'favorited': False, 'retweeted': False, 'possibly_sensitive': False, 'lang': 'en'}, created_at=datetime.datetime(2017, 9, 13, 20, 45, 44), id=908069206414864384, id_str='908069206414864384', text='#sunsets are beautiful in #costarica \\n#puravida https://t.co/MfNp7E3Q4e', truncated=False, entities={'hashtags': [{'text': 'sunsets', 'indices': [0, 8]}, {'text': 'costarica', 'indices': [26, 36]}, {'text': 'puravida', 'indices': [38, 47]}], 'symbols': [], 'user_mentions': [], 'urls': [], 'media': [{'id': 908069179109945344, 'id_str': '908069179109945344', 'indices': [48, 71], 'media_url': 'http://pbs.twimg.com/media/DJocG3RUMAA6r8_.jpg', 'media_url_https': 'https://pbs.twimg.com/media/DJocG3RUMAA6r8_.jpg', 'url': 'https://t.co/MfNp7E3Q4e', 'display_url': 'pic.twitter.com/MfNp7E3Q4e', 'expanded_url': 'https://twitter.com/mamm1962/status/908069206414864384/photo/1', 'type': 'photo', 'sizes': {'large': {'w': 1024, 'h': 576, 'resize': 'fit'}, 'medium': {'w': 1024, 'h': 576, 'resize': 'fit'}, 'small': {'w': 680, 'h': 383, 'resize': 'fit'}, 'thumb': {'w': 150, 'h': 150, 'resize': 'crop'}}}]}, extended_entities={'media': [{'id': 908069179109945344, 'id_str': '908069179109945344', 'indices': [48, 71], 'media_url': 'http://pbs.twimg.com/media/DJocG3RUMAA6r8_.jpg', 'media_url_https': 'https://pbs.twimg.com/media/DJocG3RUMAA6r8_.jpg', 'url': 'https://t.co/MfNp7E3Q4e', 'display_url': 'pic.twitter.com/MfNp7E3Q4e', 'expanded_url': 'https://twitter.com/mamm1962/status/908069206414864384/photo/1', 'type': 'photo', 'sizes': {'large': {'w': 1024, 'h': 576, 'resize': 'fit'}, 'medium': {'w': 1024, 'h': 576, 'resize': 'fit'}, 'small': {'w': 680, 'h': 383, 'resize': 'fit'}, 'thumb': {'w': 150, 'h': 150, 'resize': 'crop'}}}, {'id': 908069188605845504, 'id_str': '908069188605845504', 'indices': [48, 71], 'media_url': 'http://pbs.twimg.com/media/DJocHapUIAAA4eL.jpg', 'media_url_https': 'https://pbs.twimg.com/media/DJocHapUIAAA4eL.jpg', 'url': 'https://t.co/MfNp7E3Q4e', 'display_url': 'pic.twitter.com/MfNp7E3Q4e', 'expanded_url': 'https://twitter.com/mamm1962/status/908069206414864384/photo/1', 'type': 'photo', 'sizes': {'small': {'w': 680, 'h': 454, 'resize': 'fit'}, 'large': {'w': 1024, 'h': 683, 'resize': 'fit'}, 'thumb': {'w': 150, 'h': 150, 'resize': 'crop'}, 'medium': {'w': 1024, 'h': 683, 'resize': 'fit'}}}, {'id': 908069198349295616, 'id_str': '908069198349295616', 'indices': [48, 71], 'media_url': 'http://pbs.twimg.com/media/DJocH-8VYAAG35W.jpg', 'media_url_https': 'https://pbs.twimg.com/media/DJocH-8VYAAG35W.jpg', 'url': 'https://t.co/MfNp7E3Q4e', 'display_url': 'pic.twitter.com/MfNp7E3Q4e', 'expanded_url': 'https://twitter.com/mamm1962/status/908069206414864384/photo/1', 'type': 'photo', 'sizes': {'large': {'w': 1024, 'h': 576, 'resize': 'fit'}, 'medium': {'w': 1024, 'h': 576, 'resize': 'fit'}, 'small': {'w': 680, 'h': 383, 'resize': 'fit'}, 'thumb': {'w': 150, 'h': 150, 'resize': 'crop'}}}]}, metadata={'iso_language_code': 'en', 'result_type': 'recent'}, source='Twitter for Android', source_url='http://twitter.com/download/android', in_reply_to_status_id=None, in_reply_to_status_id_str=None, in_reply_to_user_id=None, in_reply_to_user_id_str=None, in_reply_to_screen_name=None, author=User(_api=<tweepy.api.API object at 0x11b3f9d68>, _json={'id': 4038827354, 'id_str': '4038827354', 'name': 'M_A_M_M', 'screen_name': 'mamm1962', 'location': 'British Columbia, Canada', 'description': '🌺 Costa Rica 🌺 and 🌺 Hawaii 🌺\\nare my two favorite places to be 😊\\n\\nI ❤ the sun 🌞 the ocean 🌊 and sand between my toes 😊', 'url': 'https://t.co/ihOVs9L8pp', 'entities': {'url': {'urls': [{'url': 'https://t.co/ihOVs9L8pp', 'expanded_url': 'http://www.instagram.com/m.a.m.m.62/', 'display_url': 'instagram.com/m.a.m.m.62/', 'indices': [0, 23]}]}, 'description': {'urls': []}}, 'protected': False, 'followers_count': 1135, 'friends_count': 1018, 'listed_count': 24, 'created_at': 'Tue Oct 27 19:57:11 +0000 2015', 'favourites_count': 7208, 'utc_offset': -25200, 'time_zone': 'Pacific Time (US & Canada)', 'geo_enabled': True, 'verified': False, 'statuses_count': 1252, 'lang': 'en', 'contributors_enabled': False, 'is_translator': False, 'is_translation_enabled': False, 'profile_background_color': 'C0DEED', 'profile_background_image_url': 'http://abs.twimg.com/images/themes/theme1/bg.png', 'profile_background_image_url_https': 'https://abs.twimg.com/images/themes/theme1/bg.png', 'profile_background_tile': False, 'profile_image_url': 'http://pbs.twimg.com/profile_images/665644811743965184/7Q8tHEvA_normal.jpg', 'profile_image_url_https': 'https://pbs.twimg.com/profile_images/665644811743965184/7Q8tHEvA_normal.jpg', 'profile_banner_url': 'https://pbs.twimg.com/profile_banners/4038827354/1445976078', 'profile_link_color': '1DA1F2', 'profile_sidebar_border_color': 'C0DEED', 'profile_sidebar_fill_color': 'DDEEF6', 'profile_text_color': '333333', 'profile_use_background_image': True, 'has_extended_profile': True, 'default_profile': True, 'default_profile_image': False, 'following': None, 'follow_request_sent': None, 'notifications': None, 'translator_type': 'none'}, id=4038827354, id_str='4038827354', name='M_A_M_M', screen_name='mamm1962', location='British Columbia, Canada', description='🌺 Costa Rica 🌺 and 🌺 Hawaii 🌺\\nare my two favorite places to be 😊\\n\\nI ❤ the sun 🌞 the ocean 🌊 and sand between my toes 😊', url='https://t.co/ihOVs9L8pp', entities={'url': {'urls': [{'url': 'https://t.co/ihOVs9L8pp', 'expanded_url': 'http://www.instagram.com/m.a.m.m.62/', 'display_url': 'instagram.com/m.a.m.m.62/', 'indices': [0, 23]}]}, 'description': {'urls': []}}, protected=False, followers_count=1135, friends_count=1018, listed_count=24, created_at=datetime.datetime(2015, 10, 27, 19, 57, 11), favourites_count=7208, utc_offset=-25200, time_zone='Pacific Time (US & Canada)', geo_enabled=True, verified=False, statuses_count=1252, lang='en', contributors_enabled=False, is_translator=False, is_translation_enabled=False, profile_background_color='C0DEED', profile_background_image_url='http://abs.twimg.com/images/themes/theme1/bg.png', profile_background_image_url_https='https://abs.twimg.com/images/themes/theme1/bg.png', profile_background_tile=False, profile_image_url='http://pbs.twimg.com/profile_images/665644811743965184/7Q8tHEvA_normal.jpg', profile_image_url_https='https://pbs.twimg.com/profile_images/665644811743965184/7Q8tHEvA_normal.jpg', profile_banner_url='https://pbs.twimg.com/profile_banners/4038827354/1445976078', profile_link_color='1DA1F2', profile_sidebar_border_color='C0DEED', profile_sidebar_fill_color='DDEEF6', profile_text_color='333333', profile_use_background_image=True, has_extended_profile=True, default_profile=True, default_profile_image=False, following=False, follow_request_sent=None, notifications=None, translator_type='none'), user=User(_api=<tweepy.api.API object at 0x11b3f9d68>, _json={'id': 4038827354, 'id_str': '4038827354', 'name': 'M_A_M_M', 'screen_name': 'mamm1962', 'location': 'British Columbia, Canada', 'description': '🌺 Costa Rica 🌺 and 🌺 Hawaii 🌺\\nare my two favorite places to be 😊\\n\\nI ❤ the sun 🌞 the ocean 🌊 and sand between my toes 😊', 'url': 'https://t.co/ihOVs9L8pp', 'entities': {'url': {'urls': [{'url': 'https://t.co/ihOVs9L8pp', 'expanded_url': 'http://www.instagram.com/m.a.m.m.62/', 'display_url': 'instagram.com/m.a.m.m.62/', 'indices': [0, 23]}]}, 'description': {'urls': []}}, 'protected': False, 'followers_count': 1135, 'friends_count': 1018, 'listed_count': 24, 'created_at': 'Tue Oct 27 19:57:11 +0000 2015', 'favourites_count': 7208, 'utc_offset': -25200, 'time_zone': 'Pacific Time (US & Canada)', 'geo_enabled': True, 'verified': False, 'statuses_count': 1252, 'lang': 'en', 'contributors_enabled': False, 'is_translator': False, 'is_translation_enabled': False, 'profile_background_color': 'C0DEED', 'profile_background_image_url': 'http://abs.twimg.com/images/themes/theme1/bg.png', 'profile_background_image_url_https': 'https://abs.twimg.com/images/themes/theme1/bg.png', 'profile_background_tile': False, 'profile_image_url': 'http://pbs.twimg.com/profile_images/665644811743965184/7Q8tHEvA_normal.jpg', 'profile_image_url_https': 'https://pbs.twimg.com/profile_images/665644811743965184/7Q8tHEvA_normal.jpg', 'profile_banner_url': 'https://pbs.twimg.com/profile_banners/4038827354/1445976078', 'profile_link_color': '1DA1F2', 'profile_sidebar_border_color': 'C0DEED', 'profile_sidebar_fill_color': 'DDEEF6', 'profile_text_color': '333333', 'profile_use_background_image': True, 'has_extended_profile': True, 'default_profile': True, 'default_profile_image': False, 'following': None, 'follow_request_sent': None, 'notifications': None, 'translator_type': 'none'}, id=4038827354, id_str='4038827354', name='M_A_M_M', screen_name='mamm1962', location='British Columbia, Canada', description='🌺 Costa Rica 🌺 and 🌺 Hawaii 🌺\\nare my two favorite places to be 😊\\n\\nI ❤ the sun 🌞 the ocean 🌊 and sand between my toes 😊', url='https://t.co/ihOVs9L8pp', entities={'url': {'urls': [{'url': 'https://t.co/ihOVs9L8pp', 'expanded_url': 'http://www.instagram.com/m.a.m.m.62/', 'display_url': 'instagram.com/m.a.m.m.62/', 'indices': [0, 23]}]}, 'description': {'urls': []}}, protected=False, followers_count=1135, friends_count=1018, listed_count=24, created_at=datetime.datetime(2015, 10, 27, 19, 57, 11), favourites_count=7208, utc_offset=-25200, time_zone='Pacific Time (US & Canada)', geo_enabled=True, verified=False, statuses_count=1252, lang='en', contributors_enabled=False, is_translator=False, is_translation_enabled=False, profile_background_color='C0DEED', profile_background_image_url='http://abs.twimg.com/images/themes/theme1/bg.png', profile_background_image_url_https='https://abs.twimg.com/images/themes/theme1/bg.png', profile_background_tile=False, profile_image_url='http://pbs.twimg.com/profile_images/665644811743965184/7Q8tHEvA_normal.jpg', profile_image_url_https='https://pbs.twimg.com/profile_images/665644811743965184/7Q8tHEvA_normal.jpg', profile_banner_url='https://pbs.twimg.com/profile_banners/4038827354/1445976078', profile_link_color='1DA1F2', profile_sidebar_border_color='C0DEED', profile_sidebar_fill_color='DDEEF6', profile_text_color='333333', profile_use_background_image=True, has_extended_profile=True, default_profile=True, default_profile_image=False, following=False, follow_request_sent=None, notifications=None, translator_type='none'), geo=None, coordinates=None, place=Place(_api=<tweepy.api.API object at 0x11b3f9d68>, id='435a15a8bf629083', url='https://api.twitter.com/1.1/geo/id/435a15a8bf629083.json', place_type='city', name='Coquitlam', full_name='Coquitlam, British Columbia', country_code='CA', country='Canada', contained_within=[], bounding_box=BoundingBox(_api=<tweepy.api.API object at 0x11b3f9d68>, type='Polygon', coordinates=[[[-122.893434, 49.219352], [-122.618118, 49.219352], [-122.618118, 49.351565], [-122.893434, 49.351565]]]), attributes={}), contributors=None, is_quote_status=False, retweet_count=3, favorite_count=11, favorited=False, retweeted=False, possibly_sensitive=False, lang='en'), is_quote_status=False, retweet_count=3, favorite_count=0, favorited=False, retweeted=False, possibly_sensitive=False, lang='en')>\n",
      "\n",
      "favorite_count : 0\n",
      "\n",
      "favorited : False\n",
      "\n",
      "geo : None\n",
      "\n",
      "id : 915738188152532992\n",
      "\n",
      "id_str : 915738188152532992\n",
      "\n",
      "in_reply_to_screen_name : None\n",
      "\n",
      "in_reply_to_status_id : None\n",
      "\n",
      "in_reply_to_status_id_str : None\n",
      "\n",
      "in_reply_to_user_id : None\n",
      "\n",
      "in_reply_to_user_id_str : None\n",
      "\n",
      "is_quote_status : False\n",
      "\n",
      "lang : en\n",
      "\n",
      "metadata : {'iso_language_code': 'en', 'result_type': 'recent'}\n",
      "\n",
      "parse : <bound method Status.parse of <class 'tweepy.models.Status'>>\n",
      "\n",
      "parse_list : <bound method Model.parse_list of <class 'tweepy.models.Status'>>\n",
      "\n",
      "place : None\n",
      "\n",
      "possibly_sensitive : False\n",
      "\n",
      "retweet : <bound method Status.retweet of Status(_api=<tweepy.api.API object at 0x11b3f9d68>, _json={'created_at': 'Thu Oct 05 00:39:32 +0000 2017', 'id': 915738188152532992, 'id_str': '915738188152532992', 'text': 'RT @mamm1962: #sunsets are beautiful in #costarica \\n#puravida https://t.co/MfNp7E3Q4e', 'truncated': False, 'entities': {'hashtags': [{'text': 'sunsets', 'indices': [14, 22]}, {'text': 'costarica', 'indices': [40, 50]}, {'text': 'puravida', 'indices': [52, 61]}], 'symbols': [], 'user_mentions': [{'screen_name': 'mamm1962', 'name': 'M_A_M_M', 'id': 4038827354, 'id_str': '4038827354', 'indices': [3, 12]}], 'urls': [], 'media': [{'id': 908069179109945344, 'id_str': '908069179109945344', 'indices': [62, 85], 'media_url': 'http://pbs.twimg.com/media/DJocG3RUMAA6r8_.jpg', 'media_url_https': 'https://pbs.twimg.com/media/DJocG3RUMAA6r8_.jpg', 'url': 'https://t.co/MfNp7E3Q4e', 'display_url': 'pic.twitter.com/MfNp7E3Q4e', 'expanded_url': 'https://twitter.com/mamm1962/status/908069206414864384/photo/1', 'type': 'photo', 'sizes': {'large': {'w': 1024, 'h': 576, 'resize': 'fit'}, 'medium': {'w': 1024, 'h': 576, 'resize': 'fit'}, 'small': {'w': 680, 'h': 383, 'resize': 'fit'}, 'thumb': {'w': 150, 'h': 150, 'resize': 'crop'}}, 'source_status_id': 908069206414864384, 'source_status_id_str': '908069206414864384', 'source_user_id': 4038827354, 'source_user_id_str': '4038827354'}]}, 'extended_entities': {'media': [{'id': 908069179109945344, 'id_str': '908069179109945344', 'indices': [62, 85], 'media_url': 'http://pbs.twimg.com/media/DJocG3RUMAA6r8_.jpg', 'media_url_https': 'https://pbs.twimg.com/media/DJocG3RUMAA6r8_.jpg', 'url': 'https://t.co/MfNp7E3Q4e', 'display_url': 'pic.twitter.com/MfNp7E3Q4e', 'expanded_url': 'https://twitter.com/mamm1962/status/908069206414864384/photo/1', 'type': 'photo', 'sizes': {'large': {'w': 1024, 'h': 576, 'resize': 'fit'}, 'medium': {'w': 1024, 'h': 576, 'resize': 'fit'}, 'small': {'w': 680, 'h': 383, 'resize': 'fit'}, 'thumb': {'w': 150, 'h': 150, 'resize': 'crop'}}, 'source_status_id': 908069206414864384, 'source_status_id_str': '908069206414864384', 'source_user_id': 4038827354, 'source_user_id_str': '4038827354'}, {'id': 908069188605845504, 'id_str': '908069188605845504', 'indices': [62, 85], 'media_url': 'http://pbs.twimg.com/media/DJocHapUIAAA4eL.jpg', 'media_url_https': 'https://pbs.twimg.com/media/DJocHapUIAAA4eL.jpg', 'url': 'https://t.co/MfNp7E3Q4e', 'display_url': 'pic.twitter.com/MfNp7E3Q4e', 'expanded_url': 'https://twitter.com/mamm1962/status/908069206414864384/photo/1', 'type': 'photo', 'sizes': {'small': {'w': 680, 'h': 454, 'resize': 'fit'}, 'large': {'w': 1024, 'h': 683, 'resize': 'fit'}, 'thumb': {'w': 150, 'h': 150, 'resize': 'crop'}, 'medium': {'w': 1024, 'h': 683, 'resize': 'fit'}}, 'source_status_id': 908069206414864384, 'source_status_id_str': '908069206414864384', 'source_user_id': 4038827354, 'source_user_id_str': '4038827354'}, {'id': 908069198349295616, 'id_str': '908069198349295616', 'indices': [62, 85], 'media_url': 'http://pbs.twimg.com/media/DJocH-8VYAAG35W.jpg', 'media_url_https': 'https://pbs.twimg.com/media/DJocH-8VYAAG35W.jpg', 'url': 'https://t.co/MfNp7E3Q4e', 'display_url': 'pic.twitter.com/MfNp7E3Q4e', 'expanded_url': 'https://twitter.com/mamm1962/status/908069206414864384/photo/1', 'type': 'photo', 'sizes': {'large': {'w': 1024, 'h': 576, 'resize': 'fit'}, 'medium': {'w': 1024, 'h': 576, 'resize': 'fit'}, 'small': {'w': 680, 'h': 383, 'resize': 'fit'}, 'thumb': {'w': 150, 'h': 150, 'resize': 'crop'}}, 'source_status_id': 908069206414864384, 'source_status_id_str': '908069206414864384', 'source_user_id': 4038827354, 'source_user_id_str': '4038827354'}]}, 'metadata': {'iso_language_code': 'en', 'result_type': 'recent'}, 'source': '<a href=\"http://twitter.com/#!/download/ipad\" rel=\"nofollow\">Twitter for iPad</a>', 'in_reply_to_status_id': None, 'in_reply_to_status_id_str': None, 'in_reply_to_user_id': None, 'in_reply_to_user_id_str': None, 'in_reply_to_screen_name': None, 'user': {'id': 775698569961627648, 'id_str': '775698569961627648', 'name': 'Joe', 'screen_name': 'beachesbikes', 'location': '', 'description': '⚓️Beautiful Beaches and hot bikes⚓️', 'url': None, 'entities': {'description': {'urls': []}}, 'protected': False, 'followers_count': 6314, 'friends_count': 5677, 'listed_count': 265, 'created_at': 'Tue Sep 13 14:12:05 +0000 2016', 'favourites_count': 98794, 'utc_offset': None, 'time_zone': None, 'geo_enabled': False, 'verified': False, 'statuses_count': 82730, 'lang': 'en', 'contributors_enabled': False, 'is_translator': False, 'is_translation_enabled': False, 'profile_background_color': 'F5F8FA', 'profile_background_image_url': None, 'profile_background_image_url_https': None, 'profile_background_tile': False, 'profile_image_url': 'http://pbs.twimg.com/profile_images/869623921045381121/CoTZYRz__normal.jpg', 'profile_image_url_https': 'https://pbs.twimg.com/profile_images/869623921045381121/CoTZYRz__normal.jpg', 'profile_banner_url': 'https://pbs.twimg.com/profile_banners/775698569961627648/1503022016', 'profile_link_color': '1DA1F2', 'profile_sidebar_border_color': 'C0DEED', 'profile_sidebar_fill_color': 'DDEEF6', 'profile_text_color': '333333', 'profile_use_background_image': True, 'has_extended_profile': False, 'default_profile': True, 'default_profile_image': False, 'following': None, 'follow_request_sent': None, 'notifications': None, 'translator_type': 'none'}, 'geo': None, 'coordinates': None, 'place': None, 'contributors': None, 'retweeted_status': {'created_at': 'Wed Sep 13 20:45:44 +0000 2017', 'id': 908069206414864384, 'id_str': '908069206414864384', 'text': '#sunsets are beautiful in #costarica \\n#puravida https://t.co/MfNp7E3Q4e', 'truncated': False, 'entities': {'hashtags': [{'text': 'sunsets', 'indices': [0, 8]}, {'text': 'costarica', 'indices': [26, 36]}, {'text': 'puravida', 'indices': [38, 47]}], 'symbols': [], 'user_mentions': [], 'urls': [], 'media': [{'id': 908069179109945344, 'id_str': '908069179109945344', 'indices': [48, 71], 'media_url': 'http://pbs.twimg.com/media/DJocG3RUMAA6r8_.jpg', 'media_url_https': 'https://pbs.twimg.com/media/DJocG3RUMAA6r8_.jpg', 'url': 'https://t.co/MfNp7E3Q4e', 'display_url': 'pic.twitter.com/MfNp7E3Q4e', 'expanded_url': 'https://twitter.com/mamm1962/status/908069206414864384/photo/1', 'type': 'photo', 'sizes': {'large': {'w': 1024, 'h': 576, 'resize': 'fit'}, 'medium': {'w': 1024, 'h': 576, 'resize': 'fit'}, 'small': {'w': 680, 'h': 383, 'resize': 'fit'}, 'thumb': {'w': 150, 'h': 150, 'resize': 'crop'}}}]}, 'extended_entities': {'media': [{'id': 908069179109945344, 'id_str': '908069179109945344', 'indices': [48, 71], 'media_url': 'http://pbs.twimg.com/media/DJocG3RUMAA6r8_.jpg', 'media_url_https': 'https://pbs.twimg.com/media/DJocG3RUMAA6r8_.jpg', 'url': 'https://t.co/MfNp7E3Q4e', 'display_url': 'pic.twitter.com/MfNp7E3Q4e', 'expanded_url': 'https://twitter.com/mamm1962/status/908069206414864384/photo/1', 'type': 'photo', 'sizes': {'large': {'w': 1024, 'h': 576, 'resize': 'fit'}, 'medium': {'w': 1024, 'h': 576, 'resize': 'fit'}, 'small': {'w': 680, 'h': 383, 'resize': 'fit'}, 'thumb': {'w': 150, 'h': 150, 'resize': 'crop'}}}, {'id': 908069188605845504, 'id_str': '908069188605845504', 'indices': [48, 71], 'media_url': 'http://pbs.twimg.com/media/DJocHapUIAAA4eL.jpg', 'media_url_https': 'https://pbs.twimg.com/media/DJocHapUIAAA4eL.jpg', 'url': 'https://t.co/MfNp7E3Q4e', 'display_url': 'pic.twitter.com/MfNp7E3Q4e', 'expanded_url': 'https://twitter.com/mamm1962/status/908069206414864384/photo/1', 'type': 'photo', 'sizes': {'small': {'w': 680, 'h': 454, 'resize': 'fit'}, 'large': {'w': 1024, 'h': 683, 'resize': 'fit'}, 'thumb': {'w': 150, 'h': 150, 'resize': 'crop'}, 'medium': {'w': 1024, 'h': 683, 'resize': 'fit'}}}, {'id': 908069198349295616, 'id_str': '908069198349295616', 'indices': [48, 71], 'media_url': 'http://pbs.twimg.com/media/DJocH-8VYAAG35W.jpg', 'media_url_https': 'https://pbs.twimg.com/media/DJocH-8VYAAG35W.jpg', 'url': 'https://t.co/MfNp7E3Q4e', 'display_url': 'pic.twitter.com/MfNp7E3Q4e', 'expanded_url': 'https://twitter.com/mamm1962/status/908069206414864384/photo/1', 'type': 'photo', 'sizes': {'large': {'w': 1024, 'h': 576, 'resize': 'fit'}, 'medium': {'w': 1024, 'h': 576, 'resize': 'fit'}, 'small': {'w': 680, 'h': 383, 'resize': 'fit'}, 'thumb': {'w': 150, 'h': 150, 'resize': 'crop'}}}]}, 'metadata': {'iso_language_code': 'en', 'result_type': 'recent'}, 'source': '<a href=\"http://twitter.com/download/android\" rel=\"nofollow\">Twitter for Android</a>', 'in_reply_to_status_id': None, 'in_reply_to_status_id_str': None, 'in_reply_to_user_id': None, 'in_reply_to_user_id_str': None, 'in_reply_to_screen_name': None, 'user': {'id': 4038827354, 'id_str': '4038827354', 'name': 'M_A_M_M', 'screen_name': 'mamm1962', 'location': 'British Columbia, Canada', 'description': '🌺 Costa Rica 🌺 and 🌺 Hawaii 🌺\\nare my two favorite places to be 😊\\n\\nI ❤ the sun 🌞 the ocean 🌊 and sand between my toes 😊', 'url': 'https://t.co/ihOVs9L8pp', 'entities': {'url': {'urls': [{'url': 'https://t.co/ihOVs9L8pp', 'expanded_url': 'http://www.instagram.com/m.a.m.m.62/', 'display_url': 'instagram.com/m.a.m.m.62/', 'indices': [0, 23]}]}, 'description': {'urls': []}}, 'protected': False, 'followers_count': 1135, 'friends_count': 1018, 'listed_count': 24, 'created_at': 'Tue Oct 27 19:57:11 +0000 2015', 'favourites_count': 7208, 'utc_offset': -25200, 'time_zone': 'Pacific Time (US & Canada)', 'geo_enabled': True, 'verified': False, 'statuses_count': 1252, 'lang': 'en', 'contributors_enabled': False, 'is_translator': False, 'is_translation_enabled': False, 'profile_background_color': 'C0DEED', 'profile_background_image_url': 'http://abs.twimg.com/images/themes/theme1/bg.png', 'profile_background_image_url_https': 'https://abs.twimg.com/images/themes/theme1/bg.png', 'profile_background_tile': False, 'profile_image_url': 'http://pbs.twimg.com/profile_images/665644811743965184/7Q8tHEvA_normal.jpg', 'profile_image_url_https': 'https://pbs.twimg.com/profile_images/665644811743965184/7Q8tHEvA_normal.jpg', 'profile_banner_url': 'https://pbs.twimg.com/profile_banners/4038827354/1445976078', 'profile_link_color': '1DA1F2', 'profile_sidebar_border_color': 'C0DEED', 'profile_sidebar_fill_color': 'DDEEF6', 'profile_text_color': '333333', 'profile_use_background_image': True, 'has_extended_profile': True, 'default_profile': True, 'default_profile_image': False, 'following': None, 'follow_request_sent': None, 'notifications': None, 'translator_type': 'none'}, 'geo': None, 'coordinates': None, 'place': {'id': '435a15a8bf629083', 'url': 'https://api.twitter.com/1.1/geo/id/435a15a8bf629083.json', 'place_type': 'city', 'name': 'Coquitlam', 'full_name': 'Coquitlam, British Columbia', 'country_code': 'CA', 'country': 'Canada', 'contained_within': [], 'bounding_box': {'type': 'Polygon', 'coordinates': [[[-122.893434, 49.219352], [-122.618118, 49.219352], [-122.618118, 49.351565], [-122.893434, 49.351565]]]}, 'attributes': {}}, 'contributors': None, 'is_quote_status': False, 'retweet_count': 3, 'favorite_count': 11, 'favorited': False, 'retweeted': False, 'possibly_sensitive': False, 'lang': 'en'}, 'is_quote_status': False, 'retweet_count': 3, 'favorite_count': 0, 'favorited': False, 'retweeted': False, 'possibly_sensitive': False, 'lang': 'en'}, created_at=datetime.datetime(2017, 10, 5, 0, 39, 32), id=915738188152532992, id_str='915738188152532992', text='RT @mamm1962: #sunsets are beautiful in #costarica \\n#puravida https://t.co/MfNp7E3Q4e', truncated=False, entities={'hashtags': [{'text': 'sunsets', 'indices': [14, 22]}, {'text': 'costarica', 'indices': [40, 50]}, {'text': 'puravida', 'indices': [52, 61]}], 'symbols': [], 'user_mentions': [{'screen_name': 'mamm1962', 'name': 'M_A_M_M', 'id': 4038827354, 'id_str': '4038827354', 'indices': [3, 12]}], 'urls': [], 'media': [{'id': 908069179109945344, 'id_str': '908069179109945344', 'indices': [62, 85], 'media_url': 'http://pbs.twimg.com/media/DJocG3RUMAA6r8_.jpg', 'media_url_https': 'https://pbs.twimg.com/media/DJocG3RUMAA6r8_.jpg', 'url': 'https://t.co/MfNp7E3Q4e', 'display_url': 'pic.twitter.com/MfNp7E3Q4e', 'expanded_url': 'https://twitter.com/mamm1962/status/908069206414864384/photo/1', 'type': 'photo', 'sizes': {'large': {'w': 1024, 'h': 576, 'resize': 'fit'}, 'medium': {'w': 1024, 'h': 576, 'resize': 'fit'}, 'small': {'w': 680, 'h': 383, 'resize': 'fit'}, 'thumb': {'w': 150, 'h': 150, 'resize': 'crop'}}, 'source_status_id': 908069206414864384, 'source_status_id_str': '908069206414864384', 'source_user_id': 4038827354, 'source_user_id_str': '4038827354'}]}, extended_entities={'media': [{'id': 908069179109945344, 'id_str': '908069179109945344', 'indices': [62, 85], 'media_url': 'http://pbs.twimg.com/media/DJocG3RUMAA6r8_.jpg', 'media_url_https': 'https://pbs.twimg.com/media/DJocG3RUMAA6r8_.jpg', 'url': 'https://t.co/MfNp7E3Q4e', 'display_url': 'pic.twitter.com/MfNp7E3Q4e', 'expanded_url': 'https://twitter.com/mamm1962/status/908069206414864384/photo/1', 'type': 'photo', 'sizes': {'large': {'w': 1024, 'h': 576, 'resize': 'fit'}, 'medium': {'w': 1024, 'h': 576, 'resize': 'fit'}, 'small': {'w': 680, 'h': 383, 'resize': 'fit'}, 'thumb': {'w': 150, 'h': 150, 'resize': 'crop'}}, 'source_status_id': 908069206414864384, 'source_status_id_str': '908069206414864384', 'source_user_id': 4038827354, 'source_user_id_str': '4038827354'}, {'id': 908069188605845504, 'id_str': '908069188605845504', 'indices': [62, 85], 'media_url': 'http://pbs.twimg.com/media/DJocHapUIAAA4eL.jpg', 'media_url_https': 'https://pbs.twimg.com/media/DJocHapUIAAA4eL.jpg', 'url': 'https://t.co/MfNp7E3Q4e', 'display_url': 'pic.twitter.com/MfNp7E3Q4e', 'expanded_url': 'https://twitter.com/mamm1962/status/908069206414864384/photo/1', 'type': 'photo', 'sizes': {'small': {'w': 680, 'h': 454, 'resize': 'fit'}, 'large': {'w': 1024, 'h': 683, 'resize': 'fit'}, 'thumb': {'w': 150, 'h': 150, 'resize': 'crop'}, 'medium': {'w': 1024, 'h': 683, 'resize': 'fit'}}, 'source_status_id': 908069206414864384, 'source_status_id_str': '908069206414864384', 'source_user_id': 4038827354, 'source_user_id_str': '4038827354'}, {'id': 908069198349295616, 'id_str': '908069198349295616', 'indices': [62, 85], 'media_url': 'http://pbs.twimg.com/media/DJocH-8VYAAG35W.jpg', 'media_url_https': 'https://pbs.twimg.com/media/DJocH-8VYAAG35W.jpg', 'url': 'https://t.co/MfNp7E3Q4e', 'display_url': 'pic.twitter.com/MfNp7E3Q4e', 'expanded_url': 'https://twitter.com/mamm1962/status/908069206414864384/photo/1', 'type': 'photo', 'sizes': {'large': {'w': 1024, 'h': 576, 'resize': 'fit'}, 'medium': {'w': 1024, 'h': 576, 'resize': 'fit'}, 'small': {'w': 680, 'h': 383, 'resize': 'fit'}, 'thumb': {'w': 150, 'h': 150, 'resize': 'crop'}}, 'source_status_id': 908069206414864384, 'source_status_id_str': '908069206414864384', 'source_user_id': 4038827354, 'source_user_id_str': '4038827354'}]}, metadata={'iso_language_code': 'en', 'result_type': 'recent'}, source='Twitter for iPad', source_url='http://twitter.com/#!/download/ipad', in_reply_to_status_id=None, in_reply_to_status_id_str=None, in_reply_to_user_id=None, in_reply_to_user_id_str=None, in_reply_to_screen_name=None, author=User(_api=<tweepy.api.API object at 0x11b3f9d68>, _json={'id': 775698569961627648, 'id_str': '775698569961627648', 'name': 'Joe', 'screen_name': 'beachesbikes', 'location': '', 'description': '⚓️Beautiful Beaches and hot bikes⚓️', 'url': None, 'entities': {'description': {'urls': []}}, 'protected': False, 'followers_count': 6314, 'friends_count': 5677, 'listed_count': 265, 'created_at': 'Tue Sep 13 14:12:05 +0000 2016', 'favourites_count': 98794, 'utc_offset': None, 'time_zone': None, 'geo_enabled': False, 'verified': False, 'statuses_count': 82730, 'lang': 'en', 'contributors_enabled': False, 'is_translator': False, 'is_translation_enabled': False, 'profile_background_color': 'F5F8FA', 'profile_background_image_url': None, 'profile_background_image_url_https': None, 'profile_background_tile': False, 'profile_image_url': 'http://pbs.twimg.com/profile_images/869623921045381121/CoTZYRz__normal.jpg', 'profile_image_url_https': 'https://pbs.twimg.com/profile_images/869623921045381121/CoTZYRz__normal.jpg', 'profile_banner_url': 'https://pbs.twimg.com/profile_banners/775698569961627648/1503022016', 'profile_link_color': '1DA1F2', 'profile_sidebar_border_color': 'C0DEED', 'profile_sidebar_fill_color': 'DDEEF6', 'profile_text_color': '333333', 'profile_use_background_image': True, 'has_extended_profile': False, 'default_profile': True, 'default_profile_image': False, 'following': None, 'follow_request_sent': None, 'notifications': None, 'translator_type': 'none'}, id=775698569961627648, id_str='775698569961627648', name='Joe', screen_name='beachesbikes', location='', description='⚓️Beautiful Beaches and hot bikes⚓️', url=None, entities={'description': {'urls': []}}, protected=False, followers_count=6314, friends_count=5677, listed_count=265, created_at=datetime.datetime(2016, 9, 13, 14, 12, 5), favourites_count=98794, utc_offset=None, time_zone=None, geo_enabled=False, verified=False, statuses_count=82730, lang='en', contributors_enabled=False, is_translator=False, is_translation_enabled=False, profile_background_color='F5F8FA', profile_background_image_url=None, profile_background_image_url_https=None, profile_background_tile=False, profile_image_url='http://pbs.twimg.com/profile_images/869623921045381121/CoTZYRz__normal.jpg', profile_image_url_https='https://pbs.twimg.com/profile_images/869623921045381121/CoTZYRz__normal.jpg', profile_banner_url='https://pbs.twimg.com/profile_banners/775698569961627648/1503022016', profile_link_color='1DA1F2', profile_sidebar_border_color='C0DEED', profile_sidebar_fill_color='DDEEF6', profile_text_color='333333', profile_use_background_image=True, has_extended_profile=False, default_profile=True, default_profile_image=False, following=False, follow_request_sent=None, notifications=None, translator_type='none'), user=User(_api=<tweepy.api.API object at 0x11b3f9d68>, _json={'id': 775698569961627648, 'id_str': '775698569961627648', 'name': 'Joe', 'screen_name': 'beachesbikes', 'location': '', 'description': '⚓️Beautiful Beaches and hot bikes⚓️', 'url': None, 'entities': {'description': {'urls': []}}, 'protected': False, 'followers_count': 6314, 'friends_count': 5677, 'listed_count': 265, 'created_at': 'Tue Sep 13 14:12:05 +0000 2016', 'favourites_count': 98794, 'utc_offset': None, 'time_zone': None, 'geo_enabled': False, 'verified': False, 'statuses_count': 82730, 'lang': 'en', 'contributors_enabled': False, 'is_translator': False, 'is_translation_enabled': False, 'profile_background_color': 'F5F8FA', 'profile_background_image_url': None, 'profile_background_image_url_https': None, 'profile_background_tile': False, 'profile_image_url': 'http://pbs.twimg.com/profile_images/869623921045381121/CoTZYRz__normal.jpg', 'profile_image_url_https': 'https://pbs.twimg.com/profile_images/869623921045381121/CoTZYRz__normal.jpg', 'profile_banner_url': 'https://pbs.twimg.com/profile_banners/775698569961627648/1503022016', 'profile_link_color': '1DA1F2', 'profile_sidebar_border_color': 'C0DEED', 'profile_sidebar_fill_color': 'DDEEF6', 'profile_text_color': '333333', 'profile_use_background_image': True, 'has_extended_profile': False, 'default_profile': True, 'default_profile_image': False, 'following': None, 'follow_request_sent': None, 'notifications': None, 'translator_type': 'none'}, id=775698569961627648, id_str='775698569961627648', name='Joe', screen_name='beachesbikes', location='', description='⚓️Beautiful Beaches and hot bikes⚓️', url=None, entities={'description': {'urls': []}}, protected=False, followers_count=6314, friends_count=5677, listed_count=265, created_at=datetime.datetime(2016, 9, 13, 14, 12, 5), favourites_count=98794, utc_offset=None, time_zone=None, geo_enabled=False, verified=False, statuses_count=82730, lang='en', contributors_enabled=False, is_translator=False, is_translation_enabled=False, profile_background_color='F5F8FA', profile_background_image_url=None, profile_background_image_url_https=None, profile_background_tile=False, profile_image_url='http://pbs.twimg.com/profile_images/869623921045381121/CoTZYRz__normal.jpg', profile_image_url_https='https://pbs.twimg.com/profile_images/869623921045381121/CoTZYRz__normal.jpg', profile_banner_url='https://pbs.twimg.com/profile_banners/775698569961627648/1503022016', profile_link_color='1DA1F2', profile_sidebar_border_color='C0DEED', profile_sidebar_fill_color='DDEEF6', profile_text_color='333333', profile_use_background_image=True, has_extended_profile=False, default_profile=True, default_profile_image=False, following=False, follow_request_sent=None, notifications=None, translator_type='none'), geo=None, coordinates=None, place=None, contributors=None, retweeted_status=Status(_api=<tweepy.api.API object at 0x11b3f9d68>, _json={'created_at': 'Wed Sep 13 20:45:44 +0000 2017', 'id': 908069206414864384, 'id_str': '908069206414864384', 'text': '#sunsets are beautiful in #costarica \\n#puravida https://t.co/MfNp7E3Q4e', 'truncated': False, 'entities': {'hashtags': [{'text': 'sunsets', 'indices': [0, 8]}, {'text': 'costarica', 'indices': [26, 36]}, {'text': 'puravida', 'indices': [38, 47]}], 'symbols': [], 'user_mentions': [], 'urls': [], 'media': [{'id': 908069179109945344, 'id_str': '908069179109945344', 'indices': [48, 71], 'media_url': 'http://pbs.twimg.com/media/DJocG3RUMAA6r8_.jpg', 'media_url_https': 'https://pbs.twimg.com/media/DJocG3RUMAA6r8_.jpg', 'url': 'https://t.co/MfNp7E3Q4e', 'display_url': 'pic.twitter.com/MfNp7E3Q4e', 'expanded_url': 'https://twitter.com/mamm1962/status/908069206414864384/photo/1', 'type': 'photo', 'sizes': {'large': {'w': 1024, 'h': 576, 'resize': 'fit'}, 'medium': {'w': 1024, 'h': 576, 'resize': 'fit'}, 'small': {'w': 680, 'h': 383, 'resize': 'fit'}, 'thumb': {'w': 150, 'h': 150, 'resize': 'crop'}}}]}, 'extended_entities': {'media': [{'id': 908069179109945344, 'id_str': '908069179109945344', 'indices': [48, 71], 'media_url': 'http://pbs.twimg.com/media/DJocG3RUMAA6r8_.jpg', 'media_url_https': 'https://pbs.twimg.com/media/DJocG3RUMAA6r8_.jpg', 'url': 'https://t.co/MfNp7E3Q4e', 'display_url': 'pic.twitter.com/MfNp7E3Q4e', 'expanded_url': 'https://twitter.com/mamm1962/status/908069206414864384/photo/1', 'type': 'photo', 'sizes': {'large': {'w': 1024, 'h': 576, 'resize': 'fit'}, 'medium': {'w': 1024, 'h': 576, 'resize': 'fit'}, 'small': {'w': 680, 'h': 383, 'resize': 'fit'}, 'thumb': {'w': 150, 'h': 150, 'resize': 'crop'}}}, {'id': 908069188605845504, 'id_str': '908069188605845504', 'indices': [48, 71], 'media_url': 'http://pbs.twimg.com/media/DJocHapUIAAA4eL.jpg', 'media_url_https': 'https://pbs.twimg.com/media/DJocHapUIAAA4eL.jpg', 'url': 'https://t.co/MfNp7E3Q4e', 'display_url': 'pic.twitter.com/MfNp7E3Q4e', 'expanded_url': 'https://twitter.com/mamm1962/status/908069206414864384/photo/1', 'type': 'photo', 'sizes': {'small': {'w': 680, 'h': 454, 'resize': 'fit'}, 'large': {'w': 1024, 'h': 683, 'resize': 'fit'}, 'thumb': {'w': 150, 'h': 150, 'resize': 'crop'}, 'medium': {'w': 1024, 'h': 683, 'resize': 'fit'}}}, {'id': 908069198349295616, 'id_str': '908069198349295616', 'indices': [48, 71], 'media_url': 'http://pbs.twimg.com/media/DJocH-8VYAAG35W.jpg', 'media_url_https': 'https://pbs.twimg.com/media/DJocH-8VYAAG35W.jpg', 'url': 'https://t.co/MfNp7E3Q4e', 'display_url': 'pic.twitter.com/MfNp7E3Q4e', 'expanded_url': 'https://twitter.com/mamm1962/status/908069206414864384/photo/1', 'type': 'photo', 'sizes': {'large': {'w': 1024, 'h': 576, 'resize': 'fit'}, 'medium': {'w': 1024, 'h': 576, 'resize': 'fit'}, 'small': {'w': 680, 'h': 383, 'resize': 'fit'}, 'thumb': {'w': 150, 'h': 150, 'resize': 'crop'}}}]}, 'metadata': {'iso_language_code': 'en', 'result_type': 'recent'}, 'source': '<a href=\"http://twitter.com/download/android\" rel=\"nofollow\">Twitter for Android</a>', 'in_reply_to_status_id': None, 'in_reply_to_status_id_str': None, 'in_reply_to_user_id': None, 'in_reply_to_user_id_str': None, 'in_reply_to_screen_name': None, 'user': {'id': 4038827354, 'id_str': '4038827354', 'name': 'M_A_M_M', 'screen_name': 'mamm1962', 'location': 'British Columbia, Canada', 'description': '🌺 Costa Rica 🌺 and 🌺 Hawaii 🌺\\nare my two favorite places to be 😊\\n\\nI ❤ the sun 🌞 the ocean 🌊 and sand between my toes 😊', 'url': 'https://t.co/ihOVs9L8pp', 'entities': {'url': {'urls': [{'url': 'https://t.co/ihOVs9L8pp', 'expanded_url': 'http://www.instagram.com/m.a.m.m.62/', 'display_url': 'instagram.com/m.a.m.m.62/', 'indices': [0, 23]}]}, 'description': {'urls': []}}, 'protected': False, 'followers_count': 1135, 'friends_count': 1018, 'listed_count': 24, 'created_at': 'Tue Oct 27 19:57:11 +0000 2015', 'favourites_count': 7208, 'utc_offset': -25200, 'time_zone': 'Pacific Time (US & Canada)', 'geo_enabled': True, 'verified': False, 'statuses_count': 1252, 'lang': 'en', 'contributors_enabled': False, 'is_translator': False, 'is_translation_enabled': False, 'profile_background_color': 'C0DEED', 'profile_background_image_url': 'http://abs.twimg.com/images/themes/theme1/bg.png', 'profile_background_image_url_https': 'https://abs.twimg.com/images/themes/theme1/bg.png', 'profile_background_tile': False, 'profile_image_url': 'http://pbs.twimg.com/profile_images/665644811743965184/7Q8tHEvA_normal.jpg', 'profile_image_url_https': 'https://pbs.twimg.com/profile_images/665644811743965184/7Q8tHEvA_normal.jpg', 'profile_banner_url': 'https://pbs.twimg.com/profile_banners/4038827354/1445976078', 'profile_link_color': '1DA1F2', 'profile_sidebar_border_color': 'C0DEED', 'profile_sidebar_fill_color': 'DDEEF6', 'profile_text_color': '333333', 'profile_use_background_image': True, 'has_extended_profile': True, 'default_profile': True, 'default_profile_image': False, 'following': None, 'follow_request_sent': None, 'notifications': None, 'translator_type': 'none'}, 'geo': None, 'coordinates': None, 'place': {'id': '435a15a8bf629083', 'url': 'https://api.twitter.com/1.1/geo/id/435a15a8bf629083.json', 'place_type': 'city', 'name': 'Coquitlam', 'full_name': 'Coquitlam, British Columbia', 'country_code': 'CA', 'country': 'Canada', 'contained_within': [], 'bounding_box': {'type': 'Polygon', 'coordinates': [[[-122.893434, 49.219352], [-122.618118, 49.219352], [-122.618118, 49.351565], [-122.893434, 49.351565]]]}, 'attributes': {}}, 'contributors': None, 'is_quote_status': False, 'retweet_count': 3, 'favorite_count': 11, 'favorited': False, 'retweeted': False, 'possibly_sensitive': False, 'lang': 'en'}, created_at=datetime.datetime(2017, 9, 13, 20, 45, 44), id=908069206414864384, id_str='908069206414864384', text='#sunsets are beautiful in #costarica \\n#puravida https://t.co/MfNp7E3Q4e', truncated=False, entities={'hashtags': [{'text': 'sunsets', 'indices': [0, 8]}, {'text': 'costarica', 'indices': [26, 36]}, {'text': 'puravida', 'indices': [38, 47]}], 'symbols': [], 'user_mentions': [], 'urls': [], 'media': [{'id': 908069179109945344, 'id_str': '908069179109945344', 'indices': [48, 71], 'media_url': 'http://pbs.twimg.com/media/DJocG3RUMAA6r8_.jpg', 'media_url_https': 'https://pbs.twimg.com/media/DJocG3RUMAA6r8_.jpg', 'url': 'https://t.co/MfNp7E3Q4e', 'display_url': 'pic.twitter.com/MfNp7E3Q4e', 'expanded_url': 'https://twitter.com/mamm1962/status/908069206414864384/photo/1', 'type': 'photo', 'sizes': {'large': {'w': 1024, 'h': 576, 'resize': 'fit'}, 'medium': {'w': 1024, 'h': 576, 'resize': 'fit'}, 'small': {'w': 680, 'h': 383, 'resize': 'fit'}, 'thumb': {'w': 150, 'h': 150, 'resize': 'crop'}}}]}, extended_entities={'media': [{'id': 908069179109945344, 'id_str': '908069179109945344', 'indices': [48, 71], 'media_url': 'http://pbs.twimg.com/media/DJocG3RUMAA6r8_.jpg', 'media_url_https': 'https://pbs.twimg.com/media/DJocG3RUMAA6r8_.jpg', 'url': 'https://t.co/MfNp7E3Q4e', 'display_url': 'pic.twitter.com/MfNp7E3Q4e', 'expanded_url': 'https://twitter.com/mamm1962/status/908069206414864384/photo/1', 'type': 'photo', 'sizes': {'large': {'w': 1024, 'h': 576, 'resize': 'fit'}, 'medium': {'w': 1024, 'h': 576, 'resize': 'fit'}, 'small': {'w': 680, 'h': 383, 'resize': 'fit'}, 'thumb': {'w': 150, 'h': 150, 'resize': 'crop'}}}, {'id': 908069188605845504, 'id_str': '908069188605845504', 'indices': [48, 71], 'media_url': 'http://pbs.twimg.com/media/DJocHapUIAAA4eL.jpg', 'media_url_https': 'https://pbs.twimg.com/media/DJocHapUIAAA4eL.jpg', 'url': 'https://t.co/MfNp7E3Q4e', 'display_url': 'pic.twitter.com/MfNp7E3Q4e', 'expanded_url': 'https://twitter.com/mamm1962/status/908069206414864384/photo/1', 'type': 'photo', 'sizes': {'small': {'w': 680, 'h': 454, 'resize': 'fit'}, 'large': {'w': 1024, 'h': 683, 'resize': 'fit'}, 'thumb': {'w': 150, 'h': 150, 'resize': 'crop'}, 'medium': {'w': 1024, 'h': 683, 'resize': 'fit'}}}, {'id': 908069198349295616, 'id_str': '908069198349295616', 'indices': [48, 71], 'media_url': 'http://pbs.twimg.com/media/DJocH-8VYAAG35W.jpg', 'media_url_https': 'https://pbs.twimg.com/media/DJocH-8VYAAG35W.jpg', 'url': 'https://t.co/MfNp7E3Q4e', 'display_url': 'pic.twitter.com/MfNp7E3Q4e', 'expanded_url': 'https://twitter.com/mamm1962/status/908069206414864384/photo/1', 'type': 'photo', 'sizes': {'large': {'w': 1024, 'h': 576, 'resize': 'fit'}, 'medium': {'w': 1024, 'h': 576, 'resize': 'fit'}, 'small': {'w': 680, 'h': 383, 'resize': 'fit'}, 'thumb': {'w': 150, 'h': 150, 'resize': 'crop'}}}]}, metadata={'iso_language_code': 'en', 'result_type': 'recent'}, source='Twitter for Android', source_url='http://twitter.com/download/android', in_reply_to_status_id=None, in_reply_to_status_id_str=None, in_reply_to_user_id=None, in_reply_to_user_id_str=None, in_reply_to_screen_name=None, author=User(_api=<tweepy.api.API object at 0x11b3f9d68>, _json={'id': 4038827354, 'id_str': '4038827354', 'name': 'M_A_M_M', 'screen_name': 'mamm1962', 'location': 'British Columbia, Canada', 'description': '🌺 Costa Rica 🌺 and 🌺 Hawaii 🌺\\nare my two favorite places to be 😊\\n\\nI ❤ the sun 🌞 the ocean 🌊 and sand between my toes 😊', 'url': 'https://t.co/ihOVs9L8pp', 'entities': {'url': {'urls': [{'url': 'https://t.co/ihOVs9L8pp', 'expanded_url': 'http://www.instagram.com/m.a.m.m.62/', 'display_url': 'instagram.com/m.a.m.m.62/', 'indices': [0, 23]}]}, 'description': {'urls': []}}, 'protected': False, 'followers_count': 1135, 'friends_count': 1018, 'listed_count': 24, 'created_at': 'Tue Oct 27 19:57:11 +0000 2015', 'favourites_count': 7208, 'utc_offset': -25200, 'time_zone': 'Pacific Time (US & Canada)', 'geo_enabled': True, 'verified': False, 'statuses_count': 1252, 'lang': 'en', 'contributors_enabled': False, 'is_translator': False, 'is_translation_enabled': False, 'profile_background_color': 'C0DEED', 'profile_background_image_url': 'http://abs.twimg.com/images/themes/theme1/bg.png', 'profile_background_image_url_https': 'https://abs.twimg.com/images/themes/theme1/bg.png', 'profile_background_tile': False, 'profile_image_url': 'http://pbs.twimg.com/profile_images/665644811743965184/7Q8tHEvA_normal.jpg', 'profile_image_url_https': 'https://pbs.twimg.com/profile_images/665644811743965184/7Q8tHEvA_normal.jpg', 'profile_banner_url': 'https://pbs.twimg.com/profile_banners/4038827354/1445976078', 'profile_link_color': '1DA1F2', 'profile_sidebar_border_color': 'C0DEED', 'profile_sidebar_fill_color': 'DDEEF6', 'profile_text_color': '333333', 'profile_use_background_image': True, 'has_extended_profile': True, 'default_profile': True, 'default_profile_image': False, 'following': None, 'follow_request_sent': None, 'notifications': None, 'translator_type': 'none'}, id=4038827354, id_str='4038827354', name='M_A_M_M', screen_name='mamm1962', location='British Columbia, Canada', description='🌺 Costa Rica 🌺 and 🌺 Hawaii 🌺\\nare my two favorite places to be 😊\\n\\nI ❤ the sun 🌞 the ocean 🌊 and sand between my toes 😊', url='https://t.co/ihOVs9L8pp', entities={'url': {'urls': [{'url': 'https://t.co/ihOVs9L8pp', 'expanded_url': 'http://www.instagram.com/m.a.m.m.62/', 'display_url': 'instagram.com/m.a.m.m.62/', 'indices': [0, 23]}]}, 'description': {'urls': []}}, protected=False, followers_count=1135, friends_count=1018, listed_count=24, created_at=datetime.datetime(2015, 10, 27, 19, 57, 11), favourites_count=7208, utc_offset=-25200, time_zone='Pacific Time (US & Canada)', geo_enabled=True, verified=False, statuses_count=1252, lang='en', contributors_enabled=False, is_translator=False, is_translation_enabled=False, profile_background_color='C0DEED', profile_background_image_url='http://abs.twimg.com/images/themes/theme1/bg.png', profile_background_image_url_https='https://abs.twimg.com/images/themes/theme1/bg.png', profile_background_tile=False, profile_image_url='http://pbs.twimg.com/profile_images/665644811743965184/7Q8tHEvA_normal.jpg', profile_image_url_https='https://pbs.twimg.com/profile_images/665644811743965184/7Q8tHEvA_normal.jpg', profile_banner_url='https://pbs.twimg.com/profile_banners/4038827354/1445976078', profile_link_color='1DA1F2', profile_sidebar_border_color='C0DEED', profile_sidebar_fill_color='DDEEF6', profile_text_color='333333', profile_use_background_image=True, has_extended_profile=True, default_profile=True, default_profile_image=False, following=False, follow_request_sent=None, notifications=None, translator_type='none'), user=User(_api=<tweepy.api.API object at 0x11b3f9d68>, _json={'id': 4038827354, 'id_str': '4038827354', 'name': 'M_A_M_M', 'screen_name': 'mamm1962', 'location': 'British Columbia, Canada', 'description': '🌺 Costa Rica 🌺 and 🌺 Hawaii 🌺\\nare my two favorite places to be 😊\\n\\nI ❤ the sun 🌞 the ocean 🌊 and sand between my toes 😊', 'url': 'https://t.co/ihOVs9L8pp', 'entities': {'url': {'urls': [{'url': 'https://t.co/ihOVs9L8pp', 'expanded_url': 'http://www.instagram.com/m.a.m.m.62/', 'display_url': 'instagram.com/m.a.m.m.62/', 'indices': [0, 23]}]}, 'description': {'urls': []}}, 'protected': False, 'followers_count': 1135, 'friends_count': 1018, 'listed_count': 24, 'created_at': 'Tue Oct 27 19:57:11 +0000 2015', 'favourites_count': 7208, 'utc_offset': -25200, 'time_zone': 'Pacific Time (US & Canada)', 'geo_enabled': True, 'verified': False, 'statuses_count': 1252, 'lang': 'en', 'contributors_enabled': False, 'is_translator': False, 'is_translation_enabled': False, 'profile_background_color': 'C0DEED', 'profile_background_image_url': 'http://abs.twimg.com/images/themes/theme1/bg.png', 'profile_background_image_url_https': 'https://abs.twimg.com/images/themes/theme1/bg.png', 'profile_background_tile': False, 'profile_image_url': 'http://pbs.twimg.com/profile_images/665644811743965184/7Q8tHEvA_normal.jpg', 'profile_image_url_https': 'https://pbs.twimg.com/profile_images/665644811743965184/7Q8tHEvA_normal.jpg', 'profile_banner_url': 'https://pbs.twimg.com/profile_banners/4038827354/1445976078', 'profile_link_color': '1DA1F2', 'profile_sidebar_border_color': 'C0DEED', 'profile_sidebar_fill_color': 'DDEEF6', 'profile_text_color': '333333', 'profile_use_background_image': True, 'has_extended_profile': True, 'default_profile': True, 'default_profile_image': False, 'following': None, 'follow_request_sent': None, 'notifications': None, 'translator_type': 'none'}, id=4038827354, id_str='4038827354', name='M_A_M_M', screen_name='mamm1962', location='British Columbia, Canada', description='🌺 Costa Rica 🌺 and 🌺 Hawaii 🌺\\nare my two favorite places to be 😊\\n\\nI ❤ the sun 🌞 the ocean 🌊 and sand between my toes 😊', url='https://t.co/ihOVs9L8pp', entities={'url': {'urls': [{'url': 'https://t.co/ihOVs9L8pp', 'expanded_url': 'http://www.instagram.com/m.a.m.m.62/', 'display_url': 'instagram.com/m.a.m.m.62/', 'indices': [0, 23]}]}, 'description': {'urls': []}}, protected=False, followers_count=1135, friends_count=1018, listed_count=24, created_at=datetime.datetime(2015, 10, 27, 19, 57, 11), favourites_count=7208, utc_offset=-25200, time_zone='Pacific Time (US & Canada)', geo_enabled=True, verified=False, statuses_count=1252, lang='en', contributors_enabled=False, is_translator=False, is_translation_enabled=False, profile_background_color='C0DEED', profile_background_image_url='http://abs.twimg.com/images/themes/theme1/bg.png', profile_background_image_url_https='https://abs.twimg.com/images/themes/theme1/bg.png', profile_background_tile=False, profile_image_url='http://pbs.twimg.com/profile_images/665644811743965184/7Q8tHEvA_normal.jpg', profile_image_url_https='https://pbs.twimg.com/profile_images/665644811743965184/7Q8tHEvA_normal.jpg', profile_banner_url='https://pbs.twimg.com/profile_banners/4038827354/1445976078', profile_link_color='1DA1F2', profile_sidebar_border_color='C0DEED', profile_sidebar_fill_color='DDEEF6', profile_text_color='333333', profile_use_background_image=True, has_extended_profile=True, default_profile=True, default_profile_image=False, following=False, follow_request_sent=None, notifications=None, translator_type='none'), geo=None, coordinates=None, place=Place(_api=<tweepy.api.API object at 0x11b3f9d68>, id='435a15a8bf629083', url='https://api.twitter.com/1.1/geo/id/435a15a8bf629083.json', place_type='city', name='Coquitlam', full_name='Coquitlam, British Columbia', country_code='CA', country='Canada', contained_within=[], bounding_box=BoundingBox(_api=<tweepy.api.API object at 0x11b3f9d68>, type='Polygon', coordinates=[[[-122.893434, 49.219352], [-122.618118, 49.219352], [-122.618118, 49.351565], [-122.893434, 49.351565]]]), attributes={}), contributors=None, is_quote_status=False, retweet_count=3, favorite_count=11, favorited=False, retweeted=False, possibly_sensitive=False, lang='en'), is_quote_status=False, retweet_count=3, favorite_count=0, favorited=False, retweeted=False, possibly_sensitive=False, lang='en')>\n",
      "\n",
      "retweet_count : 3\n",
      "\n",
      "retweeted : False\n",
      "\n",
      "retweeted_status : Status(_api=<tweepy.api.API object at 0x11b3f9d68>, _json={'created_at': 'Wed Sep 13 20:45:44 +0000 2017', 'id': 908069206414864384, 'id_str': '908069206414864384', 'text': '#sunsets are beautiful in #costarica \\n#puravida https://t.co/MfNp7E3Q4e', 'truncated': False, 'entities': {'hashtags': [{'text': 'sunsets', 'indices': [0, 8]}, {'text': 'costarica', 'indices': [26, 36]}, {'text': 'puravida', 'indices': [38, 47]}], 'symbols': [], 'user_mentions': [], 'urls': [], 'media': [{'id': 908069179109945344, 'id_str': '908069179109945344', 'indices': [48, 71], 'media_url': 'http://pbs.twimg.com/media/DJocG3RUMAA6r8_.jpg', 'media_url_https': 'https://pbs.twimg.com/media/DJocG3RUMAA6r8_.jpg', 'url': 'https://t.co/MfNp7E3Q4e', 'display_url': 'pic.twitter.com/MfNp7E3Q4e', 'expanded_url': 'https://twitter.com/mamm1962/status/908069206414864384/photo/1', 'type': 'photo', 'sizes': {'large': {'w': 1024, 'h': 576, 'resize': 'fit'}, 'medium': {'w': 1024, 'h': 576, 'resize': 'fit'}, 'small': {'w': 680, 'h': 383, 'resize': 'fit'}, 'thumb': {'w': 150, 'h': 150, 'resize': 'crop'}}}]}, 'extended_entities': {'media': [{'id': 908069179109945344, 'id_str': '908069179109945344', 'indices': [48, 71], 'media_url': 'http://pbs.twimg.com/media/DJocG3RUMAA6r8_.jpg', 'media_url_https': 'https://pbs.twimg.com/media/DJocG3RUMAA6r8_.jpg', 'url': 'https://t.co/MfNp7E3Q4e', 'display_url': 'pic.twitter.com/MfNp7E3Q4e', 'expanded_url': 'https://twitter.com/mamm1962/status/908069206414864384/photo/1', 'type': 'photo', 'sizes': {'large': {'w': 1024, 'h': 576, 'resize': 'fit'}, 'medium': {'w': 1024, 'h': 576, 'resize': 'fit'}, 'small': {'w': 680, 'h': 383, 'resize': 'fit'}, 'thumb': {'w': 150, 'h': 150, 'resize': 'crop'}}}, {'id': 908069188605845504, 'id_str': '908069188605845504', 'indices': [48, 71], 'media_url': 'http://pbs.twimg.com/media/DJocHapUIAAA4eL.jpg', 'media_url_https': 'https://pbs.twimg.com/media/DJocHapUIAAA4eL.jpg', 'url': 'https://t.co/MfNp7E3Q4e', 'display_url': 'pic.twitter.com/MfNp7E3Q4e', 'expanded_url': 'https://twitter.com/mamm1962/status/908069206414864384/photo/1', 'type': 'photo', 'sizes': {'small': {'w': 680, 'h': 454, 'resize': 'fit'}, 'large': {'w': 1024, 'h': 683, 'resize': 'fit'}, 'thumb': {'w': 150, 'h': 150, 'resize': 'crop'}, 'medium': {'w': 1024, 'h': 683, 'resize': 'fit'}}}, {'id': 908069198349295616, 'id_str': '908069198349295616', 'indices': [48, 71], 'media_url': 'http://pbs.twimg.com/media/DJocH-8VYAAG35W.jpg', 'media_url_https': 'https://pbs.twimg.com/media/DJocH-8VYAAG35W.jpg', 'url': 'https://t.co/MfNp7E3Q4e', 'display_url': 'pic.twitter.com/MfNp7E3Q4e', 'expanded_url': 'https://twitter.com/mamm1962/status/908069206414864384/photo/1', 'type': 'photo', 'sizes': {'large': {'w': 1024, 'h': 576, 'resize': 'fit'}, 'medium': {'w': 1024, 'h': 576, 'resize': 'fit'}, 'small': {'w': 680, 'h': 383, 'resize': 'fit'}, 'thumb': {'w': 150, 'h': 150, 'resize': 'crop'}}}]}, 'metadata': {'iso_language_code': 'en', 'result_type': 'recent'}, 'source': '<a href=\"http://twitter.com/download/android\" rel=\"nofollow\">Twitter for Android</a>', 'in_reply_to_status_id': None, 'in_reply_to_status_id_str': None, 'in_reply_to_user_id': None, 'in_reply_to_user_id_str': None, 'in_reply_to_screen_name': None, 'user': {'id': 4038827354, 'id_str': '4038827354', 'name': 'M_A_M_M', 'screen_name': 'mamm1962', 'location': 'British Columbia, Canada', 'description': '🌺 Costa Rica 🌺 and 🌺 Hawaii 🌺\\nare my two favorite places to be 😊\\n\\nI ❤ the sun 🌞 the ocean 🌊 and sand between my toes 😊', 'url': 'https://t.co/ihOVs9L8pp', 'entities': {'url': {'urls': [{'url': 'https://t.co/ihOVs9L8pp', 'expanded_url': 'http://www.instagram.com/m.a.m.m.62/', 'display_url': 'instagram.com/m.a.m.m.62/', 'indices': [0, 23]}]}, 'description': {'urls': []}}, 'protected': False, 'followers_count': 1135, 'friends_count': 1018, 'listed_count': 24, 'created_at': 'Tue Oct 27 19:57:11 +0000 2015', 'favourites_count': 7208, 'utc_offset': -25200, 'time_zone': 'Pacific Time (US & Canada)', 'geo_enabled': True, 'verified': False, 'statuses_count': 1252, 'lang': 'en', 'contributors_enabled': False, 'is_translator': False, 'is_translation_enabled': False, 'profile_background_color': 'C0DEED', 'profile_background_image_url': 'http://abs.twimg.com/images/themes/theme1/bg.png', 'profile_background_image_url_https': 'https://abs.twimg.com/images/themes/theme1/bg.png', 'profile_background_tile': False, 'profile_image_url': 'http://pbs.twimg.com/profile_images/665644811743965184/7Q8tHEvA_normal.jpg', 'profile_image_url_https': 'https://pbs.twimg.com/profile_images/665644811743965184/7Q8tHEvA_normal.jpg', 'profile_banner_url': 'https://pbs.twimg.com/profile_banners/4038827354/1445976078', 'profile_link_color': '1DA1F2', 'profile_sidebar_border_color': 'C0DEED', 'profile_sidebar_fill_color': 'DDEEF6', 'profile_text_color': '333333', 'profile_use_background_image': True, 'has_extended_profile': True, 'default_profile': True, 'default_profile_image': False, 'following': None, 'follow_request_sent': None, 'notifications': None, 'translator_type': 'none'}, 'geo': None, 'coordinates': None, 'place': {'id': '435a15a8bf629083', 'url': 'https://api.twitter.com/1.1/geo/id/435a15a8bf629083.json', 'place_type': 'city', 'name': 'Coquitlam', 'full_name': 'Coquitlam, British Columbia', 'country_code': 'CA', 'country': 'Canada', 'contained_within': [], 'bounding_box': {'type': 'Polygon', 'coordinates': [[[-122.893434, 49.219352], [-122.618118, 49.219352], [-122.618118, 49.351565], [-122.893434, 49.351565]]]}, 'attributes': {}}, 'contributors': None, 'is_quote_status': False, 'retweet_count': 3, 'favorite_count': 11, 'favorited': False, 'retweeted': False, 'possibly_sensitive': False, 'lang': 'en'}, created_at=datetime.datetime(2017, 9, 13, 20, 45, 44), id=908069206414864384, id_str='908069206414864384', text='#sunsets are beautiful in #costarica \\n#puravida https://t.co/MfNp7E3Q4e', truncated=False, entities={'hashtags': [{'text': 'sunsets', 'indices': [0, 8]}, {'text': 'costarica', 'indices': [26, 36]}, {'text': 'puravida', 'indices': [38, 47]}], 'symbols': [], 'user_mentions': [], 'urls': [], 'media': [{'id': 908069179109945344, 'id_str': '908069179109945344', 'indices': [48, 71], 'media_url': 'http://pbs.twimg.com/media/DJocG3RUMAA6r8_.jpg', 'media_url_https': 'https://pbs.twimg.com/media/DJocG3RUMAA6r8_.jpg', 'url': 'https://t.co/MfNp7E3Q4e', 'display_url': 'pic.twitter.com/MfNp7E3Q4e', 'expanded_url': 'https://twitter.com/mamm1962/status/908069206414864384/photo/1', 'type': 'photo', 'sizes': {'large': {'w': 1024, 'h': 576, 'resize': 'fit'}, 'medium': {'w': 1024, 'h': 576, 'resize': 'fit'}, 'small': {'w': 680, 'h': 383, 'resize': 'fit'}, 'thumb': {'w': 150, 'h': 150, 'resize': 'crop'}}}]}, extended_entities={'media': [{'id': 908069179109945344, 'id_str': '908069179109945344', 'indices': [48, 71], 'media_url': 'http://pbs.twimg.com/media/DJocG3RUMAA6r8_.jpg', 'media_url_https': 'https://pbs.twimg.com/media/DJocG3RUMAA6r8_.jpg', 'url': 'https://t.co/MfNp7E3Q4e', 'display_url': 'pic.twitter.com/MfNp7E3Q4e', 'expanded_url': 'https://twitter.com/mamm1962/status/908069206414864384/photo/1', 'type': 'photo', 'sizes': {'large': {'w': 1024, 'h': 576, 'resize': 'fit'}, 'medium': {'w': 1024, 'h': 576, 'resize': 'fit'}, 'small': {'w': 680, 'h': 383, 'resize': 'fit'}, 'thumb': {'w': 150, 'h': 150, 'resize': 'crop'}}}, {'id': 908069188605845504, 'id_str': '908069188605845504', 'indices': [48, 71], 'media_url': 'http://pbs.twimg.com/media/DJocHapUIAAA4eL.jpg', 'media_url_https': 'https://pbs.twimg.com/media/DJocHapUIAAA4eL.jpg', 'url': 'https://t.co/MfNp7E3Q4e', 'display_url': 'pic.twitter.com/MfNp7E3Q4e', 'expanded_url': 'https://twitter.com/mamm1962/status/908069206414864384/photo/1', 'type': 'photo', 'sizes': {'small': {'w': 680, 'h': 454, 'resize': 'fit'}, 'large': {'w': 1024, 'h': 683, 'resize': 'fit'}, 'thumb': {'w': 150, 'h': 150, 'resize': 'crop'}, 'medium': {'w': 1024, 'h': 683, 'resize': 'fit'}}}, {'id': 908069198349295616, 'id_str': '908069198349295616', 'indices': [48, 71], 'media_url': 'http://pbs.twimg.com/media/DJocH-8VYAAG35W.jpg', 'media_url_https': 'https://pbs.twimg.com/media/DJocH-8VYAAG35W.jpg', 'url': 'https://t.co/MfNp7E3Q4e', 'display_url': 'pic.twitter.com/MfNp7E3Q4e', 'expanded_url': 'https://twitter.com/mamm1962/status/908069206414864384/photo/1', 'type': 'photo', 'sizes': {'large': {'w': 1024, 'h': 576, 'resize': 'fit'}, 'medium': {'w': 1024, 'h': 576, 'resize': 'fit'}, 'small': {'w': 680, 'h': 383, 'resize': 'fit'}, 'thumb': {'w': 150, 'h': 150, 'resize': 'crop'}}}]}, metadata={'iso_language_code': 'en', 'result_type': 'recent'}, source='Twitter for Android', source_url='http://twitter.com/download/android', in_reply_to_status_id=None, in_reply_to_status_id_str=None, in_reply_to_user_id=None, in_reply_to_user_id_str=None, in_reply_to_screen_name=None, author=User(_api=<tweepy.api.API object at 0x11b3f9d68>, _json={'id': 4038827354, 'id_str': '4038827354', 'name': 'M_A_M_M', 'screen_name': 'mamm1962', 'location': 'British Columbia, Canada', 'description': '🌺 Costa Rica 🌺 and 🌺 Hawaii 🌺\\nare my two favorite places to be 😊\\n\\nI ❤ the sun 🌞 the ocean 🌊 and sand between my toes 😊', 'url': 'https://t.co/ihOVs9L8pp', 'entities': {'url': {'urls': [{'url': 'https://t.co/ihOVs9L8pp', 'expanded_url': 'http://www.instagram.com/m.a.m.m.62/', 'display_url': 'instagram.com/m.a.m.m.62/', 'indices': [0, 23]}]}, 'description': {'urls': []}}, 'protected': False, 'followers_count': 1135, 'friends_count': 1018, 'listed_count': 24, 'created_at': 'Tue Oct 27 19:57:11 +0000 2015', 'favourites_count': 7208, 'utc_offset': -25200, 'time_zone': 'Pacific Time (US & Canada)', 'geo_enabled': True, 'verified': False, 'statuses_count': 1252, 'lang': 'en', 'contributors_enabled': False, 'is_translator': False, 'is_translation_enabled': False, 'profile_background_color': 'C0DEED', 'profile_background_image_url': 'http://abs.twimg.com/images/themes/theme1/bg.png', 'profile_background_image_url_https': 'https://abs.twimg.com/images/themes/theme1/bg.png', 'profile_background_tile': False, 'profile_image_url': 'http://pbs.twimg.com/profile_images/665644811743965184/7Q8tHEvA_normal.jpg', 'profile_image_url_https': 'https://pbs.twimg.com/profile_images/665644811743965184/7Q8tHEvA_normal.jpg', 'profile_banner_url': 'https://pbs.twimg.com/profile_banners/4038827354/1445976078', 'profile_link_color': '1DA1F2', 'profile_sidebar_border_color': 'C0DEED', 'profile_sidebar_fill_color': 'DDEEF6', 'profile_text_color': '333333', 'profile_use_background_image': True, 'has_extended_profile': True, 'default_profile': True, 'default_profile_image': False, 'following': None, 'follow_request_sent': None, 'notifications': None, 'translator_type': 'none'}, id=4038827354, id_str='4038827354', name='M_A_M_M', screen_name='mamm1962', location='British Columbia, Canada', description='🌺 Costa Rica 🌺 and 🌺 Hawaii 🌺\\nare my two favorite places to be 😊\\n\\nI ❤ the sun 🌞 the ocean 🌊 and sand between my toes 😊', url='https://t.co/ihOVs9L8pp', entities={'url': {'urls': [{'url': 'https://t.co/ihOVs9L8pp', 'expanded_url': 'http://www.instagram.com/m.a.m.m.62/', 'display_url': 'instagram.com/m.a.m.m.62/', 'indices': [0, 23]}]}, 'description': {'urls': []}}, protected=False, followers_count=1135, friends_count=1018, listed_count=24, created_at=datetime.datetime(2015, 10, 27, 19, 57, 11), favourites_count=7208, utc_offset=-25200, time_zone='Pacific Time (US & Canada)', geo_enabled=True, verified=False, statuses_count=1252, lang='en', contributors_enabled=False, is_translator=False, is_translation_enabled=False, profile_background_color='C0DEED', profile_background_image_url='http://abs.twimg.com/images/themes/theme1/bg.png', profile_background_image_url_https='https://abs.twimg.com/images/themes/theme1/bg.png', profile_background_tile=False, profile_image_url='http://pbs.twimg.com/profile_images/665644811743965184/7Q8tHEvA_normal.jpg', profile_image_url_https='https://pbs.twimg.com/profile_images/665644811743965184/7Q8tHEvA_normal.jpg', profile_banner_url='https://pbs.twimg.com/profile_banners/4038827354/1445976078', profile_link_color='1DA1F2', profile_sidebar_border_color='C0DEED', profile_sidebar_fill_color='DDEEF6', profile_text_color='333333', profile_use_background_image=True, has_extended_profile=True, default_profile=True, default_profile_image=False, following=False, follow_request_sent=None, notifications=None, translator_type='none'), user=User(_api=<tweepy.api.API object at 0x11b3f9d68>, _json={'id': 4038827354, 'id_str': '4038827354', 'name': 'M_A_M_M', 'screen_name': 'mamm1962', 'location': 'British Columbia, Canada', 'description': '🌺 Costa Rica 🌺 and 🌺 Hawaii 🌺\\nare my two favorite places to be 😊\\n\\nI ❤ the sun 🌞 the ocean 🌊 and sand between my toes 😊', 'url': 'https://t.co/ihOVs9L8pp', 'entities': {'url': {'urls': [{'url': 'https://t.co/ihOVs9L8pp', 'expanded_url': 'http://www.instagram.com/m.a.m.m.62/', 'display_url': 'instagram.com/m.a.m.m.62/', 'indices': [0, 23]}]}, 'description': {'urls': []}}, 'protected': False, 'followers_count': 1135, 'friends_count': 1018, 'listed_count': 24, 'created_at': 'Tue Oct 27 19:57:11 +0000 2015', 'favourites_count': 7208, 'utc_offset': -25200, 'time_zone': 'Pacific Time (US & Canada)', 'geo_enabled': True, 'verified': False, 'statuses_count': 1252, 'lang': 'en', 'contributors_enabled': False, 'is_translator': False, 'is_translation_enabled': False, 'profile_background_color': 'C0DEED', 'profile_background_image_url': 'http://abs.twimg.com/images/themes/theme1/bg.png', 'profile_background_image_url_https': 'https://abs.twimg.com/images/themes/theme1/bg.png', 'profile_background_tile': False, 'profile_image_url': 'http://pbs.twimg.com/profile_images/665644811743965184/7Q8tHEvA_normal.jpg', 'profile_image_url_https': 'https://pbs.twimg.com/profile_images/665644811743965184/7Q8tHEvA_normal.jpg', 'profile_banner_url': 'https://pbs.twimg.com/profile_banners/4038827354/1445976078', 'profile_link_color': '1DA1F2', 'profile_sidebar_border_color': 'C0DEED', 'profile_sidebar_fill_color': 'DDEEF6', 'profile_text_color': '333333', 'profile_use_background_image': True, 'has_extended_profile': True, 'default_profile': True, 'default_profile_image': False, 'following': None, 'follow_request_sent': None, 'notifications': None, 'translator_type': 'none'}, id=4038827354, id_str='4038827354', name='M_A_M_M', screen_name='mamm1962', location='British Columbia, Canada', description='🌺 Costa Rica 🌺 and 🌺 Hawaii 🌺\\nare my two favorite places to be 😊\\n\\nI ❤ the sun 🌞 the ocean 🌊 and sand between my toes 😊', url='https://t.co/ihOVs9L8pp', entities={'url': {'urls': [{'url': 'https://t.co/ihOVs9L8pp', 'expanded_url': 'http://www.instagram.com/m.a.m.m.62/', 'display_url': 'instagram.com/m.a.m.m.62/', 'indices': [0, 23]}]}, 'description': {'urls': []}}, protected=False, followers_count=1135, friends_count=1018, listed_count=24, created_at=datetime.datetime(2015, 10, 27, 19, 57, 11), favourites_count=7208, utc_offset=-25200, time_zone='Pacific Time (US & Canada)', geo_enabled=True, verified=False, statuses_count=1252, lang='en', contributors_enabled=False, is_translator=False, is_translation_enabled=False, profile_background_color='C0DEED', profile_background_image_url='http://abs.twimg.com/images/themes/theme1/bg.png', profile_background_image_url_https='https://abs.twimg.com/images/themes/theme1/bg.png', profile_background_tile=False, profile_image_url='http://pbs.twimg.com/profile_images/665644811743965184/7Q8tHEvA_normal.jpg', profile_image_url_https='https://pbs.twimg.com/profile_images/665644811743965184/7Q8tHEvA_normal.jpg', profile_banner_url='https://pbs.twimg.com/profile_banners/4038827354/1445976078', profile_link_color='1DA1F2', profile_sidebar_border_color='C0DEED', profile_sidebar_fill_color='DDEEF6', profile_text_color='333333', profile_use_background_image=True, has_extended_profile=True, default_profile=True, default_profile_image=False, following=False, follow_request_sent=None, notifications=None, translator_type='none'), geo=None, coordinates=None, place=Place(_api=<tweepy.api.API object at 0x11b3f9d68>, id='435a15a8bf629083', url='https://api.twitter.com/1.1/geo/id/435a15a8bf629083.json', place_type='city', name='Coquitlam', full_name='Coquitlam, British Columbia', country_code='CA', country='Canada', contained_within=[], bounding_box=BoundingBox(_api=<tweepy.api.API object at 0x11b3f9d68>, type='Polygon', coordinates=[[[-122.893434, 49.219352], [-122.618118, 49.219352], [-122.618118, 49.351565], [-122.893434, 49.351565]]]), attributes={}), contributors=None, is_quote_status=False, retweet_count=3, favorite_count=11, favorited=False, retweeted=False, possibly_sensitive=False, lang='en')\n",
      "\n",
      "retweets : <bound method Status.retweets of Status(_api=<tweepy.api.API object at 0x11b3f9d68>, _json={'created_at': 'Thu Oct 05 00:39:32 +0000 2017', 'id': 915738188152532992, 'id_str': '915738188152532992', 'text': 'RT @mamm1962: #sunsets are beautiful in #costarica \\n#puravida https://t.co/MfNp7E3Q4e', 'truncated': False, 'entities': {'hashtags': [{'text': 'sunsets', 'indices': [14, 22]}, {'text': 'costarica', 'indices': [40, 50]}, {'text': 'puravida', 'indices': [52, 61]}], 'symbols': [], 'user_mentions': [{'screen_name': 'mamm1962', 'name': 'M_A_M_M', 'id': 4038827354, 'id_str': '4038827354', 'indices': [3, 12]}], 'urls': [], 'media': [{'id': 908069179109945344, 'id_str': '908069179109945344', 'indices': [62, 85], 'media_url': 'http://pbs.twimg.com/media/DJocG3RUMAA6r8_.jpg', 'media_url_https': 'https://pbs.twimg.com/media/DJocG3RUMAA6r8_.jpg', 'url': 'https://t.co/MfNp7E3Q4e', 'display_url': 'pic.twitter.com/MfNp7E3Q4e', 'expanded_url': 'https://twitter.com/mamm1962/status/908069206414864384/photo/1', 'type': 'photo', 'sizes': {'large': {'w': 1024, 'h': 576, 'resize': 'fit'}, 'medium': {'w': 1024, 'h': 576, 'resize': 'fit'}, 'small': {'w': 680, 'h': 383, 'resize': 'fit'}, 'thumb': {'w': 150, 'h': 150, 'resize': 'crop'}}, 'source_status_id': 908069206414864384, 'source_status_id_str': '908069206414864384', 'source_user_id': 4038827354, 'source_user_id_str': '4038827354'}]}, 'extended_entities': {'media': [{'id': 908069179109945344, 'id_str': '908069179109945344', 'indices': [62, 85], 'media_url': 'http://pbs.twimg.com/media/DJocG3RUMAA6r8_.jpg', 'media_url_https': 'https://pbs.twimg.com/media/DJocG3RUMAA6r8_.jpg', 'url': 'https://t.co/MfNp7E3Q4e', 'display_url': 'pic.twitter.com/MfNp7E3Q4e', 'expanded_url': 'https://twitter.com/mamm1962/status/908069206414864384/photo/1', 'type': 'photo', 'sizes': {'large': {'w': 1024, 'h': 576, 'resize': 'fit'}, 'medium': {'w': 1024, 'h': 576, 'resize': 'fit'}, 'small': {'w': 680, 'h': 383, 'resize': 'fit'}, 'thumb': {'w': 150, 'h': 150, 'resize': 'crop'}}, 'source_status_id': 908069206414864384, 'source_status_id_str': '908069206414864384', 'source_user_id': 4038827354, 'source_user_id_str': '4038827354'}, {'id': 908069188605845504, 'id_str': '908069188605845504', 'indices': [62, 85], 'media_url': 'http://pbs.twimg.com/media/DJocHapUIAAA4eL.jpg', 'media_url_https': 'https://pbs.twimg.com/media/DJocHapUIAAA4eL.jpg', 'url': 'https://t.co/MfNp7E3Q4e', 'display_url': 'pic.twitter.com/MfNp7E3Q4e', 'expanded_url': 'https://twitter.com/mamm1962/status/908069206414864384/photo/1', 'type': 'photo', 'sizes': {'small': {'w': 680, 'h': 454, 'resize': 'fit'}, 'large': {'w': 1024, 'h': 683, 'resize': 'fit'}, 'thumb': {'w': 150, 'h': 150, 'resize': 'crop'}, 'medium': {'w': 1024, 'h': 683, 'resize': 'fit'}}, 'source_status_id': 908069206414864384, 'source_status_id_str': '908069206414864384', 'source_user_id': 4038827354, 'source_user_id_str': '4038827354'}, {'id': 908069198349295616, 'id_str': '908069198349295616', 'indices': [62, 85], 'media_url': 'http://pbs.twimg.com/media/DJocH-8VYAAG35W.jpg', 'media_url_https': 'https://pbs.twimg.com/media/DJocH-8VYAAG35W.jpg', 'url': 'https://t.co/MfNp7E3Q4e', 'display_url': 'pic.twitter.com/MfNp7E3Q4e', 'expanded_url': 'https://twitter.com/mamm1962/status/908069206414864384/photo/1', 'type': 'photo', 'sizes': {'large': {'w': 1024, 'h': 576, 'resize': 'fit'}, 'medium': {'w': 1024, 'h': 576, 'resize': 'fit'}, 'small': {'w': 680, 'h': 383, 'resize': 'fit'}, 'thumb': {'w': 150, 'h': 150, 'resize': 'crop'}}, 'source_status_id': 908069206414864384, 'source_status_id_str': '908069206414864384', 'source_user_id': 4038827354, 'source_user_id_str': '4038827354'}]}, 'metadata': {'iso_language_code': 'en', 'result_type': 'recent'}, 'source': '<a href=\"http://twitter.com/#!/download/ipad\" rel=\"nofollow\">Twitter for iPad</a>', 'in_reply_to_status_id': None, 'in_reply_to_status_id_str': None, 'in_reply_to_user_id': None, 'in_reply_to_user_id_str': None, 'in_reply_to_screen_name': None, 'user': {'id': 775698569961627648, 'id_str': '775698569961627648', 'name': 'Joe', 'screen_name': 'beachesbikes', 'location': '', 'description': '⚓️Beautiful Beaches and hot bikes⚓️', 'url': None, 'entities': {'description': {'urls': []}}, 'protected': False, 'followers_count': 6314, 'friends_count': 5677, 'listed_count': 265, 'created_at': 'Tue Sep 13 14:12:05 +0000 2016', 'favourites_count': 98794, 'utc_offset': None, 'time_zone': None, 'geo_enabled': False, 'verified': False, 'statuses_count': 82730, 'lang': 'en', 'contributors_enabled': False, 'is_translator': False, 'is_translation_enabled': False, 'profile_background_color': 'F5F8FA', 'profile_background_image_url': None, 'profile_background_image_url_https': None, 'profile_background_tile': False, 'profile_image_url': 'http://pbs.twimg.com/profile_images/869623921045381121/CoTZYRz__normal.jpg', 'profile_image_url_https': 'https://pbs.twimg.com/profile_images/869623921045381121/CoTZYRz__normal.jpg', 'profile_banner_url': 'https://pbs.twimg.com/profile_banners/775698569961627648/1503022016', 'profile_link_color': '1DA1F2', 'profile_sidebar_border_color': 'C0DEED', 'profile_sidebar_fill_color': 'DDEEF6', 'profile_text_color': '333333', 'profile_use_background_image': True, 'has_extended_profile': False, 'default_profile': True, 'default_profile_image': False, 'following': None, 'follow_request_sent': None, 'notifications': None, 'translator_type': 'none'}, 'geo': None, 'coordinates': None, 'place': None, 'contributors': None, 'retweeted_status': {'created_at': 'Wed Sep 13 20:45:44 +0000 2017', 'id': 908069206414864384, 'id_str': '908069206414864384', 'text': '#sunsets are beautiful in #costarica \\n#puravida https://t.co/MfNp7E3Q4e', 'truncated': False, 'entities': {'hashtags': [{'text': 'sunsets', 'indices': [0, 8]}, {'text': 'costarica', 'indices': [26, 36]}, {'text': 'puravida', 'indices': [38, 47]}], 'symbols': [], 'user_mentions': [], 'urls': [], 'media': [{'id': 908069179109945344, 'id_str': '908069179109945344', 'indices': [48, 71], 'media_url': 'http://pbs.twimg.com/media/DJocG3RUMAA6r8_.jpg', 'media_url_https': 'https://pbs.twimg.com/media/DJocG3RUMAA6r8_.jpg', 'url': 'https://t.co/MfNp7E3Q4e', 'display_url': 'pic.twitter.com/MfNp7E3Q4e', 'expanded_url': 'https://twitter.com/mamm1962/status/908069206414864384/photo/1', 'type': 'photo', 'sizes': {'large': {'w': 1024, 'h': 576, 'resize': 'fit'}, 'medium': {'w': 1024, 'h': 576, 'resize': 'fit'}, 'small': {'w': 680, 'h': 383, 'resize': 'fit'}, 'thumb': {'w': 150, 'h': 150, 'resize': 'crop'}}}]}, 'extended_entities': {'media': [{'id': 908069179109945344, 'id_str': '908069179109945344', 'indices': [48, 71], 'media_url': 'http://pbs.twimg.com/media/DJocG3RUMAA6r8_.jpg', 'media_url_https': 'https://pbs.twimg.com/media/DJocG3RUMAA6r8_.jpg', 'url': 'https://t.co/MfNp7E3Q4e', 'display_url': 'pic.twitter.com/MfNp7E3Q4e', 'expanded_url': 'https://twitter.com/mamm1962/status/908069206414864384/photo/1', 'type': 'photo', 'sizes': {'large': {'w': 1024, 'h': 576, 'resize': 'fit'}, 'medium': {'w': 1024, 'h': 576, 'resize': 'fit'}, 'small': {'w': 680, 'h': 383, 'resize': 'fit'}, 'thumb': {'w': 150, 'h': 150, 'resize': 'crop'}}}, {'id': 908069188605845504, 'id_str': '908069188605845504', 'indices': [48, 71], 'media_url': 'http://pbs.twimg.com/media/DJocHapUIAAA4eL.jpg', 'media_url_https': 'https://pbs.twimg.com/media/DJocHapUIAAA4eL.jpg', 'url': 'https://t.co/MfNp7E3Q4e', 'display_url': 'pic.twitter.com/MfNp7E3Q4e', 'expanded_url': 'https://twitter.com/mamm1962/status/908069206414864384/photo/1', 'type': 'photo', 'sizes': {'small': {'w': 680, 'h': 454, 'resize': 'fit'}, 'large': {'w': 1024, 'h': 683, 'resize': 'fit'}, 'thumb': {'w': 150, 'h': 150, 'resize': 'crop'}, 'medium': {'w': 1024, 'h': 683, 'resize': 'fit'}}}, {'id': 908069198349295616, 'id_str': '908069198349295616', 'indices': [48, 71], 'media_url': 'http://pbs.twimg.com/media/DJocH-8VYAAG35W.jpg', 'media_url_https': 'https://pbs.twimg.com/media/DJocH-8VYAAG35W.jpg', 'url': 'https://t.co/MfNp7E3Q4e', 'display_url': 'pic.twitter.com/MfNp7E3Q4e', 'expanded_url': 'https://twitter.com/mamm1962/status/908069206414864384/photo/1', 'type': 'photo', 'sizes': {'large': {'w': 1024, 'h': 576, 'resize': 'fit'}, 'medium': {'w': 1024, 'h': 576, 'resize': 'fit'}, 'small': {'w': 680, 'h': 383, 'resize': 'fit'}, 'thumb': {'w': 150, 'h': 150, 'resize': 'crop'}}}]}, 'metadata': {'iso_language_code': 'en', 'result_type': 'recent'}, 'source': '<a href=\"http://twitter.com/download/android\" rel=\"nofollow\">Twitter for Android</a>', 'in_reply_to_status_id': None, 'in_reply_to_status_id_str': None, 'in_reply_to_user_id': None, 'in_reply_to_user_id_str': None, 'in_reply_to_screen_name': None, 'user': {'id': 4038827354, 'id_str': '4038827354', 'name': 'M_A_M_M', 'screen_name': 'mamm1962', 'location': 'British Columbia, Canada', 'description': '🌺 Costa Rica 🌺 and 🌺 Hawaii 🌺\\nare my two favorite places to be 😊\\n\\nI ❤ the sun 🌞 the ocean 🌊 and sand between my toes 😊', 'url': 'https://t.co/ihOVs9L8pp', 'entities': {'url': {'urls': [{'url': 'https://t.co/ihOVs9L8pp', 'expanded_url': 'http://www.instagram.com/m.a.m.m.62/', 'display_url': 'instagram.com/m.a.m.m.62/', 'indices': [0, 23]}]}, 'description': {'urls': []}}, 'protected': False, 'followers_count': 1135, 'friends_count': 1018, 'listed_count': 24, 'created_at': 'Tue Oct 27 19:57:11 +0000 2015', 'favourites_count': 7208, 'utc_offset': -25200, 'time_zone': 'Pacific Time (US & Canada)', 'geo_enabled': True, 'verified': False, 'statuses_count': 1252, 'lang': 'en', 'contributors_enabled': False, 'is_translator': False, 'is_translation_enabled': False, 'profile_background_color': 'C0DEED', 'profile_background_image_url': 'http://abs.twimg.com/images/themes/theme1/bg.png', 'profile_background_image_url_https': 'https://abs.twimg.com/images/themes/theme1/bg.png', 'profile_background_tile': False, 'profile_image_url': 'http://pbs.twimg.com/profile_images/665644811743965184/7Q8tHEvA_normal.jpg', 'profile_image_url_https': 'https://pbs.twimg.com/profile_images/665644811743965184/7Q8tHEvA_normal.jpg', 'profile_banner_url': 'https://pbs.twimg.com/profile_banners/4038827354/1445976078', 'profile_link_color': '1DA1F2', 'profile_sidebar_border_color': 'C0DEED', 'profile_sidebar_fill_color': 'DDEEF6', 'profile_text_color': '333333', 'profile_use_background_image': True, 'has_extended_profile': True, 'default_profile': True, 'default_profile_image': False, 'following': None, 'follow_request_sent': None, 'notifications': None, 'translator_type': 'none'}, 'geo': None, 'coordinates': None, 'place': {'id': '435a15a8bf629083', 'url': 'https://api.twitter.com/1.1/geo/id/435a15a8bf629083.json', 'place_type': 'city', 'name': 'Coquitlam', 'full_name': 'Coquitlam, British Columbia', 'country_code': 'CA', 'country': 'Canada', 'contained_within': [], 'bounding_box': {'type': 'Polygon', 'coordinates': [[[-122.893434, 49.219352], [-122.618118, 49.219352], [-122.618118, 49.351565], [-122.893434, 49.351565]]]}, 'attributes': {}}, 'contributors': None, 'is_quote_status': False, 'retweet_count': 3, 'favorite_count': 11, 'favorited': False, 'retweeted': False, 'possibly_sensitive': False, 'lang': 'en'}, 'is_quote_status': False, 'retweet_count': 3, 'favorite_count': 0, 'favorited': False, 'retweeted': False, 'possibly_sensitive': False, 'lang': 'en'}, created_at=datetime.datetime(2017, 10, 5, 0, 39, 32), id=915738188152532992, id_str='915738188152532992', text='RT @mamm1962: #sunsets are beautiful in #costarica \\n#puravida https://t.co/MfNp7E3Q4e', truncated=False, entities={'hashtags': [{'text': 'sunsets', 'indices': [14, 22]}, {'text': 'costarica', 'indices': [40, 50]}, {'text': 'puravida', 'indices': [52, 61]}], 'symbols': [], 'user_mentions': [{'screen_name': 'mamm1962', 'name': 'M_A_M_M', 'id': 4038827354, 'id_str': '4038827354', 'indices': [3, 12]}], 'urls': [], 'media': [{'id': 908069179109945344, 'id_str': '908069179109945344', 'indices': [62, 85], 'media_url': 'http://pbs.twimg.com/media/DJocG3RUMAA6r8_.jpg', 'media_url_https': 'https://pbs.twimg.com/media/DJocG3RUMAA6r8_.jpg', 'url': 'https://t.co/MfNp7E3Q4e', 'display_url': 'pic.twitter.com/MfNp7E3Q4e', 'expanded_url': 'https://twitter.com/mamm1962/status/908069206414864384/photo/1', 'type': 'photo', 'sizes': {'large': {'w': 1024, 'h': 576, 'resize': 'fit'}, 'medium': {'w': 1024, 'h': 576, 'resize': 'fit'}, 'small': {'w': 680, 'h': 383, 'resize': 'fit'}, 'thumb': {'w': 150, 'h': 150, 'resize': 'crop'}}, 'source_status_id': 908069206414864384, 'source_status_id_str': '908069206414864384', 'source_user_id': 4038827354, 'source_user_id_str': '4038827354'}]}, extended_entities={'media': [{'id': 908069179109945344, 'id_str': '908069179109945344', 'indices': [62, 85], 'media_url': 'http://pbs.twimg.com/media/DJocG3RUMAA6r8_.jpg', 'media_url_https': 'https://pbs.twimg.com/media/DJocG3RUMAA6r8_.jpg', 'url': 'https://t.co/MfNp7E3Q4e', 'display_url': 'pic.twitter.com/MfNp7E3Q4e', 'expanded_url': 'https://twitter.com/mamm1962/status/908069206414864384/photo/1', 'type': 'photo', 'sizes': {'large': {'w': 1024, 'h': 576, 'resize': 'fit'}, 'medium': {'w': 1024, 'h': 576, 'resize': 'fit'}, 'small': {'w': 680, 'h': 383, 'resize': 'fit'}, 'thumb': {'w': 150, 'h': 150, 'resize': 'crop'}}, 'source_status_id': 908069206414864384, 'source_status_id_str': '908069206414864384', 'source_user_id': 4038827354, 'source_user_id_str': '4038827354'}, {'id': 908069188605845504, 'id_str': '908069188605845504', 'indices': [62, 85], 'media_url': 'http://pbs.twimg.com/media/DJocHapUIAAA4eL.jpg', 'media_url_https': 'https://pbs.twimg.com/media/DJocHapUIAAA4eL.jpg', 'url': 'https://t.co/MfNp7E3Q4e', 'display_url': 'pic.twitter.com/MfNp7E3Q4e', 'expanded_url': 'https://twitter.com/mamm1962/status/908069206414864384/photo/1', 'type': 'photo', 'sizes': {'small': {'w': 680, 'h': 454, 'resize': 'fit'}, 'large': {'w': 1024, 'h': 683, 'resize': 'fit'}, 'thumb': {'w': 150, 'h': 150, 'resize': 'crop'}, 'medium': {'w': 1024, 'h': 683, 'resize': 'fit'}}, 'source_status_id': 908069206414864384, 'source_status_id_str': '908069206414864384', 'source_user_id': 4038827354, 'source_user_id_str': '4038827354'}, {'id': 908069198349295616, 'id_str': '908069198349295616', 'indices': [62, 85], 'media_url': 'http://pbs.twimg.com/media/DJocH-8VYAAG35W.jpg', 'media_url_https': 'https://pbs.twimg.com/media/DJocH-8VYAAG35W.jpg', 'url': 'https://t.co/MfNp7E3Q4e', 'display_url': 'pic.twitter.com/MfNp7E3Q4e', 'expanded_url': 'https://twitter.com/mamm1962/status/908069206414864384/photo/1', 'type': 'photo', 'sizes': {'large': {'w': 1024, 'h': 576, 'resize': 'fit'}, 'medium': {'w': 1024, 'h': 576, 'resize': 'fit'}, 'small': {'w': 680, 'h': 383, 'resize': 'fit'}, 'thumb': {'w': 150, 'h': 150, 'resize': 'crop'}}, 'source_status_id': 908069206414864384, 'source_status_id_str': '908069206414864384', 'source_user_id': 4038827354, 'source_user_id_str': '4038827354'}]}, metadata={'iso_language_code': 'en', 'result_type': 'recent'}, source='Twitter for iPad', source_url='http://twitter.com/#!/download/ipad', in_reply_to_status_id=None, in_reply_to_status_id_str=None, in_reply_to_user_id=None, in_reply_to_user_id_str=None, in_reply_to_screen_name=None, author=User(_api=<tweepy.api.API object at 0x11b3f9d68>, _json={'id': 775698569961627648, 'id_str': '775698569961627648', 'name': 'Joe', 'screen_name': 'beachesbikes', 'location': '', 'description': '⚓️Beautiful Beaches and hot bikes⚓️', 'url': None, 'entities': {'description': {'urls': []}}, 'protected': False, 'followers_count': 6314, 'friends_count': 5677, 'listed_count': 265, 'created_at': 'Tue Sep 13 14:12:05 +0000 2016', 'favourites_count': 98794, 'utc_offset': None, 'time_zone': None, 'geo_enabled': False, 'verified': False, 'statuses_count': 82730, 'lang': 'en', 'contributors_enabled': False, 'is_translator': False, 'is_translation_enabled': False, 'profile_background_color': 'F5F8FA', 'profile_background_image_url': None, 'profile_background_image_url_https': None, 'profile_background_tile': False, 'profile_image_url': 'http://pbs.twimg.com/profile_images/869623921045381121/CoTZYRz__normal.jpg', 'profile_image_url_https': 'https://pbs.twimg.com/profile_images/869623921045381121/CoTZYRz__normal.jpg', 'profile_banner_url': 'https://pbs.twimg.com/profile_banners/775698569961627648/1503022016', 'profile_link_color': '1DA1F2', 'profile_sidebar_border_color': 'C0DEED', 'profile_sidebar_fill_color': 'DDEEF6', 'profile_text_color': '333333', 'profile_use_background_image': True, 'has_extended_profile': False, 'default_profile': True, 'default_profile_image': False, 'following': None, 'follow_request_sent': None, 'notifications': None, 'translator_type': 'none'}, id=775698569961627648, id_str='775698569961627648', name='Joe', screen_name='beachesbikes', location='', description='⚓️Beautiful Beaches and hot bikes⚓️', url=None, entities={'description': {'urls': []}}, protected=False, followers_count=6314, friends_count=5677, listed_count=265, created_at=datetime.datetime(2016, 9, 13, 14, 12, 5), favourites_count=98794, utc_offset=None, time_zone=None, geo_enabled=False, verified=False, statuses_count=82730, lang='en', contributors_enabled=False, is_translator=False, is_translation_enabled=False, profile_background_color='F5F8FA', profile_background_image_url=None, profile_background_image_url_https=None, profile_background_tile=False, profile_image_url='http://pbs.twimg.com/profile_images/869623921045381121/CoTZYRz__normal.jpg', profile_image_url_https='https://pbs.twimg.com/profile_images/869623921045381121/CoTZYRz__normal.jpg', profile_banner_url='https://pbs.twimg.com/profile_banners/775698569961627648/1503022016', profile_link_color='1DA1F2', profile_sidebar_border_color='C0DEED', profile_sidebar_fill_color='DDEEF6', profile_text_color='333333', profile_use_background_image=True, has_extended_profile=False, default_profile=True, default_profile_image=False, following=False, follow_request_sent=None, notifications=None, translator_type='none'), user=User(_api=<tweepy.api.API object at 0x11b3f9d68>, _json={'id': 775698569961627648, 'id_str': '775698569961627648', 'name': 'Joe', 'screen_name': 'beachesbikes', 'location': '', 'description': '⚓️Beautiful Beaches and hot bikes⚓️', 'url': None, 'entities': {'description': {'urls': []}}, 'protected': False, 'followers_count': 6314, 'friends_count': 5677, 'listed_count': 265, 'created_at': 'Tue Sep 13 14:12:05 +0000 2016', 'favourites_count': 98794, 'utc_offset': None, 'time_zone': None, 'geo_enabled': False, 'verified': False, 'statuses_count': 82730, 'lang': 'en', 'contributors_enabled': False, 'is_translator': False, 'is_translation_enabled': False, 'profile_background_color': 'F5F8FA', 'profile_background_image_url': None, 'profile_background_image_url_https': None, 'profile_background_tile': False, 'profile_image_url': 'http://pbs.twimg.com/profile_images/869623921045381121/CoTZYRz__normal.jpg', 'profile_image_url_https': 'https://pbs.twimg.com/profile_images/869623921045381121/CoTZYRz__normal.jpg', 'profile_banner_url': 'https://pbs.twimg.com/profile_banners/775698569961627648/1503022016', 'profile_link_color': '1DA1F2', 'profile_sidebar_border_color': 'C0DEED', 'profile_sidebar_fill_color': 'DDEEF6', 'profile_text_color': '333333', 'profile_use_background_image': True, 'has_extended_profile': False, 'default_profile': True, 'default_profile_image': False, 'following': None, 'follow_request_sent': None, 'notifications': None, 'translator_type': 'none'}, id=775698569961627648, id_str='775698569961627648', name='Joe', screen_name='beachesbikes', location='', description='⚓️Beautiful Beaches and hot bikes⚓️', url=None, entities={'description': {'urls': []}}, protected=False, followers_count=6314, friends_count=5677, listed_count=265, created_at=datetime.datetime(2016, 9, 13, 14, 12, 5), favourites_count=98794, utc_offset=None, time_zone=None, geo_enabled=False, verified=False, statuses_count=82730, lang='en', contributors_enabled=False, is_translator=False, is_translation_enabled=False, profile_background_color='F5F8FA', profile_background_image_url=None, profile_background_image_url_https=None, profile_background_tile=False, profile_image_url='http://pbs.twimg.com/profile_images/869623921045381121/CoTZYRz__normal.jpg', profile_image_url_https='https://pbs.twimg.com/profile_images/869623921045381121/CoTZYRz__normal.jpg', profile_banner_url='https://pbs.twimg.com/profile_banners/775698569961627648/1503022016', profile_link_color='1DA1F2', profile_sidebar_border_color='C0DEED', profile_sidebar_fill_color='DDEEF6', profile_text_color='333333', profile_use_background_image=True, has_extended_profile=False, default_profile=True, default_profile_image=False, following=False, follow_request_sent=None, notifications=None, translator_type='none'), geo=None, coordinates=None, place=None, contributors=None, retweeted_status=Status(_api=<tweepy.api.API object at 0x11b3f9d68>, _json={'created_at': 'Wed Sep 13 20:45:44 +0000 2017', 'id': 908069206414864384, 'id_str': '908069206414864384', 'text': '#sunsets are beautiful in #costarica \\n#puravida https://t.co/MfNp7E3Q4e', 'truncated': False, 'entities': {'hashtags': [{'text': 'sunsets', 'indices': [0, 8]}, {'text': 'costarica', 'indices': [26, 36]}, {'text': 'puravida', 'indices': [38, 47]}], 'symbols': [], 'user_mentions': [], 'urls': [], 'media': [{'id': 908069179109945344, 'id_str': '908069179109945344', 'indices': [48, 71], 'media_url': 'http://pbs.twimg.com/media/DJocG3RUMAA6r8_.jpg', 'media_url_https': 'https://pbs.twimg.com/media/DJocG3RUMAA6r8_.jpg', 'url': 'https://t.co/MfNp7E3Q4e', 'display_url': 'pic.twitter.com/MfNp7E3Q4e', 'expanded_url': 'https://twitter.com/mamm1962/status/908069206414864384/photo/1', 'type': 'photo', 'sizes': {'large': {'w': 1024, 'h': 576, 'resize': 'fit'}, 'medium': {'w': 1024, 'h': 576, 'resize': 'fit'}, 'small': {'w': 680, 'h': 383, 'resize': 'fit'}, 'thumb': {'w': 150, 'h': 150, 'resize': 'crop'}}}]}, 'extended_entities': {'media': [{'id': 908069179109945344, 'id_str': '908069179109945344', 'indices': [48, 71], 'media_url': 'http://pbs.twimg.com/media/DJocG3RUMAA6r8_.jpg', 'media_url_https': 'https://pbs.twimg.com/media/DJocG3RUMAA6r8_.jpg', 'url': 'https://t.co/MfNp7E3Q4e', 'display_url': 'pic.twitter.com/MfNp7E3Q4e', 'expanded_url': 'https://twitter.com/mamm1962/status/908069206414864384/photo/1', 'type': 'photo', 'sizes': {'large': {'w': 1024, 'h': 576, 'resize': 'fit'}, 'medium': {'w': 1024, 'h': 576, 'resize': 'fit'}, 'small': {'w': 680, 'h': 383, 'resize': 'fit'}, 'thumb': {'w': 150, 'h': 150, 'resize': 'crop'}}}, {'id': 908069188605845504, 'id_str': '908069188605845504', 'indices': [48, 71], 'media_url': 'http://pbs.twimg.com/media/DJocHapUIAAA4eL.jpg', 'media_url_https': 'https://pbs.twimg.com/media/DJocHapUIAAA4eL.jpg', 'url': 'https://t.co/MfNp7E3Q4e', 'display_url': 'pic.twitter.com/MfNp7E3Q4e', 'expanded_url': 'https://twitter.com/mamm1962/status/908069206414864384/photo/1', 'type': 'photo', 'sizes': {'small': {'w': 680, 'h': 454, 'resize': 'fit'}, 'large': {'w': 1024, 'h': 683, 'resize': 'fit'}, 'thumb': {'w': 150, 'h': 150, 'resize': 'crop'}, 'medium': {'w': 1024, 'h': 683, 'resize': 'fit'}}}, {'id': 908069198349295616, 'id_str': '908069198349295616', 'indices': [48, 71], 'media_url': 'http://pbs.twimg.com/media/DJocH-8VYAAG35W.jpg', 'media_url_https': 'https://pbs.twimg.com/media/DJocH-8VYAAG35W.jpg', 'url': 'https://t.co/MfNp7E3Q4e', 'display_url': 'pic.twitter.com/MfNp7E3Q4e', 'expanded_url': 'https://twitter.com/mamm1962/status/908069206414864384/photo/1', 'type': 'photo', 'sizes': {'large': {'w': 1024, 'h': 576, 'resize': 'fit'}, 'medium': {'w': 1024, 'h': 576, 'resize': 'fit'}, 'small': {'w': 680, 'h': 383, 'resize': 'fit'}, 'thumb': {'w': 150, 'h': 150, 'resize': 'crop'}}}]}, 'metadata': {'iso_language_code': 'en', 'result_type': 'recent'}, 'source': '<a href=\"http://twitter.com/download/android\" rel=\"nofollow\">Twitter for Android</a>', 'in_reply_to_status_id': None, 'in_reply_to_status_id_str': None, 'in_reply_to_user_id': None, 'in_reply_to_user_id_str': None, 'in_reply_to_screen_name': None, 'user': {'id': 4038827354, 'id_str': '4038827354', 'name': 'M_A_M_M', 'screen_name': 'mamm1962', 'location': 'British Columbia, Canada', 'description': '🌺 Costa Rica 🌺 and 🌺 Hawaii 🌺\\nare my two favorite places to be 😊\\n\\nI ❤ the sun 🌞 the ocean 🌊 and sand between my toes 😊', 'url': 'https://t.co/ihOVs9L8pp', 'entities': {'url': {'urls': [{'url': 'https://t.co/ihOVs9L8pp', 'expanded_url': 'http://www.instagram.com/m.a.m.m.62/', 'display_url': 'instagram.com/m.a.m.m.62/', 'indices': [0, 23]}]}, 'description': {'urls': []}}, 'protected': False, 'followers_count': 1135, 'friends_count': 1018, 'listed_count': 24, 'created_at': 'Tue Oct 27 19:57:11 +0000 2015', 'favourites_count': 7208, 'utc_offset': -25200, 'time_zone': 'Pacific Time (US & Canada)', 'geo_enabled': True, 'verified': False, 'statuses_count': 1252, 'lang': 'en', 'contributors_enabled': False, 'is_translator': False, 'is_translation_enabled': False, 'profile_background_color': 'C0DEED', 'profile_background_image_url': 'http://abs.twimg.com/images/themes/theme1/bg.png', 'profile_background_image_url_https': 'https://abs.twimg.com/images/themes/theme1/bg.png', 'profile_background_tile': False, 'profile_image_url': 'http://pbs.twimg.com/profile_images/665644811743965184/7Q8tHEvA_normal.jpg', 'profile_image_url_https': 'https://pbs.twimg.com/profile_images/665644811743965184/7Q8tHEvA_normal.jpg', 'profile_banner_url': 'https://pbs.twimg.com/profile_banners/4038827354/1445976078', 'profile_link_color': '1DA1F2', 'profile_sidebar_border_color': 'C0DEED', 'profile_sidebar_fill_color': 'DDEEF6', 'profile_text_color': '333333', 'profile_use_background_image': True, 'has_extended_profile': True, 'default_profile': True, 'default_profile_image': False, 'following': None, 'follow_request_sent': None, 'notifications': None, 'translator_type': 'none'}, 'geo': None, 'coordinates': None, 'place': {'id': '435a15a8bf629083', 'url': 'https://api.twitter.com/1.1/geo/id/435a15a8bf629083.json', 'place_type': 'city', 'name': 'Coquitlam', 'full_name': 'Coquitlam, British Columbia', 'country_code': 'CA', 'country': 'Canada', 'contained_within': [], 'bounding_box': {'type': 'Polygon', 'coordinates': [[[-122.893434, 49.219352], [-122.618118, 49.219352], [-122.618118, 49.351565], [-122.893434, 49.351565]]]}, 'attributes': {}}, 'contributors': None, 'is_quote_status': False, 'retweet_count': 3, 'favorite_count': 11, 'favorited': False, 'retweeted': False, 'possibly_sensitive': False, 'lang': 'en'}, created_at=datetime.datetime(2017, 9, 13, 20, 45, 44), id=908069206414864384, id_str='908069206414864384', text='#sunsets are beautiful in #costarica \\n#puravida https://t.co/MfNp7E3Q4e', truncated=False, entities={'hashtags': [{'text': 'sunsets', 'indices': [0, 8]}, {'text': 'costarica', 'indices': [26, 36]}, {'text': 'puravida', 'indices': [38, 47]}], 'symbols': [], 'user_mentions': [], 'urls': [], 'media': [{'id': 908069179109945344, 'id_str': '908069179109945344', 'indices': [48, 71], 'media_url': 'http://pbs.twimg.com/media/DJocG3RUMAA6r8_.jpg', 'media_url_https': 'https://pbs.twimg.com/media/DJocG3RUMAA6r8_.jpg', 'url': 'https://t.co/MfNp7E3Q4e', 'display_url': 'pic.twitter.com/MfNp7E3Q4e', 'expanded_url': 'https://twitter.com/mamm1962/status/908069206414864384/photo/1', 'type': 'photo', 'sizes': {'large': {'w': 1024, 'h': 576, 'resize': 'fit'}, 'medium': {'w': 1024, 'h': 576, 'resize': 'fit'}, 'small': {'w': 680, 'h': 383, 'resize': 'fit'}, 'thumb': {'w': 150, 'h': 150, 'resize': 'crop'}}}]}, extended_entities={'media': [{'id': 908069179109945344, 'id_str': '908069179109945344', 'indices': [48, 71], 'media_url': 'http://pbs.twimg.com/media/DJocG3RUMAA6r8_.jpg', 'media_url_https': 'https://pbs.twimg.com/media/DJocG3RUMAA6r8_.jpg', 'url': 'https://t.co/MfNp7E3Q4e', 'display_url': 'pic.twitter.com/MfNp7E3Q4e', 'expanded_url': 'https://twitter.com/mamm1962/status/908069206414864384/photo/1', 'type': 'photo', 'sizes': {'large': {'w': 1024, 'h': 576, 'resize': 'fit'}, 'medium': {'w': 1024, 'h': 576, 'resize': 'fit'}, 'small': {'w': 680, 'h': 383, 'resize': 'fit'}, 'thumb': {'w': 150, 'h': 150, 'resize': 'crop'}}}, {'id': 908069188605845504, 'id_str': '908069188605845504', 'indices': [48, 71], 'media_url': 'http://pbs.twimg.com/media/DJocHapUIAAA4eL.jpg', 'media_url_https': 'https://pbs.twimg.com/media/DJocHapUIAAA4eL.jpg', 'url': 'https://t.co/MfNp7E3Q4e', 'display_url': 'pic.twitter.com/MfNp7E3Q4e', 'expanded_url': 'https://twitter.com/mamm1962/status/908069206414864384/photo/1', 'type': 'photo', 'sizes': {'small': {'w': 680, 'h': 454, 'resize': 'fit'}, 'large': {'w': 1024, 'h': 683, 'resize': 'fit'}, 'thumb': {'w': 150, 'h': 150, 'resize': 'crop'}, 'medium': {'w': 1024, 'h': 683, 'resize': 'fit'}}}, {'id': 908069198349295616, 'id_str': '908069198349295616', 'indices': [48, 71], 'media_url': 'http://pbs.twimg.com/media/DJocH-8VYAAG35W.jpg', 'media_url_https': 'https://pbs.twimg.com/media/DJocH-8VYAAG35W.jpg', 'url': 'https://t.co/MfNp7E3Q4e', 'display_url': 'pic.twitter.com/MfNp7E3Q4e', 'expanded_url': 'https://twitter.com/mamm1962/status/908069206414864384/photo/1', 'type': 'photo', 'sizes': {'large': {'w': 1024, 'h': 576, 'resize': 'fit'}, 'medium': {'w': 1024, 'h': 576, 'resize': 'fit'}, 'small': {'w': 680, 'h': 383, 'resize': 'fit'}, 'thumb': {'w': 150, 'h': 150, 'resize': 'crop'}}}]}, metadata={'iso_language_code': 'en', 'result_type': 'recent'}, source='Twitter for Android', source_url='http://twitter.com/download/android', in_reply_to_status_id=None, in_reply_to_status_id_str=None, in_reply_to_user_id=None, in_reply_to_user_id_str=None, in_reply_to_screen_name=None, author=User(_api=<tweepy.api.API object at 0x11b3f9d68>, _json={'id': 4038827354, 'id_str': '4038827354', 'name': 'M_A_M_M', 'screen_name': 'mamm1962', 'location': 'British Columbia, Canada', 'description': '🌺 Costa Rica 🌺 and 🌺 Hawaii 🌺\\nare my two favorite places to be 😊\\n\\nI ❤ the sun 🌞 the ocean 🌊 and sand between my toes 😊', 'url': 'https://t.co/ihOVs9L8pp', 'entities': {'url': {'urls': [{'url': 'https://t.co/ihOVs9L8pp', 'expanded_url': 'http://www.instagram.com/m.a.m.m.62/', 'display_url': 'instagram.com/m.a.m.m.62/', 'indices': [0, 23]}]}, 'description': {'urls': []}}, 'protected': False, 'followers_count': 1135, 'friends_count': 1018, 'listed_count': 24, 'created_at': 'Tue Oct 27 19:57:11 +0000 2015', 'favourites_count': 7208, 'utc_offset': -25200, 'time_zone': 'Pacific Time (US & Canada)', 'geo_enabled': True, 'verified': False, 'statuses_count': 1252, 'lang': 'en', 'contributors_enabled': False, 'is_translator': False, 'is_translation_enabled': False, 'profile_background_color': 'C0DEED', 'profile_background_image_url': 'http://abs.twimg.com/images/themes/theme1/bg.png', 'profile_background_image_url_https': 'https://abs.twimg.com/images/themes/theme1/bg.png', 'profile_background_tile': False, 'profile_image_url': 'http://pbs.twimg.com/profile_images/665644811743965184/7Q8tHEvA_normal.jpg', 'profile_image_url_https': 'https://pbs.twimg.com/profile_images/665644811743965184/7Q8tHEvA_normal.jpg', 'profile_banner_url': 'https://pbs.twimg.com/profile_banners/4038827354/1445976078', 'profile_link_color': '1DA1F2', 'profile_sidebar_border_color': 'C0DEED', 'profile_sidebar_fill_color': 'DDEEF6', 'profile_text_color': '333333', 'profile_use_background_image': True, 'has_extended_profile': True, 'default_profile': True, 'default_profile_image': False, 'following': None, 'follow_request_sent': None, 'notifications': None, 'translator_type': 'none'}, id=4038827354, id_str='4038827354', name='M_A_M_M', screen_name='mamm1962', location='British Columbia, Canada', description='🌺 Costa Rica 🌺 and 🌺 Hawaii 🌺\\nare my two favorite places to be 😊\\n\\nI ❤ the sun 🌞 the ocean 🌊 and sand between my toes 😊', url='https://t.co/ihOVs9L8pp', entities={'url': {'urls': [{'url': 'https://t.co/ihOVs9L8pp', 'expanded_url': 'http://www.instagram.com/m.a.m.m.62/', 'display_url': 'instagram.com/m.a.m.m.62/', 'indices': [0, 23]}]}, 'description': {'urls': []}}, protected=False, followers_count=1135, friends_count=1018, listed_count=24, created_at=datetime.datetime(2015, 10, 27, 19, 57, 11), favourites_count=7208, utc_offset=-25200, time_zone='Pacific Time (US & Canada)', geo_enabled=True, verified=False, statuses_count=1252, lang='en', contributors_enabled=False, is_translator=False, is_translation_enabled=False, profile_background_color='C0DEED', profile_background_image_url='http://abs.twimg.com/images/themes/theme1/bg.png', profile_background_image_url_https='https://abs.twimg.com/images/themes/theme1/bg.png', profile_background_tile=False, profile_image_url='http://pbs.twimg.com/profile_images/665644811743965184/7Q8tHEvA_normal.jpg', profile_image_url_https='https://pbs.twimg.com/profile_images/665644811743965184/7Q8tHEvA_normal.jpg', profile_banner_url='https://pbs.twimg.com/profile_banners/4038827354/1445976078', profile_link_color='1DA1F2', profile_sidebar_border_color='C0DEED', profile_sidebar_fill_color='DDEEF6', profile_text_color='333333', profile_use_background_image=True, has_extended_profile=True, default_profile=True, default_profile_image=False, following=False, follow_request_sent=None, notifications=None, translator_type='none'), user=User(_api=<tweepy.api.API object at 0x11b3f9d68>, _json={'id': 4038827354, 'id_str': '4038827354', 'name': 'M_A_M_M', 'screen_name': 'mamm1962', 'location': 'British Columbia, Canada', 'description': '🌺 Costa Rica 🌺 and 🌺 Hawaii 🌺\\nare my two favorite places to be 😊\\n\\nI ❤ the sun 🌞 the ocean 🌊 and sand between my toes 😊', 'url': 'https://t.co/ihOVs9L8pp', 'entities': {'url': {'urls': [{'url': 'https://t.co/ihOVs9L8pp', 'expanded_url': 'http://www.instagram.com/m.a.m.m.62/', 'display_url': 'instagram.com/m.a.m.m.62/', 'indices': [0, 23]}]}, 'description': {'urls': []}}, 'protected': False, 'followers_count': 1135, 'friends_count': 1018, 'listed_count': 24, 'created_at': 'Tue Oct 27 19:57:11 +0000 2015', 'favourites_count': 7208, 'utc_offset': -25200, 'time_zone': 'Pacific Time (US & Canada)', 'geo_enabled': True, 'verified': False, 'statuses_count': 1252, 'lang': 'en', 'contributors_enabled': False, 'is_translator': False, 'is_translation_enabled': False, 'profile_background_color': 'C0DEED', 'profile_background_image_url': 'http://abs.twimg.com/images/themes/theme1/bg.png', 'profile_background_image_url_https': 'https://abs.twimg.com/images/themes/theme1/bg.png', 'profile_background_tile': False, 'profile_image_url': 'http://pbs.twimg.com/profile_images/665644811743965184/7Q8tHEvA_normal.jpg', 'profile_image_url_https': 'https://pbs.twimg.com/profile_images/665644811743965184/7Q8tHEvA_normal.jpg', 'profile_banner_url': 'https://pbs.twimg.com/profile_banners/4038827354/1445976078', 'profile_link_color': '1DA1F2', 'profile_sidebar_border_color': 'C0DEED', 'profile_sidebar_fill_color': 'DDEEF6', 'profile_text_color': '333333', 'profile_use_background_image': True, 'has_extended_profile': True, 'default_profile': True, 'default_profile_image': False, 'following': None, 'follow_request_sent': None, 'notifications': None, 'translator_type': 'none'}, id=4038827354, id_str='4038827354', name='M_A_M_M', screen_name='mamm1962', location='British Columbia, Canada', description='🌺 Costa Rica 🌺 and 🌺 Hawaii 🌺\\nare my two favorite places to be 😊\\n\\nI ❤ the sun 🌞 the ocean 🌊 and sand between my toes 😊', url='https://t.co/ihOVs9L8pp', entities={'url': {'urls': [{'url': 'https://t.co/ihOVs9L8pp', 'expanded_url': 'http://www.instagram.com/m.a.m.m.62/', 'display_url': 'instagram.com/m.a.m.m.62/', 'indices': [0, 23]}]}, 'description': {'urls': []}}, protected=False, followers_count=1135, friends_count=1018, listed_count=24, created_at=datetime.datetime(2015, 10, 27, 19, 57, 11), favourites_count=7208, utc_offset=-25200, time_zone='Pacific Time (US & Canada)', geo_enabled=True, verified=False, statuses_count=1252, lang='en', contributors_enabled=False, is_translator=False, is_translation_enabled=False, profile_background_color='C0DEED', profile_background_image_url='http://abs.twimg.com/images/themes/theme1/bg.png', profile_background_image_url_https='https://abs.twimg.com/images/themes/theme1/bg.png', profile_background_tile=False, profile_image_url='http://pbs.twimg.com/profile_images/665644811743965184/7Q8tHEvA_normal.jpg', profile_image_url_https='https://pbs.twimg.com/profile_images/665644811743965184/7Q8tHEvA_normal.jpg', profile_banner_url='https://pbs.twimg.com/profile_banners/4038827354/1445976078', profile_link_color='1DA1F2', profile_sidebar_border_color='C0DEED', profile_sidebar_fill_color='DDEEF6', profile_text_color='333333', profile_use_background_image=True, has_extended_profile=True, default_profile=True, default_profile_image=False, following=False, follow_request_sent=None, notifications=None, translator_type='none'), geo=None, coordinates=None, place=Place(_api=<tweepy.api.API object at 0x11b3f9d68>, id='435a15a8bf629083', url='https://api.twitter.com/1.1/geo/id/435a15a8bf629083.json', place_type='city', name='Coquitlam', full_name='Coquitlam, British Columbia', country_code='CA', country='Canada', contained_within=[], bounding_box=BoundingBox(_api=<tweepy.api.API object at 0x11b3f9d68>, type='Polygon', coordinates=[[[-122.893434, 49.219352], [-122.618118, 49.219352], [-122.618118, 49.351565], [-122.893434, 49.351565]]]), attributes={}), contributors=None, is_quote_status=False, retweet_count=3, favorite_count=11, favorited=False, retweeted=False, possibly_sensitive=False, lang='en'), is_quote_status=False, retweet_count=3, favorite_count=0, favorited=False, retweeted=False, possibly_sensitive=False, lang='en')>\n",
      "\n",
      "source : Twitter for iPad\n",
      "\n",
      "source_url : http://twitter.com/#!/download/ipad\n",
      "\n",
      "text : RT @mamm1962: #sunsets are beautiful in #costarica \n",
      "#puravida https://t.co/MfNp7E3Q4e\n",
      "\n",
      "truncated : False\n",
      "\n",
      "user : User(_api=<tweepy.api.API object at 0x11b3f9d68>, _json={'id': 775698569961627648, 'id_str': '775698569961627648', 'name': 'Joe', 'screen_name': 'beachesbikes', 'location': '', 'description': '⚓️Beautiful Beaches and hot bikes⚓️', 'url': None, 'entities': {'description': {'urls': []}}, 'protected': False, 'followers_count': 6314, 'friends_count': 5677, 'listed_count': 265, 'created_at': 'Tue Sep 13 14:12:05 +0000 2016', 'favourites_count': 98794, 'utc_offset': None, 'time_zone': None, 'geo_enabled': False, 'verified': False, 'statuses_count': 82730, 'lang': 'en', 'contributors_enabled': False, 'is_translator': False, 'is_translation_enabled': False, 'profile_background_color': 'F5F8FA', 'profile_background_image_url': None, 'profile_background_image_url_https': None, 'profile_background_tile': False, 'profile_image_url': 'http://pbs.twimg.com/profile_images/869623921045381121/CoTZYRz__normal.jpg', 'profile_image_url_https': 'https://pbs.twimg.com/profile_images/869623921045381121/CoTZYRz__normal.jpg', 'profile_banner_url': 'https://pbs.twimg.com/profile_banners/775698569961627648/1503022016', 'profile_link_color': '1DA1F2', 'profile_sidebar_border_color': 'C0DEED', 'profile_sidebar_fill_color': 'DDEEF6', 'profile_text_color': '333333', 'profile_use_background_image': True, 'has_extended_profile': False, 'default_profile': True, 'default_profile_image': False, 'following': None, 'follow_request_sent': None, 'notifications': None, 'translator_type': 'none'}, id=775698569961627648, id_str='775698569961627648', name='Joe', screen_name='beachesbikes', location='', description='⚓️Beautiful Beaches and hot bikes⚓️', url=None, entities={'description': {'urls': []}}, protected=False, followers_count=6314, friends_count=5677, listed_count=265, created_at=datetime.datetime(2016, 9, 13, 14, 12, 5), favourites_count=98794, utc_offset=None, time_zone=None, geo_enabled=False, verified=False, statuses_count=82730, lang='en', contributors_enabled=False, is_translator=False, is_translation_enabled=False, profile_background_color='F5F8FA', profile_background_image_url=None, profile_background_image_url_https=None, profile_background_tile=False, profile_image_url='http://pbs.twimg.com/profile_images/869623921045381121/CoTZYRz__normal.jpg', profile_image_url_https='https://pbs.twimg.com/profile_images/869623921045381121/CoTZYRz__normal.jpg', profile_banner_url='https://pbs.twimg.com/profile_banners/775698569961627648/1503022016', profile_link_color='1DA1F2', profile_sidebar_border_color='C0DEED', profile_sidebar_fill_color='DDEEF6', profile_text_color='333333', profile_use_background_image=True, has_extended_profile=False, default_profile=True, default_profile_image=False, following=False, follow_request_sent=None, notifications=None, translator_type='none')\n",
      "\n"
     ]
    }
   ],
   "source": [
    "tweet = result[0] #in JSON format with lots of unnecessary info\n",
    "\n",
    "#The key names beginning with an '_' are hidden ones and usually not required, so they can be skipped\n",
    "for item in dir(tweet):\n",
    "    if not item.startswith(\"_\"):\n",
    "        print(\"%s : %s\\n\" % (item, eval('tweet.'+item)))\n"
   ]
  },
  {
   "cell_type": "code",
   "execution_count": 6,
   "metadata": {},
   "outputs": [
    {
     "data": {
      "text/plain": [
       "['__class__', '__delattr__', '__dict__', '__dir__', '__doc__', '__eq__', '__format__', '__ge__', '__getattribute__', '__getstate__', '__gt__', '__hash__', '__init__', '__init_subclass__', '__le__', '__lt__', '__module__', '__ne__', '__new__', '__reduce__', '__reduce_ex__', '__repr__', '__setattr__', '__sizeof__', '__str__', '__subclasshook__', '__weakref__', '_api', '_json', 'author', 'contributors', 'coordinates', 'created_at', 'destroy', 'entities', 'extended_entities', 'favorite', 'favorite_count', 'favorited', 'geo', 'id', 'id_str', 'in_reply_to_screen_name', 'in_reply_to_status_id', 'in_reply_to_status_id_str', 'in_reply_to_user_id', 'in_reply_to_user_id_str', 'is_quote_status', 'lang', 'metadata', 'parse', 'parse_list', 'place', 'possibly_sensitive', 'retweet', 'retweet_count', 'retweeted', 'retweeted_status', 'retweets', 'source', 'source_url', 'text', 'truncated', 'user']"
      ]
     },
     "execution_count": 6,
     "metadata": {},
     "output_type": "execute_result"
    }
   ],
   "source": [
    "#See what can be called:\n",
    "\n",
    "dir(tweet)"
   ]
  },
  {
   "cell_type": "code",
   "execution_count": 7,
   "metadata": {},
   "outputs": [
    {
     "name": "stdout",
     "output_type": "stream",
     "text": [
      ".text =  RT @mamm1962: #sunsets are beautiful in #costarica \n",
      "#puravida https://t.co/MfNp7E3Q4e \n",
      "\n",
      ".lang =  en \n",
      "\n",
      ".favorite_count =  0 \n",
      "\n",
      ".source_url =  http://twitter.com/#!/download/ipad \n",
      "\n"
     ]
    }
   ],
   "source": [
    "#Check out some of this info\n",
    "\n",
    "print('.text = ', tweet.text, '\\n')\n",
    "print('.lang = ', tweet.lang, '\\n')\n",
    "print('.favorite_count = ', tweet.favorite_count, '\\n')\n",
    "print('.source_url = ', tweet.source_url, '\\n')"
   ]
  },
  {
   "cell_type": "markdown",
   "metadata": {},
   "source": [
    "**Creating lists of tweets**"
   ]
  },
  {
   "cell_type": "code",
   "execution_count": 8,
   "metadata": {},
   "outputs": [
    {
     "data": {
      "text/plain": [
       "100"
      ]
     },
     "execution_count": 8,
     "metadata": {},
     "output_type": "execute_result"
    }
   ],
   "source": [
    "#Create a list of the first 100 tweets with this hashtage\n",
    "\n",
    "results = []\n",
    "\n",
    "for tweet in tweepy.Cursor(api.search, q='%23puravida').items(100):\n",
    "    results.append(tweet)\n",
    "\n",
    "# Verify the number of items returned\n",
    "len(results)"
   ]
  },
  {
   "cell_type": "markdown",
   "metadata": {},
   "source": [
    "**Creating a DataFrame**"
   ]
  },
  {
   "cell_type": "code",
   "execution_count": 9,
   "metadata": {
    "collapsed": true
   },
   "outputs": [],
   "source": [
    "# Create a function to convert a given list of tweets into a Pandas DataFrame.\n",
    "# The DataFrame will consist of only the values selected (can be any of them)\n",
    "\n",
    "def toDataFrame(tweets):\n",
    "\n",
    "    DataSet = pd.DataFrame()\n",
    "\n",
    "    DataSet['tweetID'] = [tweet.id for tweet in tweets]\n",
    "    DataSet['tweetText'] = [tweet.text for tweet in tweets]\n",
    "    DataSet['tweetRetweetCt'] = [tweet.retweet_count for tweet \n",
    "    in tweets]\n",
    "    DataSet['tweetFavoriteCt'] = [tweet.favorite_count for tweet \n",
    "    in tweets]\n",
    "    DataSet['tweetSource'] = [tweet.source for tweet in tweets]\n",
    "    DataSet['tweetCreated'] = [tweet.created_at for tweet in tweets]\n",
    "    DataSet['userID'] = [tweet.user.id for tweet in tweets]\n",
    "    DataSet['userScreen'] = [tweet.user.screen_name for tweet \n",
    "    in tweets]\n",
    "    DataSet['userName'] = [tweet.user.name for tweet in tweets]\n",
    "    DataSet['userCreateDt'] = [tweet.user.created_at for tweet \n",
    "    in tweets]\n",
    "    DataSet['userDesc'] = [tweet.user.description for tweet in tweets]\n",
    "    DataSet['userFollowerCt'] = [tweet.user.followers_count for tweet \n",
    "    in tweets]\n",
    "    DataSet['userFriendsCt'] = [tweet.user.friends_count for tweet \n",
    "    in tweets]\n",
    "    DataSet['userLocation'] = [tweet.user.location for tweet in tweets]\n",
    "    DataSet['userTimezone'] = [tweet.user.time_zone for tweet \n",
    "    in tweets]\n",
    "    DataSet['language'] = [tweet.lang for tweet \n",
    "    in tweets]\n",
    "\n",
    "    return DataSet\n",
    "\n",
    "#Pass the tweets list to the above function to create a DataFrame\n",
    "tweets_df = toDataFrame(results)"
   ]
  },
  {
   "cell_type": "code",
   "execution_count": 10,
   "metadata": {},
   "outputs": [
    {
     "data": {
      "text/html": [
       "<div>\n",
       "<style>\n",
       "    .dataframe thead tr:only-child th {\n",
       "        text-align: right;\n",
       "    }\n",
       "\n",
       "    .dataframe thead th {\n",
       "        text-align: left;\n",
       "    }\n",
       "\n",
       "    .dataframe tbody tr th {\n",
       "        vertical-align: top;\n",
       "    }\n",
       "</style>\n",
       "<table border=\"1\" class=\"dataframe\">\n",
       "  <thead>\n",
       "    <tr style=\"text-align: right;\">\n",
       "      <th></th>\n",
       "      <th>tweetID</th>\n",
       "      <th>tweetText</th>\n",
       "      <th>tweetRetweetCt</th>\n",
       "      <th>tweetFavoriteCt</th>\n",
       "      <th>tweetSource</th>\n",
       "      <th>tweetCreated</th>\n",
       "      <th>userID</th>\n",
       "      <th>userScreen</th>\n",
       "      <th>userName</th>\n",
       "      <th>userCreateDt</th>\n",
       "      <th>userDesc</th>\n",
       "      <th>userFollowerCt</th>\n",
       "      <th>userFriendsCt</th>\n",
       "      <th>userLocation</th>\n",
       "      <th>userTimezone</th>\n",
       "      <th>language</th>\n",
       "    </tr>\n",
       "  </thead>\n",
       "  <tbody>\n",
       "    <tr>\n",
       "      <th>0</th>\n",
       "      <td>915738188152532992</td>\n",
       "      <td>RT @mamm1962: #sunsets are beautiful in #costa...</td>\n",
       "      <td>3</td>\n",
       "      <td>0</td>\n",
       "      <td>Twitter for iPad</td>\n",
       "      <td>2017-10-05 00:39:32</td>\n",
       "      <td>775698569961627648</td>\n",
       "      <td>beachesbikes</td>\n",
       "      <td>Joe</td>\n",
       "      <td>2016-09-13 14:12:05</td>\n",
       "      <td>⚓️Beautiful Beaches and hot bikes⚓️</td>\n",
       "      <td>6314</td>\n",
       "      <td>5677</td>\n",
       "      <td></td>\n",
       "      <td>None</td>\n",
       "      <td>en</td>\n",
       "    </tr>\n",
       "    <tr>\n",
       "      <th>1</th>\n",
       "      <td>915735611994030081</td>\n",
       "      <td>RT @_jenospamoeny_: About two years ago... Wow...</td>\n",
       "      <td>4</td>\n",
       "      <td>0</td>\n",
       "      <td>Twitter for iPhone</td>\n",
       "      <td>2017-10-05 00:29:18</td>\n",
       "      <td>881225376</td>\n",
       "      <td>Lauren_Gingrich</td>\n",
       "      <td>Lauren Gingrich</td>\n",
       "      <td>2012-10-15 00:16:50</td>\n",
       "      <td>• ball state '20 •</td>\n",
       "      <td>786</td>\n",
       "      <td>467</td>\n",
       "      <td>Costa Rica</td>\n",
       "      <td>Atlantic Time (Canada)</td>\n",
       "      <td>en</td>\n",
       "    </tr>\n",
       "    <tr>\n",
       "      <th>2</th>\n",
       "      <td>915733858523533312</td>\n",
       "      <td>Never have I ever wanted to see a red 🚗 more t...</td>\n",
       "      <td>0</td>\n",
       "      <td>0</td>\n",
       "      <td>Twitter for iPhone</td>\n",
       "      <td>2017-10-05 00:22:20</td>\n",
       "      <td>3287868493</td>\n",
       "      <td>stephmkhlian</td>\n",
       "      <td>StephieWonder</td>\n",
       "      <td>2015-07-22 18:24:26</td>\n",
       "      <td>Just another Angeleno. ✨ Ideas, Vision, Action...</td>\n",
       "      <td>150</td>\n",
       "      <td>577</td>\n",
       "      <td>Los Angeles, CA</td>\n",
       "      <td>None</td>\n",
       "      <td>en</td>\n",
       "    </tr>\n",
       "    <tr>\n",
       "      <th>3</th>\n",
       "      <td>915732417440346112</td>\n",
       "      <td>RT @MikePoynton: Solo una poca lluviosa hoy aq...</td>\n",
       "      <td>5</td>\n",
       "      <td>0</td>\n",
       "      <td>Twitter for Android</td>\n",
       "      <td>2017-10-05 00:16:36</td>\n",
       "      <td>50089536</td>\n",
       "      <td>edgumaco</td>\n",
       "      <td>Umaña</td>\n",
       "      <td>2009-06-23 20:20:40</td>\n",
       "      <td>#TheKillers . Algún día seré famoso por ser el...</td>\n",
       "      <td>2880</td>\n",
       "      <td>1790</td>\n",
       "      <td>Heredia, Costa Rica</td>\n",
       "      <td>Central America</td>\n",
       "      <td>es</td>\n",
       "    </tr>\n",
       "    <tr>\n",
       "      <th>4</th>\n",
       "      <td>915731184298098693</td>\n",
       "      <td>RT @MikePoynton: Solo una poca lluviosa hoy aq...</td>\n",
       "      <td>5</td>\n",
       "      <td>0</td>\n",
       "      <td>Twitter for Android</td>\n",
       "      <td>2017-10-05 00:11:42</td>\n",
       "      <td>2702046567</td>\n",
       "      <td>henpala83</td>\n",
       "      <td>Palacios</td>\n",
       "      <td>2014-07-12 06:22:23</td>\n",
       "      <td>Apasionado del fútbol, orgulloso de mis raíces...</td>\n",
       "      <td>144</td>\n",
       "      <td>576</td>\n",
       "      <td>Liberia, Costa Rica</td>\n",
       "      <td>None</td>\n",
       "      <td>es</td>\n",
       "    </tr>\n",
       "  </tbody>\n",
       "</table>\n",
       "</div>"
      ],
      "text/plain": [
       "              tweetID                                          tweetText  \\\n",
       "0  915738188152532992  RT @mamm1962: #sunsets are beautiful in #costa...   \n",
       "1  915735611994030081  RT @_jenospamoeny_: About two years ago... Wow...   \n",
       "2  915733858523533312  Never have I ever wanted to see a red 🚗 more t...   \n",
       "3  915732417440346112  RT @MikePoynton: Solo una poca lluviosa hoy aq...   \n",
       "4  915731184298098693  RT @MikePoynton: Solo una poca lluviosa hoy aq...   \n",
       "\n",
       "   tweetRetweetCt  tweetFavoriteCt          tweetSource        tweetCreated  \\\n",
       "0               3                0     Twitter for iPad 2017-10-05 00:39:32   \n",
       "1               4                0   Twitter for iPhone 2017-10-05 00:29:18   \n",
       "2               0                0   Twitter for iPhone 2017-10-05 00:22:20   \n",
       "3               5                0  Twitter for Android 2017-10-05 00:16:36   \n",
       "4               5                0  Twitter for Android 2017-10-05 00:11:42   \n",
       "\n",
       "               userID       userScreen         userName        userCreateDt  \\\n",
       "0  775698569961627648     beachesbikes              Joe 2016-09-13 14:12:05   \n",
       "1           881225376  Lauren_Gingrich  Lauren Gingrich 2012-10-15 00:16:50   \n",
       "2          3287868493     stephmkhlian    StephieWonder 2015-07-22 18:24:26   \n",
       "3            50089536         edgumaco            Umaña 2009-06-23 20:20:40   \n",
       "4          2702046567        henpala83         Palacios 2014-07-12 06:22:23   \n",
       "\n",
       "                                            userDesc  userFollowerCt  \\\n",
       "0                ⚓️Beautiful Beaches and hot bikes⚓️            6314   \n",
       "1                                 • ball state '20 •             786   \n",
       "2  Just another Angeleno. ✨ Ideas, Vision, Action...             150   \n",
       "3  #TheKillers . Algún día seré famoso por ser el...            2880   \n",
       "4  Apasionado del fútbol, orgulloso de mis raíces...             144   \n",
       "\n",
       "   userFriendsCt         userLocation            userTimezone language  \n",
       "0           5677                                         None       en  \n",
       "1            467           Costa Rica  Atlantic Time (Canada)       en  \n",
       "2            577      Los Angeles, CA                    None       en  \n",
       "3           1790  Heredia, Costa Rica         Central America       es  \n",
       "4            576  Liberia, Costa Rica                    None       es  "
      ]
     },
     "execution_count": 10,
     "metadata": {},
     "output_type": "execute_result"
    }
   ],
   "source": [
    "#Let's check it out\n",
    "tweets_df.head()"
   ]
  },
  {
   "cell_type": "code",
   "execution_count": 11,
   "metadata": {},
   "outputs": [
    {
     "data": {
      "text/plain": [
       "'#TheKillers . Algún día seré famoso por ser el mejor en Bases de Datos.  #GalletasJulieta .'"
      ]
     },
     "execution_count": 11,
     "metadata": {},
     "output_type": "execute_result"
    }
   ],
   "source": [
    "#A quick scan reveals this amazing user description:\n",
    "tweets_df.iloc[3, 10]"
   ]
  },
  {
   "cell_type": "code",
   "execution_count": 12,
   "metadata": {},
   "outputs": [
    {
     "data": {
      "text/html": [
       "<div>\n",
       "<style>\n",
       "    .dataframe thead tr:only-child th {\n",
       "        text-align: right;\n",
       "    }\n",
       "\n",
       "    .dataframe thead th {\n",
       "        text-align: left;\n",
       "    }\n",
       "\n",
       "    .dataframe tbody tr th {\n",
       "        vertical-align: top;\n",
       "    }\n",
       "</style>\n",
       "<table border=\"1\" class=\"dataframe\">\n",
       "  <thead>\n",
       "    <tr style=\"text-align: right;\">\n",
       "      <th></th>\n",
       "      <th>tweetID</th>\n",
       "      <th>tweetText</th>\n",
       "      <th>tweetRetweetCt</th>\n",
       "      <th>tweetFavoriteCt</th>\n",
       "      <th>tweetSource</th>\n",
       "      <th>tweetCreated</th>\n",
       "      <th>userID</th>\n",
       "      <th>userScreen</th>\n",
       "      <th>userName</th>\n",
       "      <th>userCreateDt</th>\n",
       "      <th>userDesc</th>\n",
       "      <th>userFollowerCt</th>\n",
       "      <th>userFriendsCt</th>\n",
       "      <th>userLocation</th>\n",
       "      <th>userTimezone</th>\n",
       "      <th>language</th>\n",
       "    </tr>\n",
       "  </thead>\n",
       "  <tbody>\n",
       "    <tr>\n",
       "      <th>95</th>\n",
       "      <td>915562490766925824</td>\n",
       "      <td>#PuraVida |  Junto a #AlejandraGarcíaKrizanec ...</td>\n",
       "      <td>0</td>\n",
       "      <td>2</td>\n",
       "      <td>SnappyTV.com</td>\n",
       "      <td>2017-10-04 13:01:22</td>\n",
       "      <td>719938888047927296</td>\n",
       "      <td>PuraVidaTele</td>\n",
       "      <td>PuraVida</td>\n",
       "      <td>2016-04-12 17:23:01</td>\n",
       "      <td>Magazine federal y dinámico que abarca diverso...</td>\n",
       "      <td>4778</td>\n",
       "      <td>162</td>\n",
       "      <td></td>\n",
       "      <td>Pacific Time (US &amp; Canada)</td>\n",
       "      <td>es</td>\n",
       "    </tr>\n",
       "    <tr>\n",
       "      <th>96</th>\n",
       "      <td>915561056403120128</td>\n",
       "      <td>RT @TV_Publica: #PuraVida | En este #Miércoles...</td>\n",
       "      <td>4</td>\n",
       "      <td>0</td>\n",
       "      <td>Twitter for Android</td>\n",
       "      <td>2017-10-04 12:55:40</td>\n",
       "      <td>366254719</td>\n",
       "      <td>DonFoier</td>\n",
       "      <td>Daniel Feuer</td>\n",
       "      <td>2011-09-01 21:11:47</td>\n",
       "      <td>Periodista, algunos me quieren, otros me evita...</td>\n",
       "      <td>933</td>\n",
       "      <td>437</td>\n",
       "      <td></td>\n",
       "      <td>None</td>\n",
       "      <td>es</td>\n",
       "    </tr>\n",
       "    <tr>\n",
       "      <th>97</th>\n",
       "      <td>915560592685109248</td>\n",
       "      <td>Este viernes volvemos a Mar Del Plata!\\nVamos ...</td>\n",
       "      <td>2</td>\n",
       "      <td>1</td>\n",
       "      <td>Facebook</td>\n",
       "      <td>2017-10-04 12:53:50</td>\n",
       "      <td>225658525</td>\n",
       "      <td>AGAINSTok</td>\n",
       "      <td>AGAINST</td>\n",
       "      <td>2010-12-12 03:52:02</td>\n",
       "      <td>\"Emerger\" y \"Soy Libertad\" disponibles en Spot...</td>\n",
       "      <td>397</td>\n",
       "      <td>491</td>\n",
       "      <td>Buenos Aires, Argentina</td>\n",
       "      <td>Buenos Aires</td>\n",
       "      <td>es</td>\n",
       "    </tr>\n",
       "    <tr>\n",
       "      <th>98</th>\n",
       "      <td>915559656688373760</td>\n",
       "      <td>RT @TV_Publica: #PuraVida | En este #Miércoles...</td>\n",
       "      <td>4</td>\n",
       "      <td>0</td>\n",
       "      <td>Twitter Web Client</td>\n",
       "      <td>2017-10-04 12:50:07</td>\n",
       "      <td>43529568</td>\n",
       "      <td>lilianabonin</td>\n",
       "      <td>Liliana Bonin</td>\n",
       "      <td>2009-05-30 13:47:03</td>\n",
       "      <td>Licenciada en Tecnología Educativa. Docente FR...</td>\n",
       "      <td>335</td>\n",
       "      <td>748</td>\n",
       "      <td>Colonia Huges, Argentina</td>\n",
       "      <td>None</td>\n",
       "      <td>es</td>\n",
       "    </tr>\n",
       "    <tr>\n",
       "      <th>99</th>\n",
       "      <td>915559422679756801</td>\n",
       "      <td>RT @TV_Publica: #PuraVida | En este #Miércoles...</td>\n",
       "      <td>4</td>\n",
       "      <td>0</td>\n",
       "      <td>Twitter for iPhone</td>\n",
       "      <td>2017-10-04 12:49:11</td>\n",
       "      <td>35802650</td>\n",
       "      <td>lrimoldi</td>\n",
       "      <td>Luciana Rimoldi</td>\n",
       "      <td>2009-04-27 17:34:57</td>\n",
       "      <td></td>\n",
       "      <td>150</td>\n",
       "      <td>673</td>\n",
       "      <td>Buenos Aires</td>\n",
       "      <td>Santiago</td>\n",
       "      <td>es</td>\n",
       "    </tr>\n",
       "  </tbody>\n",
       "</table>\n",
       "</div>"
      ],
      "text/plain": [
       "               tweetID                                          tweetText  \\\n",
       "95  915562490766925824  #PuraVida |  Junto a #AlejandraGarcíaKrizanec ...   \n",
       "96  915561056403120128  RT @TV_Publica: #PuraVida | En este #Miércoles...   \n",
       "97  915560592685109248  Este viernes volvemos a Mar Del Plata!\\nVamos ...   \n",
       "98  915559656688373760  RT @TV_Publica: #PuraVida | En este #Miércoles...   \n",
       "99  915559422679756801  RT @TV_Publica: #PuraVida | En este #Miércoles...   \n",
       "\n",
       "    tweetRetweetCt  tweetFavoriteCt          tweetSource        tweetCreated  \\\n",
       "95               0                2         SnappyTV.com 2017-10-04 13:01:22   \n",
       "96               4                0  Twitter for Android 2017-10-04 12:55:40   \n",
       "97               2                1             Facebook 2017-10-04 12:53:50   \n",
       "98               4                0   Twitter Web Client 2017-10-04 12:50:07   \n",
       "99               4                0   Twitter for iPhone 2017-10-04 12:49:11   \n",
       "\n",
       "                userID    userScreen         userName        userCreateDt  \\\n",
       "95  719938888047927296  PuraVidaTele         PuraVida 2016-04-12 17:23:01   \n",
       "96           366254719      DonFoier     Daniel Feuer 2011-09-01 21:11:47   \n",
       "97           225658525     AGAINSTok          AGAINST 2010-12-12 03:52:02   \n",
       "98            43529568  lilianabonin    Liliana Bonin 2009-05-30 13:47:03   \n",
       "99            35802650      lrimoldi  Luciana Rimoldi 2009-04-27 17:34:57   \n",
       "\n",
       "                                             userDesc  userFollowerCt  \\\n",
       "95  Magazine federal y dinámico que abarca diverso...            4778   \n",
       "96  Periodista, algunos me quieren, otros me evita...             933   \n",
       "97  \"Emerger\" y \"Soy Libertad\" disponibles en Spot...             397   \n",
       "98  Licenciada en Tecnología Educativa. Docente FR...             335   \n",
       "99                                                                150   \n",
       "\n",
       "    userFriendsCt              userLocation                userTimezone  \\\n",
       "95            162                            Pacific Time (US & Canada)   \n",
       "96            437                                                  None   \n",
       "97            491   Buenos Aires, Argentina                Buenos Aires   \n",
       "98            748  Colonia Huges, Argentina                        None   \n",
       "99            673              Buenos Aires                    Santiago   \n",
       "\n",
       "   language  \n",
       "95       es  \n",
       "96       es  \n",
       "97       es  \n",
       "98       es  \n",
       "99       es  "
      ]
     },
     "execution_count": 12,
     "metadata": {},
     "output_type": "execute_result"
    }
   ],
   "source": [
    "#And to check the tail\n",
    "tweets_df.tail()"
   ]
  },
  {
   "cell_type": "markdown",
   "metadata": {},
   "source": [
    "**Example of cleaning the data**"
   ]
  },
  {
   "cell_type": "code",
   "execution_count": 13,
   "metadata": {},
   "outputs": [
    {
     "data": {
      "text/plain": [
       "56"
      ]
     },
     "execution_count": 13,
     "metadata": {},
     "output_type": "execute_result"
    }
   ],
   "source": [
    "#Removing'userTimezone' which corresponds to 'None'.\n",
    "\n",
    "tweets_df = tweets_df[tweets_df.userTimezone.notnull()]\n",
    "\n",
    "# Let's also check how many records are we left with now\n",
    "len(tweets_df)\n",
    "\n",
    "#removed 41 tweets!"
   ]
  },
  {
   "cell_type": "markdown",
   "metadata": {},
   "source": [
    "**Exploring the data**"
   ]
  },
  {
   "cell_type": "code",
   "execution_count": 14,
   "metadata": {},
   "outputs": [
    {
     "name": "stdout",
     "output_type": "stream",
     "text": [
      "Pacific Time (US & Canada)    12\n",
      "Santiago                       5\n",
      "Madrid                         4\n",
      "Atlantic Time (Canada)         4\n",
      "Central America                4\n",
      "Amsterdam                      4\n",
      "Eastern Time (US & Canada)     4\n",
      "Central Time (US & Canada)     4\n",
      "Buenos Aires                   2\n",
      "Mexico City                    2\n",
      "Name: userTimezone, dtype: int64\n"
     ]
    }
   ],
   "source": [
    "# Count the number of tweets in each time zone and get the first 10\n",
    "tzs = tweets_df['userTimezone'].value_counts()[:10]\n",
    "print(tzs)\n",
    "\n",
    "#pretty crazy that Central America (where Costa Rica is) is in 10th place"
   ]
  },
  {
   "cell_type": "markdown",
   "metadata": {},
   "source": [
    "**Visualizing the data**"
   ]
  },
  {
   "cell_type": "code",
   "execution_count": 15,
   "metadata": {},
   "outputs": [
    {
     "data": {
      "text/plain": [
       "<matplotlib.text.Text object at 0x11f2b70f0>"
      ]
     },
     "execution_count": 15,
     "metadata": {},
     "output_type": "execute_result"
    }
   ],
   "source": [
    "# Create a bar-graph figure of the specified size\n",
    "plt.rcParams['figure.figsize'] = (15, 5)\n",
    "\n",
    "# Plot the Time Zone data as a bar-graph\n",
    "tzs.plot(kind='bar')\n",
    "\n",
    "\n",
    "# Assign labels and title to the graph to make it more presentable\n",
    "plt.xlabel('Timezones')\n",
    "plt.ylabel('Tweet Count')\n",
    "plt.title('Top 10 Timezones tweeting #puravida')"
   ]
  },
  {
   "cell_type": "code",
   "execution_count": 16,
   "metadata": {},
   "outputs": [
    {
     "data": {
      "text/plain": [
       "es     38\n",
       "en     11\n",
       "und     4\n",
       "it      1\n",
       "tl      1\n",
       "fr      1\n",
       "Name: language, dtype: int64"
      ]
     },
     "execution_count": 16,
     "metadata": {},
     "output_type": "execute_result"
    }
   ],
   "source": [
    "#Lets check out the languages used\n",
    "\n",
    "tweets_df.language.value_counts()\n",
    "\n",
    "#I wonder what 'und' is!?"
   ]
  },
  {
   "cell_type": "code",
   "execution_count": 17,
   "metadata": {},
   "outputs": [
    {
     "data": {
      "text/html": [
       "<div>\n",
       "<style>\n",
       "    .dataframe thead tr:only-child th {\n",
       "        text-align: right;\n",
       "    }\n",
       "\n",
       "    .dataframe thead th {\n",
       "        text-align: left;\n",
       "    }\n",
       "\n",
       "    .dataframe tbody tr th {\n",
       "        vertical-align: top;\n",
       "    }\n",
       "</style>\n",
       "<table border=\"1\" class=\"dataframe\">\n",
       "  <thead>\n",
       "    <tr style=\"text-align: right;\">\n",
       "      <th></th>\n",
       "      <th>tweetRetweetCt</th>\n",
       "      <th>tweetFavoriteCt</th>\n",
       "    </tr>\n",
       "    <tr>\n",
       "      <th>language</th>\n",
       "      <th></th>\n",
       "      <th></th>\n",
       "    </tr>\n",
       "  </thead>\n",
       "  <tbody>\n",
       "    <tr>\n",
       "      <th>en</th>\n",
       "      <td>2.727273</td>\n",
       "      <td>4.454545</td>\n",
       "    </tr>\n",
       "    <tr>\n",
       "      <th>es</th>\n",
       "      <td>18.184211</td>\n",
       "      <td>4.500000</td>\n",
       "    </tr>\n",
       "    <tr>\n",
       "      <th>fr</th>\n",
       "      <td>0.000000</td>\n",
       "      <td>0.000000</td>\n",
       "    </tr>\n",
       "    <tr>\n",
       "      <th>it</th>\n",
       "      <td>0.000000</td>\n",
       "      <td>1.000000</td>\n",
       "    </tr>\n",
       "    <tr>\n",
       "      <th>tl</th>\n",
       "      <td>0.000000</td>\n",
       "      <td>1.000000</td>\n",
       "    </tr>\n",
       "    <tr>\n",
       "      <th>und</th>\n",
       "      <td>0.500000</td>\n",
       "      <td>0.250000</td>\n",
       "    </tr>\n",
       "  </tbody>\n",
       "</table>\n",
       "</div>"
      ],
      "text/plain": [
       "          tweetRetweetCt  tweetFavoriteCt\n",
       "language                                 \n",
       "en              2.727273         4.454545\n",
       "es             18.184211         4.500000\n",
       "fr              0.000000         0.000000\n",
       "it              0.000000         1.000000\n",
       "tl              0.000000         1.000000\n",
       "und             0.500000         0.250000"
      ]
     },
     "execution_count": 17,
     "metadata": {},
     "output_type": "execute_result"
    }
   ],
   "source": [
    "#Let's try using groupby to see what different language users were doing\n",
    "\n",
    "tweets_df_lang = tweets_df.groupby('language')[['tweetRetweetCt', 'tweetFavoriteCt']].mean()\n",
    "tweets_df_lang\n"
   ]
  },
  {
   "cell_type": "code",
   "execution_count": 18,
   "metadata": {},
   "outputs": [
    {
     "data": {
      "text/html": [
       "<div>\n",
       "<style>\n",
       "    .dataframe thead tr:only-child th {\n",
       "        text-align: right;\n",
       "    }\n",
       "\n",
       "    .dataframe thead th {\n",
       "        text-align: left;\n",
       "    }\n",
       "\n",
       "    .dataframe tbody tr th {\n",
       "        vertical-align: top;\n",
       "    }\n",
       "</style>\n",
       "<table border=\"1\" class=\"dataframe\">\n",
       "  <thead>\n",
       "    <tr style=\"text-align: right;\">\n",
       "      <th></th>\n",
       "      <th>tweetID</th>\n",
       "      <th>tweetText</th>\n",
       "      <th>tweetRetweetCt</th>\n",
       "      <th>tweetFavoriteCt</th>\n",
       "      <th>tweetSource</th>\n",
       "      <th>tweetCreated</th>\n",
       "      <th>userID</th>\n",
       "      <th>userScreen</th>\n",
       "      <th>userName</th>\n",
       "      <th>userCreateDt</th>\n",
       "      <th>userDesc</th>\n",
       "      <th>userFollowerCt</th>\n",
       "      <th>userFriendsCt</th>\n",
       "      <th>userLocation</th>\n",
       "      <th>userTimezone</th>\n",
       "      <th>language</th>\n",
       "    </tr>\n",
       "  </thead>\n",
       "  <tbody>\n",
       "    <tr>\n",
       "      <th>17</th>\n",
       "      <td>915708393595265026</td>\n",
       "      <td>Mar... 🌊🍋\\n•\\n•\\n•\\n•\\n•\\n•\\n•\\n•\\n•\\n•\\n#gopr...</td>\n",
       "      <td>0</td>\n",
       "      <td>0</td>\n",
       "      <td>Instagram</td>\n",
       "      <td>2017-10-04 22:41:08</td>\n",
       "      <td>463375832</td>\n",
       "      <td>MarcosCampos89</td>\n",
       "      <td>Marcos Campos</td>\n",
       "      <td>2012-01-14 01:34:27</td>\n",
       "      <td>Le escribo versos a la soledad, solo con ella ...</td>\n",
       "      <td>519</td>\n",
       "      <td>1244</td>\n",
       "      <td>Miramar</td>\n",
       "      <td>Central Time (US &amp; Canada)</td>\n",
       "      <td>und</td>\n",
       "    </tr>\n",
       "    <tr>\n",
       "      <th>35</th>\n",
       "      <td>915688267185557504</td>\n",
       "      <td>#puravida https://t.co/6lBTBZbX55</td>\n",
       "      <td>0</td>\n",
       "      <td>0</td>\n",
       "      <td>Instagram</td>\n",
       "      <td>2017-10-04 21:21:10</td>\n",
       "      <td>131128476</td>\n",
       "      <td>victormorantoca</td>\n",
       "      <td>VictorMoran8</td>\n",
       "      <td>2010-04-09 10:28:21</td>\n",
       "      <td>Jugador A.D. Muriedas Urrutia</td>\n",
       "      <td>195</td>\n",
       "      <td>501</td>\n",
       "      <td>Santander</td>\n",
       "      <td>Amsterdam</td>\n",
       "      <td>und</td>\n",
       "    </tr>\n",
       "    <tr>\n",
       "      <th>43</th>\n",
       "      <td>915678160515223558</td>\n",
       "      <td>RT @ffortesp: #vivaespaña 🇪🇸🇪🇸🇪🇸 ... #frio #ba...</td>\n",
       "      <td>1</td>\n",
       "      <td>0</td>\n",
       "      <td>Twitter for iPhone</td>\n",
       "      <td>2017-10-04 20:41:00</td>\n",
       "      <td>268819958</td>\n",
       "      <td>ffortesp</td>\n",
       "      <td>fran fortes</td>\n",
       "      <td>2011-03-19 14:47:25</td>\n",
       "      <td>PuRa ViDa...</td>\n",
       "      <td>100</td>\n",
       "      <td>330</td>\n",
       "      <td>malaga</td>\n",
       "      <td>Amsterdam</td>\n",
       "      <td>und</td>\n",
       "    </tr>\n",
       "    <tr>\n",
       "      <th>44</th>\n",
       "      <td>915677897066721285</td>\n",
       "      <td>#vivaespaña 🇪🇸🇪🇸🇪🇸 ... #frio #bandera #españa ...</td>\n",
       "      <td>1</td>\n",
       "      <td>1</td>\n",
       "      <td>Instagram</td>\n",
       "      <td>2017-10-04 20:39:57</td>\n",
       "      <td>268819958</td>\n",
       "      <td>ffortesp</td>\n",
       "      <td>fran fortes</td>\n",
       "      <td>2011-03-19 14:47:25</td>\n",
       "      <td>PuRa ViDa...</td>\n",
       "      <td>100</td>\n",
       "      <td>330</td>\n",
       "      <td>malaga</td>\n",
       "      <td>Amsterdam</td>\n",
       "      <td>und</td>\n",
       "    </tr>\n",
       "  </tbody>\n",
       "</table>\n",
       "</div>"
      ],
      "text/plain": [
       "               tweetID                                          tweetText  \\\n",
       "17  915708393595265026  Mar... 🌊🍋\\n•\\n•\\n•\\n•\\n•\\n•\\n•\\n•\\n•\\n•\\n#gopr...   \n",
       "35  915688267185557504                  #puravida https://t.co/6lBTBZbX55   \n",
       "43  915678160515223558  RT @ffortesp: #vivaespaña 🇪🇸🇪🇸🇪🇸 ... #frio #ba...   \n",
       "44  915677897066721285  #vivaespaña 🇪🇸🇪🇸🇪🇸 ... #frio #bandera #españa ...   \n",
       "\n",
       "    tweetRetweetCt  tweetFavoriteCt         tweetSource        tweetCreated  \\\n",
       "17               0                0           Instagram 2017-10-04 22:41:08   \n",
       "35               0                0           Instagram 2017-10-04 21:21:10   \n",
       "43               1                0  Twitter for iPhone 2017-10-04 20:41:00   \n",
       "44               1                1           Instagram 2017-10-04 20:39:57   \n",
       "\n",
       "       userID       userScreen       userName        userCreateDt  \\\n",
       "17  463375832   MarcosCampos89  Marcos Campos 2012-01-14 01:34:27   \n",
       "35  131128476  victormorantoca   VictorMoran8 2010-04-09 10:28:21   \n",
       "43  268819958         ffortesp    fran fortes 2011-03-19 14:47:25   \n",
       "44  268819958         ffortesp    fran fortes 2011-03-19 14:47:25   \n",
       "\n",
       "                                             userDesc  userFollowerCt  \\\n",
       "17  Le escribo versos a la soledad, solo con ella ...             519   \n",
       "35                      Jugador A.D. Muriedas Urrutia             195   \n",
       "43                                       PuRa ViDa...             100   \n",
       "44                                       PuRa ViDa...             100   \n",
       "\n",
       "    userFriendsCt userLocation                userTimezone language  \n",
       "17           1244      Miramar  Central Time (US & Canada)      und  \n",
       "35            501   Santander                    Amsterdam      und  \n",
       "43            330       malaga                   Amsterdam      und  \n",
       "44            330       malaga                   Amsterdam      und  "
      ]
     },
     "execution_count": 18,
     "metadata": {},
     "output_type": "execute_result"
    }
   ],
   "source": [
    "#one popular person in und... let's see this famous tweet\n",
    "\n",
    "tweets_df.loc[tweets_df.language == 'und', :]\n",
    "\n",
    "#perhaps 'und' is just 'undefined'. The two heavily retweeted tweets are actually RTs themselves!\n"
   ]
  },
  {
   "cell_type": "code",
   "execution_count": 19,
   "metadata": {},
   "outputs": [
    {
     "data": {
      "text/plain": [
       "                                  6\n",
       "Costa Rica                        5\n",
       "Santiago, Chile                   4\n",
       "México                            2\n",
       "Buenos Aires, Argentina           2\n",
       "malaga                            2\n",
       "Worldwide                         1\n",
       "Alajuela, SanJose - Costa Rica    1\n",
       "Spain                             1\n",
       "574➡️317                          1\n",
       "Toasty, USA                       1\n",
       "Pura Vida -                       1\n",
       "La gloria se consigue luchando    1\n",
       "aju city, brazil                  1\n",
       "Viviendo !                        1\n",
       "Miramar                           1\n",
       "Guanacaste, Costa Rica            1\n",
       "San José, Costa Rica              1\n",
       "Bilbao, #Spain                    1\n",
       "Buenos Aires                      1\n",
       "New York                          1\n",
       "Madrid                            1\n",
       "Bilbo EH                          1\n",
       "Rêve de Polynésie                 1\n",
       "Argentina                         1\n",
       "Berkeley, CA                      1\n",
       "Barcelona, Cataluña - Spain       1\n",
       "Cee Truth Connecticut             1\n",
       "Alajuela, Costa Rica              1\n",
       "Charleston, SC                    1\n",
       "Heredia, Costa Rica               1\n",
       "de_valencia                       1\n",
       "In Yo Face! {Miami}               1\n",
       "In front of my Xbox.              1\n",
       "Eindhoven,the Netherlands         1\n",
       "Los Angeles, CA                   1\n",
       "Mexico                            1\n",
       "Mexico D.F.                       1\n",
       "Santander                         1\n",
       "Uranus                            1\n",
       "NYC • DMV                         1\n",
       "Name: userLocation, dtype: int64"
      ]
     },
     "execution_count": 19,
     "metadata": {},
     "output_type": "execute_result"
    }
   ],
   "source": [
    "#What about location since timezone was surprising?\n",
    "tweets_df.userLocation.value_counts()"
   ]
  },
  {
   "cell_type": "code",
   "execution_count": 20,
   "metadata": {},
   "outputs": [
    {
     "data": {
      "text/plain": [
       "['Costa Rica', 'Heredia, Costa Rica', 'San José, Costa Rica', 'Alajuela, Costa Rica', 'Costa Rica', 'Costa Rica', 'Costa Rica', 'Guanacaste, Costa Rica', 'Costa Rica', 'Alajuela, SanJose - Costa Rica']"
      ]
     },
     "execution_count": 20,
     "metadata": {},
     "output_type": "execute_result"
    }
   ],
   "source": [
    "#Looks like a lot more people from Costa Rica now. Let's try to aggregate all the locations with 'Costa Rica' in the name\n",
    "\n",
    "[x for x in tweets_df.userLocation if 'Costa Rica' in x]\n"
   ]
  },
  {
   "cell_type": "code",
   "execution_count": 21,
   "metadata": {
    "collapsed": true
   },
   "outputs": [],
   "source": [
    "#Yep, a lot of Costa Rican locations"
   ]
  },
  {
   "cell_type": "markdown",
   "metadata": {},
   "source": [
    "**Analysis**\n",
    "\n",
    "The timezone data seems misleading as it shows that Pacific Time (US and Canada) have the most tweets. However, looking at specific locations, Costa Rica has by far the most (as would be expected). This could perhaps be due to users not selecting the correct timezone in their account settings or an error in twitter's classification of timezones as Costa Rica is clearly in Central America.\n",
    "\n",
    "Language show a predictable of Spanish 1st and English 2nd, and the ununsal 'und' appears to be for 'undefined' as the tweets themselves are either in Spanish or English - could Spanglish throw off the language detector or is the whatever is selected in the account settings?"
   ]
  }
 ],
 "metadata": {
  "kernelspec": {
   "display_name": "Python 3",
   "language": "python",
   "name": "python3"
  },
  "language_info": {
   "codemirror_mode": {
    "name": "ipython",
    "version": 3
   },
   "file_extension": ".py",
   "mimetype": "text/x-python",
   "name": "python",
   "nbconvert_exporter": "python",
   "pygments_lexer": "ipython3",
   "version": "3.6.1"
  }
 },
 "nbformat": 4,
 "nbformat_minor": 2
}
