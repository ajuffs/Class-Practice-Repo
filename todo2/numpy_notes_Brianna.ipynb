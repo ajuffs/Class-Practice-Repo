{
 "cells": [
  {
   "cell_type": "markdown",
   "metadata": {},
   "source": [
    "##### Note: DataCamp slides are saved to computer! Notes written on slides."
   ]
  },
  {
   "cell_type": "markdown",
   "metadata": {},
   "source": [
    "# Chapter 2 - Intro to NumPy\n",
    "\n",
    "## TOC:\n",
    "- [Understanding Data Types in Python](#Understanding-Data-Types-in-Python)\n",
    "    - [Integers](#Integers)\n",
    "    - [Lists](#Lists)\n",
    "        - [Fixed-Type Arrays in Python](#Fixed-Type-Arrays-in-Python)\n",
    "        - [Creating Arrays from Python Lists](#Creating-Arrays-from-Python-Lists)\n",
    "        - [Creating Arrays from Scratch](#Creating-Arrays-from-Scratch)\n",
    "    - [NumPy Standard Data Types](#NumPy-Standard-Data-Types)\n",
    "- [The Basics of NumPy Arrays](#The-Basics-of-NumPy-Arrays)\n",
    "    - [NumPy Array Basics](#NumPy-Array-Basics)\n",
    "    - [Array Indexing: Accessing Single Elements](#Array-Indexing:-Accessing-Single-Elements)\n",
    "    - [Array Slicing: Accessing Subarrays](#Array-Slicing:-Accessing-Subarrays)\n",
    "        - [One-Dimensional Subarrays](#One-Dimensional-Subarrays)\n",
    "        - [Multidimensional Subarrays](#Multidimensional-Subarrays)\n",
    "            - [Acessing Array Rows and Columns](#Accessing-Array-Rows-and-Columns)\n",
    "        - [Sub-Arrays as No-Copy Views](#Subarrays-as-No-Copy-Views)\n",
    "        - [Creating Copies of Arrays](#Creating-Copies-of-Arrays)\n",
    "    - [Reshaping of Arrays](#Reshaping-of-Arrays)\n",
    "    - [Array Concatenation and Splitting](#Array-Concatenation-&-Spliting)\n",
    "        - [Concatenation of Arrays](#Concatenation-of-Arrays)\n",
    "        - [Splitting of Arrays](#Splitting-of-Arrays)\n",
    "- [Computation on NumPy Arrays: Universal Functions](#Computation-on-NumPy-Arrays:-Universal-Functions)\n",
    "    - [The Slowness of Loops](#The-Slowness-of-Loops)\n",
    "    - [Introducing UFuncs](#Introducing-UFuncs)\n",
    "    - [Exploring NumPy's Ufuncs](#Exploring-NumPy's-Ufuncs)\n",
    "        - [Array Arithmetic](#Array-Arithmetic)\n",
    "        - [Absolute Value](#Absolute-Value)\n",
    "        - [Trigonometric Functions](#Trigonometric-Functions)\n",
    "        - [Exponents and Logarithms](#Exponents-and-Logarithms)\n",
    "        - [Specializeds Ufuncs](#Specialized-Ufuncs)\n",
    "    - [Advanced Ufunc Features](#Advanced-Ufunc-Features)\n",
    "        - [Specifying Output](#Specifying-Output)\n",
    "        - [Aggregates](#Aggregates)\n",
    "        - [Outer Products](#Outer-Products)\n",
    "    - [Ufuncs: Learning More](#Ufuncs:-Learning-More)\n",
    "- [Aggregations: Min, Max, and Everything in Between](#Aggregations:-Min,-Max,-and-Everything-in-Between)\n",
    "    - [Summing the Values in an Array](#Summing-the-Values-in-an-Array)\n",
    "    - [Minimum and Maximum](#Minimum-and-Maximum)\n",
    "    - [Multidimensional Aggregates](#Multidimensional-Aggregates)\n",
    "    - [Other Aggregation Functions](#Other-Aggregation-Functions)"
   ]
  },
  {
   "cell_type": "markdown",
   "metadata": {},
   "source": [
    "---\n",
    "- NumPy = Numerical Python\n",
    "    - provides interface to store & efficiently operate w/(huge amounts of) data\n",
    "    \n",
    "[NumPy website](http://www.numpy.org)"
   ]
  },
  {
   "cell_type": "code",
   "execution_count": 1,
   "metadata": {},
   "outputs": [
    {
     "data": {
      "text/plain": [
       "'1.12.1'"
      ]
     },
     "execution_count": 1,
     "metadata": {},
     "output_type": "execute_result"
    }
   ],
   "source": [
    "import numpy as np        # import numpy\n",
    "np.__version__        # check verison of numpy\n",
    "#np?        # display built-in documentation"
   ]
  },
  {
   "cell_type": "markdown",
   "metadata": {},
   "source": [
    "## Understanding Data Types in Python\n",
    "### Integers\n",
    "- head contains reference count, type code, size\n",
    "    - reference count --> helps Python handle memory allocation\n",
    "    - type code --> encode variable type\n",
    "    - size --> specifies size of data members\n",
    "- digit --> contains actual integer values we expect var to represent\n",
    "\n",
    "### Lists\n",
    "- Python can have lists of all same type or of mixed type\n",
    "- to allow mixed type lists, each item has to be its own complete item\n",
    "    - each item has to have type info, ref count, etc.\n",
    "        - redundant if single type variable, takes too much space\n",
    "- if list is of single type, it;s more efficient to store data in fixed-type array\n",
    "    - this is a NumPy-style array\n",
    "\n",
    "#### Fixed-Type Arrays in Python\n",
    "- Python has built in `array` module\n",
    "- NumPy's `ndarray` object adds efficient operations on data"
   ]
  },
  {
   "cell_type": "code",
   "execution_count": 2,
   "metadata": {},
   "outputs": [
    {
     "data": {
      "text/plain": [
       "array('i', [0, 1, 2, 3, 4, 5, 6, 7, 8, 9])"
      ]
     },
     "execution_count": 2,
     "metadata": {},
     "output_type": "execute_result"
    }
   ],
   "source": [
    "import array\n",
    "L = list(range(10))\n",
    "array.array('i', L)     # i is type code indicating integer data"
   ]
  },
  {
   "cell_type": "markdown",
   "metadata": {},
   "source": [
    "#### Creating Arrays from Python Lists\n",
    "- use `np.array`\n",
    "- NumPy arrays must contain info of all same type\n",
    "    - if types don't match, it'll upcast if possible\n",
    "- can explicitly set data type using `dtype` keyword\n",
    "- NumPy arrays can be multidimensional"
   ]
  },
  {
   "cell_type": "code",
   "execution_count": 3,
   "metadata": {},
   "outputs": [
    {
     "data": {
      "text/plain": [
       "array([1, 2, 3, 4])"
      ]
     },
     "execution_count": 3,
     "metadata": {},
     "output_type": "execute_result"
    }
   ],
   "source": [
    "a1 = np.array([1, 2, 3, 4])     # integer array\n",
    "a1"
   ]
  },
  {
   "cell_type": "code",
   "execution_count": 4,
   "metadata": {},
   "outputs": [
    {
     "data": {
      "text/plain": [
       "array([ 3.14,  4.  ,  5.  ,  6.  ])"
      ]
     },
     "execution_count": 4,
     "metadata": {},
     "output_type": "execute_result"
    }
   ],
   "source": [
    "a2 = np.array([3.14, 4, 5, 6])     # mismatched types, upcast to floating point\n",
    "a2"
   ]
  },
  {
   "cell_type": "code",
   "execution_count": 5,
   "metadata": {},
   "outputs": [
    {
     "data": {
      "text/plain": [
       "array([ 1.,  2.,  3.,  4.], dtype=float32)"
      ]
     },
     "execution_count": 5,
     "metadata": {},
     "output_type": "execute_result"
    }
   ],
   "source": [
    "a3 = np.array([1,2,3,4], dtype='float32')     # explicitly set data type\n",
    "a3"
   ]
  },
  {
   "cell_type": "code",
   "execution_count": 6,
   "metadata": {},
   "outputs": [
    {
     "data": {
      "text/plain": [
       "array([[2, 3, 4],\n",
       "       [4, 5, 6],\n",
       "       [6, 7, 8]])"
      ]
     },
     "execution_count": 6,
     "metadata": {},
     "output_type": "execute_result"
    }
   ],
   "source": [
    "a4 = np.array([range(i, i+3) for i in [2,4,6]])     # nested lists resulting in multidimensional array\n",
    "a4     # results is 2D array"
   ]
  },
  {
   "cell_type": "markdown",
   "metadata": {},
   "source": [
    "#### Creating Arrays from Scratch\n",
    "- w/larger arrays, it's more efficient to create arrays from scratch using NumPy routines"
   ]
  },
  {
   "cell_type": "code",
   "execution_count": 7,
   "metadata": {},
   "outputs": [
    {
     "data": {
      "text/plain": [
       "array([0, 0, 0, 0, 0])"
      ]
     },
     "execution_count": 7,
     "metadata": {},
     "output_type": "execute_result"
    }
   ],
   "source": [
    "# length-5 int array filled w/zeros\n",
    "np.zeros(5, dtype='int')"
   ]
  },
  {
   "cell_type": "code",
   "execution_count": 8,
   "metadata": {},
   "outputs": [
    {
     "data": {
      "text/plain": [
       "array([[ 1.,  1.,  1.,  1.,  1.],\n",
       "       [ 1.,  1.,  1.,  1.,  1.],\n",
       "       [ 1.,  1.,  1.,  1.,  1.]])"
      ]
     },
     "execution_count": 8,
     "metadata": {},
     "output_type": "execute_result"
    }
   ],
   "source": [
    "# 3x5 floating-point array of 1s\n",
    "np.ones((3,5), dtype=float)"
   ]
  },
  {
   "cell_type": "code",
   "execution_count": 9,
   "metadata": {},
   "outputs": [
    {
     "data": {
      "text/plain": [
       "array([[ 3.14,  3.14,  3.14,  3.14,  3.14],\n",
       "       [ 3.14,  3.14,  3.14,  3.14,  3.14],\n",
       "       [ 3.14,  3.14,  3.14,  3.14,  3.14]])"
      ]
     },
     "execution_count": 9,
     "metadata": {},
     "output_type": "execute_result"
    }
   ],
   "source": [
    "# 3x5 filled w/3.14\n",
    "np.full((3,5), 3.14)"
   ]
  },
  {
   "cell_type": "code",
   "execution_count": 10,
   "metadata": {},
   "outputs": [
    {
     "data": {
      "text/plain": [
       "array([ 0,  2,  4,  6,  8, 10, 12, 14, 16, 18])"
      ]
     },
     "execution_count": 10,
     "metadata": {},
     "output_type": "execute_result"
    }
   ],
   "source": [
    "# linear sequence starting @ 0 ending @ 20, step by 2\n",
    "# similar to range()\n",
    "np.arange(0,20,2)"
   ]
  },
  {
   "cell_type": "code",
   "execution_count": 11,
   "metadata": {},
   "outputs": [
    {
     "data": {
      "text/plain": [
       "array([ 0.  ,  0.25,  0.5 ,  0.75,  1.  ])"
      ]
     },
     "execution_count": 11,
     "metadata": {},
     "output_type": "execute_result"
    }
   ],
   "source": [
    "# array of 5 values evenly spaced between 0 & 1\n",
    "np.linspace(0,1,5)"
   ]
  },
  {
   "cell_type": "code",
   "execution_count": 12,
   "metadata": {},
   "outputs": [
    {
     "data": {
      "text/plain": [
       "array([[ 0.34295657,  0.02304556,  0.15127279],\n",
       "       [ 0.9352297 ,  0.13766249,  0.15570051],\n",
       "       [ 0.95757951,  0.93051372,  0.16765972]])"
      ]
     },
     "execution_count": 12,
     "metadata": {},
     "output_type": "execute_result"
    }
   ],
   "source": [
    "# 3x3 array of uniformly distributed random #s between 0 & 1\n",
    "np.random.random((3,3))"
   ]
  },
  {
   "cell_type": "code",
   "execution_count": 13,
   "metadata": {},
   "outputs": [
    {
     "data": {
      "text/plain": [
       "array([[0, 9, 1],\n",
       "       [9, 5, 1],\n",
       "       [5, 3, 2]])"
      ]
     },
     "execution_count": 13,
     "metadata": {},
     "output_type": "execute_result"
    }
   ],
   "source": [
    "# 3x3 of random ints on [0, 10)\n",
    "np.random.randint(0,10,(3,3))"
   ]
  },
  {
   "cell_type": "code",
   "execution_count": 14,
   "metadata": {},
   "outputs": [
    {
     "data": {
      "text/plain": [
       "array([[ 1.,  0.,  0.,  0.],\n",
       "       [ 0.,  1.,  0.,  0.],\n",
       "       [ 0.,  0.,  1.,  0.],\n",
       "       [ 0.,  0.,  0.,  1.]])"
      ]
     },
     "execution_count": 14,
     "metadata": {},
     "output_type": "execute_result"
    }
   ],
   "source": [
    "# 4x4 identity matrix\n",
    "np.eye(4)"
   ]
  },
  {
   "cell_type": "code",
   "execution_count": 15,
   "metadata": {},
   "outputs": [
    {
     "data": {
      "text/plain": [
       "array([  1.72723371e-077,  -4.33017271e-311,   2.15482819e-314])"
      ]
     },
     "execution_count": 15,
     "metadata": {},
     "output_type": "execute_result"
    }
   ],
   "source": [
    "# uninitialized array of 3 ints\n",
    "# values will be whatever happens to already exist @ that memory location\n",
    "np.empty(3)"
   ]
  },
  {
   "cell_type": "markdown",
   "metadata": {},
   "source": [
    "### NumPy Standard Data Types\n",
    "- data types are similar to C b/c NumPy is built in C\n",
    "- when constructing an array, specify data type using `dtype`\n",
    "\n",
    "(Table taken from [NumPy Documentation](https://docs.scipy.org/doc/numpy/user/basics.types.html))\n",
    "<table border=\"1\" class=\"docutils\">\n",
    "<colgroup>\n",
    "<col width=\"17%\" />\n",
    "<col width=\"83%\" />\n",
    "</colgroup>\n",
    "<thead valign=\"bottom\">\n",
    "<tr class=\"row-odd\"><th class=\"head\">Data type</th>\n",
    "<th class=\"head\">Description</th>\n",
    "</tr>\n",
    "</thead>\n",
    "<tbody valign=\"top\">\n",
    "<tr class=\"row-even\"><td><code class=\"docutils literal\"><span class=\"pre\">bool_</span></code></td>\n",
    "<td>Boolean (True or False) stored as a byte</td>\n",
    "</tr>\n",
    "<tr class=\"row-odd\"><td><code class=\"docutils literal\"><span class=\"pre\">int_</span></code></td>\n",
    "<td>Default integer type (same as C <code class=\"docutils literal\"><span class=\"pre\">long</span></code>; normally either\n",
    "<code class=\"docutils literal\"><span class=\"pre\">int64</span></code> or <code class=\"docutils literal\"><span class=\"pre\">int32</span></code>)</td>\n",
    "</tr>\n",
    "<tr class=\"row-even\"><td>intc</td>\n",
    "<td>Identical to C <code class=\"docutils literal\"><span class=\"pre\">int</span></code> (normally <code class=\"docutils literal\"><span class=\"pre\">int32</span></code> or <code class=\"docutils literal\"><span class=\"pre\">int64</span></code>)</td>\n",
    "</tr>\n",
    "<tr class=\"row-odd\"><td>intp</td>\n",
    "<td>Integer used for indexing (same as C <code class=\"docutils literal\"><span class=\"pre\">ssize_t</span></code>; normally\n",
    "either <code class=\"docutils literal\"><span class=\"pre\">int32</span></code> or <code class=\"docutils literal\"><span class=\"pre\">int64</span></code>)</td>\n",
    "</tr>\n",
    "<tr class=\"row-even\"><td>int8</td>\n",
    "<td>Byte (-128 to 127)</td>\n",
    "</tr>\n",
    "<tr class=\"row-odd\"><td>int16</td>\n",
    "<td>Integer (-32768 to 32767)</td>\n",
    "</tr>\n",
    "<tr class=\"row-even\"><td>int32</td>\n",
    "<td>Integer (-2147483648 to 2147483647)</td>\n",
    "</tr>\n",
    "<tr class=\"row-odd\"><td>int64</td>\n",
    "<td>Integer (-9223372036854775808 to 9223372036854775807)</td>\n",
    "</tr>\n",
    "<tr class=\"row-even\"><td>uint8</td>\n",
    "<td>Unsigned integer (0 to 255)</td>\n",
    "</tr>\n",
    "<tr class=\"row-odd\"><td>uint16</td>\n",
    "<td>Unsigned integer (0 to 65535)</td>\n",
    "</tr>\n",
    "<tr class=\"row-even\"><td>uint32</td>\n",
    "<td>Unsigned integer (0 to 4294967295)</td>\n",
    "</tr>\n",
    "<tr class=\"row-odd\"><td>uint64</td>\n",
    "<td>Unsigned integer (0 to 18446744073709551615)</td>\n",
    "</tr>\n",
    "<tr class=\"row-even\"><td><code class=\"docutils literal\"><span class=\"pre\">float_</span></code></td>\n",
    "<td>Shorthand for <code class=\"docutils literal\"><span class=\"pre\">float64</span></code>.</td>\n",
    "</tr>\n",
    "<tr class=\"row-odd\"><td>float16</td>\n",
    "<td>Half precision float: sign bit, 5 bits exponent,\n",
    "10 bits mantissa</td>\n",
    "</tr>\n",
    "<tr class=\"row-even\"><td>float32</td>\n",
    "<td>Single precision float: sign bit, 8 bits exponent,\n",
    "23 bits mantissa</td>\n",
    "</tr>\n",
    "<tr class=\"row-odd\"><td>float64</td>\n",
    "<td>Double precision float: sign bit, 11 bits exponent,\n",
    "52 bits mantissa</td>\n",
    "</tr>\n",
    "<tr class=\"row-even\"><td><code class=\"docutils literal\"><span class=\"pre\">complex_</span></code></td>\n",
    "<td>Shorthand for <code class=\"docutils literal\"><span class=\"pre\">complex128</span></code>.</td>\n",
    "</tr>\n",
    "<tr class=\"row-odd\"><td>complex64</td>\n",
    "<td>Complex number, represented by two 32-bit floats (real\n",
    "and imaginary components)</td>\n",
    "</tr>\n",
    "<tr class=\"row-even\"><td>complex128</td>\n",
    "<td>Complex number, represented by two 64-bit floats (real\n",
    "and imaginary components)</td>\n",
    "</tr>\n",
    "</tbody>\n",
    "</table>"
   ]
  },
  {
   "cell_type": "markdown",
   "metadata": {
    "collapsed": true
   },
   "source": [
    "## The Basics of NumPy Arrays\n",
    "### NumPy Array Basics\n",
    "`.random.seed(0)` is the seed for reproducibility\n",
    "- view [this page](https://stackoverflow.com/questions/21494489/what-does-numpy-random-seed0-do) for a great explanation on this\n",
    "- doesn't reset the random # generator, so each time you run the code, you get the same \"random\" numbers\n",
    "- don't use if you want different numbers each time\n",
    "- if you want _truly_ random numbers leave the seed value blank, so the call would be `.seed()` (see link above for more)\n",
    "\n",
    "Attributes of NumPy arrays:\n",
    "- `ndim` (# of dimensions)\n",
    "- `shape` (shape of each dimension)\n",
    "- `size` (total size of array)\n",
    "- `dtype` (data type of array)\n",
    "- `itemsize` (lists size {in bytes} of each array element)\n",
    "- `nbytes` (lists total size {in bytes} of array)\n",
    "    - in generally expected to equal `itemsize` times `size`"
   ]
  },
  {
   "cell_type": "code",
   "execution_count": 16,
   "metadata": {},
   "outputs": [
    {
     "name": "stdout",
     "output_type": "stream",
     "text": [
      "x3 ndim: 3\n",
      "x3 shape: (3, 4, 5)\n",
      "x3 size: 60\n",
      "x3 dtype int64\n",
      "x3 itemsize: 8 bytes\n",
      "x3 nbytes: 480 bytes\n"
     ]
    }
   ],
   "source": [
    "np.random.seed(0)     # see notes above about this, used here to follow book\n",
    "x1 = np.random.randint(10, size=6)         # 1D array\n",
    "x2 = np.random.randint(10, size=(3,4))     # 2D array\n",
    "x3 = np.random.randint(10, size=(3,4,5))   # 3D array\n",
    "\n",
    "print(\"x3 ndim:\", x3.ndim)\n",
    "print(\"x3 shape:\", x3.shape)\n",
    "print(\"x3 size:\", x3.size)\n",
    "print(\"x3 dtype\", x3.dtype)\n",
    "print(\"x3 itemsize:\", x3.itemsize, \"bytes\")\n",
    "print(\"x3 nbytes:\", x3.nbytes, \"bytes\")"
   ]
  },
  {
   "cell_type": "markdown",
   "metadata": {},
   "source": [
    "### Array Indexing: Accessing Single Elements\n",
    "- just like regular Python list, index counting starts at 0 & desired index is specified w/in []\n",
    "- to index starting from end of array, use negative indices\n",
    "    - -1 is the last element in array\n",
    "- in multidimensional array, access items using comma-separated tuple of indices\n",
    "    - `x2[2,-1]`\n",
    "    - can modify values in this way as well\n",
    "        - `x2[0,0] = 12`\n",
    "- remember that NumPy array are fixed type, so if you put in a mismatched type, it'll be forced into the appropriate type\n",
    "\n",
    "### Array Slicing: Accessing Subarrays\n",
    "- can slice NumPy arrays with `:`\n",
    "- NumPy slicing syntax:\n",
    "    `x[start:stop:step]`\n",
    "    - if any of these values is left unspecified, the defaults are:\n",
    "        - `start = 0`\n",
    "        - `stop =` _size of dimension_\n",
    "        - `step = 1`\n",
    "\n",
    "#### One-Dimensional Subarrays\n",
    "- `np.arange(#)`\n",
    "    - `.arange(start, stop, step, dtype=____)`\n",
    "    - return evenly space values w/in given interval\n",
    "    - start value is optional, interval includes this value\n",
    "    - stop value is required, interval excludes this value\n",
    "    - step value is optional, spacing between values\n",
    "        - interval doesn't include this value except when `step` isn't an `int` (i.e. a `float`) in which round-off affects length of output\n",
    "        - if negative, defaults for start & stop are swapped\n",
    "            - easy way to reverse an array\n",
    "    - dtype specification is optional\n",
    "        - if unspecified, it's inferred from data"
   ]
  },
  {
   "cell_type": "code",
   "execution_count": 17,
   "metadata": {},
   "outputs": [
    {
     "data": {
      "text/plain": [
       "array([0, 1, 2, 3, 4, 5, 6, 7, 8, 9])"
      ]
     },
     "execution_count": 17,
     "metadata": {},
     "output_type": "execute_result"
    }
   ],
   "source": [
    "# help(np.arange)\n",
    "a1 = np.arange(10)     # stop value of 10\n",
    "a1"
   ]
  },
  {
   "cell_type": "code",
   "execution_count": 18,
   "metadata": {},
   "outputs": [
    {
     "data": {
      "text/plain": [
       "array([0, 1, 2, 3, 4])"
      ]
     },
     "execution_count": 18,
     "metadata": {},
     "output_type": "execute_result"
    }
   ],
   "source": [
    "a1[:5]     # first 5 elements"
   ]
  },
  {
   "cell_type": "code",
   "execution_count": 19,
   "metadata": {},
   "outputs": [
    {
     "data": {
      "text/plain": [
       "array([5, 6, 7, 8, 9])"
      ]
     },
     "execution_count": 19,
     "metadata": {},
     "output_type": "execute_result"
    }
   ],
   "source": [
    "a1[5:]     # elements after index 5"
   ]
  },
  {
   "cell_type": "code",
   "execution_count": 20,
   "metadata": {},
   "outputs": [
    {
     "data": {
      "text/plain": [
       "array([4, 5, 6])"
      ]
     },
     "execution_count": 20,
     "metadata": {},
     "output_type": "execute_result"
    }
   ],
   "source": [
    "a1[4:7]     # middle subarray"
   ]
  },
  {
   "cell_type": "code",
   "execution_count": 21,
   "metadata": {},
   "outputs": [
    {
     "data": {
      "text/plain": [
       "array([0, 2, 4, 6, 8])"
      ]
     },
     "execution_count": 21,
     "metadata": {},
     "output_type": "execute_result"
    }
   ],
   "source": [
    "a1[::2]     # every other element"
   ]
  },
  {
   "cell_type": "code",
   "execution_count": 22,
   "metadata": {},
   "outputs": [
    {
     "data": {
      "text/plain": [
       "array([1, 3, 5, 7, 9])"
      ]
     },
     "execution_count": 22,
     "metadata": {},
     "output_type": "execute_result"
    }
   ],
   "source": [
    "a1[1::2]     # every other element starting @ index 1"
   ]
  },
  {
   "cell_type": "code",
   "execution_count": 23,
   "metadata": {},
   "outputs": [
    {
     "data": {
      "text/plain": [
       "array([9, 8, 7, 6, 5, 4, 3, 2, 1, 0])"
      ]
     },
     "execution_count": 23,
     "metadata": {},
     "output_type": "execute_result"
    }
   ],
   "source": [
    "a1[::-1]     # all elements, reversed"
   ]
  },
  {
   "cell_type": "code",
   "execution_count": 24,
   "metadata": {},
   "outputs": [
    {
     "data": {
      "text/plain": [
       "array([5, 3, 1])"
      ]
     },
     "execution_count": 24,
     "metadata": {},
     "output_type": "execute_result"
    }
   ],
   "source": [
    "a1[5::-2]    # reversed every other from index 5"
   ]
  },
  {
   "cell_type": "markdown",
   "metadata": {},
   "source": [
    "#### Multidimensional Subarrays\n",
    "- slicing works same as one-dimensional, w/multiple slices separated by commas\n",
    "- subarray dimensions can be reversed together\n",
    "- if only working w/rows, can eliminate empty slice for cols (see reversing rows below)"
   ]
  },
  {
   "cell_type": "code",
   "execution_count": 25,
   "metadata": {},
   "outputs": [
    {
     "data": {
      "text/plain": [
       "array([[3, 5, 2],\n",
       "       [7, 6, 8]])"
      ]
     },
     "execution_count": 25,
     "metadata": {},
     "output_type": "execute_result"
    }
   ],
   "source": [
    "# using x2 from above\n",
    "x2[:2, :3]     # 2 rows, 3 cols"
   ]
  },
  {
   "cell_type": "code",
   "execution_count": 26,
   "metadata": {},
   "outputs": [
    {
     "data": {
      "text/plain": [
       "array([[3, 2],\n",
       "       [7, 8],\n",
       "       [1, 7]])"
      ]
     },
     "execution_count": 26,
     "metadata": {},
     "output_type": "execute_result"
    }
   ],
   "source": [
    "x2[:3, ::2]     # 3 rows, every other column"
   ]
  },
  {
   "cell_type": "code",
   "execution_count": 27,
   "metadata": {},
   "outputs": [
    {
     "data": {
      "text/plain": [
       "array([[1, 6, 7, 7],\n",
       "       [7, 6, 8, 8],\n",
       "       [3, 5, 2, 4]])"
      ]
     },
     "execution_count": 27,
     "metadata": {},
     "output_type": "execute_result"
    }
   ],
   "source": [
    "x2[::-1]     # reverse rows"
   ]
  },
  {
   "cell_type": "code",
   "execution_count": 28,
   "metadata": {},
   "outputs": [
    {
     "data": {
      "text/plain": [
       "array([[4, 2, 5, 3],\n",
       "       [8, 8, 6, 7],\n",
       "       [7, 7, 6, 1]])"
      ]
     },
     "execution_count": 28,
     "metadata": {},
     "output_type": "execute_result"
    }
   ],
   "source": [
    "x2[:,::-1]     # reverse cols"
   ]
  },
  {
   "cell_type": "code",
   "execution_count": 29,
   "metadata": {},
   "outputs": [
    {
     "data": {
      "text/plain": [
       "array([[7, 7, 6, 1],\n",
       "       [8, 8, 6, 7],\n",
       "       [4, 2, 5, 3]])"
      ]
     },
     "execution_count": 29,
     "metadata": {},
     "output_type": "execute_result"
    }
   ],
   "source": [
    "x2[::-1, ::-1]     # reverse rows & columns together"
   ]
  },
  {
   "cell_type": "markdown",
   "metadata": {},
   "source": [
    "##### Accessing Array Rows and Columns\n",
    "- accessing single rows/columns is done by combining indexing & slicing using an empty slice (`:`)\n",
    "- w/row access, empty slice for columns can be omitted"
   ]
  },
  {
   "cell_type": "code",
   "execution_count": 30,
   "metadata": {},
   "outputs": [
    {
     "name": "stdout",
     "output_type": "stream",
     "text": [
      "[3 7 1]\n",
      "[3 5 2 4]\n"
     ]
    }
   ],
   "source": [
    "print(x2[:,0])     # first col of x2\n",
    "print(x2[0])     # first row of x2, same as x2[0,:]"
   ]
  },
  {
   "cell_type": "markdown",
   "metadata": {},
   "source": [
    "#### Subarrays as No-Copy Views\n",
    "- array slices return views, not copies, of array data\n",
    "- if we create a subarray & assign it no a var then modify it, the original array will be modified\n",
    "    - this is default behavior & is useful when processing large datasets\n",
    "    \n",
    "#### Creating Copies of Arrays\n",
    "- to create a copy of array (so you don't change original), use the `.copy()` method"
   ]
  },
  {
   "cell_type": "code",
   "execution_count": 31,
   "metadata": {},
   "outputs": [
    {
     "name": "stdout",
     "output_type": "stream",
     "text": [
      "[[3 5 2 4]\n",
      " [7 6 8 8]\n",
      " [1 6 7 7]]\n",
      "\n",
      " [[99  5  2  4]\n",
      " [ 7  6  8  8]\n",
      " [ 1  6  7  7]]\n",
      "\n",
      " [[42  5]\n",
      " [ 7  6]]\n",
      "\n",
      " [[99  5  2  4]\n",
      " [ 7  6  8  8]\n",
      " [ 1  6  7  7]]\n"
     ]
    }
   ],
   "source": [
    "print(x2)     # original array\n",
    "x2_sub = x2[:2, :2]     # 2x2 subarray\n",
    "x2_sub[0,0] = 99     # modify subarray\n",
    "print(\"\\n\", x2)     # observe change in original\n",
    "\n",
    "x2_sub_copy = x2[:2, :2].copy()     # create subarray copy\n",
    "x2_sub_copy[0,0] = 42     # modify copy\n",
    "print(\"\\n\", x2_sub_copy)     # observe changes in copy\n",
    "print(\"\\n\", x2)     # no changes in original"
   ]
  },
  {
   "cell_type": "markdown",
   "metadata": {},
   "source": [
    "### Reshaping of Arrays\n",
    "- use `.reshape()` to shape an array\n",
    "- for this to work, size of initial array must match size of reshaped array\n",
    "- where possible, this will create a no-copy view of the original\n",
    "- conversion of 1D array into 2D row/column matrix can be done with `reshape` or by using `newaxis` w/in a slice operation"
   ]
  },
  {
   "cell_type": "code",
   "execution_count": 32,
   "metadata": {},
   "outputs": [
    {
     "name": "stdout",
     "output_type": "stream",
     "text": [
      "[[1 2 3]\n",
      " [4 5 6]\n",
      " [7 8 9]]\n"
     ]
    },
    {
     "data": {
      "text/plain": [
       "array([[1],\n",
       "       [2],\n",
       "       [3]])"
      ]
     },
     "execution_count": 32,
     "metadata": {},
     "output_type": "execute_result"
    }
   ],
   "source": [
    "grid = np.arange(1,10).reshape((3,3))\n",
    "print(grid)\n",
    "\n",
    "x = np.array([1,2,3])\n",
    "x.reshape((1,3))     # row vector using reshape\n",
    "x[np.newaxis, :]     # row vector using newaxis\n",
    "x.reshape((3,1))     # column vector using reshape\n",
    "x[:, np.newaxis]     # column vector using newaxis"
   ]
  },
  {
   "cell_type": "markdown",
   "metadata": {},
   "source": [
    "### Array Concatenation & Spliting\n",
    "#### Concatenation of Arrays\n",
    "- concatenation can be accomplished using:\n",
    "    - `.concatenate()`\n",
    "        - takes tuple/list of arrays as first argument\n",
    "        - 2nd argument is axis to join along (zero-indexed)\n",
    "        - can concatenate more than 2 arrays @ once\n",
    "        - can be used on 2D arrays\n",
    "    - `.vstack()`\n",
    "        - stacks veritcally\n",
    "    - `.hstack()`\n",
    "        - stacks horizonally\n",
    "    - `.dstack()`\n",
    "        - stacks along 3rd axis\n",
    "- when using mixed dimensions, using `.vstack()`, `.hstack()`, `.dstack()` can be easier"
   ]
  },
  {
   "cell_type": "code",
   "execution_count": 33,
   "metadata": {},
   "outputs": [
    {
     "data": {
      "text/plain": [
       "array([[[8, 1, 5, 9, 8, 8, 1, 5, 9, 8],\n",
       "        [9, 4, 3, 0, 3, 9, 4, 3, 0, 3],\n",
       "        [5, 0, 2, 3, 8, 5, 0, 2, 3, 8],\n",
       "        [1, 3, 3, 3, 7, 1, 3, 3, 3, 7]],\n",
       "\n",
       "       [[0, 1, 9, 9, 0, 0, 1, 9, 9, 0],\n",
       "        [4, 7, 3, 2, 7, 4, 7, 3, 2, 7],\n",
       "        [2, 0, 0, 4, 5, 2, 0, 0, 4, 5],\n",
       "        [5, 6, 8, 4, 1, 5, 6, 8, 4, 1]],\n",
       "\n",
       "       [[4, 9, 8, 1, 1, 4, 9, 8, 1, 1],\n",
       "        [7, 9, 9, 3, 6, 7, 9, 9, 3, 6],\n",
       "        [7, 2, 0, 3, 5, 7, 2, 0, 3, 5],\n",
       "        [9, 4, 4, 6, 4, 9, 4, 4, 6, 4]]])"
      ]
     },
     "execution_count": 33,
     "metadata": {},
     "output_type": "execute_result"
    }
   ],
   "source": [
    "# use x from above\n",
    "y = np.array([3,2,1])\n",
    "z = np.array([99,99,99])\n",
    "# use grid from above\n",
    "# use x3 from above\n",
    "\n",
    "np.concatenate([x,y])     # concatenate 2 arrays\n",
    "np.concatenate([x,y,z])     # concatenate 3 arrays\n",
    "\n",
    "np.concatenate([grid, grid])     # concatenate along 1st axis\n",
    "np.concatenate([grid, grid], axis=1)     # concatenate along 2nd axis\n",
    "\n",
    "np.vstack([x, grid])     # vertically stack x & grid\n",
    "\n",
    "z = z.reshape((3,1))     # reshape z\n",
    "\n",
    "np.hstack([grid, z])     # horizonally stack grid & z\n",
    "\n",
    "# good idea to look at x3 before looking at this output\n",
    "np.dstack([x3,x3])     # dstack x3 & x3"
   ]
  },
  {
   "cell_type": "markdown",
   "metadata": {},
   "source": [
    "#### Splitting of Arrays\n",
    "- splitting is opposite of concatenation\n",
    "- functions:\n",
    "    - `.split()`\n",
    "    - `.hsplit()`\n",
    "    - `.vsplit()`\n",
    "    - `.dsplit()`\n",
    "- these functions work just like the concatenation functions\n",
    "- provide a list of split points\n",
    "    - N split points gives N+1 subarrays"
   ]
  },
  {
   "cell_type": "code",
   "execution_count": 34,
   "metadata": {},
   "outputs": [
    {
     "name": "stdout",
     "output_type": "stream",
     "text": [
      "[99 99] [3 2 1] [[[8 1 5 9 8]\n",
      "  [9 4 3 0 3]\n",
      "  [5 0 2 3 8]\n",
      "  [1 3 3 3 7]]\n",
      "\n",
      " [[0 1 9 9 0]\n",
      "  [4 7 3 2 7]\n",
      "  [2 0 0 4 5]\n",
      "  [5 6 8 4 1]]\n",
      "\n",
      " [[4 9 8 1 1]\n",
      "  [7 9 9 3 6]\n",
      "  [7 2 0 3 5]\n",
      "  [9 4 4 6 4]]] \n",
      "\n",
      "[[0 1 2 3]\n",
      " [4 5 6 7]]\n",
      "[[ 8  9 10 11]\n",
      " [12 13 14 15]] \n",
      "\n",
      "[[ 0  1]\n",
      " [ 4  5]\n",
      " [ 8  9]\n",
      " [12 13]]\n",
      "[[ 2  3]\n",
      " [ 6  7]\n",
      " [10 11]\n",
      " [14 15]]\n"
     ]
    }
   ],
   "source": [
    "x = [1, 2, 3, 99, 99, 3, 2, 1]     # array to split\n",
    "x0, x1, x2 = np.split(x, [3, 5])     # split function w/array var to assign the split to\n",
    "print(x1, x2, x3,\"\\n\")     # view result of split\n",
    "\n",
    "grid = np.arange(16).reshape((4, 4))     # reassign grid\n",
    "upper, lower = np.vsplit(grid, [2])     # split grid vertically & view results\n",
    "print(upper)\n",
    "print(lower, \"\\n\")\n",
    "\n",
    "left, right = np.hsplit(grid, [2])     # split grid horizontally & view results\n",
    "print(left)\n",
    "print(right)"
   ]
  },
  {
   "cell_type": "code",
   "execution_count": 35,
   "metadata": {},
   "outputs": [
    {
     "name": "stdout",
     "output_type": "stream",
     "text": [
      "[[[8 1 5 9]\n",
      "  [9 4 3 0]\n",
      "  [5 0 2 3]\n",
      "  [1 3 3 3]]\n",
      "\n",
      " [[0 1 9 9]\n",
      "  [4 7 3 2]\n",
      "  [2 0 0 4]\n",
      "  [5 6 8 4]]\n",
      "\n",
      " [[4 9 8 1]\n",
      "  [7 9 9 3]\n",
      "  [7 2 0 3]\n",
      "  [9 4 4 6]]] \n",
      "\n",
      "[[[8]\n",
      "  [3]\n",
      "  [8]\n",
      "  [7]]\n",
      "\n",
      " [[0]\n",
      "  [7]\n",
      "  [5]\n",
      "  [1]]\n",
      "\n",
      " [[1]\n",
      "  [6]\n",
      "  [5]\n",
      "  [4]]] \n",
      "\n",
      "[[[8 1 5 9 8]\n",
      "  [9 4 3 0 3]\n",
      "  [5 0 2 3 8]\n",
      "  [1 3 3 3 7]]\n",
      "\n",
      " [[0 1 9 9 0]\n",
      "  [4 7 3 2 7]\n",
      "  [2 0 0 4 5]\n",
      "  [5 6 8 4 1]]\n",
      "\n",
      " [[4 9 8 1 1]\n",
      "  [7 9 9 3 6]\n",
      "  [7 2 0 3 5]\n",
      "  [9 4 4 6 4]]]\n"
     ]
    }
   ],
   "source": [
    "x3d = np.dstack([x3,x3])     # dstack x3 & x3\n",
    "x31, x32, x33 = np.dsplit(x3d, [4,5])     # split on 3rd axis & view results\n",
    "print(x31, \"\\n\")\n",
    "print(x32, \"\\n\")\n",
    "print(x33)"
   ]
  },
  {
   "cell_type": "markdown",
   "metadata": {
    "collapsed": true
   },
   "source": [
    "## Computation on NumPy Arrays: Universal Functions\n",
    "- key to making computations fast is using vectorized operations, generally through NumPy's _universal functions_ (ufuncs)\n",
    "\n",
    "### The Slowness of Loops\n",
    "- can time execuation using the IPython Magic `%timeit`"
   ]
  },
  {
   "cell_type": "code",
   "execution_count": 40,
   "metadata": {},
   "outputs": [
    {
     "name": "stdout",
     "output_type": "stream",
     "text": [
      "The slowest run took 10.99 times longer than the fastest. This could mean that an intermediate result is being cached.\n",
      "100000 loops, best of 3: 4.22 µs per loop\n"
     ]
    }
   ],
   "source": [
    "np.random.seed(0)\n",
    "\n",
    "def compute_reciprocals(values):\n",
    "    output = np.empty(len(values))\n",
    "    for i in range(len(values)):\n",
    "        output[i] = 1.0 / values[i]\n",
    "        return output\n",
    "\n",
    "values = np.random.randint(1, 10, size=5)\n",
    "compute_reciprocals(values)\n",
    "\n",
    "big_array = np.random.randint(1,100,size=1000000)\n",
    "%timeit compute_reciprocals(big_array)"
   ]
  },
  {
   "cell_type": "markdown",
   "metadata": {},
   "source": [
    "### Introducing UFuncs\n",
    "- vectorized approach is designed to push loop into compiled layer underlying NumPy, leading to much faster execution\n",
    "- vectorized operations in NumPy are utilized via _ufuncs_, whose main purpose is to quickly execute repeated operations on vals in NumPy arrays\n",
    "- ufuncs are really flexible\n",
    "    - can operate between scalar + array\n",
    "    - can operate between 2 arrays\n",
    "        - can be one-dimensional\n",
    "        - can be multidimensional\n",
    "    - can operate between arrays of different sizes & shapes\n",
    "        - this is _broadcasting_, which will be explored later\n",
    "\n",
    "### Exploring NumPy's UFuncs\n",
    "- _unary ufuncs_ take a single input\n",
    "- _binary ufuncs_ take 2 inputs\n",
    "\n",
    "#### Array Arithmetic\n",
    "- NumPy's ufuncs make use of Python's native math operators\n",
    "    - standard addition, subtraction, multiplication, division can all be used\n",
    "        - addition: +\n",
    "        - subtraction: -\n",
    "            - negation: -\n",
    "        - multiplication: \\*\n",
    "            - exponents: \\*\\*\n",
    "        - division: /\n",
    "            - floor division: //\n",
    "            - modulus: %\n",
    "    - operations can be strung together whatever way you like & order of operations is followed\n",
    "\n",
    "<table>\n",
    "    <tr>\n",
    "        <th>Operator</th>\n",
    "        <th>ufunc</th>\n",
    "        <th>Description</th>\n",
    "    </tr>\n",
    "    <tr>\n",
    "        <td>+</td>\n",
    "        <td>`np.add`</td>\n",
    "        <td>addition</td>\n",
    "    </tr>\n",
    "    <tr>\n",
    "        <td>-</td>\n",
    "        <td>`np.subtract`</td>\n",
    "        <td>subtraction</td>\n",
    "    </tr>\n",
    "    <tr>\n",
    "        <td>-</td>\n",
    "        <td>`np.negative`</td>\n",
    "        <td>unary negation</td>\n",
    "    </tr>\n",
    "    <tr>\n",
    "        <td>*</td>\n",
    "        <td>`np.multiply`</td>\n",
    "        <td>mulitiplication</td>\n",
    "    </tr>\n",
    "    <tr>\n",
    "        <td>**</td>\n",
    "        <td>`np.power`</td>\n",
    "        <td>exponentiation</td>\n",
    "    </tr>\n",
    "    <tr>\n",
    "        <td>/</td>\n",
    "        <td>`np.divide`</td>\n",
    "        <td>division</td>\n",
    "    </tr>\n",
    "    <tr>\n",
    "        <td>//</td>\n",
    "        <td>`np.floor_divide`</td>\n",
    "        <td>floor division</td>\n",
    "    </tr>\n",
    "    <tr>\n",
    "        <td>%</td>\n",
    "        <td>`np.mod`</td>\n",
    "        <td>modulus/remainder</td>\n",
    "    </tr>\n",
    "</table>\n",
    "\n",
    "#### Absolute Value\n",
    "- NumPy understands Python's abosulute value function\n",
    "    - Python: `abs()`\n",
    "    - NumPy ufunc: `np.absolute()` or `np.abs()`\n",
    "- when handling complex data, the ufunc returns the magnitude\n",
    "\n",
    "#### Trigonometric Functions\n",
    "- `np.pi` is the value of pi\n",
    "- values are computed to w/in machine precision, which is why values that should be 0 don't always come out exactly at 0\n",
    "- trig functions that are available include:\n",
    "<table>\n",
    "    <tr>\n",
    "        <td>`np.sin()`</td>\n",
    "        <td>`np.cos()`</td>\n",
    "        <td>`np.tan()`</td>\n",
    "    </tr>\n",
    "    <tr>\n",
    "        <td>`np.arcsin()`</td>\n",
    "        <td>`np.arccos()`</td>\n",
    "        <td>`np.arctan()`</td>\n",
    "    </tr>\n",
    "</table>\n",
    "\n",
    "#### Exponents and Logarithms\n",
    "- `np.exp(x)`\n",
    "    - raise `e` to the x power\n",
    "- `np.exp2(x)`\n",
    "    - 2 to the x power\n",
    "- `np.power(#, x)`\n",
    "    - \\# to the x power\n",
    "- `np.log(x)`\n",
    "    - natural log of x [ln(x)]\n",
    "- `np.log2(x)`\n",
    "    - log base 2 of x\n",
    "- `np.log10(x)`\n",
    "    - log base 10 of x\n",
    "- there are specialized versions useful for maintaining precision w/very small input:\n",
    "    - `np.expm1(x)`\n",
    "    - `np.log1p(x)`\n",
    "    - when x is very small, these give more precise values than regular log & exp"
   ]
  },
  {
   "cell_type": "code",
   "execution_count": 46,
   "metadata": {},
   "outputs": [
    {
     "name": "stdout",
     "output_type": "stream",
     "text": [
      "exp(x) = [ 1.          1.0010005   1.01005017  1.10517092]\n",
      "exp(x) - 1 = [ 0.          0.0010005   0.01005017  0.10517092]\n",
      "log(1 + x) = [ 0.          0.0009995   0.00995033  0.09531018]\n"
     ]
    }
   ],
   "source": [
    "x = [0, 0.001, 0.01, 0.1]\n",
    "print(\"exp(x) =\", np.exp(x))\n",
    "print(\"exp(x) - 1 =\", np.expm1(x))\n",
    "# print(\"log(x) =\", np.log(x))     # don't run this, it gives a division by 0 error\n",
    "print(\"log(1 + x) =\", np.log1p(x))"
   ]
  },
  {
   "cell_type": "markdown",
   "metadata": {},
   "source": [
    "#### Specialized Ufuncs\n",
    "- many more ufuncs are available\n",
    "    - hyperbolic trig functions\n",
    "    - bitwise math\n",
    "    - comparision operators\n",
    "    - radian to degree conversion\n",
    "    - rounding & remainders\n",
    "    - ... & much more!\n",
    "- look though the NumPy documenation for more\n",
    "- more specialized & obscure functions are available through `scipy.special`\n",
    "    - see the book for (stats) example & documentation for more\n",
    "        - [SciPy documentation](https://docs.scipy.org/doc/scipy/reference/tutorial/special.html)\n",
    "\n",
    "### Advanced Ufunc Features\n",
    "#### Specifying Output\n",
    "- so you can do what's in the cell below or you can do what's in the cell below that, which seems like a waste of time\n",
    "    - it's using the `out` argument, which can be done on all ufuncs & array views\n",
    "    - apparently the 1st way creates a temp array to hold the computation results then copies them to the assigned array\n",
    "        - memory waster for large amounts of data"
   ]
  },
  {
   "cell_type": "code",
   "execution_count": 49,
   "metadata": {},
   "outputs": [
    {
     "data": {
      "text/plain": [
       "array([ 0, 10, 20, 30, 40])"
      ]
     },
     "execution_count": 49,
     "metadata": {},
     "output_type": "execute_result"
    }
   ],
   "source": [
    "x = np.arange(5)\n",
    "y = np.multiply(x,10)\n",
    "y"
   ]
  },
  {
   "cell_type": "code",
   "execution_count": 50,
   "metadata": {},
   "outputs": [
    {
     "data": {
      "text/plain": [
       "array([  0.,  10.,  20.,  30.,  40.])"
      ]
     },
     "execution_count": 50,
     "metadata": {},
     "output_type": "execute_result"
    }
   ],
   "source": [
    "y = np.empty(5)\n",
    "np.multiply(x, 10, out=y)\n",
    "y"
   ]
  },
  {
   "cell_type": "code",
   "execution_count": 54,
   "metadata": {},
   "outputs": [
    {
     "name": "stdout",
     "output_type": "stream",
     "text": [
      "[  1.   0.   2.   0.   4.   0.   8.   0.  16.   0.]\n"
     ]
    }
   ],
   "source": [
    "y = np.zeros(10)    # using out argument on array views\n",
    "np.power(2,x, out=y[::2])     # done instead of y[::2] = 2 ** x\n",
    "print(y)"
   ]
  },
  {
   "cell_type": "markdown",
   "metadata": {},
   "source": [
    "#### Aggregates\n",
    "- for binary ufuncs, there's some aggregates that can be computed directly from the object\n",
    "- if we want to reduce an array w/an operation, use the `reduce` method of any ufunc\n",
    "    - a reduce applies a given operation to the elements of an array until only a single result remains\n",
    "- if we want to store all intermediate results of computation, use `accumulate` method"
   ]
  },
  {
   "cell_type": "code",
   "execution_count": 59,
   "metadata": {},
   "outputs": [
    {
     "name": "stdout",
     "output_type": "stream",
     "text": [
      "15\n",
      "[ 1  3  6 10 15]\n",
      "120\n",
      "[  1   2   6  24 120]\n"
     ]
    }
   ],
   "source": [
    "ag1 = np.arange(1,6)\n",
    "\n",
    "add = np.add.reduce(ag1)     # reduce addition\n",
    "print(add)\n",
    "\n",
    "add = np.add.accumulate(ag1)     # accumulate addition\n",
    "print(add)\n",
    "\n",
    "mult = np.multiply.reduce(ag1)     # reduce multiplication\n",
    "print(mult)\n",
    "\n",
    "mult = np.multiply.accumulate(ag1)     # accumulate multiplication\n",
    "print(mult)"
   ]
  },
  {
   "cell_type": "markdown",
   "metadata": {},
   "source": [
    "#### Outer Products\n",
    "- any ufunc can compute output of all pairs of 2 different inputs using `outer` method\n",
    "    - allows you, in one line, to create things like multiplication tables (see below)"
   ]
  },
  {
   "cell_type": "code",
   "execution_count": 60,
   "metadata": {},
   "outputs": [
    {
     "data": {
      "text/plain": [
       "array([[ 1,  2,  3,  4,  5],\n",
       "       [ 2,  4,  6,  8, 10],\n",
       "       [ 3,  6,  9, 12, 15],\n",
       "       [ 4,  8, 12, 16, 20],\n",
       "       [ 5, 10, 15, 20, 25]])"
      ]
     },
     "execution_count": 60,
     "metadata": {},
     "output_type": "execute_result"
    }
   ],
   "source": [
    "mtable = np.arange(1,6)\n",
    "np.multiply.outer(mtable,mtable)"
   ]
  },
  {
   "cell_type": "markdown",
   "metadata": {},
   "source": [
    "### Ufuncs: Learning More\n",
    "- [NumPy Universal Function Documentation](https://docs.scipy.org/doc/numpy/reference/ufuncs.html#available-ufuncs)\n",
    "\n",
    "## Aggregations: Min, Max, and Everything in Between\n",
    "### Summing the Values in an Array\n",
    "- Python's summing function is `sum()`\n",
    "- NumPy's summing function is `.sum()`\n",
    "- NumPy's summing function is much faster\n",
    "- the functions aren't identical though\n",
    "    - optional arguments have different meanings\n",
    "    - NumPy's sum is aware of multiple array dimensions\n",
    "\n",
    "### Minimum and Maximum\n",
    "- Python functions: `min()` and `max()`\n",
    "- NumPy functions: `.min()` and `.max()`\n",
    "    - operate more quickly\n",
    "- for many NumPy aggregates, a shorter syntax is to use methods of the array object itself\n",
    "    - ex: `big_array.min()`\n",
    "- whenever possible, make sure you're using NumPy version of the aggregates when operating on NumPy arrays\n",
    "\n",
    "### Multidimensional Aggregates\n",
    "- common type of aggregation is along a row/column\n",
    "- default is that each aggregate function operates over entire array\n",
    "- aggregation functions take additional argument specifying the `axis` argument\n",
    "    - specifies dimension of the array that'll be collapsed (not the dimension to be returned)\n",
    "    - in a 2D array, if axis is 0, aggregation will be done on columns\n",
    "    - in a 2D array, if axis is 1, aggregations will be done on rows\n",
    "\n",
    "### Other Aggregation Functions\n",
    "- most aggregates have a NaN-safe counterpart that computes result while ignoring missing values, which are marked by the special IEEE floating-point NaN value\n",
    "- _note: skipped example b/c didn't have data_\n",
    "\n",
    "<table>\n",
    "    <tr>\n",
    "        <th>Function Name</th>\n",
    "        <th>NaN-Safe Version</th>\n",
    "        <th>Description</th>\n",
    "    </tr>\n",
    "    <tr>\n",
    "        <td>`np.sum`</td>\n",
    "        <td>`np.nansum`</td>\n",
    "        <td>compute sum of elements</td>\n",
    "    </tr>\n",
    "    <tr>\n",
    "        <td>`np.prod`</td>\n",
    "        <td>`np.nanprod`</td>\n",
    "        <td>compute product of elements</td>\n",
    "    </tr>\n",
    "    <tr>\n",
    "        <td>`np.mean`</td>\n",
    "        <td>`np.nanmean`</td>\n",
    "        <td>compute mean of elements</td>\n",
    "    </tr>\n",
    "    <tr>\n",
    "        <td>`np.std`</td>\n",
    "        <td>`np.nanstd`</td>\n",
    "        <td>compute standard deviation</td>\n",
    "    </tr>\n",
    "    <tr>\n",
    "        <td>`np.var`</td>\n",
    "        <td>`np.nanvar`</td>\n",
    "        <td>compute variance</td>\n",
    "    </tr>\n",
    "    <tr>\n",
    "        <td>`np.min`</td>\n",
    "        <td>`np.nanmin`</td>\n",
    "        <td>find minimum value</td>\n",
    "    </tr>\n",
    "    <tr>\n",
    "        <td>`np.max`</td>\n",
    "        <td>`np.nanmax`</td>\n",
    "        <td>find maximum value</td>\n",
    "    </tr>\n",
    "    <tr>\n",
    "        <td>`np.argmin`</td>\n",
    "        <td>`np.nanargmin`</td>\n",
    "        <td>find index of minimum value</td>\n",
    "    </tr>\n",
    "    <tr>\n",
    "        <td>`np.argmax`</td>\n",
    "        <td>`np.nanargmax`</td>\n",
    "        <td>find index of maximum value</td>\n",
    "    </tr>\n",
    "    <tr>\n",
    "        <td>`np.median`</td>\n",
    "        <td>`np.nanmedian`</td>\n",
    "        <td>compute median of elements</td>\n",
    "    </tr>\n",
    "    <tr>\n",
    "        <td>`np.percentile`</td>\n",
    "        <td>`np.nanpercentile`</td>\n",
    "        <td>compute rank-based statistics of elements</td>\n",
    "    </tr>\n",
    "    <tr>\n",
    "        <td>`np.any`</td>\n",
    "        <td>n/a</td>\n",
    "        <td>evaluate whether any elements are true</td>\n",
    "    </tr>\n",
    "    <tr>\n",
    "        <td>`np.all`</td>\n",
    "        <td>n/a</td>\n",
    "        <td>evaluate whether all elements are true</td>\n",
    "    </tr>\n",
    "</table>\n",
    "\n",
    "## Computation on Arrays: Broadcasting\n",
    "- another means of vectorizing operations is to use _broadcasting_ functionality\n",
    "- broadcasting is simply a set of rules for applying binary ufuncs on arrays of different \n",
    "\n",
    "### Introducing Broadcasting\n",
    "- for arrays of same size, binary operations are performed on element-by-element basis\n",
    "- broadcasting lets this type of operation be performed on arrays of different sizes\n",
    "- in the first 2 examples below, only one of the arrays is broadcast onto the other\n",
    "- more complicated examples (third below) involve broadcasting of both arrays\n",
    "    - both arrays are stretched to match a common shape"
   ]
  },
  {
   "cell_type": "code",
   "execution_count": 2,
   "metadata": {},
   "outputs": [
    {
     "data": {
      "text/plain": [
       "array([5, 6, 7])"
      ]
     },
     "execution_count": 2,
     "metadata": {},
     "output_type": "execute_result"
    }
   ],
   "source": [
    "a = np.array([0,1,2])\n",
    "a + 5      # same as adding a to an array [5,5,5]"
   ]
  },
  {
   "cell_type": "code",
   "execution_count": 4,
   "metadata": {},
   "outputs": [
    {
     "data": {
      "text/plain": [
       "array([[ 1.,  2.,  3.],\n",
       "       [ 1.,  2.,  3.],\n",
       "       [ 1.,  2.,  3.]])"
      ]
     },
     "execution_count": 4,
     "metadata": {},
     "output_type": "execute_result"
    }
   ],
   "source": [
    "one = np.ones((3,3))\n",
    "one + a      # [1x3] + [3x3]"
   ]
  },
  {
   "cell_type": "code",
   "execution_count": 7,
   "metadata": {},
   "outputs": [
    {
     "name": "stdout",
     "output_type": "stream",
     "text": [
      "[0 1 2]\n",
      "[[0]\n",
      " [1]\n",
      " [2]]\n"
     ]
    },
    {
     "data": {
      "text/plain": [
       "array([[0, 1, 2],\n",
       "       [1, 2, 3],\n",
       "       [2, 3, 4]])"
      ]
     },
     "execution_count": 7,
     "metadata": {},
     "output_type": "execute_result"
    }
   ],
   "source": [
    "# a from above\n",
    "b = np.arange(3)[:, np.newaxis]\n",
    "print(a)\n",
    "print(b)\n",
    "a + b      # both arrays are stretched to match common shape"
   ]
  },
  {
   "cell_type": "markdown",
   "metadata": {},
   "source": [
    "### Rules of Broadcasting"
   ]
  }
 ],
 "metadata": {
  "kernelspec": {
   "display_name": "Python 3",
   "language": "python",
   "name": "python3"
  },
  "language_info": {
   "codemirror_mode": {
    "name": "ipython",
    "version": 3
   },
   "file_extension": ".py",
   "mimetype": "text/x-python",
   "name": "python",
   "nbconvert_exporter": "python",
   "pygments_lexer": "ipython3",
   "version": "3.6.1"
  }
 },
 "nbformat": 4,
 "nbformat_minor": 2
}
