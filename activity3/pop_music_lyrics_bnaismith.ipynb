{
 "cells": [
  {
   "cell_type": "markdown",
   "metadata": {},
   "source": [
    "# 50 Years of Pop Music: A Lyrical Analysis\n",
    "\n",
    "- Class activity 3, 9/12/2017 \n",
    "- Data courtesy of Kaylin Walker: http://kaylinwalker.com/50-years-of-pop-music/"
   ]
  },
  {
   "cell_type": "markdown",
   "metadata": {},
   "source": [
    "## (1) Read in the spreadsheet file as a DataFrame\n",
    "- Create a DataFrame called `songs` from the spreadsheet. \n",
    "- You will likely run into an encoding error. Who can figure out the correct encoding? \n",
    "- Once successfully loaded, explore the DF. Use the following methods: `.head()`, `.tail()`, `.info()`, `.describe()`. \n",
    "- What are the column labels and row indexes?\n",
    "- How to improve organization?"
   ]
  },
  {
   "cell_type": "code",
   "execution_count": 1,
   "metadata": {},
   "outputs": [
    {
     "name": "stdout",
     "output_type": "stream",
     "text": [
      "Pretty printing has been turned OFF\n",
      "<class 'pandas.core.frame.DataFrame'>\n",
      "RangeIndex: 5100 entries, 0 to 5099\n",
      "Data columns (total 6 columns):\n",
      "Rank      5100 non-null int64\n",
      "Song      5100 non-null object\n",
      "Artist    5100 non-null object\n",
      "Year      5100 non-null int64\n",
      "Lyrics    4913 non-null object\n",
      "Source    4913 non-null float64\n",
      "dtypes: float64(1), int64(2), object(3)\n",
      "memory usage: 239.1+ KB\n"
     ]
    },
    {
     "data": {
      "text/html": [
       "<div>\n",
       "<style>\n",
       "    .dataframe thead tr:only-child th {\n",
       "        text-align: right;\n",
       "    }\n",
       "\n",
       "    .dataframe thead th {\n",
       "        text-align: left;\n",
       "    }\n",
       "\n",
       "    .dataframe tbody tr th {\n",
       "        vertical-align: top;\n",
       "    }\n",
       "</style>\n",
       "<table border=\"1\" class=\"dataframe\">\n",
       "  <thead>\n",
       "    <tr style=\"text-align: right;\">\n",
       "      <th></th>\n",
       "      <th>Rank</th>\n",
       "      <th>Year</th>\n",
       "      <th>Source</th>\n",
       "    </tr>\n",
       "  </thead>\n",
       "  <tbody>\n",
       "    <tr>\n",
       "      <th>count</th>\n",
       "      <td>5100.0000</td>\n",
       "      <td>5100.000000</td>\n",
       "      <td>4913.000000</td>\n",
       "    </tr>\n",
       "    <tr>\n",
       "      <th>mean</th>\n",
       "      <td>50.5000</td>\n",
       "      <td>1990.000000</td>\n",
       "      <td>1.400977</td>\n",
       "    </tr>\n",
       "    <tr>\n",
       "      <th>std</th>\n",
       "      <td>28.8689</td>\n",
       "      <td>14.721045</td>\n",
       "      <td>0.890375</td>\n",
       "    </tr>\n",
       "    <tr>\n",
       "      <th>min</th>\n",
       "      <td>1.0000</td>\n",
       "      <td>1965.000000</td>\n",
       "      <td>1.000000</td>\n",
       "    </tr>\n",
       "    <tr>\n",
       "      <th>25%</th>\n",
       "      <td>25.7500</td>\n",
       "      <td>1977.000000</td>\n",
       "      <td>1.000000</td>\n",
       "    </tr>\n",
       "    <tr>\n",
       "      <th>50%</th>\n",
       "      <td>50.5000</td>\n",
       "      <td>1990.000000</td>\n",
       "      <td>1.000000</td>\n",
       "    </tr>\n",
       "    <tr>\n",
       "      <th>75%</th>\n",
       "      <td>75.2500</td>\n",
       "      <td>2003.000000</td>\n",
       "      <td>1.000000</td>\n",
       "    </tr>\n",
       "    <tr>\n",
       "      <th>max</th>\n",
       "      <td>100.0000</td>\n",
       "      <td>2015.000000</td>\n",
       "      <td>5.000000</td>\n",
       "    </tr>\n",
       "  </tbody>\n",
       "</table>\n",
       "</div>"
      ],
      "text/plain": [
       "            Rank         Year       Source\n",
       "count  5100.0000  5100.000000  4913.000000\n",
       "mean     50.5000  1990.000000     1.400977\n",
       "std      28.8689    14.721045     0.890375\n",
       "min       1.0000  1965.000000     1.000000\n",
       "25%      25.7500  1977.000000     1.000000\n",
       "50%      50.5000  1990.000000     1.000000\n",
       "75%      75.2500  2003.000000     1.000000\n",
       "max     100.0000  2015.000000     5.000000"
      ]
     },
     "execution_count": 1,
     "metadata": {},
     "output_type": "execute_result"
    }
   ],
   "source": [
    "%pprint #to allow more than one figure per line when printing\n",
    "\n",
    "\n",
    "import numpy as np\n",
    "import pandas as pd\n",
    "\n",
    "songs = pd.read_csv('billboard_lyrics_1964-2015.csv', encoding=\"cp1252\") #or ISO8859 encoding works\n",
    "\n",
    "songs.head() #head shows the first 5 entries (or can do a different number - use brackers)\n",
    "songs.tail() #shows last 5 entries\n",
    "songs.info() #shows categories, number of values, etc.\n",
    "songs.describe() #shows statistical info\n"
   ]
  },
  {
   "cell_type": "markdown",
   "metadata": {},
   "source": [
    "## (2) Reorganize and clean up\n",
    "- Rearrange the columns so that they are ordered: Year - Rank - Artist - Song - Lyrics. \n",
    "- Get rid of Source column. \n",
    "- What about the index? "
   ]
  },
  {
   "cell_type": "code",
   "execution_count": 2,
   "metadata": {},
   "outputs": [
    {
     "data": {
      "text/html": [
       "<div>\n",
       "<style>\n",
       "    .dataframe thead tr:only-child th {\n",
       "        text-align: right;\n",
       "    }\n",
       "\n",
       "    .dataframe thead th {\n",
       "        text-align: left;\n",
       "    }\n",
       "\n",
       "    .dataframe tbody tr th {\n",
       "        vertical-align: top;\n",
       "    }\n",
       "</style>\n",
       "<table border=\"1\" class=\"dataframe\">\n",
       "  <thead>\n",
       "    <tr style=\"text-align: right;\">\n",
       "      <th></th>\n",
       "      <th>Year</th>\n",
       "      <th>Rank</th>\n",
       "      <th>Artist</th>\n",
       "      <th>Song</th>\n",
       "      <th>Lyrics</th>\n",
       "    </tr>\n",
       "  </thead>\n",
       "  <tbody>\n",
       "    <tr>\n",
       "      <th>0</th>\n",
       "      <td>1965</td>\n",
       "      <td>1</td>\n",
       "      <td>sam the sham and the pharaohs</td>\n",
       "      <td>wooly bully</td>\n",
       "      <td>sam the sham miscellaneous wooly bully wooly b...</td>\n",
       "    </tr>\n",
       "    <tr>\n",
       "      <th>1</th>\n",
       "      <td>1965</td>\n",
       "      <td>2</td>\n",
       "      <td>four tops</td>\n",
       "      <td>i cant help myself sugar pie honey bunch</td>\n",
       "      <td>sugar pie honey bunch you know that i love yo...</td>\n",
       "    </tr>\n",
       "    <tr>\n",
       "      <th>2</th>\n",
       "      <td>1965</td>\n",
       "      <td>3</td>\n",
       "      <td>the rolling stones</td>\n",
       "      <td>i cant get no satisfaction</td>\n",
       "      <td></td>\n",
       "    </tr>\n",
       "    <tr>\n",
       "      <th>3</th>\n",
       "      <td>1965</td>\n",
       "      <td>4</td>\n",
       "      <td>we five</td>\n",
       "      <td>you were on my mind</td>\n",
       "      <td>when i woke up this morning you were on my mi...</td>\n",
       "    </tr>\n",
       "    <tr>\n",
       "      <th>4</th>\n",
       "      <td>1965</td>\n",
       "      <td>5</td>\n",
       "      <td>the righteous brothers</td>\n",
       "      <td>youve lost that lovin feelin</td>\n",
       "      <td>you never close your eyes anymore when i kiss...</td>\n",
       "    </tr>\n",
       "  </tbody>\n",
       "</table>\n",
       "</div>"
      ],
      "text/plain": [
       "   Year  Rank                         Artist  \\\n",
       "0  1965     1  sam the sham and the pharaohs   \n",
       "1  1965     2                      four tops   \n",
       "2  1965     3             the rolling stones   \n",
       "3  1965     4                        we five   \n",
       "4  1965     5         the righteous brothers   \n",
       "\n",
       "                                       Song  \\\n",
       "0                               wooly bully   \n",
       "1  i cant help myself sugar pie honey bunch   \n",
       "2                i cant get no satisfaction   \n",
       "3                       you were on my mind   \n",
       "4              youve lost that lovin feelin   \n",
       "\n",
       "                                              Lyrics  \n",
       "0  sam the sham miscellaneous wooly bully wooly b...  \n",
       "1   sugar pie honey bunch you know that i love yo...  \n",
       "2                                                     \n",
       "3   when i woke up this morning you were on my mi...  \n",
       "4   you never close your eyes anymore when i kiss...  "
      ]
     },
     "execution_count": 2,
     "metadata": {},
     "output_type": "execute_result"
    }
   ],
   "source": [
    "songs = songs[['Year', 'Rank', 'Artist', 'Song', 'Lyrics']]\n",
    "type(songs) #.DataFrame\n",
    "songs.head()"
   ]
  },
  {
   "cell_type": "markdown",
   "metadata": {},
   "source": [
    "## (3) Sanity check\n",
    "- Is the data complete? \n",
    "  - Are there really 50 years represented?\n",
    "  - Does every year have all 100 entries? \n",
    "- Any missing or anomalous data? How to address them?"
   ]
  },
  {
   "cell_type": "code",
   "execution_count": 3,
   "metadata": {},
   "outputs": [
    {
     "data": {
      "text/plain": [
       "51"
      ]
     },
     "execution_count": 3,
     "metadata": {},
     "output_type": "execute_result"
    }
   ],
   "source": [
    "len(set(songs['Year'][:])) #but only uses python methods and not pandas methods\n",
    "\n",
    "songs['Year'].unique() #uses unique method to return unique values in the object\n",
    "\n",
    "songs['Year'].unique().size #works like python len()"
   ]
  },
  {
   "cell_type": "code",
   "execution_count": 4,
   "metadata": {},
   "outputs": [
    {
     "data": {
      "text/plain": [
       "1      51\n",
       "2      51\n",
       "3      51\n",
       "4      51\n",
       "5      51\n",
       "6      51\n",
       "7      51\n",
       "8      51\n",
       "9      51\n",
       "10     51\n",
       "11     51\n",
       "12     51\n",
       "13     51\n",
       "14     51\n",
       "15     51\n",
       "16     51\n",
       "17     51\n",
       "18     51\n",
       "19     51\n",
       "20     51\n",
       "21     51\n",
       "22     51\n",
       "23     51\n",
       "24     51\n",
       "25     51\n",
       "26     51\n",
       "27     51\n",
       "28     51\n",
       "29     51\n",
       "30     51\n",
       "       ..\n",
       "71     51\n",
       "72     51\n",
       "73     51\n",
       "74     51\n",
       "75     51\n",
       "76     51\n",
       "77     51\n",
       "78     51\n",
       "79     51\n",
       "80     51\n",
       "81     51\n",
       "82     51\n",
       "83     51\n",
       "84     51\n",
       "85     51\n",
       "86     51\n",
       "87     51\n",
       "88     51\n",
       "89     51\n",
       "90     51\n",
       "91     51\n",
       "92     51\n",
       "93     51\n",
       "94     51\n",
       "95     51\n",
       "96     51\n",
       "97     51\n",
       "98     51\n",
       "99     51\n",
       "100    51\n",
       "Name: Rank, Length: 100, dtype: int64"
      ]
     },
     "execution_count": 4,
     "metadata": {},
     "output_type": "execute_result"
    }
   ],
   "source": [
    "songs['Rank'].value_counts().sort_index()"
   ]
  },
  {
   "cell_type": "markdown",
   "metadata": {},
   "source": [
    "## (4) Accessing routines\n",
    "- How to get songs from year 1965 vs. songs from year 2015?\n",
    "- How to get number-1 hits only?\n",
    "- How to get Madonna songs only?\n",
    "- Madonna songs that are top 10? Year 2000 or later? "
   ]
  },
  {
   "cell_type": "code",
   "execution_count": 5,
   "metadata": {},
   "outputs": [
    {
     "name": "stdout",
     "output_type": "stream",
     "text": [
      "<class 'pandas.core.frame.DataFrame'>\n",
      "Int64Index: 100 entries, 5000 to 5099\n",
      "Data columns (total 5 columns):\n",
      "Year      100 non-null int64\n",
      "Rank      100 non-null int64\n",
      "Artist    100 non-null object\n",
      "Song      100 non-null object\n",
      "Lyrics    98 non-null object\n",
      "dtypes: int64(2), object(3)\n",
      "memory usage: 4.7+ KB\n"
     ]
    }
   ],
   "source": [
    "newfilter = songs['Year'] == 2015\n",
    "oldfilter = songs['Year'] == 1965\n",
    "\n",
    "newsongs = songs.loc[newfilter, :]\n",
    "oldsongs = songs.loc[oldfilter, :]\n",
    "\n",
    "newsongs.info()"
   ]
  },
  {
   "cell_type": "code",
   "execution_count": 12,
   "metadata": {},
   "outputs": [
    {
     "data": {
      "text/html": [
       "<div>\n",
       "<style>\n",
       "    .dataframe thead tr:only-child th {\n",
       "        text-align: right;\n",
       "    }\n",
       "\n",
       "    .dataframe thead th {\n",
       "        text-align: left;\n",
       "    }\n",
       "\n",
       "    .dataframe tbody tr th {\n",
       "        vertical-align: top;\n",
       "    }\n",
       "</style>\n",
       "<table border=\"1\" class=\"dataframe\">\n",
       "  <thead>\n",
       "    <tr style=\"text-align: right;\">\n",
       "      <th></th>\n",
       "      <th>Year</th>\n",
       "      <th>Rank</th>\n",
       "      <th>Artist</th>\n",
       "      <th>Song</th>\n",
       "      <th>Lyrics</th>\n",
       "    </tr>\n",
       "  </thead>\n",
       "  <tbody>\n",
       "    <tr>\n",
       "      <th>3516</th>\n",
       "      <td>2000</td>\n",
       "      <td>17</td>\n",
       "      <td>madonna</td>\n",
       "      <td>music</td>\n",
       "      <td>hey mister dj put a record on i want to dance...</td>\n",
       "    </tr>\n",
       "    <tr>\n",
       "      <th>3633</th>\n",
       "      <td>2001</td>\n",
       "      <td>34</td>\n",
       "      <td>madonna</td>\n",
       "      <td>dont tell me</td>\n",
       "      <td>dont tell me to stop tell the rain not to dro...</td>\n",
       "    </tr>\n",
       "    <tr>\n",
       "      <th>4190</th>\n",
       "      <td>2006</td>\n",
       "      <td>91</td>\n",
       "      <td>madonna</td>\n",
       "      <td>hung up</td>\n",
       "      <td>time goes by so slowly time goes by so slowly...</td>\n",
       "    </tr>\n",
       "  </tbody>\n",
       "</table>\n",
       "</div>"
      ],
      "text/plain": [
       "      Year  Rank   Artist          Song  \\\n",
       "3516  2000    17  madonna         music   \n",
       "3633  2001    34  madonna  dont tell me   \n",
       "4190  2006    91  madonna       hung up   \n",
       "\n",
       "                                                 Lyrics  \n",
       "3516   hey mister dj put a record on i want to dance...  \n",
       "3633   dont tell me to stop tell the rain not to dro...  \n",
       "4190   time goes by so slowly time goes by so slowly...  "
      ]
     },
     "execution_count": 12,
     "metadata": {},
     "output_type": "execute_result"
    }
   ],
   "source": [
    "songs.loc[songs['Artist']=='madonna',:]\n",
    "songs.loc[(songs['Artist']=='madonna') & (songs['Year'] >= 2000),:]"
   ]
  },
  {
   "cell_type": "markdown",
   "metadata": {},
   "source": [
    "## (5) Who are top artists?\n",
    "- How many artists are represented?\n",
    "- Which artists produced most hits?\n",
    "- How many artists are one-hit wonders?"
   ]
  },
  {
   "cell_type": "code",
   "execution_count": 17,
   "metadata": {},
   "outputs": [
    {
     "data": {
      "text/plain": [
       "madonna                                            False\n",
       "elton john                                         False\n",
       "mariah carey                                       False\n",
       "michael jackson                                    False\n",
       "stevie wonder                                      False\n",
       "janet jackson                                      False\n",
       "whitney houston                                    False\n",
       "rihanna                                            False\n",
       "taylor swift                                       False\n",
       "pink                                               False\n",
       "kelly clarkson                                     False\n",
       "the beatles                                        False\n",
       "britney spears                                     False\n",
       "the black eyed peas                                False\n",
       "chicago                                            False\n",
       "aretha franklin                                    False\n",
       "katy perry                                         False\n",
       "usher                                              False\n",
       "rod stewart                                        False\n",
       "phil collins                                       False\n",
       "kool  the gang                                     False\n",
       "the rolling stones                                 False\n",
       "r kelly                                            False\n",
       "boyz ii men                                        False\n",
       "maroon 5                                           False\n",
       "billy joel                                         False\n",
       "olivia newtonjohn                                  False\n",
       "the temptations                                    False\n",
       "aerosmith                                          False\n",
       "lionel richie                                      False\n",
       "                                                   ...  \n",
       "glenn yarbrough                                     True\n",
       "r kelly featuring jayz                              True\n",
       "faith no more                                       True\n",
       "nelly featuring kelly rowland                       True\n",
       "five stairsteps                                     True\n",
       "celine dion and peabo bryson                        True\n",
       "young money featuring lloyd                         True\n",
       "high inergy                                         True\n",
       "mary macgregor                                      True\n",
       "soul ii soul featuring caron wheeler                True\n",
       "fat joe featuring r kelly                           True\n",
       "frijid pink                                         True\n",
       "friend  lover                                       True\n",
       "david guetta featuring flo rida and nicki minaj     True\n",
       "len                                                 True\n",
       "usher featuring william                             True\n",
       "daddy dewdrop                                       True\n",
       "ruff endz                                           True\n",
       "trace adkins                                        True\n",
       "brandy and monica                                   True\n",
       "shinedown                                           True\n",
       "wale featuring tiara thomas                         True\n",
       "janet jackson featuring blackstreet                 True\n",
       "kevin lyttle                                        True\n",
       "levert                                              True\n",
       "daddy yankee                                        True\n",
       "charlene                                            True\n",
       "positive k                                          True\n",
       "bastille                                            True\n",
       "the allman brothers band                            True\n",
       "Name: Artist, Length: 2473, dtype: bool"
      ]
     },
     "execution_count": 17,
     "metadata": {},
     "output_type": "execute_result"
    }
   ],
   "source": [
    "songs['Artist'].unique().size"
   ]
  },
  {
   "cell_type": "markdown",
   "metadata": {},
   "source": [
    "## (6) Create another column: lyric length in word count\n",
    "- All symbols have been removed from lyrics\n",
    "- So, `.split()` works as a rudimentary tokenizer"
   ]
  },
  {
   "cell_type": "code",
   "execution_count": null,
   "metadata": {},
   "outputs": [],
   "source": []
  },
  {
   "cell_type": "markdown",
   "metadata": {},
   "source": [
    "## (7) Filling in missing values\n",
    "- We really need to take care of the missing lyric values. \n",
    "- What are good strategies? Considerations?"
   ]
  },
  {
   "cell_type": "code",
   "execution_count": 8,
   "metadata": {
    "collapsed": true
   },
   "outputs": [],
   "source": [
    "# Your code here"
   ]
  },
  {
   "cell_type": "markdown",
   "metadata": {},
   "source": [
    "## (8) A detour: text processing basics\n",
    "- NLTK functions\n",
    "- How to word-tokenize\n",
    "- How to sentence-tokenize\n",
    "- Frequency distribution\n",
    "- Type-token ratio"
   ]
  },
  {
   "cell_type": "code",
   "execution_count": 9,
   "metadata": {
    "collapsed": true
   },
   "outputs": [],
   "source": [
    "# Your code here"
   ]
  },
  {
   "cell_type": "markdown",
   "metadata": {},
   "source": [
    "## (9) 50 years apart: songs from 1965 vs. 2015\n",
    "- Let's create two corpora of 1965 lyrics vs. 2015 lyrics\n",
    "- Good ways to highlight differences? "
   ]
  },
  {
   "cell_type": "code",
   "execution_count": 10,
   "metadata": {
    "collapsed": true
   },
   "outputs": [],
   "source": [
    "# Your code here"
   ]
  },
  {
   "cell_type": "markdown",
   "metadata": {},
   "source": [
    "## (10) A different take: multi-level index\n",
    "- Alternative organization: use year-and-rank combination as index \n",
    "- Create a copy of `songs` as `songs2` DataFrame\n",
    "- How does accessing work in this DF?"
   ]
  },
  {
   "cell_type": "code",
   "execution_count": 11,
   "metadata": {
    "collapsed": true
   },
   "outputs": [],
   "source": [
    "# Your code here"
   ]
  },
  {
   "cell_type": "markdown",
   "metadata": {},
   "source": [
    "## (11) Discussion: data curation method, presentation\n",
    "- How did Walker collect her song lyrics data?\n",
    "- What tools did she use?\n",
    "- How successful was her effort?\n",
    "- How did she present her work, and what are your thoughts?"
   ]
  },
  {
   "cell_type": "markdown",
   "metadata": {},
   "source": [
    "Your notes here in markdown"
   ]
  }
 ],
 "metadata": {
  "kernelspec": {
   "display_name": "Python 3",
   "language": "python",
   "name": "python3"
  },
  "language_info": {
   "codemirror_mode": {
    "name": "ipython",
    "version": 3
   },
   "file_extension": ".py",
   "mimetype": "text/x-python",
   "name": "python",
   "nbconvert_exporter": "python",
   "pygments_lexer": "ipython3",
   "version": "3.6.1"
  }
 },
 "nbformat": 4,
 "nbformat_minor": 2
}
