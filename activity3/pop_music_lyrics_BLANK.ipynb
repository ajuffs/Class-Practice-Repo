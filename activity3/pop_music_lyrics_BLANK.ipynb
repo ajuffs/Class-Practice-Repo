{
 "cells": [
  {
   "cell_type": "markdown",
   "metadata": {},
   "source": [
    "# 50 Years of Pop Music: A Lyrical Analysis\n",
    "\n",
    "- Class activity 3, 9/12/2017 \n",
    "- Data courtesy of Kaylin Walker: http://kaylinwalker.com/50-years-of-pop-music/"
   ]
  },
  {
   "cell_type": "markdown",
   "metadata": {},
   "source": [
    "## (1) Read in the spreadsheet file as a DataFrame\n",
    "- Create a DataFrame called `songs` from the spreadsheet. \n",
    "- You will likely run into an encoding error. Who can figure out the correct encoding? \n",
    "- Once successfully loaded, explore the DF. Use the following methods: `.head()`, `.tail()`, `.info()`, `.describe()`. \n",
    "- What are the column labels and row indexes?\n",
    "- How to improve organization?"
   ]
  },
  {
   "cell_type": "code",
   "execution_count": null,
   "metadata": {
    "collapsed": true
   },
   "outputs": [],
   "source": [
    "# Your code here"
   ]
  },
  {
   "cell_type": "markdown",
   "metadata": {},
   "source": [
    "## (2) Reorganize and clean up\n",
    "- Rearrange the columns so that they are ordered: Year - Rank - Artist - Song - Lyrics. \n",
    "- Get rid of Source column. \n",
    "- What about the index? "
   ]
  },
  {
   "cell_type": "code",
   "execution_count": null,
   "metadata": {
    "collapsed": true
   },
   "outputs": [],
   "source": [
    "# Your code here"
   ]
  },
  {
   "cell_type": "markdown",
   "metadata": {},
   "source": [
    "## (3) Sanity check\n",
    "- Is the data complete? \n",
    "  - Are there really 50 years represented?\n",
    "  - Does every year have all 100 entries? \n",
    "- Any missing or anomalous data? How to address them?"
   ]
  },
  {
   "cell_type": "code",
   "execution_count": null,
   "metadata": {
    "collapsed": true
   },
   "outputs": [],
   "source": [
    "# Your code here"
   ]
  },
  {
   "cell_type": "markdown",
   "metadata": {},
   "source": [
    "## (4) Accessing routines\n",
    "- How to get songs from year 1965 vs. songs from year 2015?\n",
    "- How to get number-1 hits only?\n",
    "- How to get Madonna songs only?\n",
    "- Madonna songs that are top 10? Year 2000 or later? "
   ]
  },
  {
   "cell_type": "code",
   "execution_count": null,
   "metadata": {
    "collapsed": true
   },
   "outputs": [],
   "source": [
    "# Your code here"
   ]
  },
  {
   "cell_type": "markdown",
   "metadata": {},
   "source": [
    "## (5) Who are top artists?\n",
    "- How many artists are represented?\n",
    "- Which artists produced most hits?\n",
    "- How many artists are one-hit wonders?"
   ]
  },
  {
   "cell_type": "code",
   "execution_count": null,
   "metadata": {
    "collapsed": true
   },
   "outputs": [],
   "source": [
    "# Your code here"
   ]
  },
  {
   "cell_type": "markdown",
   "metadata": {},
   "source": [
    "## (6) Create another column: lyric length in word count\n",
    "- All symbols have been removed from lyrics\n",
    "- So, `.split()` works as a rudimentary tokenizer"
   ]
  },
  {
   "cell_type": "code",
   "execution_count": null,
   "metadata": {
    "collapsed": true
   },
   "outputs": [],
   "source": [
    "# Your code here"
   ]
  },
  {
   "cell_type": "markdown",
   "metadata": {},
   "source": [
    "## (7) Filling in missing values\n",
    "- We really need to take care of the missing lyric values. \n",
    "- What are good strategies? Considerations?"
   ]
  },
  {
   "cell_type": "code",
   "execution_count": null,
   "metadata": {
    "collapsed": true
   },
   "outputs": [],
   "source": [
    "# Your code here"
   ]
  },
  {
   "cell_type": "markdown",
   "metadata": {},
   "source": [
    "## (8) A detour: text processing basics\n",
    "- NLTK functions\n",
    "- How to word-tokenize\n",
    "- How to sentence-tokenize\n",
    "- Frequency distribution\n",
    "- Type-token ratio"
   ]
  },
  {
   "cell_type": "code",
   "execution_count": null,
   "metadata": {
    "collapsed": true
   },
   "outputs": [],
   "source": [
    "# Your code here"
   ]
  },
  {
   "cell_type": "markdown",
   "metadata": {},
   "source": [
    "## (9) 50 years apart: songs from 1965 vs. 2015\n",
    "- Let's create two corpora of 1965 lyrics vs. 2015 lyrics\n",
    "- Good ways to highlight differences? "
   ]
  },
  {
   "cell_type": "code",
   "execution_count": null,
   "metadata": {
    "collapsed": true
   },
   "outputs": [],
   "source": [
    "# Your code here"
   ]
  },
  {
   "cell_type": "markdown",
   "metadata": {},
   "source": [
    "## (10) A different take: multi-level index\n",
    "- Alternative organization: use year-and-rank combination as index \n",
    "- Create a copy of `songs` as `songs2` DataFrame\n",
    "- How does accessing work in this DF?"
   ]
  },
  {
   "cell_type": "code",
   "execution_count": null,
   "metadata": {
    "collapsed": true
   },
   "outputs": [],
   "source": [
    "# Your code here"
   ]
  },
  {
   "cell_type": "markdown",
   "metadata": {},
   "source": [
    "## (11) Discussion: data curation method, presentation\n",
    "- How did Walker collect her song lyrics data?\n",
    "- What tools did she use?\n",
    "- How successful was her effort?\n",
    "- How did she present her work, and what are your thoughts?"
   ]
  },
  {
   "cell_type": "markdown",
   "metadata": {},
   "source": [
    "Your notes here in markdown"
   ]
  }
 ],
 "metadata": {
  "kernelspec": {
   "display_name": "Python 3",
   "language": "python",
   "name": "python3"
  },
  "language_info": {
   "codemirror_mode": {
    "name": "ipython",
    "version": 3
   },
   "file_extension": ".py",
   "mimetype": "text/x-python",
   "name": "python",
   "nbconvert_exporter": "python",
   "pygments_lexer": "ipython3",
   "version": "3.5.3"
  }
 },
 "nbformat": 4,
 "nbformat_minor": 2
}
